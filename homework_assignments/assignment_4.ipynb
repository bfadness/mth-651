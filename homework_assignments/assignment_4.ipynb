{
  "cells": [
    {
      "cell_type": "markdown",
      "metadata": {},
      "source": [
        "# MTH 651: Advanced Numerical Analysis"
      ]
    },
    {
      "cell_type": "markdown",
      "metadata": {},
      "source": [
        "## Homework Assignment 4"
      ]
    },
    {
      "cell_type": "markdown",
      "metadata": {},
      "source": [
        "### (Student Name 👈 Write Your Name Here!)"
      ]
    },
    {
      "cell_type": "markdown",
      "metadata": {
        "id": "d5sMJY4v8Tol"
      },
      "source": [
        "### Guidelines\n",
        "\n",
        "* Each student must complete their own assignment individually.\n",
        "  * Discussing with other students is allowed (encouraged!), but you must write your own answers and not copy off of others.\n",
        "* Submit the homework as a Jupyter notebook with **properly formatted LaTeX**\n"
      ]
    },
    {
      "cell_type": "markdown",
      "metadata": {},
      "source": [
        "#### Problem 1. (2 points)\n",
        "\n",
        "Let $A$ be a nonsingular square matrix.\n",
        "Prove that $A^T A$ is symmetric and positive-definite."
      ]
    },
    {
      "cell_type": "markdown",
      "metadata": {},
      "source": [
        "#### Problem 2a. (2 points)\n",
        "\n",
        "Let $A \\in \\mathbb{R}^{n \\times n}$ be SPD, let $b \\in \\mathbb{R}^n$ be given.\n",
        "Define the quadratic form\n",
        "$$\n",
        "    Q(z) = z^T A z - 2 z^T b.\n",
        "$$\n",
        "Prove that $x = A^{-1}b$ minimizes $Q$."
      ]
    },
    {
      "cell_type": "markdown",
      "metadata": {},
      "source": [
        "#### Problem 2b. (1 point)\n",
        "\n",
        "How does this relate to remark 2.5.11 in the textbook?"
      ]
    },
    {
      "cell_type": "markdown",
      "metadata": {},
      "source": [
        "#### Problem 3. (3 points)\n",
        "\n",
        "Let $A$ be SPD.\n",
        "Prove that\n",
        "$$\n",
        "    (x, y)_A = x^T A y\n",
        "$$\n",
        "defines an inner product (this is known as the $A$-inner product).\n",
        "\n",
        "Write down the definition of the induced norm $\\| \\cdot \\|_A$."
      ]
    },
    {
      "cell_type": "markdown",
      "metadata": {},
      "source": [
        "#### Problem 4.\n",
        "\n",
        "Recall that the Gauss-Seidel method can be obtained by considering the **matrix splitting**\n",
        "$$\n",
        "    A = L + U\n",
        "$$\n",
        "(where $L$ is lower-triangular, and $U$ is strictly upper triangular).\n",
        "Then, the system\n",
        "$$\n",
        "    A x = b\n",
        "$$\n",
        "becomes\n",
        "$$\n",
        "    L x + U x = b,\n",
        "$$\n",
        "and lagging the $U$ term, we obtain an iteration:\n",
        "$$\n",
        "    L x^{(i+1)} + U x^{(i)} = b,\n",
        "$$\n",
        "equivalently\n",
        "$$\n",
        "    x^{(i+1)} = L^{-1}( b - U x^{(i)})\n",
        "$$\n",
        "\n",
        "---\n",
        "\n",
        "We define the **Jacobi** method using the splitting\n",
        "$$\n",
        "    A = L + U + D,\n",
        "$$\n",
        "where $L$ and $U$ are **strictly** lower and upper triangular, and $D = \\operatorname{diag}(A)$.\n",
        "The Jacobi method lags the terms associated with $L$ and $U$, obtaining the iteration\n",
        "$$\n",
        "    x^{(i+1)} = D^{-1}(b - (L+U)x^{(i)})\n",
        "$$\n",
        "\n",
        "#### Problem 4a. (2 points)\n",
        "\n",
        "Show that this iteration is equivalent to\n",
        "$$\n",
        "    x^{(i+1)} = x^{(i)} + D^{-1} ( b - Ax^{(i)})\n",
        "$$\n",
        "The quantity $r^{(i)} = b - Ax^{(i)}$ is known as the **residual**.\n",
        "\n",
        "#### Problem 4b. (2 points)\n",
        "\n",
        "The **error** $e^{(i)} = x - x^{(i)}$ is the error.\n",
        "Show that $r^{(i)} = A e^{(i)}$ and that the error satisfies the recurrence\n",
        "$$\n",
        "    e^{(i+1)} = (I - D^{-1}A)e^{(i)}.\n",
        "$$\n",
        "\n",
        "#### Problem 4c. (2 points)\n",
        "\n",
        "Let $G = I - D^{-1}A$ denote the Jacobi iteration matrix.\n",
        "Write a formula for the error $e^{(i)}$ in terms of $G$, the initial guess $x^{(0)}$, and the true solution $x$.\n",
        "\n",
        "#### Problem 4d. (2 points)\n",
        "\n",
        "A matrix $A = (a_{ij})$ is called **diagonally dominant** if\n",
        "$$\n",
        "    | a_{ii} | \\geq \\sum_{j \\neq i} | a_{ij} |\n",
        "$$\n",
        "for all $i$.\n",
        "$A$ is called **strictly diagonally dominant** if the inequality is strict.\n",
        "\n",
        "Prove that the Jacobi method is guaranteed to converge when $A$ is strictly diagonally dominant.\n",
        "\n",
        "(Hint: consider the $\\ell_\\infty$ norm of the iteration matrix $G$).\n",
        "\n"
      ]
    },
    {
      "cell_type": "markdown",
      "metadata": {},
      "source": [
        "#### Problem 5. (Bonus)\n",
        "\n",
        "How does the Jacobi method differ from the Gauss-Seidel method from the point of view of parallel computing?"
      ]
    },
    {
      "cell_type": "markdown",
      "metadata": {},
      "source": [
        "#### Problem 6. (Coding)\n",
        "\n",
        "Write a program using NumPy and SciPy to implement the Gauss-Seidel method. (Use NumPy linear algebra operations instead of explicit loops).\n",
        "\n",
        "The following functions may be useful:\n",
        "\n",
        "* `np.tril` returns the lower triangular part of a matrix (including diagonal)\n",
        "* `scipy.linalg.solve_triangular` solves a triangular linear system (using backwards/forwards substitution)\n",
        "    * In particular, it will be useful to use `solve_triangular(L, v, lower=True)`\n",
        "* `np.linalg.norm` returns the norm of a vector\n",
        "* If `A` is a matrix, the matrix-vector product $Ax$ is written `A.dot(x)`\n",
        "\n",
        "Use the following code to print information at every iteration:\n",
        "```py\n",
        "    # i is the iteration number, resnorm is the norm of the residual vector\n",
        "    print(\"{:5d}             {:.8e}\".format(i, resnorm))\n",
        "```"
      ]
    },
    {
      "cell_type": "code",
      "execution_count": null,
      "metadata": {},
      "outputs": [],
      "source": [
        "import numpy as np\n",
        "from scipy.linalg import solve_triangular\n",
        "\n",
        "def gauss_seidel(A, b, maxit, tol):\n",
        "    \"\"\"\n",
        "    gauss_sidel(A, b, maxit, tol)\n",
        "\n",
        "    Solves the system Ax = b using the Gauss-Seidel method with zero initial\n",
        "    guess.\n",
        "\n",
        "    The iteration will terminate after at most maxit iterations.\n",
        "\n",
        "    If the norm of the residual vector is less than tol, the iteration will\n",
        "    terminate early.\n",
        "\n",
        "    At every iteration, print the iteration number and the norm of the residual.\n",
        "    \"\"\"\n"
      ]
    },
    {
      "cell_type": "markdown",
      "metadata": {},
      "source": [
        "Solve the following system using your implementation of Gauss-Seidel.\n",
        "\n",
        "* Is Gauss-Seidel gauaranteed to converge for all such random matrices? Why or why not?"
      ]
    },
    {
      "cell_type": "code",
      "execution_count": null,
      "metadata": {},
      "outputs": [],
      "source": [
        "n = 20\n",
        "A = np.random.rand(n, n)\n",
        "A = A.transpose().dot(A)\n",
        "alpha = 10.0\n",
        "A += alpha*np.diag(np.diag(A))\n",
        "b = np.random.rand(n)\n",
        "\n",
        "gauss_seidel(A, b, 1000, 1e-8);\n"
      ]
    },
    {
      "cell_type": "code",
      "execution_count": null,
      "metadata": {},
      "outputs": [],
      "source": [
        "def jacobi(A, b, maxit, tol):\n",
        "    \"\"\"\n",
        "    jacobi(A, b, maxit, tol)\n",
        "\n",
        "    Solves the system Ax = b using the Jacobi method with zero initial guess.\n",
        "\n",
        "    The iteration will terminate after at most maxit iterations.\n",
        "\n",
        "    If the norm of the residual vector is less than tol, the iteration will\n",
        "    terminate early.\n",
        "\n",
        "    At every iteration, print the iteration number and the norm of the residual.\n",
        "    \"\"\"\n"
      ]
    },
    {
      "cell_type": "markdown",
      "metadata": {},
      "source": [
        "Solve the following system using your implementation of Gauss-Seidel.\n",
        "\n",
        "* Is Jacobi gauaranteed to converge for all such random matrices? Why or why not?\n",
        "* What role does the parameter `alpha` play?\n",
        "* What happens when $\\alpha < 1$?\n",
        "* What happens with $\\alpha \\gg 1$ ($\\alpha = 10^3, \\alpha = 10^6$, etc.)?"
      ]
    },
    {
      "cell_type": "code",
      "execution_count": null,
      "metadata": {},
      "outputs": [],
      "source": [
        "n = 20\n",
        "A = np.random.rand(n, n)\n",
        "alpha = 1.5\n",
        "A = A + alpha*np.diag(np.sum(np.abs(A - np.diag(np.diag(A))), axis=1))\n",
        "\n",
        "xi = np.zeros(n)\n",
        "\n",
        "b = np.random.rand(n)\n",
        "jacobi(A, b, 1000, 1e-8);\n"
      ]
    },
    {
      "cell_type": "code",
      "execution_count": null,
      "metadata": {},
      "outputs": [],
      "source": []
    }
  ],
  "metadata": {
    "colab": {
      "provenance": []
    },
    "kernelspec": {
      "display_name": "Python 3.10.6 ('venv': venv)",
      "language": "python",
      "name": "python3"
    },
    "language_info": {
      "codemirror_mode": {
        "name": "ipython",
        "version": 3
      },
      "file_extension": ".py",
      "mimetype": "text/x-python",
      "name": "python",
      "nbconvert_exporter": "python",
      "pygments_lexer": "ipython3",
      "version": "3.10.8"
    },
    "vscode": {
      "interpreter": {
        "hash": "bd788376193720eadecf9d964712d25ddb8942c37aec80724648cfa1bb12b2b1"
      }
    }
  },
  "nbformat": 4,
  "nbformat_minor": 0
}

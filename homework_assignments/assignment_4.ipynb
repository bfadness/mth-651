{
 "cells": [
  {
   "cell_type": "markdown",
   "metadata": {},
   "source": [
    "# MTH 651: Advanced Numerical Analysis"
   ]
  },
  {
   "cell_type": "markdown",
   "metadata": {},
   "source": [
    "## Homework Assignment 4"
   ]
  },
  {
   "cell_type": "markdown",
   "metadata": {},
   "source": [
    "### <span style=\"color:red;\">Write your name here</span>"
   ]
  },
  {
   "cell_type": "markdown",
   "metadata": {
    "id": "d5sMJY4v8Tol"
   },
   "source": [
    "### Guidelines\n",
    "\n",
    "* Each student must complete their own assignment individually.\n",
    "  * Discussing with other students is allowed (encouraged!), but you must write your own answers and code.\n",
    "  * The use of ChatGTP, Copilot, or other AI assistants is **not allowed**\n",
    "* The code must run in Colab or JupyterHub without errors.\n",
    "  * Code that does not run will not receive any credit.\n",
    "  * I suggest double-checking that your code runs properly in a new session. Sometimes code can be broken but appear to work because of old state in the notebook."
   ]
  },
  {
   "cell_type": "markdown",
   "metadata": {},
   "source": [
    "### Google Colab Instructions\n",
    "\n",
    "* After opening this assignment in Google Colab, click on **\"Copy to Drive\"**\n",
    "* Rename the notebook to `student_name_mth_651_assignment_4.ipynb`\n",
    "    * ⚠️ In the above, replace `student_name` with your name!\n",
    "* Enter your name above (in the cell below \"Homework Assignment\")!\n",
    "* When you are ready to submit your assignment, select \"File -> Download -> Download .ipynb\" from the Colab menu\n",
    "* Upload the downloaded `.ipynb` file to Canvas"
   ]
  },
  {
   "cell_type": "markdown",
   "metadata": {},
   "source": [
    "### Assignment Goals\n",
    "\n",
    "* The purpose of this assignment is:\n",
    "    1. To assemble the mass matrix and study its relation to $L^2$ projection.\n",
    "    2. To study the use of stationary iterative methods for the solution of linear systems arising from finite element discretizations."
   ]
  },
  {
   "cell_type": "markdown",
   "metadata": {},
   "source": [
    "The follow code implements the functions `area`, `make_stiffness`, `make_rhs`, and `square_mesh` from the previous assignment.\n",
    "These will be used in the subsequent questions."
   ]
  },
  {
   "cell_type": "code",
   "execution_count": 1,
   "metadata": {},
   "outputs": [],
   "source": [
    "import numpy as np\n",
    "import matplotlib.pyplot as plt\n",
    "\n",
    "def area(K):\n",
    "    \"\"\"\n",
    "    Returns the area of the triangle defined by K.\n",
    "    \"\"\"\n",
    "    M = np.array([[K[0,0], K[0,1], 1],\n",
    "                  [K[1,0], K[1,1], 1],\n",
    "                  [K[2,0], K[2,1], 1]])\n",
    "    return 0.5 * np.linalg.det(M)\n",
    "\n",
    "def make_stiffness(T, V, B):\n",
    "    \"\"\"\n",
    "    Assembles the stiffness matrix on the mesh defined by (T, V). Eliminates the\n",
    "    essential boundary conditions defined by B.\n",
    "    \"\"\"\n",
    "    N = V.shape[0]\n",
    "    A = np.zeros((N, N))\n",
    "\n",
    "    for it in range(T.shape[0]):\n",
    "        K = V[T[it,:],:]\n",
    "        G1 = np.array([[1, 1, 1],\n",
    "                       [K[0,0], K[1,0], K[2,0]],\n",
    "                       [K[0,1], K[1,1], K[2,1]]])\n",
    "        G2 = np.array([[0,0],[1,0],[0,1]])\n",
    "        G = np.linalg.solve(G1, G2)\n",
    "        A_K = area(K) * G @ G.T\n",
    "\n",
    "        A[np.ix_(T[it,:], T[it,:])] += A_K\n",
    "\n",
    "    A[B,:] = 0.0\n",
    "    A[:,B] = 0.0\n",
    "    for i in B:\n",
    "        A[i,i] = 1.0\n",
    "\n",
    "    return A\n",
    "\n",
    "def make_rhs(f, T, V):\n",
    "    N = V.shape[0]\n",
    "    F = np.zeros(N)\n",
    "\n",
    "    for it in range(T.shape[0]):\n",
    "        K = V[T[it,:], :]\n",
    "        for iv in range(3):\n",
    "            x, y = K[iv,:]\n",
    "            F[T[it,iv]] += 1/3 * area(K) * f(x, y)\n",
    "\n",
    "    return F\n",
    "\n",
    "def square_mesh(nx):\n",
    "    \"\"\"\n",
    "    Generates a triangular Cartesian mesh of the unit square with nx vertices in\n",
    "    each dimension.\n",
    "\n",
    "    Returns (V, T, B), where V is are the vertex coordinates, T are the triangle\n",
    "    indices, and B is a list of boundary vertex indices.\n",
    "    \"\"\"\n",
    "    x = np.linspace(0, 1, nx)\n",
    "    X, Y = np.meshgrid(x, x)\n",
    "    V = np.stack((X.ravel(), Y.ravel()), axis=1)\n",
    "\n",
    "    nt = 2*(nx-1)**2\n",
    "    T = np.zeros((nt, 3), int)\n",
    "\n",
    "    for iy in range(nx - 1):\n",
    "        for ix in range(nx - 1):\n",
    "            v1 = ix + iy*nx\n",
    "            v2 = ix + 1 + iy*nx\n",
    "            v3 = ix + (iy + 1)*nx\n",
    "            v4 = ix + 1 + (iy + 1)*nx\n",
    "            T[2*ix + iy*2*(nx-1), :] = [v1, v2, v4]\n",
    "            T[2*ix + 1 + iy*2*(nx-1), :] = [v1, v4, v3]\n",
    "\n",
    "    B = []\n",
    "    for i in range(nx):\n",
    "        B.append(i)\n",
    "        B.append(i + nx*(nx - 1))\n",
    "    for i in range(1, nx - 1):\n",
    "        B.append(nx*i)\n",
    "        B.append(nx - 1 + nx*i)\n",
    "\n",
    "    return V, T, B"
   ]
  },
  {
   "cell_type": "markdown",
   "metadata": {},
   "source": [
    "### Problem 1. (3 points). Mass matrix\n",
    "\n",
    "Write a function that assembles the mass matrix defined by\n",
    "$$\n",
    "    M_{ij} = \\int_\\Omega \\phi_i \\phi_j~dx.\n",
    "$$\n",
    "No boundary conditions are required.\n",
    "The mass matrix can be assembled by adding contributions from the **local mass matrices** $M_K$, where $M_K$ is given by\n",
    "$$\n",
    "    M_K = \\frac{|K|}{12} \\begin{pmatrix}\n",
    "        2 & 1 & 1 \\\\\n",
    "        1 & 2 & 1 \\\\\n",
    "        1 & 1 & 2 \\\\\n",
    "    \\end{pmatrix}.\n",
    "$$\n",
    "You can use the same technique as in `make_stiffness`."
   ]
  },
  {
   "cell_type": "code",
   "execution_count": null,
   "metadata": {},
   "outputs": [],
   "source": [
    "def make_mass(T, V):\n",
    "    \"\"\"\n",
    "    Assembles the mass matrix on the mesh defined by (T, V).\n",
    "    \"\"\"\n",
    "    N = V.shape[0]\n",
    "    M = np.zeros((N, N))\n",
    "    # Assemble M using the local mass matrices M_K\n",
    "    return M"
   ]
  },
  {
   "cell_type": "markdown",
   "metadata": {},
   "source": [
    "### Problem 2. (3 points). Stationary method\n",
    "\n",
    "Write a function `stationary` that implements a general stationary iterative method to solve\n",
    "$$\n",
    "    A x = b\n",
    "$$\n",
    "using the matrix $B$ in the iteration\n",
    "$$\n",
    "    x^{(i+1)} = x^{(i)} + B ( b - A x^{(i)}).\n",
    "$$\n",
    "Terminate the iteration when the $\\ell^2$ norm of the residual is below the relative tolerance of $10^{-5}$ (up to a maximum of 200 iterations).\n",
    "Note, by relative tolerance, we mean that the iteration should terminate when\n",
    "$$\n",
    "    \\frac{\\| r \\|_{\\ell^2}}{\\| b \\|_{\\ell^2}} \\leq \\mathrm{tol}.\n",
    "$$\n",
    "Record the number of iterations required to achieve convergence."
   ]
  },
  {
   "cell_type": "code",
   "execution_count": null,
   "metadata": {},
   "outputs": [],
   "source": [
    "def stationary(A, B, b):\n",
    "    n = len(b)\n",
    "    x = np.zeros(n)\n",
    "    # Solve the system with the stationary method\n",
    "    return x"
   ]
  },
  {
   "cell_type": "markdown",
   "metadata": {},
   "source": [
    "### Problem 3. (3 points). Richardson method\n",
    "\n",
    "Create a square mesh with $n_x = 2^i$ for $i \\in \\{2, 3, 4, 5 \\}$.\n",
    "Assemble the mass and stiffness matrices.\n",
    "Solve the linear system\n",
    "$$\n",
    "    Ax = b\n",
    "$$\n",
    "and\n",
    "$$\n",
    "    Mx = b\n",
    "$$\n",
    "where $b$ is defined by `make_rhs(f, T, V)`, with `f` defined as below.\n",
    "\n",
    "Solve each system using Richardson's method.\n",
    "Choose the scaling factor $\\omega$ according to the formula for the optimal $\\omega$, using the estimates for the minimum and maximum eigenvalues in terms of the mesh size $h$.\n",
    "(Don't compute the eigenvalues from the matrix, use the analytical estimates — this may require some trial and error).\n",
    "\n",
    "Do the results agree with the theoretical estimates?"
   ]
  },
  {
   "cell_type": "code",
   "execution_count": null,
   "metadata": {},
   "outputs": [],
   "source": [
    "def f(x, y):\n",
    "    return x * y"
   ]
  },
  {
   "cell_type": "markdown",
   "metadata": {},
   "source": [
    "### Problem 4. (3 points). Steepest descent\n",
    "\n",
    "Repeat the previous problem, this time using the steepest descent method.\n",
    "How does the convergence compare to that of the Richardson method?"
   ]
  },
  {
   "cell_type": "markdown",
   "metadata": {},
   "source": [
    "### Problem 5. (3 points). Gauss-Seidel\n",
    "\n",
    "Repeat the previous problem, this time using the Gauss-Seidel method.\n",
    "\n",
    "Estimate the convergence rate of Gauss-Seidel applied to $A$ and $M$ in terms of the mesh size $h$ based on the number of iterations required to attain convergence."
   ]
  },
  {
   "cell_type": "markdown",
   "metadata": {},
   "source": [
    "### Textbook Problems (3 points each)\n",
    "\n",
    "* 6.1\n",
    "* 7.5"
   ]
  }
 ],
 "metadata": {
  "colab": {
   "provenance": []
  },
  "kernelspec": {
   "display_name": ".venv",
   "language": "python",
   "name": "python3"
  },
  "language_info": {
   "codemirror_mode": {
    "name": "ipython",
    "version": 3
   },
   "file_extension": ".py",
   "mimetype": "text/x-python",
   "name": "python",
   "nbconvert_exporter": "python",
   "pygments_lexer": "ipython3",
   "version": "3.12.7"
  }
 },
 "nbformat": 4,
 "nbformat_minor": 0
}

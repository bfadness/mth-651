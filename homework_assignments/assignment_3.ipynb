{
 "cells": [
  {
   "cell_type": "markdown",
   "metadata": {},
   "source": [
    "# MTH 651: Advanced Numerical Analysis"
   ]
  },
  {
   "cell_type": "markdown",
   "metadata": {},
   "source": [
    "## Homework Assignment 3"
   ]
  },
  {
   "cell_type": "markdown",
   "metadata": {},
   "source": [
    "### <span style=\"color:red;\">Write your name here</span>"
   ]
  },
  {
   "cell_type": "markdown",
   "metadata": {
    "id": "d5sMJY4v8Tol"
   },
   "source": [
    "### Guidelines\n",
    "\n",
    "* Each student must complete their own assignment individually.\n",
    "  * Discussing with other students is allowed (encouraged!), but you must write your own answers and code.\n",
    "  * The use of ChatGTP, Copilot, or other AI assistants is **not allowed**\n",
    "* The code must run in Colab or JupyterHub without errors.\n",
    "  * Code that does not run will not receive any credit.\n",
    "  * I suggest double-checking that your code runs properly in a new session. Sometimes code can be broken but appear to work because of old state in the notebook."
   ]
  },
  {
   "cell_type": "markdown",
   "metadata": {},
   "source": [
    "### Google Colab Instructions\n",
    "\n",
    "* After opening this assignment in Google Colab, click on **\"Copy to Drive\"**\n",
    "* Rename the notebook to `student_name_mth_651_assignment_3.ipynb`\n",
    "    * ⚠️ In the above, replace `student_name` with your name!\n",
    "* Enter your name above (in the cell below \"Homework Assignment\")!\n",
    "* When you are ready to submit your assignment, select \"File -> Download -> Download .ipynb\" from the Colab menu\n",
    "* Upload the downloaded `.ipynb` file to Canvas"
   ]
  },
  {
   "cell_type": "markdown",
   "metadata": {},
   "source": [
    "### Assignment Goals\n",
    "\n",
    "* The purpose of this assignment is to develop a 2D finite element Poisson solver and analyze its accuracy in the energy and $L^2$ norms."
   ]
  },
  {
   "cell_type": "markdown",
   "metadata": {},
   "source": [
    "### Problem Statement\n",
    "\n",
    "We want to solve the Poisson problem on $\\Omega \\subseteq \\mathbb{R}^2$ with homogeneous Dirichlet boundary conditions\n",
    "$$\n",
    "   \\begin{aligned}\n",
    "      -\\Delta u &= f && \\text{in $\\Omega$}  \\\\\n",
    "      u &= 0 && \\text{on $\\partial\\Omega$} \\\\\n",
    "   \\end{aligned}\n",
    "$$"
   ]
  },
  {
   "cell_type": "markdown",
   "metadata": {},
   "source": [
    "Recall the finite element formulation of the above problem:\n",
    "\n",
    "> Find $u_h \\in V_h$ such that, for all $v_h \\in V_h$\n",
    "> $$ a(u, v) = (f, v) $$\n",
    "> where $V_h$ is the space of continuous piecewise linear functions defined on a mesh $\\mathcal{T}$ of $\\Omega$, and $a(\\cdot,\\cdot)$ is the bilinear form\n",
    "> $$ a(u, v) = \\int_\\Omega \\nabla u \\cdot \\nabla v \\, dx $$\n",
    "> and $(\\cdot, \\cdot)$ is the $L^2$ inner product,\n",
    "> $$ (u, v) = \\int_\\Omega u v \\, dx $$"
   ]
  },
  {
   "cell_type": "code",
   "execution_count": null,
   "metadata": {},
   "outputs": [],
   "source": [
    "import numpy as np\n",
    "import matplotlib.pyplot as plt"
   ]
  },
  {
   "cell_type": "markdown",
   "metadata": {},
   "source": [
    "Since we will be working with triangular meshes $\\mathcal{T}$, we will need some basic functionality that will help us work with triangular domains.\n",
    "\n",
    "The first thing we need is a function to approximate integrals over a triangle. We will use a one-point quadrature rule,\n",
    "$$\n",
    "    \\int_K f(x) \\, dx \\approx w f(\\xi),\n",
    "$$\n",
    "where $w$ is the weight, and $\\xi$ is the quadrature point.\n",
    "\n",
    "If the triangle $K$ is defined by vertices $(x_1, x_2, x_3)$, then we take\n",
    "$$\n",
    "    \\xi := \\frac{1}{3}(x_1 + x_2 + x_3),\n",
    "$$\n",
    "and\n",
    "$$\n",
    "    w := |K| = \\text{the area of triangle $K$}.\n",
    "$$"
   ]
  },
  {
   "cell_type": "markdown",
   "metadata": {},
   "source": [
    "### Problem 1. (3 points)\n",
    "\n",
    "Write functions that compute the area of a given triangle, and the one-point quadrature approximation of a function $f$ on a triangle $K$.\n",
    "\n",
    "The area of the triangle can be computed e.g. using the determinant formula,\n",
    "$$\n",
    "    |K| = \\frac{1}{2} \\det\\begin{pmatrix}\n",
    "        x_1 & y_1 & 1 \\\\\n",
    "        x_2 & y_2 & 1 \\\\\n",
    "        x_3 & y_3 & 1 \\\\\n",
    "    \\end{pmatrix}\n",
    "$$\n",
    "where $(x_i, y_i)$ are the vertices of $K$. (You can use `np.linalg.det` for this)."
   ]
  },
  {
   "cell_type": "code",
   "execution_count": null,
   "metadata": {},
   "outputs": [],
   "source": [
    "def area(K):\n",
    "    # K is an array of shape 3x2 containing the vertices of the triangle\n",
    "    return 0.0"
   ]
  },
  {
   "cell_type": "code",
   "execution_count": null,
   "metadata": {},
   "outputs": [],
   "source": [
    "def quadrature(f, K):\n",
    "    # f is a function of two variables, called as f(x, y)\n",
    "    # K is an array of shape 3x2 containing the vertices of the triangle\n",
    "    return 0.0"
   ]
  },
  {
   "cell_type": "markdown",
   "metadata": {},
   "source": [
    "### Mesh representation\n",
    "\n",
    "The mesh $\\mathcal{T}$ is represented as a collection of vertices and triangles.\n",
    "The vertices are stored in an array (of floating point numbers) $V$ of size $N \\times 2$.\n",
    "The triangles are stored in an integer array $T$ of size $n_t \\times 3$.\n",
    "\n",
    "The coordinates of the $i$-th vertex are given by $V[i,:]$ (i.e. by the $i$-th row of $V$).\n",
    "The **indices** of the $j$-th triangle are given by $T[j,:]$. Note that these are indices into the $V$ array.\n",
    "\n",
    "The coordinates of the $j$-th triangle are given by $V[T[j,:],:]$, which is an array of size $3 \\times 2$."
   ]
  },
  {
   "cell_type": "markdown",
   "metadata": {},
   "source": [
    "### Problem 2. (3 points)\n",
    "\n",
    "Write a function that, given $f$, computes the right-hand side vector $F \\in \\mathbb{R}^n$ defined by\n",
    "$$\n",
    "    F_i := \\int_\\Omega f \\phi_i \\, dx,\n",
    "$$\n",
    "where $\\phi_i$ is the basis function associated with the $i$-th vertex.\n",
    "\n",
    "Use an **assembly algorithm** to compute these integrals: loop over every triangle $K$, and compute\n",
    "$$\n",
    "    \\int_K f \\phi_i \\, dx\n",
    "$$\n",
    "for the three basis functions $\\phi_i$ that correspond to the vertices of $K$.\n",
    "Add the contributions to the corresponding entries of the $F$ vector.\n",
    "\n",
    "The integral can be approximated using one-point quadrature.\n",
    "Note that $\\phi_i(\\xi) = \\frac{1}{3}$, where $\\xi$ is the quadrature point, and $\\phi_i$ is any of the three basis functions, and so\n",
    "$$\n",
    "    \\int_K f \\phi_i \\, dx \\approx \\frac{1}{3} \\int_K f \\, dx\n",
    "$$\n",
    "\n"
   ]
  },
  {
   "cell_type": "code",
   "execution_count": null,
   "metadata": {},
   "outputs": [],
   "source": [
    "def make_rhs(f, T, V):\n",
    "    N = V.shape[0]\n",
    "    F = np.zeros(N)\n",
    "    # Assemble F here\n",
    "    return F"
   ]
  },
  {
   "cell_type": "markdown",
   "metadata": {},
   "source": [
    "### Problem 3. (3 points)\n",
    "\n",
    "Write a function that assembles the system matrix $A \\in \\mathbb{R}^{N \\times N}$, where\n",
    "$$\n",
    "    A_{ij} := \\int_\\Omega \\nabla \\phi_i \\cdot \\nabla \\phi_j \\, dx.\n",
    "$$\n",
    "Use the assembly algorithm to compute $A$, i.e. compute local stiffness matrices $A_K \\in \\mathbb{R}^{3 \\times 3}$ for each $K \\in \\mathcal{T}$, and sum the contributions from each triangle.\n",
    "\n",
    "Note that $A_K$ can be written as\n",
    "$$\n",
    "    A_K = |K| G G^T,\n",
    "$$\n",
    "where\n",
    "$$\n",
    "    G := \\begin{pmatrix}\n",
    "        1 & 1 & 1 \\\\\n",
    "        x_1 & x_2 & x_3 \\\\\n",
    "        y_1 & y_2 & y_3\n",
    "    \\end{pmatrix}^{-1}\n",
    "    \\begin{pmatrix}\n",
    "        0 & 0 \\\\\n",
    "        1 & 0 \\\\\n",
    "        0 & 1\n",
    "    \\end{pmatrix}\n",
    "$$\n",
    "\n",
    "This formula can be derived be computing this expression by hand and comparing with the computations from Problem 1.9 from the textbook.\n",
    "\n",
    "Note that the assembly step can be written as `A[np.ix_(T[it,:], T[it,:])] += A_K`"
   ]
  },
  {
   "cell_type": "code",
   "execution_count": null,
   "metadata": {},
   "outputs": [],
   "source": [
    "def make_stiffness(T, V):\n",
    "    N = V.shape[0]\n",
    "    A = np.zeros((N, N))\n",
    "    # Assemble A here\n",
    "    return A"
   ]
  },
  {
   "cell_type": "markdown",
   "metadata": {},
   "source": [
    "### Problem 4. (3 points)\n",
    "\n",
    "Write a function that eliminates the boundary conditions from the matrix and right-hand side.\n",
    "Given a list of boundary indices, this function should set the corresponding rows/columns of $A$ to those of the identity matrix, and set the corresponding entries of the right-hand side to zero."
   ]
  },
  {
   "cell_type": "code",
   "execution_count": null,
   "metadata": {},
   "outputs": [],
   "source": [
    "def eliminate_bcs(A, F, bcs):\n",
    "    # bcs is a list of boundary indices\n",
    "    # Modify A and F in-place here\n",
    "    pass"
   ]
  },
  {
   "cell_type": "markdown",
   "metadata": {},
   "source": [
    "### Problem 5. (3 points)\n",
    "\n",
    "Use your functions above to form the linear system $A u = b$ to approximate the solution to the Poisson problem with right-hand side $f \\equiv 1$.\n",
    "Plot the solution using `plt.tricontour(V[:,0], V[:,1], T, u)`.\n",
    "\n",
    "The mesh should be loaded from the $T$ and $V$ arrays provided here: https://github.com/pazner/mth-651/tree/main/data/meshes\n",
    "\n",
    "Load them as follows:\n",
    "\n",
    "```python\n",
    "T = np.loadtxt(\"T.txt\", dtype=int)\n",
    "V = np.loadtxt(\"V.txt\")\n",
    "```\n",
    "\n",
    "Use the provided function `find_boundary_vertices` to identify the vertices for the boundary conditions."
   ]
  },
  {
   "cell_type": "code",
   "execution_count": null,
   "metadata": {},
   "outputs": [],
   "source": [
    "def find_boundary_vertices(T):\n",
    "    edge_count = {}\n",
    "    for it in range(T.shape[0]):\n",
    "        for i in range(3):\n",
    "            e = [T[it,i], T[it,(i+1)%3]]\n",
    "            e.sort()\n",
    "            e = tuple(e)\n",
    "            if e in edge_count:\n",
    "                edge_count[e] += 1\n",
    "            else:\n",
    "                edge_count[e] = 1\n",
    "\n",
    "    B = []\n",
    "    for it in range(T.shape[0]):\n",
    "        for i in range(3):\n",
    "            e = [T[it,i], T[it,(i+1)%3]]\n",
    "            e.sort()\n",
    "            if edge_count[tuple(e)] == 1:\n",
    "                B.append(T[it,i])\n",
    "                B.append(T[it,(i+1)%3])\n",
    "\n",
    "    return B"
   ]
  },
  {
   "cell_type": "markdown",
   "metadata": {},
   "source": [
    "### Problem 6. (3 points)\n",
    "\n",
    "Use the function below to generate a mesh of the unit square (and the list of boundary vertices).\n",
    "\n",
    "Perform a convergence study on a sequence of increasingly refined meshes with $n_x = 4, 8, 16, 32$.\n",
    "Choose the right-hand side $f$ such that the exact solution $u$ is given by\n",
    "$$\n",
    "    u(x,y) = \\sin(\\pi x) \\sin(\\pi y).\n",
    "$$\n",
    "Use the one-point quadrature to estimate the $L^2$-norm errors.\n",
    "Compute the rates.\n",
    "Do the results agree with theory?"
   ]
  },
  {
   "cell_type": "code",
   "execution_count": null,
   "metadata": {},
   "outputs": [],
   "source": [
    "def square_mesh(nx):\n",
    "    \"\"\"\n",
    "    Generates a triangular Cartesian mesh of the unit square with nx vertices in\n",
    "    each dimension.\n",
    "\n",
    "    Returns (V, T, B), where V is are the vertex coordinates, T are the triangle\n",
    "    indices, and B is a list of boundary vertex indices.\n",
    "    \"\"\"\n",
    "    x = np.linspace(0, 1, nx)\n",
    "    X, Y = np.meshgrid(x, x)\n",
    "    V = np.stack((X.ravel(), Y.ravel()), axis=1)\n",
    "\n",
    "    nt = 2*(nx-1)**2\n",
    "    T = np.zeros((nt, 3), int)\n",
    "\n",
    "    for iy in range(nx - 1):\n",
    "        for ix in range(nx - 1):\n",
    "            v1 = ix + iy*nx\n",
    "            v2 = ix + 1 + iy*nx\n",
    "            v3 = ix + (iy + 1)*nx\n",
    "            v4 = ix + 1 + (iy + 1)*nx\n",
    "            T[2*ix + iy*2*(nx-1), :] = [v1, v2, v4]\n",
    "            T[2*ix + 1 + iy*2*(nx-1), :] = [v1, v4, v3]\n",
    "\n",
    "    B = []\n",
    "    for i in range(nx):\n",
    "        B.append(i)\n",
    "        B.append(i + nx*(nx - 1))\n",
    "    for i in range(1, nx - 1):\n",
    "        B.append(nx*i)\n",
    "        B.append(nx - 1 + nx*i)\n",
    "\n",
    "    return V, T, B"
   ]
  },
  {
   "cell_type": "markdown",
   "metadata": {},
   "source": [
    "### Textbook questions. (3 points each)\n",
    "\n",
    "Problem 4.1\n",
    "\n",
    "Problem 4.2\n",
    "\n",
    "Problem 4.8"
   ]
  }
 ],
 "metadata": {
  "colab": {
   "provenance": []
  },
  "kernelspec": {
   "display_name": ".venv",
   "language": "python",
   "name": "python3"
  },
  "language_info": {
   "codemirror_mode": {
    "name": "ipython",
    "version": 3
   },
   "file_extension": ".py",
   "mimetype": "text/x-python",
   "name": "python",
   "nbconvert_exporter": "python",
   "pygments_lexer": "ipython3",
   "version": "3.12.7"
  }
 },
 "nbformat": 4,
 "nbformat_minor": 0
}

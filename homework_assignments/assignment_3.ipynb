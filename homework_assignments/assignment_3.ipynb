{
  "cells": [
    {
      "cell_type": "markdown",
      "metadata": {},
      "source": [
        "# MTH 651: Advanced Numerical Analysis"
      ]
    },
    {
      "cell_type": "markdown",
      "metadata": {},
      "source": [
        "## Homework Assignment 3"
      ]
    },
    {
      "cell_type": "markdown",
      "metadata": {},
      "source": [
        "### (Student Name 👈 Write Your Name Here!)"
      ]
    },
    {
      "cell_type": "markdown",
      "metadata": {
        "id": "d5sMJY4v8Tol"
      },
      "source": [
        "### Guidelines\n",
        "\n",
        "* Each student must complete their own assignment individually.\n",
        "  * Discussing with other students is allowed (encouraged!), but you must write your own answers and not copy off of others.\n",
        "* Submit the homework as a Jupyter notebook with **properly formatted LaTeX**\n"
      ]
    },
    {
      "cell_type": "markdown",
      "metadata": {},
      "source": [
        "### Bilinear Quadrilateral Element\n",
        "\n",
        "Consider the **unit square** $[0,1]^2$.\n",
        "\n",
        "We will define the **bilinear element** on the unit square.\n",
        "\n",
        "The space of shape functions is $\\mathcal{Q}_1 = \\operatorname{span}\\{ 1, x, y, xy \\}$.\n",
        "\n",
        "Let $v_1, v_2, v_3, v_4$ denote the vertices of the square.\n",
        "\n",
        "Let $N_i(u) : u \\mapsto u(v_i)$ denote the corresponding **nodal variables**."
      ]
    },
    {
      "cell_type": "markdown",
      "metadata": {},
      "source": [
        "#### Problem 1. (2 points)\n",
        "\n",
        "Create the Vandermonde matrix corresponding to the basis $\\{ 1, x, y, xy \\}$ and nodal variables $\\{ N_i \\}$."
      ]
    },
    {
      "cell_type": "code",
      "execution_count": null,
      "metadata": {},
      "outputs": [],
      "source": [
        "# Define the Vandermonde matrix V here"
      ]
    },
    {
      "cell_type": "markdown",
      "metadata": {},
      "source": [
        "#### Problem 2. (2 points)\n",
        "\n",
        "Use the Vandermonde matrix to find the **nodal basis** for $\\mathcal{Q}_1$ (i.e. the basis **dual** to the nodal variables).\n",
        "\n",
        "Write out (i.e. as closed form expressions) the formulas for the basis functions."
      ]
    },
    {
      "cell_type": "code",
      "execution_count": null,
      "metadata": {},
      "outputs": [],
      "source": [
        "# Use V to find the nodal basis functions"
      ]
    },
    {
      "cell_type": "markdown",
      "metadata": {},
      "source": [
        "### Biquadratic Quadrilateral Element\n",
        "\n",
        "Now consider the space $\\mathcal{Q}_2 = \\operatorname{span}\\{ 1, x, x^2, y, xy, x^2 y, y^2, x y^2, x^2 y^2 \\}$.\n",
        "\n",
        "Define the **nodal points** $(0, 1/2, 1) \\times (0, 1/2, 1)$ (here $\\times$ represents the Cartesian product)."
      ]
    },
    {
      "cell_type": "markdown",
      "metadata": {},
      "source": [
        "#### Problem 3. (2 points)\n",
        "\n",
        "Create the Vandermonde matrix for the biquadratic quadrilateral element."
      ]
    },
    {
      "cell_type": "code",
      "execution_count": null,
      "metadata": {},
      "outputs": [],
      "source": [
        "# Define the Vandermonde matrix V here"
      ]
    },
    {
      "cell_type": "markdown",
      "metadata": {},
      "source": [
        "#### Problem 4. (2 points)\n",
        "\n",
        "Use the Vandermonde matrix to find the **nodal basis** for $\\mathcal{Q}_2$ (i.e. the basis **dual** to the nodal variables).\n",
        "\n",
        "Write out (i.e. as closed form expressions) the formulas for the basis functions."
      ]
    },
    {
      "cell_type": "code",
      "execution_count": null,
      "metadata": {},
      "outputs": [],
      "source": [
        "# Use V to find the nodal basis functions"
      ]
    },
    {
      "cell_type": "markdown",
      "metadata": {},
      "source": [
        "#### Problem 5. (2 points)\n",
        "\n",
        "In general, the space $\\mathcal{Q}_k$ is the space of polynomials of degree at most $k$ **in each variable**.\n",
        "\n",
        "* What is $\\dim( \\mathcal{Q}_k ([0,1]^2))$?\n",
        "* What is $\\dim( \\mathcal{Q}_k ([0,1]^d))$?"
      ]
    },
    {
      "cell_type": "markdown",
      "metadata": {},
      "source": [
        "#### Problem 6. (Bonus)\n",
        "\n",
        "What are good **nodal variables** for the space $\\mathcal{Q}_k$ on the unit square $[0,1]^2$?"
      ]
    },
    {
      "cell_type": "markdown",
      "metadata": {},
      "source": [
        "#### Problem 7. (4 points)\n",
        "\n",
        "Let the domain $\\Omega$ be given as the union of subdomains $K_i$.\n",
        "\n",
        "Suppose $u$ is piecewise $C^\\infty$, i.e. $u|_{K_i} \\in C^\\infty(K_i)$ for all $i$.\n",
        "\n",
        "Prove that $u \\in H^1(\\Omega)$ iff $u$ is continuous.\n",
        "\n",
        "#### Hint:\n",
        "\n",
        "* Let $\\boldsymbol{n}_{K_i}$ denote the outward facing normal vector on $K_i$.\n",
        "* Let $v \\in L^2(\\Omega)$.\n",
        "* Let $e$ be an **interface**, i.e. $e = K_i \\cap K_j \\neq \\varnothing$ for some $i$ and $j$.\n",
        "* Let $\\Gamma$ be the union of all such interfaces (called the **skeleton** of the mesh).\n",
        "* Define the **jump** of $v$ by $[v] = v_{K_i} \\boldsymbol{n}_{K_i} + v_{K_j} \\boldsymbol{n}_{K_j}$.\n",
        "    * (Note that $[v] = (v_{K_i} - v_{K_j}) \\boldsymbol{n}_{K_i}$)\n",
        "\n",
        "Then,\n",
        "\n",
        "$$\n",
        "    \\sum_{i} \\int_{\\partial K_i} v \\phi \\boldsymbol{n} \\, ds = \\int_\\Gamma [v] \\phi \\, ds\n",
        "$$\n",
        "\n",
        "If $\\int_\\Gamma [v] \\phi \\, ds = 0$ for all smooth test functions, what can be inferred about $[v]$ (and hence about $v$)?"
      ]
    },
    {
      "cell_type": "markdown",
      "metadata": {},
      "source": [
        "#### Problem 8: MFEM Coding. (4 points)"
      ]
    },
    {
      "cell_type": "markdown",
      "metadata": {},
      "source": [
        "We are going to try to measure the **rate of convergence** of **global interpolation** in a finite element space."
      ]
    },
    {
      "cell_type": "markdown",
      "metadata": {},
      "source": [
        "**Problem 8(a).** Read carefully and understand the following MFEM code snippets (if asked to do something similar in a future assignment, you should understand how to write code like this on your own)."
      ]
    },
    {
      "cell_type": "code",
      "execution_count": null,
      "metadata": {},
      "outputs": [],
      "source": [
        "# Install MFEM in Colab\n",
        "%pip install mfem\n",
        "%pip install glvis"
      ]
    },
    {
      "cell_type": "code",
      "execution_count": 1,
      "metadata": {},
      "outputs": [],
      "source": [
        "# Import MFEM\n",
        "import mfem.ser as mfem\n",
        "\n",
        "def compute_interpolation_error(n, order_k, f):\n",
        "    \"\"\"\n",
        "    Compute and return the interpolation error (measured in L2 norm)\n",
        "\n",
        "    Parameters:\n",
        "        n (int): size of Cartesian grid in each dimension\n",
        "        order_k (int): polynomial degree\n",
        "        f (coefficient): the function to be approximated\n",
        "\n",
        "    Returns:\n",
        "        L2 norm of the interpolation error\n",
        "    \"\"\"\n",
        "    # Create a triangular mesh of a n x n Cartesian grid.\n",
        "    # The n^2 cells of the Cartesian grid will each be split into two triangles,\n",
        "    # resulting in 2*n^2 triangles.\n",
        "    mesh = mfem.Mesh(n, n, \"TRIANGLE\")\n",
        "    # Define the type of finite element we will use. We will use continuous \n",
        "    # finite elements of degree at most `order_k`.\n",
        "    fe_collection = mfem.H1_FECollection(order_k, mesh.Dimension())\n",
        "    # \"Glue\" together the finite elements to create a space on the entire mesh.\n",
        "    # This represents the discrete space V_h.\n",
        "    fe_space = mfem.FiniteElementSpace(mesh, fe_collection)\n",
        "    # Define a \"grid function\" on the space. A grid function represents an \n",
        "    # element u_h of the finite element space V_h.\n",
        "    u = mfem.GridFunction(fe_space)\n",
        "    # Project coefficient performs the *global interpolation* of the given \n",
        "    # function (which has to be represented as a \"Coefficient object\"). \n",
        "    # This sets the degrees of freedom based on evaluating the *nodal variables*\n",
        "    # of the input function f.\n",
        "    u.ProjectCoefficient(f)\n",
        "    # Return the L2 norm || u_h - f ||.\n",
        "    return u.ComputeL2Error(f)"
      ]
    },
    {
      "cell_type": "markdown",
      "metadata": {},
      "source": [
        "MFEM has the concept of a \"coefficient\". A coefficient defines an function that can be evaluated at different points in the domain. (Essentially, \"coefficient\" is just the MFEM terminology for a user-specified function)"
      ]
    },
    {
      "cell_type": "code",
      "execution_count": 2,
      "metadata": {},
      "outputs": [],
      "source": [
        "# Define a function f that we will try to approximate by interpolation\n",
        "from math import cos, exp, sin\n",
        "class f(mfem.PyCoefficient):\n",
        "    def EvalValue(self, xvec):\n",
        "        x = xvec[0]\n",
        "        y = xvec[1]\n",
        "        return exp(0.1*sin(5.1*x - 6.2*y) + 0.3*cos(4.3*x +3.4*y))"
      ]
    },
    {
      "cell_type": "code",
      "execution_count": 3,
      "metadata": {},
      "outputs": [
        {
          "data": {
            "text/plain": [
              "0.00034178312291455767"
            ]
          },
          "execution_count": 3,
          "metadata": {},
          "output_type": "execute_result"
        }
      ],
      "source": [
        "# Example of using the above functions:\n",
        "\n",
        "compute_interpolation_error(10, 2, f())"
      ]
    },
    {
      "cell_type": "markdown",
      "metadata": {},
      "source": [
        "**Problem 8(b).**\n",
        "\n",
        "Start with a mesh with `n = 4`, and refine by a factor of two 4 times.\n",
        "\n",
        "* Set $k = 1$ and compute the $L^2$ interpolation error and empirical order of convergence.\n",
        "* Repeat the same task for $k = 2$ and $k = 3$.\n",
        "* Based on the above, conjecture what the order of convergence should be for arbitrary $k$."
      ]
    }
  ],
  "metadata": {
    "colab": {
      "provenance": []
    },
    "kernelspec": {
      "display_name": "Python 3.10.6 ('venv': venv)",
      "language": "python",
      "name": "python3"
    },
    "language_info": {
      "codemirror_mode": {
        "name": "ipython",
        "version": 3
      },
      "file_extension": ".py",
      "mimetype": "text/x-python",
      "name": "python",
      "nbconvert_exporter": "python",
      "pygments_lexer": "ipython3",
      "version": "3.10.8"
    },
    "vscode": {
      "interpreter": {
        "hash": "bd788376193720eadecf9d964712d25ddb8942c37aec80724648cfa1bb12b2b1"
      }
    }
  },
  "nbformat": 4,
  "nbformat_minor": 0
}

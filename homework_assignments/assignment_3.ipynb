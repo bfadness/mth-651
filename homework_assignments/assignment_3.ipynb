{
  "cells": [
    {
      "cell_type": "markdown",
      "metadata": {},
      "source": [
        "# MTH 651: Advanced Numerical Analysis"
      ]
    },
    {
      "cell_type": "markdown",
      "metadata": {},
      "source": [
        "## Homework Assignment 3"
      ]
    },
    {
      "cell_type": "markdown",
      "metadata": {},
      "source": [
        "### (Student Name 👈 Write Your Name Here!)"
      ]
    },
    {
      "cell_type": "markdown",
      "metadata": {
        "id": "d5sMJY4v8Tol"
      },
      "source": [
        "### Guidelines\n",
        "\n",
        "* Each student must complete their own assignment individually.\n",
        "  * Discussing with other students is allowed (encouraged!), but you must write your own answers and not copy off of others.\n",
        "* Submit the homework as a Jupyter notebook with **properly formatted LaTeX**\n"
      ]
    },
    {
      "cell_type": "markdown",
      "metadata": {},
      "source": [
        "### Bilinear Quadrilateral Element\n",
        "\n",
        "Consider the **unit square** $[0,1]^2$.\n",
        "\n",
        "We will define the **bilinear element** on the unit square.\n",
        "\n",
        "The space of shape functions is $\\mathcal{Q}_1 = \\operatorname{span}\\{ 1, x, y, xy \\}$.\n",
        "\n",
        "Let $v_1, v_2, v_3, v_4$ denote the vertices of the square.\n",
        "\n",
        "Let $N_i(u) : u \\mapsto u(v_i)$ denote the corresponding **nodal variables**."
      ]
    },
    {
      "cell_type": "markdown",
      "metadata": {},
      "source": [
        "#### Problem 1. (2 points)\n",
        "\n",
        "Create the Vandermonde matrix corresponding to the basis $\\{ 1, x, y, xy \\}$ and nodal variables $\\{ N_i \\}$."
      ]
    },
    {
      "cell_type": "code",
      "execution_count": 2,
      "metadata": {},
      "outputs": [],
      "source": [
        "# Define the Vandermonde matrix V here"
      ]
    },
    {
      "cell_type": "markdown",
      "metadata": {},
      "source": [
        "#### Problem 2. (2 points)\n",
        "\n",
        "Use the Vandermonde matrix to find the **nodal basis** for $\\mathcal{Q}_1$ (i.e. the basis **dual** to the nodal variables).\n",
        "\n",
        "Write out (i.e. as closed form expressions) the formulas for the basis functions."
      ]
    },
    {
      "cell_type": "code",
      "execution_count": 3,
      "metadata": {},
      "outputs": [],
      "source": [
        "# Use V to find the nodal basis functions"
      ]
    },
    {
      "cell_type": "markdown",
      "metadata": {},
      "source": [
        "### Biquadratic Quadrilateral Element\n",
        "\n",
        "Now consider the space $\\mathcal{Q}_2 = \\operatorname{span}\\{ 1, x, x^2, y, xy, x^2 y, y^2, x y^2, x^2 y^2 \\}$.\n",
        "\n",
        "Define the **nodal points** $(0, 1/2, 1) \\times (0, 1/2, 1)$ (here $\\times$ represents the Cartesian product)."
      ]
    },
    {
      "cell_type": "markdown",
      "metadata": {},
      "source": [
        "#### Problem 3. (2 points)\n",
        "\n",
        "Create the Vandermonde matrix for the biquadratic quadrilateral element."
      ]
    },
    {
      "cell_type": "code",
      "execution_count": 4,
      "metadata": {},
      "outputs": [],
      "source": [
        "# Define the Vandermonde matrix V here"
      ]
    },
    {
      "cell_type": "markdown",
      "metadata": {},
      "source": [
        "#### Problem 4. (2 points)\n",
        "\n",
        "Use the Vandermonde matrix to find the **nodal basis** for $\\mathcal{Q}_2$ (i.e. the basis **dual** to the nodal variables).\n",
        "\n",
        "Write out (i.e. as closed form expressions) the formulas for the basis functions."
      ]
    },
    {
      "cell_type": "code",
      "execution_count": 5,
      "metadata": {},
      "outputs": [],
      "source": [
        "# Use V to find the nodal basis functions"
      ]
    }
  ],
  "metadata": {
    "colab": {
      "provenance": []
    },
    "kernelspec": {
      "display_name": "Python 3.10.8 64-bit",
      "language": "python",
      "name": "python3"
    },
    "language_info": {
      "codemirror_mode": {
        "name": "ipython",
        "version": 3
      },
      "file_extension": ".py",
      "mimetype": "text/x-python",
      "name": "python",
      "nbconvert_exporter": "python",
      "pygments_lexer": "ipython3",
      "version": "3.10.8"
    },
    "vscode": {
      "interpreter": {
        "hash": "b0fa6594d8f4cbf19f97940f81e996739fb7646882a419484c72d19e05852a7e"
      }
    }
  },
  "nbformat": 4,
  "nbformat_minor": 0
}

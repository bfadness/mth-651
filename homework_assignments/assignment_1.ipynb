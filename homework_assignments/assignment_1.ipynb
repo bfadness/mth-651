{
  "cells": [
    {
      "cell_type": "markdown",
      "metadata": {},
      "source": [
        "# MTH 651: Advanced Numerical Analysis"
      ]
    },
    {
      "cell_type": "markdown",
      "metadata": {},
      "source": [
        "## Homework Assignment 1"
      ]
    },
    {
      "cell_type": "markdown",
      "metadata": {
        "id": "d5sMJY4v8Tol"
      },
      "source": [
        "### Guidelines\n",
        "\n",
        "* Each student must complete their own assignment individually.\n",
        "  * Discussing with other students is allowed (encouraged!), but you must write your own answers and code.\n",
        "* The code must run in Colab without errors.\n",
        "  * Code that does not run will not receive any credit.\n",
        "  * I suggest double-checking that your code runs properly in a new session. Sometimes code can be broken but appear to work because of old state in the notebook."
      ]
    },
    {
      "cell_type": "markdown",
      "metadata": {},
      "source": [
        "### Assignment Goals\n",
        "\n",
        "* The purpose of this assignment is to develop a 1D finite element Poisson solver and analyze its accuracy in the energy and $L^2$ norms."
      ]
    },
    {
      "cell_type": "markdown",
      "metadata": {},
      "source": [
        "### Problem Statement\n",
        "\n",
        "We want to solve the Poisson problem on $[0,1]$ with homogeneous Dirichlet boundary conditions\n",
        "$$\n",
        "   \\begin{align*}\n",
        "      -u''(x) &= f(x) \\\\\n",
        "      u(0) &= 0 \\\\\n",
        "      u(1) &= 1\n",
        "   \\end{align*}\n",
        "$$"
      ]
    },
    {
      "cell_type": "markdown",
      "metadata": {},
      "source": [
        "Recall the finite element formulation of the above problem:\n",
        "\n",
        "> Find $u \\in S$ such that, for all $v \\in S$\n",
        "> $$ a(u, v) = (f, v) $$\n",
        "> where $S$ is the space of continuous piecewise linear functions defined in terms of a partition $0 = x_0 < x_1 < \\cdots < x_n < x_{n+1} = 1$, and $a(\\cdot,\\cdot)$ is the bilinear form\n",
        "> $$ a(u, v) = \\int_0^1 u'(x) v'(x) \\, dx $$\n",
        "> and $(\\cdot, \\cdot)$ is the $L^2$ inner product,\n",
        "> $$ (u, v) = \\int_0^1 u(x) v(x) \\, dx $$"
      ]
    },
    {
      "cell_type": "code",
      "execution_count": 1,
      "metadata": {},
      "outputs": [],
      "source": [
        "import numpy as np\n",
        "import matplotlib.pyplot as plt"
      ]
    },
    {
      "cell_type": "markdown",
      "metadata": {},
      "source": [
        "Write a function that will create a mesh (partition) of the interval $[0,1]$ using $n$ points, including the boundaries, and return the points as an ordered numpy array.\n",
        "\n",
        "For example, `make_uniform_mesh(5)` should return `array([0.  , 0.25, 0.5 , 0.75, 1.  ])`"
      ]
    },
    {
      "cell_type": "code",
      "execution_count": 8,
      "metadata": {},
      "outputs": [],
      "source": [
        "def make_uniform_mesh(n):\n",
        "    \"\"\"\n",
        "    Return a mesh of the interval [0,1] with a total of n points, including the \n",
        "    endpoints.\n",
        "    \"\"\"\n",
        "    return"
      ]
    },
    {
      "cell_type": "markdown",
      "metadata": {},
      "source": [
        "Recall that the finite element method will result in a linear system of equations\n",
        "$$ \\boldsymbol{K} \\boldsymbol{U} = \\boldsymbol{F} $$\n",
        "where $\\boldsymbol{K}$ is the stiffness matrix, $\\boldsymbol{U}$ are the nodal values of the approximate solution $u_S$ (i.e. expansion coefficients in the nodal basis), and $\\boldsymbol{F}$ is the right-hand side, i.e.\n",
        "$$ F_i = (f, \\phi_i) $$\n",
        "for the \"hat function\" $\\phi_i$."
      ]
    },
    {
      "cell_type": "markdown",
      "metadata": {},
      "source": [
        "Write a function that will **approximate** the right-hand side vector $\\boldsymbol{F}$ using a **one-point quadrature formula**.\n",
        "\n",
        "This will be an approximation, we won't be computing the integrals exactly. But it will make the code simpler.\n",
        "\n",
        "The one-point quadrature approximation is\n",
        "$$\n",
        "   \\int_a^b f(x) \\,dx \\approx (b-a) f\\left( \\tfrac{a+b}{2} \\right)\n",
        "$$\n",
        "\n",
        "The function `make_rhs` should return a vector (numpy array) whose `i`th entry is the coefficient $F_i$ using this quadrature approximation.\n",
        "The input will be the function `f` and the mesh points `x`.\n",
        "\n",
        "Note that each basis function $\\phi_i$ is nonzero in only **two intervals**, $[x_{i-1}, x_i]$ and $[x_i, x_{i+1}]$.\n",
        "Therefore, the inner product $(f, \\phi_i)$ can be written as\n",
        "$$\n",
        "   F_i = (f, \\phi_i) = \\int_0^1 f(x) \\phi_i(x) \\, dx = \\int_{x_{i-1}}^{x_i} f(x)\\phi_i(x) \\,dx + \\int_{x_i}^{x_{i+1}} f(x) \\phi_i(x) \\, dx.\n",
        "$$\n",
        "Approximate each of the two integrals on the right-hand side of the above expression, and sum them to approximate $F_i$.\n",
        "\n",
        "The first and last mesh point (corresponding to $x = 0$ and $x = 1$) do not have associated basis functions because of the Dirichlet boundary conditions.\n",
        "So, the first and last entry of the returned array can be set to zero.\n",
        "\n",
        "In other words, the result should be\n",
        "$$\n",
        "   \\texttt{make\\_rhs}(f, x) = [0, F_1, F_2, \\ldots, F_{n-2}, 0]\n",
        "$$"
      ]
    },
    {
      "cell_type": "code",
      "execution_count": null,
      "metadata": {},
      "outputs": [],
      "source": [
        "def make_rhs(f, x):\n",
        "   \"\"\"\n",
        "   Return the right-hand side vector F given the function f and mesh points x.\n",
        "\n",
        "   Set the first and last entries to zero, i.e.\n",
        "   F[0] = 0\n",
        "   F[-1] = 0\n",
        "   \"\"\"\n",
        "   return"
      ]
    },
    {
      "cell_type": "markdown",
      "metadata": {},
      "source": [
        "We now want to form the stiffness matrix $\\boldsymbol{K}$.\n",
        "This is the most challenging part of implementing a finite element method.\n",
        "\n",
        "Recall that $K_{ij} = a(\\phi_i, \\phi_j) = (\\phi_i', \\phi_j')$.\n",
        "\n",
        "As before, note that $\\phi_i$ is nonzero only on two intervals, and similarly for $\\phi_j$.\n",
        "Therefore, $a(\\phi_i, \\phi_j)$ will be nonzero only if there is some overlap between these two sets of two intervals.\n",
        "In particular,\n",
        "$$\n",
        "   a(\\phi_i, \\phi_j) \\text{ is nonzero iff } j \\in \\{ i-1, i, i+1 \\}\n",
        "$$\n",
        "\n",
        "The usual way to **assemble** the stiffness matrix is to loop over every element (each interval in the mesh), and to compute the contributions to each relevant entry $K_{ij}$.\n",
        "\n",
        "Note that on each element, $\\phi_i'$ is constant, and so the integral $\\int_a^b \\phi_i' \\phi_j' \\, dx$ can be computed _exactly_ by the one-point quadrature rule. (Verify this?)\n",
        "\n",
        "Write a function `make_stiffness_matrix` that will return the stiffness matrix $\\boldsymbol{K}$ given the mesh points `x` as input.\n",
        "Because of the boundary conditions, we don't need to compute the entries corresponding to the first and last point ($x=0$ and $x=1$).\n",
        "Set those rows and columns of the matrix equal to the identity (i.e. $K_{0,0} = 1$ and $K_{n-1,n-1} = 1$, $K_{0,i} = K_{i,0} = K_{0,n-1} = K_{n-1,0} = 0$)."
      ]
    },
    {
      "cell_type": "code",
      "execution_count": 9,
      "metadata": {},
      "outputs": [],
      "source": [
        "def make_stiffness_matrix(x):\n",
        "    \"\"\"\n",
        "    Return the assembled stiffness matrix K given the mesh points X.\n",
        "\n",
        "    Set the first and last rows and columns to identity, i.e.\n",
        "\n",
        "    K[0,:] = 0\n",
        "    K[:,0] = 0\n",
        "    K[0,0] = 1\n",
        "\n",
        "    K[:,-1] = 0\n",
        "    K[:,-1] = 0\n",
        "    K[-1,-1] = 1\n",
        "\n",
        "    Loop over each element, and integrate the products of the basis functions \n",
        "    that are nonzero on that element (on each interval, there are two nonzero\n",
        "    basis functions corresponding to the interval endpoints). This leads to four\n",
        "    pairs of basis functions to integrate. Add the integrals to the stiffness\n",
        "    matrix and return the result. Be careful not to include basis functions \n",
        "    corresponding to 0 and 1.\n",
        "    \"\"\"\n",
        "    return"
      ]
    },
    {
      "cell_type": "markdown",
      "metadata": {},
      "source": [
        "Write a function to use the finite element method to solve the Poisson problem with Dirichlet BCs given a right-hand side function $f$ and mesh.\n",
        "Return the result as a vector (numpy array) $\\boldsymbol{U}$, whose entries are the nodal values $U_i$."
      ]
    },
    {
      "cell_type": "code",
      "execution_count": null,
      "metadata": {},
      "outputs": [],
      "source": [
        "def solve_poisson(f, x):\n",
        "    \"\"\"\n",
        "    Return the finite element approximation U to the Poisson problem with\n",
        "    right-hand side f and mesh x.\n",
        "\n",
        "    You can use np.linalg.solve to solve the linear system of equations\n",
        "    \"\"\"\n",
        "    return"
      ]
    },
    {
      "cell_type": "markdown",
      "metadata": {},
      "source": [
        "Use the functions written above to solve the Poisson problem with right-hand side $f(x) = \\sin(x)$.\n",
        "Solve using a uniformly spaced mesh with 101 points.\n",
        "\n",
        "Plot the result. Compute (by hand) the formula for the exact solution, and plot the exact solution to compare."
      ]
    },
    {
      "cell_type": "markdown",
      "metadata": {},
      "source": [
        "Write functions to approximate energy norm and $L^2$ norm errors.\n",
        "\n",
        "Each function should take the mesh points `x`, a vector `u` of nodal values (interpreted as a piecewise linear finite element function), and the exact solution `u_exact` (in the case of $L^2$ error) or `du_exact` (representing the exact derivative $u'(x)$ in teh case of the energy norm).\n",
        "\n",
        "Approximate the integrals $\\int_0^1 (u - u_S)^2 \\, dx$ and $\\int_0^1 (u' - u_S')^2 \\, ds$ using one-point quadrature."
      ]
    },
    {
      "cell_type": "code",
      "execution_count": null,
      "metadata": {},
      "outputs": [],
      "source": [
        "def energy_error(x, u, du_exact):\n",
        "    return\n",
        "\n",
        "def l2_error(x, u, u_exact):\n",
        "    return"
      ]
    },
    {
      "cell_type": "markdown",
      "metadata": {},
      "source": [
        "Perform a converge study.\n",
        "\n",
        "Start with a uniformly spaced mesh with 10 elements (21 points).\n",
        "Compute the finite element approximation, and the error when compared with the exact solution (in both energy and $L^2$ norms).\n",
        "Double the number of elements, and recompute.\n",
        "Repeat this process to obtain a total of six solutions on meshes of increasing resolution (10 elements through 320 elements).\n",
        "Compute the empirical rates of convergence.\n",
        "Do they agree with the theory? Why or why not?"
      ]
    },
    {
      "cell_type": "markdown",
      "metadata": {},
      "source": [
        "### Questions\n",
        "\n",
        "1. What is the order of accuracy of the one-point quadrature approximation (in terms of the interval length $h = b-a$)? Prove it. Hint: Taylor's theorem.\n",
        "   * Also prove that the entries of $K_{ij}$ can be computed exactly using one-point quadrature.\n",
        "2. Prove that $ \\| u - u_I \\| \\leq C h^2 \\| u'' \\| $ (see exercise 0.x.6 from the textbook for a hint)."
      ]
    }
  ],
  "metadata": {
    "colab": {
      "provenance": []
    },
    "kernelspec": {
      "display_name": "mth-651",
      "language": "python",
      "name": "mth-651"
    },
    "language_info": {
      "codemirror_mode": {
        "name": "ipython",
        "version": 3
      },
      "file_extension": ".py",
      "mimetype": "text/x-python",
      "name": "python",
      "nbconvert_exporter": "python",
      "pygments_lexer": "ipython3",
      "version": "3.10.6"
    },
    "vscode": {
      "interpreter": {
        "hash": "b0fa6594d8f4cbf19f97940f81e996739fb7646882a419484c72d19e05852a7e"
      }
    }
  },
  "nbformat": 4,
  "nbformat_minor": 0
}

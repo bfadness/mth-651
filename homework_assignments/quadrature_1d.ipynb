{
 "cells": [
  {
   "cell_type": "code",
   "execution_count": 1,
   "metadata": {},
   "outputs": [],
   "source": [
    "import numpy as np"
   ]
  },
  {
   "cell_type": "code",
   "execution_count": 2,
   "metadata": {},
   "outputs": [],
   "source": [
    "def quad_1d(f, a, b):\n",
    "    # Quadrature points in the reference internal\n",
    "    xq_1 = -1/np.sqrt(3)\n",
    "    xq_2 = 1/np.sqrt(3)\n",
    "\n",
    "    h = b - a\n",
    "    x_1 = h*0.5*(xq_1 + 1) + a\n",
    "    x_2 = h*0.5*(xq_2 + 1) + a\n",
    "    return 0.5*h*(f(x_1) + f(x_2))"
   ]
  },
  {
   "cell_type": "code",
   "execution_count": 3,
   "metadata": {},
   "outputs": [
    {
     "name": "stdout",
     "output_type": "stream",
     "text": [
      "h               Error        Rate\n",
      "===================================\n",
      "1.0000000000    1.099e-04     ----\n",
      "0.5000000000    1.785e-06     5.94\n",
      "0.2500000000    2.817e-08     5.99\n",
      "0.1250000000    4.412e-10     6.00\n",
      "0.0625000000    6.897e-12     6.00\n",
      "0.0312500000    1.078e-13     6.00\n",
      "0.0156250000    1.716e-15     5.97\n",
      "0.0078125000    8.060e-17     4.41\n",
      "0.0039062500    3.249e-17     1.31\n",
      "0.0019531250    3.694e-17    -0.19\n"
     ]
    }
   ],
   "source": [
    "a = 0\n",
    "\n",
    "print(\"h               Error        Rate\")\n",
    "print(\"=\" * 35)\n",
    "\n",
    "h_prev = 0\n",
    "error_prev = 0\n",
    "\n",
    "for i in range(10):\n",
    "    b = 2 ** -i\n",
    "    h = b - a\n",
    "    v_exact = - np.cos(b) + np.cos(a)\n",
    "    v_approx = quad_1d(np.sin, a, b)\n",
    "    error = np.abs(v_exact - v_approx)\n",
    "    if h_prev != 0:\n",
    "        rate = \"{: .2f}\".format(np.log(error / error_prev) / np.log(h / h_prev))\n",
    "    else:\n",
    "        rate = \" ----\"\n",
    "    print(\"{:.10f}    {:.3e}    {}\".format(h, error, rate))\n",
    "    error_prev = error\n",
    "    h_prev = h\n"
   ]
  },
  {
   "cell_type": "markdown",
   "metadata": {},
   "source": [
    "_Note:_ the errors decrease at the expected rate, until they reach a level of around $10^{-16}$, at which point round-off error dominates, and the error stagnates."
   ]
  }
 ],
 "metadata": {
  "kernelspec": {
   "display_name": ".venv",
   "language": "python",
   "name": "python3"
  },
  "language_info": {
   "codemirror_mode": {
    "name": "ipython",
    "version": 3
   },
   "file_extension": ".py",
   "mimetype": "text/x-python",
   "name": "python",
   "nbconvert_exporter": "python",
   "pygments_lexer": "ipython3",
   "version": "3.12.6"
  }
 },
 "nbformat": 4,
 "nbformat_minor": 2
}

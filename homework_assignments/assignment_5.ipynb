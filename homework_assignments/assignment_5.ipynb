{
  "cells": [
    {
      "cell_type": "markdown",
      "metadata": {},
      "source": [
        "# MTH 651: Advanced Numerical Analysis"
      ]
    },
    {
      "cell_type": "markdown",
      "metadata": {},
      "source": [
        "## Homework Assignment 5"
      ]
    },
    {
      "cell_type": "markdown",
      "metadata": {},
      "source": [
        "### (Student Name 👈 Write Your Name Here!)"
      ]
    },
    {
      "cell_type": "markdown",
      "metadata": {
        "id": "d5sMJY4v8Tol"
      },
      "source": [
        "### Guidelines\n",
        "\n",
        "* Each student must complete their own assignment individually.\n",
        "  * Discussing with other students is allowed (encouraged!), but you must write your own answers and not copy off of others.\n",
        "* Submit the homework as a Jupyter notebook with **properly formatted LaTeX**\n"
      ]
    },
    {
      "cell_type": "markdown",
      "metadata": {},
      "source": [
        "#### Problem 1. (2 points)\n",
        "\n",
        "(Exercise 4.x.1 from the textbook). Prove that\n",
        "$$\n",
        "    D^\\alpha_x T^m_y u(x) = T^{m - |\\alpha|}_y D^\\alpha_x u(x)\n",
        "$$\n",
        "for $u \\in C^{|\\alpha|}$ with $|\\alpha| < m$, and hence\n",
        "$$\n",
        "    D^\\alpha Q^m_B u(x) = Q^{m - |\\alpha|}_B D^\\alpha u(x).\n",
        "$$"
      ]
    },
    {
      "cell_type": "markdown",
      "metadata": {},
      "source": [
        "#### Problem 2. (2 points)\n",
        "\n",
        "(Exercise 4.x.2 from the textbook). Prove the version of Taylor's theorem with the integral form of the remainder: given $f \\in C^m([0,1])$,\n",
        "$$\n",
        "    f(1) = \\sum_{k=0}^{m-1} \\frac{1}{k!} f^{(k)}(0) + m \\int_0^1 \\frac{1}{m!} s^{m-1}f^{(m)}(1-s)\\, ds.\n",
        "$$\n",
        "\n",
        "Hint: Induction:\n",
        "\n",
        "1. Prove the base case for $m=1$.\n",
        "2. Assuming the formula holds for $m-1$, prove that it holds for $m$ (integration by parts)."
      ]
    },
    {
      "cell_type": "markdown",
      "metadata": {},
      "source": [
        "#### Problem 3. (2 points)\n",
        "\n",
        "Recall that the mass matrix can be used to compute the $L^2$ projection onto a finite element space.\n",
        "\n",
        "Given $u \\in C^{k+1}(\\Omega)$, let $u_h$ be its $L^2$ projection.\n",
        "\n",
        "Derive and prove error estimates for $\\| u - u_h \\|_{L^2(\\Omega)}$.\n",
        "\n",
        "Hint: Bramble-Hilbert and Galerkin orthogonality/optimality."
      ]
    },
    {
      "cell_type": "markdown",
      "metadata": {},
      "source": [
        "#### Problem 4. Coding. (4 points)\n",
        "\n",
        "Perform convergence studies for the $L^2$ projection to confirm (or falsify) the estimates from Problem 3.\n",
        "\n",
        "First, write a function `compute_l2_projection_error` that computes and returns the $L^2$ error of the $L^2$ projection of the given function $f$.\n",
        "Adapt the code at the bottom of this file to compute the L2 projection and return the error in the $L^2$ norm."
      ]
    },
    {
      "cell_type": "code",
      "execution_count": null,
      "metadata": {},
      "outputs": [],
      "source": [
        "def compute_l2_projection_error(n, k, f):\n",
        "    \"\"\"\n",
        "    l2_projection_error(n, k, f)\n",
        "\n",
        "    Computes the L2 projection of f onto an order-k finite element space. The\n",
        "    input parameter n denotes the mesh size.\n",
        "\n",
        "    Return the L2 error of the projection compared with the input function.\n",
        "    \"\"\""
      ]
    },
    {
      "cell_type": "markdown",
      "metadata": {},
      "source": [
        "Use `compute_l2_projection_error` to perform convergence studies using $k=1$, $k=2$, and $k=3$ using the function $f$ defined below.\n",
        "\n",
        "Print out tables of the $L^2$ errors and compute the rates.\n",
        "\n",
        "**Hint:** Use/adapt the functions `convergence_study` and `print_convergence_table` from the [Assignment 3 Partial Solutions](https://github.com/pazner/mth-651/blob/main/homework_assignments/assignment_3_partial_solutions.ipynb) to help with this.\n",
        "\n",
        "Do the results agree with the theory?"
      ]
    },
    {
      "cell_type": "code",
      "execution_count": null,
      "metadata": {},
      "outputs": [],
      "source": [
        "%pip install mfem\n",
        "%pip install glvis"
      ]
    },
    {
      "cell_type": "code",
      "execution_count": null,
      "metadata": {},
      "outputs": [],
      "source": [
        "import mfem.ser as mfem\n",
        "from math import cos, exp, sin\n",
        "\n",
        "class f(mfem.PyCoefficient):\n",
        "    def EvalValue(self, xvec):\n",
        "        x = xvec[0]\n",
        "        y = xvec[1]\n",
        "        return exp(0.1*sin(5.1*x - 6.2*y) + 0.3*cos(4.3*x +3.4*y))"
      ]
    },
    {
      "cell_type": "markdown",
      "metadata": {},
      "source": [
        "Adapt this code to write your function `compute_l2_projection_error`:"
      ]
    },
    {
      "cell_type": "code",
      "execution_count": null,
      "metadata": {},
      "outputs": [],
      "source": [
        "# Create the mesh and finite element space\n",
        "mesh = mfem.Mesh(10, 10, \"TRIANGLE\")\n",
        "order_k = 1\n",
        "fe_collection = mfem.H1_FECollection(order_k, mesh.Dimension())\n",
        "fe_space = mfem.FiniteElementSpace(mesh, fe_collection)\n",
        "\n",
        "# 5. Define the solution x as a finite element grid function in fespace. Set\n",
        "#    the initial guess to zero, which also sets the boundary conditions.\n",
        "u = mfem.GridFunction(fe_space)\n",
        "\n",
        "# Create the right-hand side vector using the linear form F : v -> (f, v)\n",
        "# This is called a \"domain linear form integrator\", or DomainLFIntegrator\n",
        "F = mfem.LinearForm(fe_space)\n",
        "F.AddDomainIntegrator(mfem.DomainLFIntegrator(f()))\n",
        "# F.Assemble() tells MFEM to actually compute the entries of the vector F\n",
        "F.Assemble()\n",
        "\n",
        "# Set up the bilinear form m(.,.). The L2 inner product is called a\n",
        "# \"mass integrator\"\n",
        "m = mfem.BilinearForm(fe_space)\n",
        "m.AddDomainIntegrator(mfem.MassIntegrator())\n",
        "m.Assemble()\n",
        "m.Finalize()\n",
        "\n",
        "# Get the matrix associated with the bilinear form\n",
        "M = m.SpMat()\n",
        "GS = mfem.GSSmoother(M)\n",
        "u.Assign(0.0)\n",
        "mfem.PCG(M, GS, F, u, 0, 200, 1e-16, 0.0)\n",
        "\n",
        "u.ComputeL2Error(f())"
      ]
    }
  ],
  "metadata": {
    "colab": {
      "provenance": []
    },
    "kernelspec": {
      "display_name": "Python 3.10.6 ('venv': venv)",
      "language": "python",
      "name": "python3"
    },
    "language_info": {
      "codemirror_mode": {
        "name": "ipython",
        "version": 3
      },
      "file_extension": ".py",
      "mimetype": "text/x-python",
      "name": "python",
      "nbconvert_exporter": "python",
      "pygments_lexer": "ipython3",
      "version": "3.10.6"
    },
    "vscode": {
      "interpreter": {
        "hash": "bd788376193720eadecf9d964712d25ddb8942c37aec80724648cfa1bb12b2b1"
      }
    }
  },
  "nbformat": 4,
  "nbformat_minor": 0
}

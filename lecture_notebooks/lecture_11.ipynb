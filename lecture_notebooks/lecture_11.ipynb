{
 "cells": [
  {
   "cell_type": "markdown",
   "metadata": {},
   "source": [
    "# MTH 651: Advanced Numerical Analysis"
   ]
  },
  {
   "cell_type": "markdown",
   "metadata": {},
   "source": [
    "## Lecture 11"
   ]
  },
  {
   "cell_type": "markdown",
   "metadata": {
    "id": "d5sMJY4v8Tol"
   },
   "source": [
    "### Topics\n",
    "\n",
    "* Solving PDEs with MFEM"
   ]
  },
  {
   "cell_type": "markdown",
   "metadata": {},
   "source": [
    "We saw how to use MFEM to perform $L^2$ projection using the variational formulation.\n",
    "\n",
    "Now, let's use the same concepts to solve a PDE.\n",
    "The equation of iterest is (as usual), the Poisson problem with Dirichlet boundary conditions\n",
    "\n",
    "$$\n",
    "    \\begin{aligned}\n",
    "        -\\Delta u &= f \\qquad \\text{in $\\Omega$}\\\\\n",
    "        u &= 0 \\qquad \\text{on $\\partial\\Omega$}\n",
    "    \\end{aligned}\n",
    "$$\n",
    "\n",
    "This corresponds to the variational problem: find $u_h \\in V_h$ such that\n",
    "$$\n",
    "    \\int_\\Omega \\nabla u_h \\cdot \\nabla v_h \\,dx = \\int_\\Omega f v_h \\, dx\n",
    "$$\n",
    "for all test functions $v_h \\in V_h$, where $V_h$ is a finite element space,\n",
    "$$\n",
    "    V_h = \\{ v_h \\in \\mathring{H}^1(\\Omega) : v_h|K \\in \\mathcal{P}(K) \\},\n",
    "$$\n",
    "where $\\mathring{H}^1(\\Omega)$ indicates that the functions $v_h$ have zero trace on $\\partial\\Omega$, i.e. they satisfy the homogeneous Dirichlet boundary conditions.\n",
    "(In other words, the BCs are **built in** to the space, these are sometimes called **essential** boundary conditions)."
   ]
  },
  {
   "cell_type": "markdown",
   "metadata": {},
   "source": [
    "The bilinear form $a(\\cdot, \\cdot) = (\\nabla \\cdot, \\nabla \\cdot)$ induces an **associated system matrix**.\n",
    "\n",
    "Let $\\phi_i$ denote the global basis functions.\n",
    "\n",
    "Define the **stiffness matrix**\n",
    "\n",
    "$$\n",
    "    A_{ij} = a(\\phi_i, \\phi_j)\n",
    "$$\n",
    "\n",
    "Define the vector $F$ by\n",
    "\n",
    "$$\n",
    "    F_i = (f, v_i)\n",
    "$$\n",
    "\n",
    "Then, the variational problem is equation to the following linear system of equations\n",
    "\n",
    "$$\n",
    "    A U = F\n",
    "$$\n",
    "\n",
    "where the vector $U$ represents the coefficients of $u_h$ expanded in the basis $\\phi_i$."
   ]
  },
  {
   "cell_type": "code",
   "execution_count": 1,
   "metadata": {},
   "outputs": [],
   "source": [
    "import mfem.ser as mfem\n",
    "from glvis import glvis"
   ]
  },
  {
   "cell_type": "code",
   "execution_count": 2,
   "metadata": {},
   "outputs": [],
   "source": [
    "# Create the mesh and finite element space\n",
    "mesh = mfem.Mesh(10, 10, \"TRIANGLE\")\n",
    "order_k = 1\n",
    "fe_collection = mfem.H1_FECollection(order_k, mesh.Dimension())\n",
    "fe_space = mfem.FiniteElementSpace(mesh, fe_collection)\n",
    "\n",
    "# 5. Define the solution x as a finite element grid function in fespace. Set\n",
    "#    the initial guess to zero, which also sets the boundary conditions.\n",
    "u = mfem.GridFunction(fe_space)\n",
    "u.Assign(0.0)\n",
    "\n",
    "# Create the right-hand side vector using the linear form F : v -> (f, v)\n",
    "# This is called a \"domain linear form integrator\", or DomainLFIntegrator\n",
    "# We just use the right-hand side 1\n",
    "f = mfem.LinearForm(fe_space)\n",
    "f.AddDomainIntegrator(mfem.DomainLFIntegrator(mfem.ConstantCoefficient(1.0)))\n",
    "# F.Assemble() tells MFEM to actually compute the entries of the vector F\n",
    "f.Assemble()\n",
    "\n",
    "boundary_dofs = mfem.intArray()\n",
    "fe_space.GetBoundaryTrueDofs(boundary_dofs)\n",
    "\n",
    "# Set up the bilinear form a(.,.). The grad-grad bilinear form is called a\n",
    "# \"diffusion integrator\"\n",
    "a = mfem.BilinearForm(fe_space)\n",
    "a.AddDomainIntegrator(mfem.DiffusionIntegrator())\n",
    "a.Assemble()\n",
    "a.Finalize()\n",
    "\n",
    "A = mfem.SparseMatrix()\n",
    "F = mfem.Vector()\n",
    "U = mfem.Vector()\n",
    "a.FormLinearSystem(boundary_dofs, u, f, A, U, F)\n"
   ]
  },
  {
   "cell_type": "code",
   "execution_count": 3,
   "metadata": {},
   "outputs": [
    {
     "data": {
      "text/plain": [
       "<matplotlib.image.AxesImage at 0x16a7d2bf0>"
      ]
     },
     "execution_count": 3,
     "metadata": {},
     "output_type": "execute_result"
    },
    {
     "data": {
      "image/png": "[encoded data removed]",
      "text/plain": [
       "<Figure size 640x480 with 1 Axes>"
      ]
     },
     "metadata": {},
     "output_type": "display_data"
    }
   ],
   "source": [
    "from mfem.common.sparse_utils import sparsemat_to_scipycsr\n",
    "import matplotlib.pyplot as plt\n",
    "\n",
    "plt.spy(sparsemat_to_scipycsr(A, float).todense())"
   ]
  },
  {
   "cell_type": "code",
   "execution_count": 4,
   "metadata": {},
   "outputs": [
    {
     "name": "stdout",
     "output_type": "stream",
     "text": [
      "   Iteration :   0  ||Br|| = 0.0747812\n",
      "   Iteration :   1  ||Br|| = 0.0588062  \tConv. rate: 0.0588062\n",
      "   Iteration :   2  ||Br|| = 0.0481239  \tConv. rate: 0.818347\n",
      "   Iteration :   3  ||Br|| = 0.0397035  \tConv. rate: 0.825026\n",
      "   Iteration :   4  ||Br|| = 0.0328358  \tConv. rate: 0.827025\n",
      "   Iteration :   5  ||Br|| = 0.0271779  \tConv. rate: 0.827691\n",
      "   Iteration :   6  ||Br|| = 0.0225016  \tConv. rate: 0.827939\n",
      "   Iteration :   7  ||Br|| = 0.0186323  \tConv. rate: 0.828043\n",
      "   Iteration :   8  ||Br|| = 0.0154293  \tConv. rate: 0.828093\n",
      "   Iteration :   9  ||Br|| = 0.0127773  \tConv. rate: 0.82812\n",
      "   Iteration :  10  ||Br|| = 0.0105813  \tConv. rate: 0.828135\n",
      "   Iteration :  11  ||Br|| = 0.00876286 \tConv. rate: 0.828143\n",
      "   Iteration :  12  ||Br|| = 0.00725695 \tConv. rate: 0.828149\n",
      "   Iteration :  13  ||Br|| = 0.00600986 \tConv. rate: 0.828152\n",
      "   Iteration :  14  ||Br|| = 0.00497709 \tConv. rate: 0.828154\n",
      "   Iteration :  15  ||Br|| = 0.0041218  \tConv. rate: 0.828155\n",
      "   Iteration :  16  ||Br|| = 0.0034135  \tConv. rate: 0.828156\n",
      "   Iteration :  17  ||Br|| = 0.00282691 \tConv. rate: 0.828157\n",
      "   Iteration :  18  ||Br|| = 0.00234113 \tConv. rate: 0.828157\n",
      "   Iteration :  19  ||Br|| = 0.00193882 \tConv. rate: 0.828157\n",
      "   Iteration :  20  ||Br|| = 0.00160565 \tConv. rate: 0.828158\n",
      "   Iteration :  21  ||Br|| = 0.00132973 \tConv. rate: 0.828158\n",
      "   Iteration :  22  ||Br|| = 0.00110123 \tConv. rate: 0.828158\n",
      "   Iteration :  23  ||Br|| = 0.00091199 \tConv. rate: 0.828158\n",
      "   Iteration :  24  ||Br|| = 0.000755272\tConv. rate: 0.828158\n",
      "   Iteration :  25  ||Br|| = 0.000625484\tConv. rate: 0.828158\n",
      "   Iteration :  26  ||Br|| = 0.000518   \tConv. rate: 0.828158\n",
      "   Iteration :  27  ||Br|| = 0.000428985\tConv. rate: 0.828158\n",
      "   Iteration :  28  ||Br|| = 0.000355268\tConv. rate: 0.828158\n",
      "   Iteration :  29  ||Br|| = 0.000294218\tConv. rate: 0.828158\n",
      "   Iteration :  30  ||Br|| = 0.000243659\tConv. rate: 0.828158\n",
      "   Iteration :  31  ||Br|| = 0.000201788\tConv. rate: 0.828158\n",
      "   Iteration :  32  ||Br|| = 0.000167112\tConv. rate: 0.828158\n",
      "   Iteration :  33  ||Br|| = 0.000138395\tConv. rate: 0.828158\n",
      "   Iteration :  34  ||Br|| = 0.000114613\tConv. rate: 0.828158\n",
      "   Iteration :  35  ||Br|| = 9.49178e-05\tConv. rate: 0.828158\n",
      "   Iteration :  36  ||Br|| = 7.86069e-05\tConv. rate: 0.828158\n",
      "   Iteration :  37  ||Br|| = 6.50989e-05\tConv. rate: 0.828158\n",
      "   Iteration :  38  ||Br|| = 5.39122e-05\tConv. rate: 0.828158\n",
      "   Iteration :  39  ||Br|| = 4.46478e-05\tConv. rate: 0.828158\n",
      "   Iteration :  40  ||Br|| = 3.69754e-05\tConv. rate: 0.828158\n",
      "   Iteration :  41  ||Br|| = 3.06215e-05\tConv. rate: 0.828158\n",
      "   Iteration :  42  ||Br|| = 2.53594e-05\tConv. rate: 0.828158\n",
      "   Iteration :  43  ||Br|| = 2.10016e-05\tConv. rate: 0.828158\n",
      "   Iteration :  44  ||Br|| = 1.73927e-05\tConv. rate: 0.828158\n",
      "   Iteration :  45  ||Br|| = 1.44039e-05\tConv. rate: 0.828158\n",
      "   Iteration :  46  ||Br|| = 1.19287e-05\tConv. rate: 0.828158\n",
      "   Iteration :  47  ||Br|| = 9.87883e-06\tConv. rate: 0.828158\n",
      "   Iteration :  48  ||Br|| = 8.18123e-06\tConv. rate: 0.828158\n",
      "   Iteration :  49  ||Br|| = 6.77535e-06\tConv. rate: 0.828158\n",
      "   Iteration :  50  ||Br|| = 5.61106e-06\tConv. rate: 0.828158\n",
      "   Iteration :  51  ||Br|| = 4.64684e-06\tConv. rate: 0.828158\n",
      "   Iteration :  52  ||Br|| = 3.84832e-06\tConv. rate: 0.828158\n",
      "   Iteration :  53  ||Br|| = 3.18702e-06\tConv. rate: 0.828158\n",
      "   Iteration :  54  ||Br|| = 2.63935e-06\tConv. rate: 0.828158\n",
      "   Iteration :  55  ||Br|| = 2.1858e-06 \tConv. rate: 0.828158\n",
      "   Iteration :  56  ||Br|| = 1.81019e-06\tConv. rate: 0.828158\n",
      "   Iteration :  57  ||Br|| = 1.49912e-06\tConv. rate: 0.828158\n",
      "   Iteration :  58  ||Br|| = 1.24151e-06\tConv. rate: 0.828158\n",
      "   Iteration :  59  ||Br|| = 1.02817e-06\tConv. rate: 0.828158\n",
      "   Iteration :  60  ||Br|| = 8.51483e-07\tConv. rate: 0.828158\n",
      "   Iteration :  61  ||Br|| = 7.05163e-07\tConv. rate: 0.828158\n",
      "   Iteration :  62  ||Br|| = 5.83986e-07\tConv. rate: 0.828158\n",
      "   Iteration :  63  ||Br|| = 4.83633e-07\tConv. rate: 0.828158\n",
      "   Iteration :  64  ||Br|| = 4.00524e-07\tConv. rate: 0.828158\n",
      "   Iteration :  65  ||Br|| = 3.31697e-07\tConv. rate: 0.828158\n",
      "   Iteration :  66  ||Br|| = 2.74698e-07\tConv. rate: 0.828158\n",
      "   Iteration :  67  ||Br|| = 2.27493e-07\tConv. rate: 0.828158\n",
      "   Iteration :  68  ||Br|| = 1.884e-07  \tConv. rate: 0.828158\n",
      "   Iteration :  69  ||Br|| = 1.56025e-07\tConv. rate: 0.828158\n",
      "   Iteration :  70  ||Br|| = 1.29213e-07\tConv. rate: 0.828158\n",
      "   Iteration :  71  ||Br|| = 1.07009e-07\tConv. rate: 0.828158\n",
      "   Iteration :  72  ||Br|| = 8.86204e-08\tConv. rate: 0.828158\n",
      "   Iteration :  73  ||Br|| = 7.33917e-08\tConv. rate: 0.828158\n",
      "   Iteration :  74  ||Br|| = 6.07799e-08\tConv. rate: 0.828158\n",
      "   Iteration :  75  ||Br|| = 5.03354e-08\tConv. rate: 0.828158\n",
      "   Iteration :  76  ||Br|| = 4.16856e-08\tConv. rate: 0.828158\n",
      "   Iteration :  77  ||Br|| = 3.45223e-08\tConv. rate: 0.828158\n",
      "   Iteration :  78  ||Br|| = 2.85899e-08\tConv. rate: 0.828158\n",
      "   Iteration :  79  ||Br|| = 2.3677e-08 \tConv. rate: 0.828158\n",
      "   Iteration :  80  ||Br|| = 1.96083e-08\tConv. rate: 0.828158\n",
      "   Iteration :  81  ||Br|| = 1.62387e-08\tConv. rate: 0.828158\n",
      "   Iteration :  82  ||Br|| = 1.34482e-08\tConv. rate: 0.828158\n",
      "   Iteration :  83  ||Br|| = 1.11373e-08\tConv. rate: 0.828158\n",
      "   Iteration :  84  ||Br|| = 9.22341e-09\tConv. rate: 0.828158\n",
      "   Iteration :  85  ||Br|| = 7.63844e-09\tConv. rate: 0.828158\n",
      "   Iteration :  86  ||Br|| = 6.32583e-09\tConv. rate: 0.828158\n",
      "   Iteration :  87  ||Br|| = 5.23879e-09\tConv. rate: 0.828158\n",
      "   Iteration :  88  ||Br|| = 4.33854e-09\tConv. rate: 0.828158\n",
      "   Iteration :  89  ||Br|| = 3.593e-09  \tConv. rate: 0.828158\n",
      "   Iteration :  90  ||Br|| = 2.97557e-09\tConv. rate: 0.828158\n",
      "   Iteration :  91  ||Br|| = 2.46424e-09\tConv. rate: 0.828158\n",
      "   Iteration :  92  ||Br|| = 2.04078e-09\tConv. rate: 0.828158\n",
      "   Iteration :  93  ||Br|| = 1.69009e-09\tConv. rate: 0.828158\n",
      "   Iteration :  94  ||Br|| = 1.39966e-09\tConv. rate: 0.828158\n",
      "   Iteration :  95  ||Br|| = 1.15914e-09\tConv. rate: 0.828158\n",
      "   Iteration :  96  ||Br|| = 9.59951e-10\tConv. rate: 0.828158\n",
      "   Iteration :  97  ||Br|| = 7.94991e-10\tConv. rate: 0.828158\n",
      "   Iteration :  98  ||Br|| = 6.58378e-10\tConv. rate: 0.828158\n",
      "   Iteration :  99  ||Br|| = 5.45241e-10\tConv. rate: 0.828158\n",
      "   Iteration : 100  ||Br|| = 4.51546e-10\tConv. rate: 0.828158\n",
      "   Iteration : 101  ||Br|| = 3.73951e-10\tConv. rate: 0.828158\n",
      "   Iteration : 102  ||Br|| = 3.09691e-10\tConv. rate: 0.828158\n",
      "   Iteration : 103  ||Br|| = 2.56473e-10\tConv. rate: 0.828158\n",
      "   Iteration : 104  ||Br|| = 2.124e-10  \tConv. rate: 0.828158\n",
      "   Iteration : 105  ||Br|| = 1.75901e-10\tConv. rate: 0.828158\n",
      "   Iteration : 106  ||Br|| = 1.45673e-10\tConv. rate: 0.828158\n",
      "   Iteration : 107  ||Br|| = 1.20641e-10\tConv. rate: 0.828158\n",
      "   Iteration : 108  ||Br|| = 9.99095e-11\tConv. rate: 0.828158\n",
      "   Iteration : 109  ||Br|| = 8.27408e-11\tConv. rate: 0.828158\n",
      "   Iteration : 110  ||Br|| = 6.85225e-11\tConv. rate: 0.828158\n",
      "   Iteration : 111  ||Br|| = 5.67474e-11\tConv. rate: 0.828158\n",
      "   Iteration : 112  ||Br|| = 4.69958e-11\tConv. rate: 0.828158\n",
      "   Iteration : 113  ||Br|| = 3.892e-11  \tConv. rate: 0.828158\n",
      "   Iteration : 114  ||Br|| = 3.22319e-11\tConv. rate: 0.828158\n",
      "   Iteration : 115  ||Br|| = 2.66931e-11\tConv. rate: 0.828157\n",
      "   Iteration : 116  ||Br|| = 2.21061e-11\tConv. rate: 0.828158\n",
      "   Iteration : 117  ||Br|| = 1.83073e-11\tConv. rate: 0.828159\n",
      "   Iteration : 118  ||Br|| = 1.51614e-11\tConv. rate: 0.828158\n",
      "   Iteration : 119  ||Br|| = 1.2556e-11 \tConv. rate: 0.828158\n",
      "   Iteration : 120  ||Br|| = 1.03984e-11\tConv. rate: 0.828158\n",
      "   Iteration : 121  ||Br|| = 8.61147e-12\tConv. rate: 0.828157\n",
      "   Iteration : 122  ||Br|| = 7.13164e-12\tConv. rate: 0.828155\n"
     ]
    }
   ],
   "source": [
    "Linv = mfem.GSSmoother(A)\n",
    "GS = mfem.SLISolver()\n",
    "GS.SetPreconditioner(Linv)\n",
    "GS.SetOperator(A)\n",
    "GS.SetRelTol(1e-10)\n",
    "GS.SetMaxIter(1000)\n",
    "GS.SetPrintLevel(1)\n",
    "U.Assign(0.0)\n",
    "GS.Mult(F,U)"
   ]
  },
  {
   "cell_type": "markdown",
   "metadata": {},
   "source": [
    "We can see that Gauss-Seidel is very slow to converge.\n",
    "Better methods (like conjugate gradient) are much faster."
   ]
  },
  {
   "cell_type": "code",
   "execution_count": 5,
   "metadata": {},
   "outputs": [
    {
     "name": "stdout",
     "output_type": "stream",
     "text": [
      "   Iteration : 0    (B r, r) = 0.00663539\n",
      "   Iteration : 1    (B r, r) = 0.00371547\n",
      "   Iteration : 2    (B r, r) = 0.000455545\n",
      "   Iteration : 3    (B r, r) = 1.36394e-05\n",
      "   Iteration : 4    (B r, r) = 4.13047e-07\n",
      "   Iteration : 5    (B r, r) = 2.24933e-08\n",
      "   Iteration : 6    (B r, r) = 6.42285e-10\n",
      "   Iteration : 7    (B r, r) = 3.89967e-11\n",
      "   Iteration : 8    (B r, r) = 5.72023e-12\n",
      "   Iteration : 9    (B r, r) = 1.02049e-13\n",
      "   Iteration : 10   (B r, r) = 3.54358e-16\n",
      "Average reduction factor = 0.21696\n"
     ]
    }
   ],
   "source": [
    "GS = mfem.GSSmoother(A)\n",
    "U.Assign(0.0)\n",
    "mfem.PCG(A, GS, F, U, 1, 200, 1e-12, 0.0)"
   ]
  },
  {
   "cell_type": "code",
   "execution_count": 6,
   "metadata": {},
   "outputs": [
    {
     "data": {
      "application/vnd.jupyter.widget-view+json": {
       "model_id": "a7e709e254cf4bcf89ce0594e254a77d",
       "version_major": 2,
       "version_minor": 0
      },
      "text/plain": [
       "glvis(data_str='MFEM mesh v1.0\\n\\n#\\n# MFEM Geometry Types (see mesh/geom.hpp):\\n#\\n# POINT       = 0\\n# SEGME…"
      ]
     },
     "execution_count": 6,
     "metadata": {},
     "output_type": "execute_result"
    }
   ],
   "source": [
    "a.RecoverFEMSolution(U, f, u)\n",
    "glvis((mesh, u))"
   ]
  },
  {
   "cell_type": "code",
   "execution_count": 7,
   "metadata": {},
   "outputs": [
    {
     "name": "stdout",
     "output_type": "stream",
     "text": [
      "   Iteration : 0    (B r, r) = 0.00159949\n",
      "   Iteration : 1    (B r, r) = 0.00111617\n",
      "   Iteration : 2    (B r, r) = 0.000508199\n",
      "   Iteration : 3    (B r, r) = 0.000126007\n",
      "   Iteration : 4    (B r, r) = 1.41445e-05\n",
      "   Iteration : 5    (B r, r) = 1.1819e-06\n",
      "   Iteration : 6    (B r, r) = 6.26271e-07\n",
      "   Iteration : 7    (B r, r) = 1.23413e-07\n",
      "   Iteration : 8    (B r, r) = 5.33027e-08\n",
      "   Iteration : 9    (B r, r) = 1.50953e-08\n",
      "   Iteration : 10   (B r, r) = 2.59336e-09\n",
      "   Iteration : 11   (B r, r) = 4.51695e-10\n",
      "   Iteration : 12   (B r, r) = 1.28208e-10\n",
      "   Iteration : 13   (B r, r) = 1.50445e-11\n",
      "   Iteration : 14   (B r, r) = 2.18557e-12\n",
      "   Iteration : 15   (B r, r) = 3.52072e-13\n",
      "   Iteration : 16   (B r, r) = 1.50548e-13\n",
      "   Iteration : 17   (B r, r) = 5.92131e-14\n",
      "   Iteration : 18   (B r, r) = 1.15206e-14\n",
      "   Iteration : 19   (B r, r) = 1.66444e-15\n",
      "   Iteration : 20   (B r, r) = 4.77945e-16\n",
      "Average reduction factor = 0.486278\n"
     ]
    },
    {
     "data": {
      "application/vnd.jupyter.widget-view+json": {
       "model_id": "d14824737cbb4eb98fd21d1fa17beb27",
       "version_major": 2,
       "version_minor": 0
      },
      "text/plain": [
       "glvis(data_str='MFEM mesh v1.0\\n\\n#\\n# MFEM Geometry Types (see mesh/geom.hpp):\\n#\\n# POINT       = 0\\n# SEGME…"
      ]
     },
     "execution_count": 7,
     "metadata": {},
     "output_type": "execute_result"
    }
   ],
   "source": [
    "from urllib.request import urlopen\n",
    "def make_tmp_mesh_from_url(url):\n",
    "    mesh_data = urlopen(url).read()\n",
    "    mesh_f = open(\"tmp.mesh\", \"w\")\n",
    "    mesh_f.write(mesh_data.decode())\n",
    "    mesh_f.close()\n",
    "\n",
    "# make_tmp_mesh_from_url(\"https://github.com/pazner/mth-651/raw/main/data/meshes/dolphin.mesh\")\n",
    "make_tmp_mesh_from_url(\"https://github.com/pazner/mth-651/raw/main/data/meshes/square-disc.mesh\")\n",
    "\n",
    "mesh = mfem.Mesh(\"tmp.mesh\")\n",
    "order_k = 2\n",
    "fe_collection = mfem.H1_FECollection(order_k, mesh.Dimension())\n",
    "fe_space = mfem.FiniteElementSpace(mesh, fe_collection)\n",
    "u = mfem.GridFunction(fe_space)\n",
    "u.Assign(0.0)\n",
    "\n",
    "one = mfem.ConstantCoefficient(1.0)\n",
    "f = mfem.LinearForm(fe_space)\n",
    "f.AddDomainIntegrator(mfem.DomainLFIntegrator(one))\n",
    "f.Assemble()\n",
    "\n",
    "boundary_dofs = mfem.intArray()\n",
    "fe_space.GetBoundaryTrueDofs(boundary_dofs)\n",
    "\n",
    "a = mfem.BilinearForm(fe_space)\n",
    "a.AddDomainIntegrator(mfem.DiffusionIntegrator())\n",
    "a.Assemble()\n",
    "a.Finalize()\n",
    "\n",
    "A = mfem.SparseMatrix()\n",
    "F = mfem.Vector()\n",
    "U = mfem.Vector()\n",
    "a.FormLinearSystem(boundary_dofs, u, f, A, U, F)\n",
    "\n",
    "GS = mfem.GSSmoother(A)\n",
    "U.Assign(0.0)\n",
    "mfem.PCG(A, GS, F, U, 1, 200, 1e-12, 0.0)\n",
    "\n",
    "a.RecoverFEMSolution(U, f, u)\n",
    "glvis((mesh, u))"
   ]
  }
 ],
 "metadata": {
  "colab": {
   "provenance": []
  },
  "kernelspec": {
   "display_name": "Python 3.10.6 ('venv': venv)",
   "language": "python",
   "name": "python3"
  },
  "language_info": {
   "codemirror_mode": {
    "name": "ipython",
    "version": 3
   },
   "file_extension": ".py",
   "mimetype": "text/x-python",
   "name": "python",
   "nbconvert_exporter": "python",
   "pygments_lexer": "ipython3",
   "version": "3.10.8"
  },
  "title": "Lecture 11",
  "vscode": {
   "interpreter": {
    "hash": "bd788376193720eadecf9d964712d25ddb8942c37aec80724648cfa1bb12b2b1"
   }
  }
 },
 "nbformat": 4,
 "nbformat_minor": 1
}

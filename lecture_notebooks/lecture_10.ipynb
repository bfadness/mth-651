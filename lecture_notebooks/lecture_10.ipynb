{
 "cells": [
  {
   "cell_type": "markdown",
   "metadata": {},
   "source": [
    "# MTH 651: Advanced Numerical Analysis"
   ]
  },
  {
   "cell_type": "markdown",
   "metadata": {},
   "source": [
    "## Lecture 10"
   ]
  },
  {
   "cell_type": "markdown",
   "metadata": {
    "id": "d5sMJY4v8Tol"
   },
   "source": [
    "### Topics\n",
    "\n",
    "* Discrete variational problems and SPD matrices"
   ]
  },
  {
   "cell_type": "markdown",
   "metadata": {},
   "source": [
    "#### Variational Formulation for $L^2$ Projection\n",
    "\n",
    "We saw how to use MFEM to compute interpolants to approximate functions.\n",
    "\n",
    "Let's look at another way of approximating an arbitrary function.\n",
    "\n",
    "Let $f \\in L^2(\\Omega)$.\n",
    "\n",
    "We want to find $u_h \\in V_h$ such that\n",
    "$$\n",
    "    \\| u_h - f \\|_{L^2(\\Omega)} = \\min_{v \\in V_h} \\| v - f \\|_{L^2(\\Omega)}.\n",
    "$$\n",
    "\n",
    "How can we use the ideas of **variational formulations** and **Galerkin orthogonality** to find such a $u_h$?"
   ]
  },
  {
   "cell_type": "markdown",
   "metadata": {},
   "source": [
    "First of all, why did we write $\\min$ instead of $\\inf$?\n",
    "\n",
    "In other words, why do we know that a minimizer exists?"
   ]
  },
  {
   "cell_type": "markdown",
   "metadata": {},
   "source": [
    "Define the bilinear form $m(\\cdot, \\cdot)$ by\n",
    "$$\n",
    "    m(u, v) = (u, v)\n",
    "$$\n",
    "i.e. $m(\\cdot, \\cdot)$ is just the standard $L^2$ inner product.\n",
    "\n",
    "Let $f \\in L^2(\\Omega)$ be given.\n",
    "\n",
    "> Find $u_h \\in V_h$ such that\n",
    "> $$ m(u_h, v) = (f, v) $$\n",
    "> for all $v \\in V_h$.\n",
    "\n",
    "> **_PROPOSITION:_** (Galerkin orthogonality). The error $u_h - f$ is orthogonal (in the $L^2$ inner product) to all of $V_h$\n",
    "\n",
    "> _Proof._ \n",
    "> $$\n",
    ">   (u_h - f, v) = (u_h, v) - (f, v) = 0.\n",
    "> $$\n",
    "\n",
    "> **_PROPOSITION:_** $\\| u_h - f \\|_{L^2(\\Omega)} = \\min_{v \\in V_h} \\| v - f \\|_{L^2(\\Omega)}$.\n",
    "\n",
    "> _Proof._ This is a consequence of Galerkin orthogonality."
   ]
  },
  {
   "cell_type": "markdown",
   "metadata": {},
   "source": [
    "We should notice that all of the above results are **completely analogous** to those that we have shown previously for the variational form of the Poisson problem.\n",
    "(In fact, we proved the more abstract version for any coercive and continuous bilinear form — the form $m(\\cdot, \\cdot)$ is trivially coercive and continuous with constants 1)."
   ]
  },
  {
   "cell_type": "markdown",
   "metadata": {},
   "source": [
    "The bilinear form $m(\\cdot, \\cdot)$ induces an **associated system matrix**.\n",
    "\n",
    "Let $\\phi_i$ denote the global basis functions.\n",
    "\n",
    "Define the **mass matrix**\n",
    "\n",
    "$$\n",
    "    M_{ij} = m(\\phi_i, \\phi_j)\n",
    "$$\n",
    "\n",
    "Define the vector $F$ by\n",
    "\n",
    "$$\n",
    "    F_i = (f, v_i)\n",
    "$$\n",
    "\n",
    "Then, the variational problem is equation to the following linear system of equations\n",
    "\n",
    "$$\n",
    "    M U = F\n",
    "$$\n",
    "\n",
    "where the vector $U$ represents the coefficients of $u_h$ expanded in the basis $\\phi_i$."
   ]
  },
  {
   "cell_type": "code",
   "execution_count": 2,
   "metadata": {},
   "outputs": [],
   "source": [
    "# Import MFEM and GLVis, define a coefficient...\n",
    "\n",
    "import mfem.ser as mfem\n",
    "from glvis import glvis\n",
    "\n",
    "from math import cos, exp, sin\n",
    "\n",
    "class f(mfem.PyCoefficient):\n",
    "    def EvalValue(self, xvec):\n",
    "        x = xvec[0]\n",
    "        y = xvec[1]\n",
    "        return exp(0.1*sin(5.1*x - 6.2*y) + 0.3*cos(4.3*x +3.4*y))"
   ]
  },
  {
   "cell_type": "code",
   "execution_count": 5,
   "metadata": {},
   "outputs": [],
   "source": [
    "# Create the mesh and finite element space\n",
    "mesh = mfem.Mesh(10, 10, \"TRIANGLE\")\n",
    "order_k = 2\n",
    "fe_collection = mfem.H1_FECollection(order_k, mesh.Dimension())\n",
    "fe_space = mfem.FiniteElementSpace(mesh, fe_collection)\n",
    "\n",
    "# 5. Define the solution x as a finite element grid function in fespace. Set\n",
    "#    the initial guess to zero, which also sets the boundary conditions.\n",
    "u = mfem.GridFunction(fe_space)\n",
    "\n",
    "# Create the right-hand side vector using the linear form F : v -> (f, v)\n",
    "# This is called a \"domain linear form integrator\", or DomainLFIntegrator\n",
    "F = mfem.LinearForm(fe_space)\n",
    "F.AddDomainIntegrator(mfem.DomainLFIntegrator(f()))\n",
    "# F.Assemble() tells MFEM to actually compute the entries of the vector F\n",
    "F.Assemble()\n",
    "\n",
    "# Set up the bilinear form m(.,.). The L2 inner product is called a\n",
    "# \"mass integrator\"\n",
    "m = mfem.BilinearForm(fe_space)\n",
    "m.AddDomainIntegrator(mfem.MassIntegrator())\n",
    "m.Assemble()\n",
    "m.Finalize()\n",
    "\n",
    "# Get the matrix associated with the bilinear form\n",
    "M = m.SpMat()\n"
   ]
  },
  {
   "cell_type": "code",
   "execution_count": 4,
   "metadata": {},
   "outputs": [
    {
     "data": {
      "text/plain": [
       "<matplotlib.image.AxesImage at 0x13d1830a0>"
      ]
     },
     "execution_count": 4,
     "metadata": {},
     "output_type": "execute_result"
    },
    {
     "data": {
      "image/png": "[encoded data removed]",
      "text/plain": [
       "<Figure size 640x480 with 1 Axes>"
      ]
     },
     "metadata": {},
     "output_type": "display_data"
    }
   ],
   "source": [
    "from mfem.common.sparse_utils import sparsemat_to_scipycsr\n",
    "import matplotlib.pyplot as plt\n",
    "\n",
    "plt.spy(sparsemat_to_scipycsr(M, float).todense())"
   ]
  },
  {
   "cell_type": "code",
   "execution_count": 5,
   "metadata": {},
   "outputs": [
    {
     "name": "stdout",
     "output_type": "stream",
     "text": [
      "   Iteration :   0  (B r, r) = 0.815589\n",
      "   Iteration :   1  (B r, r) = 0.00608633\n",
      "   Iteration :   2  (B r, r) = 9.05023e-05\n",
      "   Iteration :   3  (B r, r) = 1.09097e-06\n",
      "   Iteration :   4  (B r, r) = 2.09921e-08\n",
      "   Iteration :   5  (B r, r) = 3.86382e-10\n",
      "   Iteration :   6  (B r, r) = 4.0508e-12\n",
      "   Iteration :   7  (B r, r) = 2.82838e-14\n",
      "Average reduction factor = 0.109289\n"
     ]
    }
   ],
   "source": [
    "GS = mfem.GSSmoother(M)\n",
    "u.Assign(0.0)\n",
    "mfem.PCG(M, GS, F, u, 1, 200, 1e-12, 0.0)"
   ]
  },
  {
   "cell_type": "code",
   "execution_count": 6,
   "metadata": {},
   "outputs": [
    {
     "data": {
      "application/vnd.jupyter.widget-view+json": {
       "model_id": "05bf22cabe4a493aa90bea556f892c11",
       "version_major": 2,
       "version_minor": 0
      },
      "text/plain": [
       "glvis(data_str='MFEM mesh v1.0\\n\\n#\\n# MFEM Geometry Types (see mesh/geom.hpp):\\n#\\n# POINT       = 0\\n# SEGME…"
      ]
     },
     "execution_count": 6,
     "metadata": {},
     "output_type": "execute_result"
    }
   ],
   "source": [
    "glvis((mesh, u))"
   ]
  },
  {
   "cell_type": "markdown",
   "metadata": {},
   "source": [
    "### Properties of the mass matrix\n",
    "\n",
    "First, $M$ is symmetric. (Why?)\n",
    "\n",
    "> **_DEFINITION:_** A symmetric matrix $A$ is called **positive definite** if\n",
    ">\n",
    "> * $v^T A v \\geq 0$ for all $v$\n",
    "> * $v^T A v = 0$ only when $v = 0$\n",
    ">\n",
    "> If only the first condition holds, the matrix is called **positive semidefinite**\n",
    "\n",
    "> **_PROPOSITION:_** $M$ is positive definite. (Why)?\n",
    "\n",
    "> **_PROPOSITION:_** A symmetric matrix $A$ is positive definite iff all of its eigenvalues are positive.\n",
    "\n",
    "First, we should recall that a symmetric matrix (Hermetian, even) has only real eigenvalues.\n",
    "\n",
    "To see this, suppose $A^* = A$, and let $A v = \\lambda v$.\n",
    "Then, $v^* A v = \\lambda v^* v = \\lambda \\| v \\|^2$, and\n",
    "$$\n",
    "    \\lambda^* \\| v \\|^2 = (v^* A v)^* = v^* A^* v = v^* A v = \\lambda \\| v \\|^2,\n",
    "$$\n",
    "so $\\lambda = \\lambda^*$ and $\\lambda \\in \\mathbb{R}$.\n",
    "\n",
    "Now, suppose $A$ is positive definite.\n",
    "Let $v$ be an eigenvector.\n",
    "Then,\n",
    "$$\n",
    "    0 < v^T A v = \\lambda \\| v \\|^2,\n",
    "$$\n",
    "so $\\lambda > 0$.\n",
    "\n",
    "Now, suppose that $A$ has only positive eigenvalues.\n",
    "Then, by the spectral theorem,\n",
    "$$\n",
    "    A = Q^T \\Lambda Q,\n",
    "$$\n",
    "where $Q$ is orthogonal (i.e. $Q^T = Q^{-1}$), and $\\Lambda = \\operatorname{diag}(\\lambda_1, \\lambda_2, \\ldots, \\lambda_n)$.\n",
    "Then, for any $v$, let $w = Q v$, i.e. $v = Q^{-1} w$.\n",
    "So,\n",
    "$$\n",
    "    v^T A v = (Q^{-1} w)^T A Q^{-1} w = w^T Q^{-T} Q^T \\Lambda Q Q^{-1} w = w^T \\Lambda w > 0\n",
    "$$"
   ]
  },
  {
   "cell_type": "markdown",
   "metadata": {},
   "source": [
    "The fact that $M$ is SPD (symmetric and positive definite) makes the linear system of equations\n",
    "$$\n",
    "    M U = F\n",
    "$$\n",
    "much easier to solve.\n",
    "Such systems are more amenable to solution by numerical methods, both direct and iterative.\n",
    "In particular,\n",
    "\n",
    "* Direct: can use Cholesky instead of LU\n",
    "* Iterative:\n",
    "    * Gauss-Seidel\n",
    "    * (Better:) (preconditioned) conjugate gradient"
   ]
  },
  {
   "cell_type": "markdown",
   "metadata": {},
   "source": [
    "#### Gauss-Seidel method\n",
    "\n",
    "Let $A$ be a given matrix.\n",
    "We want to solve\n",
    "$$\n",
    "    A x = b\n",
    "$$\n",
    "for some right-hand side $b$.\n",
    "Suppose we cannot invert $A$ (e.g. because it is too large)\n",
    "\n",
    "Decompose $A = L + U$, where\n",
    "\n",
    "* $L$ is lower-triangular\n",
    "* $U$ is **strictly** upper-triangular (zeros on the diagonal)\n",
    "\n",
    "The main idea is to approximate $A$ by its lower-triangular part (we could equally well use the upper-triangular part --- in our case, the matrix is symmetric, so it doesn't matter).\n",
    "\n",
    "We start with an initial guess $x^{(0)}$.\n",
    "This guess is not in general exact, so we have some **residual**\n",
    "$$\n",
    "    r^{(0)} = b - A x^{(0)}\n",
    "$$\n",
    "\n",
    "**If** we could invert $A$, and solve for the **error**\n",
    "$$\n",
    "    e^{(0)} = A^{-1} r^{(0)}\n",
    "$$\n",
    "then we can check\n",
    "$$\n",
    "    x = x^{(0)} + e^{(0)}\n",
    "$$\n",
    "since\n",
    "$$\n",
    "    A (x^{(0)} + e^{(0)}) = A x^{(0)} + r^{(0)} = b.\n",
    "$$\n",
    "\n",
    "But, we can approximate $e^{(0)}$ using the lower-triangular part $L$, and then iterate, i.e.\n",
    "$$\n",
    "    x^{(1)} = x^{(0)} + L^{-1} r^{(0)}\n",
    "$$\n",
    "We can see that this iteration results in\n",
    "$$\n",
    "    x^{(1)} = L^{-1} ( b - U x^{(0)} ).\n",
    "$$\n",
    "Another way of obtaining the same iteration is to write\n",
    "$$\n",
    "    Ax = (L + U) x = b\n",
    "$$\n",
    "and split the left-hand side to get\n",
    "$$\n",
    "    Lx = b - Ux,\n",
    "$$\n",
    "and use the \"previous\" guess for the right-hand side.\n",
    "\n",
    "In general, the iteration is\n",
    "$$\n",
    "    x^{(i+1)} = L^{-1} ( b - Ux^{(i)})\n",
    "$$"
   ]
  },
  {
   "cell_type": "markdown",
   "metadata": {},
   "source": [
    "This can be viewed as a **fixed-point iteration**, let $\\Phi$ be the iteration operator, i.e.\n",
    "$$\n",
    "    \\Phi(v) = L^{-1}(b - Ux).\n",
    "$$\n",
    "It is easy to see that a **fixed point** of $\\Phi$ is a solution to $A x = b$.\n",
    "\n",
    "The iteration has a unique fixed point if $\\Phi$ is a contraction mapping, i.e. if the iteration matrix $\\| -L^{-1} U \\| < 1$ in some (any!) norm.\n",
    "\n",
    "(Note that $-L^{-1} U = -L^{-1} (A - L) = I - L^{-1} A$).\n",
    "\n",
    "Another way of seeing this is to consider the error at step $i+1$\n",
    "\n",
    "$$\n",
    "\\begin{aligned}\n",
    "    e^{(i+1)} &= x^{(i+1)} - x \\\\\n",
    "        &= L^{-1}(b - Ux^{(i)}) - x \\\\\n",
    "        &= L^{-1}(b - (A - L)x^{(i)}) - x \\\\\n",
    "        &= L^{-1}b - L^{-1} A x^{(i)} + x^{(i)} - x \\\\\n",
    "        &= L^{-1} A x - L^{-1} A x^{(i)} + x^{(i)} - x \\\\\n",
    "        &= (I - L^{-1} A)(x^{(i)} - x) \\\\\n",
    "        &= (I - L^{-1} A)(e^{(i)}) \\\\\n",
    "\\end{aligned}\n",
    "$$\n",
    "\n",
    "and so\n",
    "\n",
    "$$\n",
    "    e^{(i+1)} = (I - L^{-1} A)^{i+1} e^{(0)}\n",
    "$$\n",
    "\n",
    "hence\n",
    "\n",
    "$$\n",
    "    \\| e^{(i+1)} \\| \\leq \\| I - L^{-1} A \\|^{i+1}  \\| e^{(0)} \\|\n",
    "$$\n",
    "in **any** norm"
   ]
  },
  {
   "cell_type": "markdown",
   "metadata": {},
   "source": [
    "Now, we want to show that $I - L^{-1} A$ has norm less than one.\n",
    "\n",
    "First, we note that if $A$ is SPD, then $A$ induces a norm\n",
    "$$\n",
    "    \\| x \\|_A^2 = x^T A x.\n",
    "$$\n",
    "\n",
    "Then, consider the norm of $\\| I - L^{-1} A \\|_A$.\n",
    "The statement $\\| I - L^{-1} A \\|_A < 1$ is equivalent to\n",
    "$$\n",
    "    ((I - L^{-1}A)x)^T A ((I - L^{-1}A) x) < x^T A x\n",
    "$$\n",
    "for all $x$, or\n",
    "$$\n",
    "    x^T A x - ((I - L^{-1}A)x)^T A ((I - L^{-1}A) x) > 0.\n",
    "$$\n",
    "Expanding\n",
    "$$\n",
    "    \\begin{aligned}\n",
    "        x^T A x - (x^T - x^T A L^{-T}) A (x - L^{-1}A x) \n",
    "            &= x^T A x - x^T (I - A L^{-T}) A (I - L^{-1}A ) x \\\\\n",
    "            &= x^T A x - x^T (A - A L^{-T} A) (I - L^{-1}A ) x \\\\\n",
    "            &= x^T A x - x^T (A - A L^{-T} A - A L^{-1}A + A L^{-T} A L^{-1}A ) x \\\\\n",
    "            &= x^T (A L^{-T} A + A L^{-1}A - A L^{-T} A L^{-1}A ) x \\\\\n",
    "            &= x^T A^T (L^{-T} + L^{-1} - L^{-T} A L^{-1} ) A x \\\\\n",
    "            &= x^T A^T L^{-T} (L + L^T - A ) L^{-1} A x\n",
    "    \\end{aligned}\n",
    "$$\n",
    "If $L + L^T - A$ is SPD, then the inequality holds.\n",
    "\n",
    "Note that $L + L^T - A$ is the diagonal of $A$, and if $A$ is SPD, then it's diagonal must also be SPD.\n",
    "\n",
    "So, the inequality holds, and we conclude that Gauss-Seidel converges when applied to **any** SPD matrix."
   ]
  },
  {
   "cell_type": "markdown",
   "metadata": {},
   "source": [
    "In MFEM, this class of fixed-point iteration solvers are called \"simple linear iterations\" or \"stationary linear iterations\" (SLI).\n",
    "\n",
    "The general form is\n",
    "\n",
    "$$\n",
    "    x^{(i+1)} = x^{(i)} + B (b - Ax^{(i)}),\n",
    "$$\n",
    "\n",
    "so for Gauss-Seidel this is given by $B = L^{-1}$."
   ]
  },
  {
   "cell_type": "code",
   "execution_count": 11,
   "metadata": {},
   "outputs": [
    {
     "name": "stdout",
     "output_type": "stream",
     "text": [
      "   Iteration :   0  ||Br|| = 16.4706\n",
      "   Iteration :   1  ||Br|| = 4.17504    \tConv. rate: 4.17504\n",
      "   Iteration :   2  ||Br|| = 0.972993   \tConv. rate: 0.23305\n",
      "   Iteration :   3  ||Br|| = 0.250039   \tConv. rate: 0.256979\n",
      "   Iteration :   4  ||Br|| = 0.0715647  \tConv. rate: 0.286214\n",
      "   Iteration :   5  ||Br|| = 0.0223152  \tConv. rate: 0.311819\n",
      "   Iteration :   6  ||Br|| = 0.00739563 \tConv. rate: 0.331417\n",
      "   Iteration :   7  ||Br|| = 0.00255459 \tConv. rate: 0.345418\n",
      "   Iteration :   8  ||Br|| = 0.000907271\tConv. rate: 0.355154\n",
      "   Iteration :   9  ||Br|| = 0.000328322\tConv. rate: 0.361878\n",
      "   Iteration :  10  ||Br|| = 0.000120338\tConv. rate: 0.366523\n",
      "   Iteration :  11  ||Br|| = 4.44933e-05\tConv. rate: 0.369738\n",
      "   Iteration :  12  ||Br|| = 1.65503e-05\tConv. rate: 0.371973\n",
      "   Iteration :  13  ||Br|| = 6.18221e-06\tConv. rate: 0.37354\n",
      "   Iteration :  14  ||Br|| = 2.31621e-06\tConv. rate: 0.374657\n",
      "   Iteration :  15  ||Br|| = 8.69665e-07\tConv. rate: 0.375469\n",
      "   Iteration :  16  ||Br|| = 3.27063e-07\tConv. rate: 0.37608\n",
      "   Iteration :  17  ||Br|| = 1.23158e-07\tConv. rate: 0.376557\n",
      "   Iteration :  18  ||Br|| = 4.64239e-08\tConv. rate: 0.376946\n",
      "   Iteration :  19  ||Br|| = 1.75147e-08\tConv. rate: 0.377279\n",
      "   Iteration :  20  ||Br|| = 6.61315e-09\tConv. rate: 0.377576\n",
      "   Iteration :  21  ||Br|| = 2.49879e-09\tConv. rate: 0.377852\n",
      "   Iteration :  22  ||Br|| = 9.44835e-10\tConv. rate: 0.378117\n"
     ]
    }
   ],
   "source": [
    "Linv = mfem.GSSmoother(M)\n",
    "GS = mfem.SLISolver()\n",
    "GS.SetPreconditioner(Linv)\n",
    "GS.SetOperator(M)\n",
    "GS.SetRelTol(1e-10)\n",
    "GS.SetPrintLevel(1)\n",
    "GS.SetMaxIter(100)\n",
    "u.Assign(0.0)\n",
    "GS.Mult(F, u)"
   ]
  }
 ],
 "metadata": {
  "colab": {
   "provenance": []
  },
  "kernelspec": {
   "display_name": "Python 3.10.6 ('venv': venv)",
   "language": "python",
   "name": "python3"
  },
  "language_info": {
   "codemirror_mode": {
    "name": "ipython",
    "version": 3
   },
   "file_extension": ".py",
   "mimetype": "text/x-python",
   "name": "python",
   "nbconvert_exporter": "python",
   "pygments_lexer": "ipython3",
   "version": "3.10.8"
  },
  "title": "Lecture 10",
  "vscode": {
   "interpreter": {
    "hash": "bd788376193720eadecf9d964712d25ddb8942c37aec80724648cfa1bb12b2b1"
   }
  }
 },
 "nbformat": 4,
 "nbformat_minor": 1
}

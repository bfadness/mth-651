{
 "cells": [
  {
   "cell_type": "markdown",
   "metadata": {},
   "source": [
    "# MTH 651: Advanced Numerical Analysis"
   ]
  },
  {
   "cell_type": "markdown",
   "metadata": {},
   "source": [
    "## Lecture 10"
   ]
  },
  {
   "cell_type": "markdown",
   "metadata": {
    "id": "d5sMJY4v8Tol"
   },
   "source": [
    "### Topics\n",
    "\n",
    "* Discrete variational problems and SPD matrices"
   ]
  },
  {
   "cell_type": "markdown",
   "metadata": {},
   "source": [
    "#### Variational Formulation for $L^2$ Projection\n",
    "\n",
    "We saw how to use MFEM to compute interpolants to approximate functions.\n",
    "\n",
    "Let's look at another way of approximating an arbitrary function.\n",
    "\n",
    "Let $f \\in L^2(\\Omega)$.\n",
    "\n",
    "We want to find $u_h \\in V_h$ such that\n",
    "$$\n",
    "    \\| u_h - f \\|_{L^2(\\Omega)} = \\min_{v \\in V_h} \\| v - f \\|_{L^2(\\Omega)}.\n",
    "$$\n",
    "\n",
    "How can we use the ideas of **variational formulations** and **Galerkin orthogonality** to find such a $u_h$?"
   ]
  },
  {
   "cell_type": "markdown",
   "metadata": {},
   "source": [
    "First of all, why did we write $\\min$ instead of $\\inf$?\n",
    "\n",
    "In other words, why do we know that a minimizer exists?"
   ]
  },
  {
   "cell_type": "markdown",
   "metadata": {},
   "source": [
    "Define the bilinear form $m(\\cdot, \\cdot)$ by\n",
    "$$\n",
    "    m(u, v) = (u, v)\n",
    "$$\n",
    "i.e. $m(\\cdot, \\cdot)$ is just the standard $L^2$ inner product.\n",
    "\n",
    "Let $f \\in L^2(\\Omega)$ be given.\n",
    "\n",
    "> Find $u_h \\in V_h$ such that\n",
    "> $$ m(u_h, v) = (f, v) $$\n",
    "> for all $v \\in V_h$.\n",
    "\n",
    "> **_PROPOSITION:_** (Galerkin orthogonality). The error $u_h - f$ is orthogonal (in the $L^2$ inner product) to all of $V_h$\n",
    "\n",
    "> _Proof._ \n",
    "> $$\n",
    ">   (u_h - f, v) = (u_h, v) - (f, v) = 0.\n",
    "> $$\n",
    "\n",
    "> **_PROPOSITION:_** $\\| u_h - f \\|_{L^2(\\Omega)} = \\min_{v \\in V_h} \\| v - f \\|_{L^2(\\Omega)}$.\n",
    "\n",
    "> _Proof._ This is a consequence of Galerkin orthogonality."
   ]
  },
  {
   "cell_type": "markdown",
   "metadata": {},
   "source": [
    "We should notice that all of the above results are **completely analogous** to those that we have shown previously for the variational form of the Poisson problem.\n",
    "(In fact, we proved the more abstract version for any coercive and continuous bilinear form — the form $m(\\cdot, \\cdot)$ is trivially coercive and continuous with constants 1)."
   ]
  },
  {
   "cell_type": "markdown",
   "metadata": {},
   "source": [
    "The bilinear form $m(\\cdot, \\cdot)$ induces an **associated system matrix**.\n",
    "\n",
    "Let $\\phi_i$ denote the global basis functions.\n",
    "\n",
    "Define the **mass matrix**\n",
    "\n",
    "$$\n",
    "    M_{ij} = m(\\phi_i, \\phi_j)\n",
    "$$\n",
    "\n",
    "Define the vector $F$ by\n",
    "\n",
    "$$\n",
    "    F_i = (f, v_i)\n",
    "$$\n",
    "\n",
    "Then, the variational problem is equation to the following linear system of equations\n",
    "\n",
    "$$\n",
    "    M U = F\n",
    "$$\n",
    "\n",
    "where the vector $U$ represents the coefficients of $u_h$ expanded in the basis $\\phi_i$."
   ]
  },
  {
   "cell_type": "code",
   "execution_count": 2,
   "metadata": {},
   "outputs": [],
   "source": [
    "# Import MFEM and GLVis, define a coefficient...\n",
    "\n",
    "import mfem.ser as mfem\n",
    "from glvis import glvis\n",
    "\n",
    "from math import cos, exp, sin\n",
    "\n",
    "class f(mfem.PyCoefficient):\n",
    "    def EvalValue(self, xvec):\n",
    "        x = xvec[0]\n",
    "        y = xvec[1]\n",
    "        return exp(0.1*sin(5.1*x - 6.2*y) + 0.3*cos(4.3*x +3.4*y))"
   ]
  },
  {
   "cell_type": "code",
   "execution_count": 2,
   "metadata": {},
   "outputs": [],
   "source": [
    "# Create the mesh and finite element space\n",
    "mesh = mfem.Mesh(20, 20, \"TRIANGLE\")\n",
    "order_k = 2\n",
    "fe_collection = mfem.H1_FECollection(order_k, mesh.Dimension())\n",
    "fe_space = mfem.FiniteElementSpace(mesh, fe_collection)\n",
    "\n",
    "# 5. Define the solution x as a finite element grid function in fespace. Set\n",
    "#    the initial guess to zero, which also sets the boundary conditions.\n",
    "u = mfem.GridFunction(fe_space)\n",
    "\n",
    "# Create the right-hand side vector using the linear form F : v -> (f, v)\n",
    "# This is called a \"domain linear form integrator\", or DomainLFIntegrator\n",
    "F = mfem.LinearForm(fe_space)\n",
    "F.AddDomainIntegrator(mfem.DomainLFIntegrator(f()))\n",
    "# F.Assemble() tells MFEM to actually compute the entries of the vector F\n",
    "F.Assemble()\n",
    "\n",
    "# Set up the bilinear form m(.,.). The L2 inner product is called a\n",
    "# \"mass integrator\"\n",
    "m = mfem.BilinearForm(fe_space)\n",
    "m.AddDomainIntegrator(mfem.MassIntegrator())\n",
    "m.Assemble()\n",
    "m.Finalize()\n",
    "\n",
    "# Get the matrix associated with the bilinear form\n",
    "M = m.SpMat()\n"
   ]
  },
  {
   "cell_type": "code",
   "execution_count": 4,
   "metadata": {},
   "outputs": [],
   "source": [
    "from mfem.common.sparse_utils import sparsemat_to_scipycsr\n",
    "import matplotlib.pyplot as plt\n",
    "\n",
    "plt.spy(sparsemat_to_scipycsr(M, float).todense())"
   ]
  },
  {
   "cell_type": "code",
   "execution_count": 4,
   "metadata": {},
   "outputs": [
    {
     "name": "stdout",
     "output_type": "stream",
     "text": [
      "   Iteration :   0  (B r, r) = 0.817362\n",
      "   Iteration :   1  (B r, r) = 0.00437464\n",
      "   Iteration :   2  (B r, r) = 4.9583e-05\n",
      "   Iteration :   3  (B r, r) = 4.49892e-07\n",
      "   Iteration :   4  (B r, r) = 9.59129e-09\n",
      "   Iteration :   5  (B r, r) = 1.95933e-10\n",
      "   Iteration :   6  (B r, r) = 2.20306e-12\n",
      "   Iteration :   7  (B r, r) = 1.11426e-14\n",
      "Average reduction factor = 0.102238\n"
     ]
    }
   ],
   "source": [
    "GS = mfem.GSSmoother(M)\n",
    "u.Assign(0.0)\n",
    "mfem.PCG(M, GS, F, u, 1, 200, 1e-12, 0.0)"
   ]
  },
  {
   "cell_type": "code",
   "execution_count": 5,
   "metadata": {},
   "outputs": [
    {
     "data": {
      "application/vnd.jupyter.widget-view+json": {
       "model_id": "057584ab915549d79d738f54187fbcf5",
       "version_major": 2,
       "version_minor": 0
      },
      "text/plain": [
       "glvis(data_str='MFEM mesh v1.0\\n\\n#\\n# MFEM Geometry Types (see mesh/geom.hpp):\\n#\\n# POINT       = 0\\n# SEGME…"
      ]
     },
     "execution_count": 5,
     "metadata": {},
     "output_type": "execute_result"
    }
   ],
   "source": [
    "glvis((mesh, u))"
   ]
  },
  {
   "cell_type": "markdown",
   "metadata": {},
   "source": [
    "### Properties of the mass matrix\n",
    "\n",
    "First, $M$ is symmetric. (Why?)\n",
    "\n",
    "> **_DEFINITION:_** A symmetric matrix $A$ is called **positive definite** if\n",
    ">\n",
    "> * $v^T A v \\geq 0$ for all $v$\n",
    "> * $v^T A v = 0$ only when $v = 0$\n",
    ">\n",
    "> If only the first condition holds, the matrix is called **positive semidefinite**\n",
    "\n",
    "> **_PROPOSITION:_** $M$ is positive definite. (Why)?\n",
    "\n",
    "> **_PROPOSITION:_** A symmetric matrix $A$ is positive definite iff all of its eigenvalues are positive.\n",
    "\n",
    "First, we should recall that a symmetric matrix (Hermetian, even) has only real eigenvalues.\n",
    "\n",
    "To see this, suppose $A^* = A$, and let $A v = \\lambda v$.\n",
    "Then, $v^* A v = \\lambda v^* v = \\lambda \\| v \\|^2$, and\n",
    "$$\n",
    "    \\lambda^* \\| v \\|^2 = (v^* A v)^* = v^* A^* v = v^* A v = \\lambda \\| v \\|^2,\n",
    "$$\n",
    "so $\\lambda = \\lambda^*$ and $\\lambda \\in \\mathbb{R}$.\n",
    "\n",
    "Now, suppose $A$ is positive definite.\n",
    "Let $v$ be an eigenvector.\n",
    "Then,\n",
    "$$\n",
    "    0 < v^T A v = \\lambda \\| v \\|^2,\n",
    "$$\n",
    "so $\\lambda > 0$.\n",
    "\n",
    "Now, suppose that $A$ has only positive eigenvalues.\n",
    "Then, by the spectral theorem,\n",
    "$$\n",
    "    A = Q^T \\Lambda Q,\n",
    "$$\n",
    "where $Q$ is orthogonal (i.e. $Q^T = Q^{-1}$), and $\\Lambda = \\operatorname{diag}(\\lambda_1, \\lambda_2, \\ldots, \\lambda_n)$.\n",
    "Then, for any $v$, let $w = Q v$, i.e. $v = Q^{-1} w$.\n",
    "So,\n",
    "$$\n",
    "    v^T A v = (Q^{-1} w)^T A Q^{-1} w = w^T Q^{-T} Q^T \\Lambda Q Q^{-1} w = w^T \\Lambda w > 0\n",
    "$$"
   ]
  },
  {
   "cell_type": "markdown",
   "metadata": {},
   "source": [
    "The fact that $M$ is SPD (symmetric and positive definite) makes the linear system of equations\n",
    "$$\n",
    "    M U = F\n",
    "$$\n",
    "much easier to solve.\n",
    "Such systems are more amenable to solution by numerical methods, both direct and iterative.\n",
    "In particular,\n",
    "\n",
    "* Direct: can use Cholesky instead of LU\n",
    "* Iterative:\n",
    "    * Gauss-Seidel\n",
    "    * (Better:) (preconditioned) conjugate gradient"
   ]
  },
  {
   "cell_type": "markdown",
   "metadata": {},
   "source": [
    "### Stationary Methods\n",
    "\n",
    "Let $A$ be a given matrix.\n",
    "We want to solve\n",
    "$$\n",
    "    A x = b\n",
    "$$\n",
    "for some right-hand side $b$.\n",
    "Suppose we cannot invert $A$ (e.g. because it is too large).\n",
    "\n",
    "There are a class of **iterative methods** for approximating the solution $x$ called **stationary methods**.\n",
    "These methods are based on the general iteration\n",
    "$$\n",
    "    x^{(i+1)} = x^{(i)} + B(b - A x^{(i)})\n",
    "$$\n",
    "for some **fixed** non-singular matrix $B$.\n",
    "\n",
    "We can consider this as a fixed-point iteration\n",
    "$$\n",
    "    x^{(i+1)} = \\Phi(x^{(i)}),\n",
    "$$\n",
    "where the iteration operator $\\Phi$ is defined by\n",
    "$$\n",
    "    \\Phi(z) = z + B(b - A z).\n",
    "$$\n",
    "\n",
    "Suppose $x$ is a fixed point of $\\Phi$, i.e. $\\Phi(x) = x$.\n",
    "Then,\n",
    "$$\n",
    "    x = x + B(b - A x)\n",
    "$$\n",
    "and we obtain\n",
    "$$\n",
    "    B A x = B b,\n",
    "$$\n",
    "and (since $B$ is nonsingular), this implies that\n",
    "$$\n",
    "    Ax = b,\n",
    "$$\n",
    "and $x$ is the solution to our problem."
   ]
  },
  {
   "cell_type": "markdown",
   "metadata": {},
   "source": [
    "Therefore, solving the problem $Ax = b$ is equivalent to finding a fixed point of $\\Phi$.\n",
    "\n",
    "The iteration\n",
    "$$\n",
    "    x^{(i+1)} = \\Phi(x^{(i)}),\n",
    "$$\n",
    "converges to a fixed point of $\\Phi$ .\n",
    "\n",
    "We know that if $\\Phi$ is a **contraction mapping**, then this iteration will converge to the unique fixed point.\n",
    "\n",
    "> **_RECALL:_** We say $\\Phi$ is **contraction mapping** if it brings any two points \"closer together,\" i.e., for any $x$ and $y$\n",
    "> $$\n",
    ">   \\| \\Phi(x) - \\Phi(y) \\| \\leq c \\| x - y \\|,\n",
    "> $$\n",
    "> with $c < 1$.\n",
    "\n",
    "Note that our operator is $\\Phi : z \\mapsto z + B(b - Az)$, and so\n",
    "$$\n",
    "    \\Phi(x) - \\Phi(y) = x + Bb - BAx - y - Bb + BAy = (I - BA)(x - y).\n",
    "$$\n",
    "This means that $\\Phi$ is a contraction mapping whenever the norm of $(I - BA)$ is less than one."
   ]
  },
  {
   "cell_type": "markdown",
   "metadata": {},
   "source": [
    "#### Gauss-Seidel method\n",
    "\n",
    "Decompose $A = L + U$, where\n",
    "\n",
    "* $L$ is lower-triangular\n",
    "* $U$ is **strictly** upper-triangular (zeros on the diagonal)\n",
    "\n",
    "The main idea is to approximate $A$ by its lower-triangular part (we could equally well use the upper-triangular part --- in our case, the matrix is symmetric, so it doesn't matter).\n",
    "\n",
    "We start with an initial guess $x^{(0)}$.\n",
    "This guess is not in general exact, so we have some **residual**\n",
    "$$\n",
    "    r^{(0)} = b - A x^{(0)}\n",
    "$$\n",
    "\n",
    "**If** we could invert $A$, and solve for the **error**\n",
    "$$\n",
    "    e^{(0)} = A^{-1} r^{(0)}\n",
    "$$\n",
    "then we can check\n",
    "$$\n",
    "    x = x^{(0)} + e^{(0)}\n",
    "$$\n",
    "since\n",
    "$$\n",
    "    A (x^{(0)} + e^{(0)}) = A x^{(0)} + r^{(0)} = b.\n",
    "$$\n",
    "\n",
    "But, we can approximate $e^{(0)}$ using the lower-triangular part $L$, and then iterate, i.e.\n",
    "$$\n",
    "    x^{(1)} = x^{(0)} + L^{-1} r^{(0)}\n",
    "$$\n",
    "We can see that this iteration results in\n",
    "$$\n",
    "    x^{(1)} = L^{-1} ( b - U x^{(0)} ).\n",
    "$$\n",
    "Another way of obtaining the same iteration is to write\n",
    "$$\n",
    "    Ax = (L + U) x = b\n",
    "$$\n",
    "and split the left-hand side to get\n",
    "$$\n",
    "    Lx = b - Ux,\n",
    "$$\n",
    "and use the \"previous\" guess for the right-hand side.\n",
    "\n",
    "In general, the iteration is\n",
    "$$\n",
    "    x^{(i+1)} = L^{-1} ( b - Ux^{(i)})\n",
    "$$"
   ]
  },
  {
   "cell_type": "markdown",
   "metadata": {},
   "source": [
    "Consider a simple example of a $3 \\times 3$ matrix,\n",
    "$$\n",
    "    \\begin{pmatrix}\n",
    "    a_{11} & a_{12} & a_{13} \\\\\n",
    "    a_{21} & a_{22} & a_{23} \\\\\n",
    "    a_{31} & a_{32} & a_{33} \\\\\n",
    "    \\end{pmatrix}\n",
    "    \\begin{pmatrix} x_1 \\\\ x_2 \\\\ x_3 \\end{pmatrix}\n",
    "    =\n",
    "    \\begin{pmatrix} b_1 \\\\ b_2 \\\\ b_3 \\end{pmatrix}.\n",
    "$$\n",
    "\n",
    "Suppose we are given an initial guess $(x_1^{(i)}, x_2^{(i)}, x_3^{(i)})$.\n",
    "Then, the Gauss-Seidel iteration improves on this guess by:\n",
    "\n",
    "1. Keeping $x_2^{(i)}$ and $x_3^{(i)}$ fixed, and then solving for $x_1^{(i+1)}$.\n",
    "2. Now we have an improved $x_1^{(i+1)}$, so use $x_1^{(i+1)}$ and $x_3^{(i)}$ to solve for $x_2^{(i+1)}$.\n",
    "3. Now use the improved values $x_1^{(i+1)}$ and $x_2^{(i+1)}$ to solve for $x_3^{(i+1)}$\n",
    "\n",
    "This can be written as\n",
    "$$\n",
    "    \\begin{pmatrix}\n",
    "    a_{11} & 0 & 0 \\\\\n",
    "    a_{21} & a_{22} & 0 \\\\\n",
    "    a_{31} & a_{32} & a_{33} \\\\\n",
    "    \\end{pmatrix}\n",
    "    \\begin{pmatrix} x_1^{(i+1)} \\\\ x_2^{(i+1)} \\\\ x_3^{(i+1)} \\end{pmatrix}\n",
    "    + \n",
    "    \\begin{pmatrix}\n",
    "    0 & a_{12} & a_{13} \\\\\n",
    "    0 & 0 & a_{23} \\\\\n",
    "    0 & 0 & 0 \\\\\n",
    "    \\end{pmatrix}\n",
    "    \\begin{pmatrix} x_1^{(i)} \\\\ x_2^{(i)} \\\\ x_3^{(i)} \\end{pmatrix}\n",
    "    =\n",
    "    \\begin{pmatrix} b_1 \\\\ b_2 \\\\ b_3 \\end{pmatrix}.\n",
    "$$\n",
    "\n",
    "It is easy to see that the general form of this iteration is\n",
    "$$\n",
    "    L x^{(i+1)} + U x^{(i)} = b,\n",
    "$$\n",
    "which is the Gauss-Seidel method."
   ]
  },
  {
   "cell_type": "markdown",
   "metadata": {},
   "source": [
    "This can be viewed as a **fixed-point iteration**, let $\\Phi$ be the iteration operator, i.e.\n",
    "$$\n",
    "    \\Phi(v) = L^{-1}(b - Ux).\n",
    "$$\n",
    "It is easy to see that a **fixed point** of $\\Phi$ is a solution to $A x = b$.\n",
    "\n",
    "The iteration has a unique fixed point if $\\Phi$ is a contraction mapping, i.e. if the iteration matrix $\\| -L^{-1} U \\| < 1$ in some (any!) norm.\n",
    "\n",
    "(Note that $-L^{-1} U = -L^{-1} (A - L) = I - L^{-1} A$).\n",
    "\n",
    "Another way of seeing this is to consider the error at step $i+1$\n",
    "\n",
    "$$\n",
    "\\begin{aligned}\n",
    "    e^{(i+1)} &= x^{(i+1)} - x \\\\\n",
    "        &= L^{-1}(b - Ux^{(i)}) - x \\\\\n",
    "        &= L^{-1}(b - (A - L)x^{(i)}) - x \\\\\n",
    "        &= L^{-1}b - L^{-1} A x^{(i)} + x^{(i)} - x \\\\\n",
    "        &= L^{-1} A x - L^{-1} A x^{(i)} + x^{(i)} - x \\\\\n",
    "        &= (I - L^{-1} A)(x^{(i)} - x) \\\\\n",
    "        &= (I - L^{-1} A)(e^{(i)}) \\\\\n",
    "\\end{aligned}\n",
    "$$\n",
    "\n",
    "and so\n",
    "\n",
    "$$\n",
    "    e^{(i+1)} = (I - L^{-1} A)^{i+1} e^{(0)}\n",
    "$$\n",
    "\n",
    "hence\n",
    "\n",
    "$$\n",
    "    \\| e^{(i+1)} \\| \\leq \\| I - L^{-1} A \\|^{i+1}  \\| e^{(0)} \\|\n",
    "$$\n",
    "in **any** norm"
   ]
  },
  {
   "cell_type": "markdown",
   "metadata": {},
   "source": [
    "Now, we want to show that $I - L^{-1} A$ has norm less than one.\n",
    "\n",
    "First, we note that if $A$ is SPD, then $A$ induces a norm\n",
    "$$\n",
    "    \\| x \\|_A^2 = x^T A x.\n",
    "$$\n",
    "\n",
    "Then, consider the norm of $\\| I - L^{-1} A \\|_A$.\n",
    "The statement $\\| I - L^{-1} A \\|_A < 1$ is equivalent to\n",
    "$$\n",
    "    ((I - L^{-1}A)x)^T A ((I - L^{-1}A) x) < x^T A x\n",
    "$$\n",
    "for all $x$, or\n",
    "$$\n",
    "    x^T A x - ((I - L^{-1}A)x)^T A ((I - L^{-1}A) x) > 0.\n",
    "$$\n",
    "Expanding\n",
    "$$\n",
    "    \\begin{aligned}\n",
    "        x^T A x - (x^T - x^T A L^{-T}) A (x - L^{-1}A x) \n",
    "            &= x^T A x - x^T (I - A L^{-T}) A (I - L^{-1}A ) x \\\\\n",
    "            &= x^T A x - x^T (A - A L^{-T} A) (I - L^{-1}A ) x \\\\\n",
    "            &= x^T A x - x^T (A - A L^{-T} A - A L^{-1}A + A L^{-T} A L^{-1}A ) x \\\\\n",
    "            &= x^T (A L^{-T} A + A L^{-1}A - A L^{-T} A L^{-1}A ) x \\\\\n",
    "            &= x^T A^T (L^{-T} + L^{-1} - L^{-T} A L^{-1} ) A x \\\\\n",
    "            &= x^T A^T L^{-T} (L + L^T - A ) L^{-1} A x\n",
    "    \\end{aligned}\n",
    "$$\n",
    "If $L + L^T - A$ is SPD, then the inequality holds.\n",
    "\n",
    "Note that $L + L^T - A$ is the diagonal of $A$, and if $A$ is SPD, then it's diagonal must also be SPD.\n",
    "\n",
    "So, the inequality holds, and we conclude that Gauss-Seidel converges when applied to **any** SPD matrix."
   ]
  },
  {
   "cell_type": "markdown",
   "metadata": {},
   "source": [
    "In MFEM, this class of fixed-point iteration solvers are called \"stationary linear iterations\" (SLI).\n",
    "\n",
    "The general form is\n",
    "\n",
    "$$\n",
    "    x^{(i+1)} = x^{(i)} + B (b - Ax^{(i)}),\n",
    "$$\n",
    "\n",
    "so for Gauss-Seidel this is given by $B = L^{-1}$."
   ]
  },
  {
   "cell_type": "code",
   "execution_count": 6,
   "metadata": {},
   "outputs": [
    {
     "name": "stdout",
     "output_type": "stream",
     "text": [
      "   Iteration :   0  ||Br|| = 32.2015\n",
      "   Iteration :   1  ||Br|| = 7.79566    \tConv. rate: 7.79566\n",
      "   Iteration :   2  ||Br|| = 1.67135    \tConv. rate: 0.214394\n",
      "   Iteration :   3  ||Br|| = 0.386499   \tConv. rate: 0.23125\n",
      "   Iteration :   4  ||Br|| = 0.100165   \tConv. rate: 0.25916\n",
      "   Iteration :   5  ||Br|| = 0.0288377  \tConv. rate: 0.287902\n",
      "   Iteration :   6  ||Br|| = 0.00899321 \tConv. rate: 0.311856\n",
      "   Iteration :   7  ||Br|| = 0.00296643 \tConv. rate: 0.329853\n",
      "   Iteration :   8  ||Br|| = 0.00101765 \tConv. rate: 0.343057\n",
      "   Iteration :   9  ||Br|| = 0.000359001\tConv. rate: 0.352773\n",
      "   Iteration :  10  ||Br|| = 0.000129205\tConv. rate: 0.359901\n",
      "   Iteration :  11  ||Br|| = 4.71679e-05\tConv. rate: 0.365063\n",
      "   Iteration :  12  ||Br|| = 1.73928e-05\tConv. rate: 0.368743\n",
      "   Iteration :  13  ||Br|| = 6.45859e-06\tConv. rate: 0.371336\n",
      "   Iteration :  14  ||Br|| = 2.41006e-06\tConv. rate: 0.373155\n",
      "   Iteration :  15  ||Br|| = 9.02416e-07\tConv. rate: 0.374437\n",
      "   Iteration :  16  ||Br|| = 3.38726e-07\tConv. rate: 0.375355\n",
      "   Iteration :  17  ||Br|| = 1.27371e-07\tConv. rate: 0.37603\n",
      "   Iteration :  18  ||Br|| = 4.79608e-08\tConv. rate: 0.376544\n",
      "   Iteration :  19  ||Br|| = 1.8079e-08 \tConv. rate: 0.376954\n",
      "   Iteration :  20  ||Br|| = 6.82118e-09\tConv. rate: 0.377298\n",
      "   Iteration :  21  ||Br|| = 2.57568e-09\tConv. rate: 0.377601\n"
     ]
    }
   ],
   "source": [
    "Linv = mfem.GSSmoother(M)\n",
    "GS = mfem.SLISolver()\n",
    "GS.SetPreconditioner(Linv)\n",
    "GS.SetOperator(M)\n",
    "GS.SetRelTol(1e-10)\n",
    "GS.SetPrintLevel(1)\n",
    "GS.SetMaxIter(100)\n",
    "u.Assign(0.0)\n",
    "GS.Mult(F,u)"
   ]
  },
  {
   "cell_type": "markdown",
   "metadata": {},
   "source": [
    "### Cost model for dense and sparse linear algebra\n",
    "\n",
    "Does Gauss-Seidel really provide any benefits over just doing (naive, dense) Gaussian elimination?\n",
    "\n",
    "We can store a matrix $M$ in a number of ways.\n",
    "\n",
    "For example, we can store $M$ as a **dense matrix**, i.e. as an array of shape $n \\times n$ (for a square matrix, generalization to rectangular is immediate).\n",
    "This requires $n^2$ storage.\n",
    "\n",
    "However, if **most** of the entries of $M$ are zero, we can improve on this storage cost.\n",
    "For example, we could represent $M$ as follows:\n",
    "\n",
    "> $M$ is an $n \\times n$ matrix with non-zero entries $(i_1, j_1, a_1), (i_2, j_2, a_2), \\ldots, (i_{\\mathrm{nnz}}, j_{\\mathrm{nnz}}, a_{\\mathrm{nnz}})$.\n",
    "\n",
    "This is a sparse matrix format called **coordinate format**.\n",
    "You just need to know the dimension of the matrix, and have a list of the nonzeros (and their coordinates).\n",
    "So, the storage is $\\sim 3 \\mathrm{nnz} = \\mathcal{O}( \\mathrm{nnz})$.\n",
    "If $\\mathrm{nnz} \\ll n$ then this is big savings!"
   ]
  },
  {
   "cell_type": "code",
   "execution_count": 7,
   "metadata": {},
   "outputs": [],
   "source": [
    "def nnz_mass_matrix(n):\n",
    "    # Create the mesh and finite element space\n",
    "    mesh = mfem.Mesh(n, n, \"TRIANGLE\")\n",
    "    order_k = 1\n",
    "    fe_collection = mfem.H1_FECollection(order_k, mesh.Dimension())\n",
    "    fe_space = mfem.FiniteElementSpace(mesh, fe_collection)\n",
    "    m = mfem.BilinearForm(fe_space)\n",
    "    m.AddDomainIntegrator(mfem.MassIntegrator())\n",
    "    m.Assemble()\n",
    "    m.Finalize()\n",
    "    M = m.SpMat()\n",
    "    return (M.Width(), M.NumNonZeroElems())"
   ]
  },
  {
   "cell_type": "code",
   "execution_count": 8,
   "metadata": {},
   "outputs": [],
   "source": [
    "import numpy as np\n",
    "import matplotlib.pyplot as plt\n",
    "\n",
    "nrefinements = 6\n",
    "\n",
    "nnzs = np.zeros(nrefinements)\n",
    "ns = np.zeros(nrefinements)\n",
    "mesh_size = 4\n",
    "\n",
    "for i in range(nrefinements):\n",
    "    ns[i], nnzs[i] = nnz_mass_matrix(mesh_size)\n",
    "    mesh_size *= 2\n"
   ]
  },
  {
   "cell_type": "code",
   "execution_count": 9,
   "metadata": {},
   "outputs": [
    {
     "data": {
      "text/plain": [
       "<matplotlib.legend.Legend at 0x112d77e80>"
      ]
     },
     "execution_count": 9,
     "metadata": {},
     "output_type": "execute_result"
    },
    {
     "data": {
      "image/png": "[encoded data removed]",
      "text/plain": [
       "<Figure size 640x480 with 1 Axes>"
      ]
     },
     "metadata": {},
     "output_type": "display_data"
    }
   ],
   "source": [
    "plt.loglog(ns, nnzs, label=\"Mass NNZ\")\n",
    "plt.loglog(ns, ns**2, label=\"$n^2$\")\n",
    "plt.legend()"
   ]
  },
  {
   "cell_type": "code",
   "execution_count": 10,
   "metadata": {},
   "outputs": [
    {
     "data": {
      "text/plain": [
       "1.0064109694630328"
      ]
     },
     "execution_count": 10,
     "metadata": {},
     "output_type": "execute_result"
    }
   ],
   "source": [
    "np.log(nnzs[-1]/nnzs[-2]) / np.log(ns[-1]/ns[-2])"
   ]
  },
  {
   "cell_type": "markdown",
   "metadata": {},
   "source": [
    "So, we can see that the number of nonzeros in the mass matrix scales like $\\mathcal{O}(n)$ (with $h$-refinement).\n",
    "So, storing $M$ as a sparse matrix instead of a dense matrix gives a memory usage speedup from $\\mathcal{O}(n^2)$ to $\\mathcal{O}(n)$.\n",
    "\n",
    "In practice, coordinate format is not always so convenient, we use other formats called **compressed sparse row** or **compressed sparse column**, but the details are not so important right now."
   ]
  },
  {
   "cell_type": "markdown",
   "metadata": {},
   "source": [
    "### Computational Complexities\n",
    "\n",
    "#### Gaussian elimination\n",
    "\n",
    "Gaussian elimination requires $\\mathcal{O}(n)$ vector operations for every row.\n",
    "Each vector operator requires $\\mathcal{O}(n)$ floating point operators, so $\\mathcal{O}(n^2)$ floating point operations per row.\n",
    "This gives a total of $\\mathcal{O}(n^3)$ floating point operations for Gaussian elimination.\n",
    "\n",
    "#### Matrix-vector products\n",
    "\n",
    "On the other hand, if we look at a matrix-vector product $y = Ax$,\n",
    "\n",
    "$$\n",
    "    y_i = \\sum_{j=1}^n A_{ij} x_j,\n",
    "$$\n",
    "this is $n$ operations per row, so $\\mathcal{O}(n^2)$ total.\n",
    "However, we can **skip** any zero entries of $A$, and so if $A$ is stored in sparse format, the complexity becomes\n",
    "$$\n",
    "    \\mathcal{O}(\\mathrm{nnz}).\n",
    "$$\n",
    "\n",
    "Similarly for inverting a lower-triangular sparse matrix (i.e. forward substitution).\n",
    "\n",
    "So, for each iteration of Gauss-Seidel, we perform one matrix-vector product and one forward-solve (and some vector operations), so the cost per iteration scales like\n",
    "$$\n",
    "    \\mathcal{O}(\\mathrm{nnz})\n",
    "$$\n",
    "(we assume that $\\mathcal{nnz} \\gtrsim n$).\n",
    "\n",
    "Therefore, the total computational cost of Gauss-Seidel is\n",
    "$$\n",
    "    \\mathcal{O}(n_{\\mathrm{it}} \\mathrm{nnz}),\n",
    "$$\n",
    "where $n_{\\mathrm{it}}$ is the number of iterations required to converge."
   ]
  },
  {
   "cell_type": "markdown",
   "metadata": {},
   "source": [
    "In the case of the mass matrix, the cost is $\\sim n_{\\mathrm{it}} n$, so if $n_{\\mathrm{it}} \\ll n^2$ we get a win over Gaussian elimination, and the smaller the number of iterations the better."
   ]
  },
  {
   "cell_type": "code",
   "execution_count": 11,
   "metadata": {},
   "outputs": [],
   "source": [
    "def mass_matrix_gauss_seidel(n):\n",
    "    mesh = mfem.Mesh(n, n, \"TRIANGLE\")\n",
    "    order_k = 2\n",
    "    fe_collection = mfem.H1_FECollection(order_k, mesh.Dimension())\n",
    "    fe_space = mfem.FiniteElementSpace(mesh, fe_collection)\n",
    "    u = mfem.GridFunction(fe_space)\n",
    "    F = mfem.LinearForm(fe_space)\n",
    "    F.AddDomainIntegrator(mfem.DomainLFIntegrator(f()))\n",
    "    # F.Assemble() tells MFEM to actually compute the entries of the vector F\n",
    "    F.Assemble()\n",
    "    m = mfem.BilinearForm(fe_space)\n",
    "    m.AddDomainIntegrator(mfem.MassIntegrator())\n",
    "    m.Assemble()\n",
    "    m.Finalize()\n",
    "    M = m.SpMat()\n",
    "    Linv = mfem.GSSmoother(M)\n",
    "    GS = mfem.SLISolver()\n",
    "    GS.SetPreconditioner(Linv)\n",
    "    GS.SetOperator(M)\n",
    "    GS.SetRelTol(1e-10)\n",
    "    GS.SetMaxIter(100)\n",
    "    GS.SetPrintLevel(0)\n",
    "    u.Assign(0.0)\n",
    "    GS.Mult(F,u)\n",
    "    print(\"Gauss-Seidel converged in: \", GS.GetNumIterations(), \"iterations\")\n"
   ]
  },
  {
   "cell_type": "code",
   "execution_count": 12,
   "metadata": {},
   "outputs": [
    {
     "name": "stdout",
     "output_type": "stream",
     "text": [
      "Gauss-Seidel converged in:  23 iterations\n",
      "Gauss-Seidel converged in:  22 iterations\n",
      "Gauss-Seidel converged in:  21 iterations\n",
      "Gauss-Seidel converged in:  21 iterations\n",
      "Gauss-Seidel converged in:  20 iterations\n",
      "Gauss-Seidel converged in:  19 iterations\n"
     ]
    }
   ],
   "source": [
    "mesh_size = 4\n",
    "\n",
    "for i in range(6):\n",
    "    mass_matrix_gauss_seidel(mesh_size)\n",
    "    mesh_size *= 2"
   ]
  },
  {
   "cell_type": "markdown",
   "metadata": {},
   "source": [
    "So, with $h$-refinement, the number of iterations required to solve the mass matrix with Gauss-Seidel is **constant**.\n",
    "Therefore, the cost to solve a system with the mass matrix with Gauss-Seidel is\n",
    "$$\n",
    "    \\mathcal{O}(n)\n",
    "$$\n",
    "which is optimal. (Why?)"
   ]
  },
  {
   "cell_type": "code",
   "execution_count": 14,
   "metadata": {},
   "outputs": [
    {
     "name": "stdout",
     "output_type": "stream",
     "text": [
      "CPU times: user 2.35 ms, sys: 30 µs, total: 2.38 ms\n",
      "Wall time: 2.39 ms\n"
     ]
    }
   ],
   "source": [
    "mesh = mfem.Mesh(80, 80, \"TRIANGLE\")\n",
    "order_k = 1\n",
    "fe_collection = mfem.H1_FECollection(order_k, mesh.Dimension())\n",
    "fe_space = mfem.FiniteElementSpace(mesh, fe_collection)\n",
    "u = mfem.GridFunction(fe_space)\n",
    "F = mfem.LinearForm(fe_space)\n",
    "F.AddDomainIntegrator(mfem.DomainLFIntegrator(f()))\n",
    "# F.Assemble() tells MFEM to actually compute the entries of the vector F\n",
    "F.Assemble()\n",
    "m = mfem.BilinearForm(fe_space)\n",
    "m.AddDomainIntegrator(mfem.MassIntegrator())\n",
    "m.Assemble()\n",
    "m.Finalize()\n",
    "M = m.SpMat()\n",
    "Linv = mfem.GSSmoother(M)\n",
    "GS = mfem.SLISolver()\n",
    "GS.SetPreconditioner(Linv)\n",
    "GS.SetOperator(M)\n",
    "GS.SetRelTol(1e-10)\n",
    "GS.SetMaxIter(100)\n",
    "GS.SetPrintLevel(0)\n",
    "u.Assign(0.0)\n",
    "%time GS.Mult(F,u)"
   ]
  },
  {
   "cell_type": "code",
   "execution_count": 17,
   "metadata": {},
   "outputs": [
    {
     "name": "stdout",
     "output_type": "stream",
     "text": [
      "CPU times: user 9.51 s, sys: 632 ms, total: 10.1 s\n",
      "Wall time: 1.43 s\n"
     ]
    },
    {
     "data": {
      "text/plain": [
       "array([1.35013465, 1.35812419, 1.36500359, ..., 0.9834829 , 0.97043494,\n",
       "       0.95775   ])"
      ]
     },
     "execution_count": 17,
     "metadata": {},
     "output_type": "execute_result"
    }
   ],
   "source": [
    "import numpy as np\n",
    "M_dense = sparsemat_to_scipycsr(M, float).todense()\n",
    "rhs = F.GetDataArray()\n",
    "%time np.linalg.solve(M_dense, rhs)"
   ]
  },
  {
   "cell_type": "code",
   "execution_count": 18,
   "metadata": {},
   "outputs": [],
   "source": [
    "from time import time\n",
    "\n",
    "def solve_benchmark(n):\n",
    "    mesh = mfem.Mesh(n, n, \"TRIANGLE\")\n",
    "    order_k = 1\n",
    "    fe_collection = mfem.H1_FECollection(order_k, mesh.Dimension())\n",
    "    fe_space = mfem.FiniteElementSpace(mesh, fe_collection)\n",
    "    u = mfem.GridFunction(fe_space)\n",
    "    F = mfem.LinearForm(fe_space)\n",
    "    F.AddDomainIntegrator(mfem.DomainLFIntegrator(f()))\n",
    "    # F.Assemble() tells MFEM to actually compute the entries of the vector F\n",
    "    F.Assemble()\n",
    "    m = mfem.BilinearForm(fe_space)\n",
    "    m.AddDomainIntegrator(mfem.MassIntegrator())\n",
    "    m.Assemble()\n",
    "    m.Finalize()\n",
    "    M = m.SpMat()\n",
    "    Linv = mfem.GSSmoother(M)\n",
    "    GS = mfem.SLISolver()\n",
    "    GS.SetPreconditioner(Linv)\n",
    "    GS.SetOperator(M)\n",
    "    GS.SetRelTol(1e-10)\n",
    "    GS.SetMaxIter(100)\n",
    "    GS.SetPrintLevel(0)\n",
    "    u.Assign(0.0)\n",
    "    t1 = time()\n",
    "    GS.Mult(F,u)\n",
    "    elapsed_gs = time() - t1\n",
    "\n",
    "    M_dense = sparsemat_to_scipycsr(M, float).todense()\n",
    "    rhs = F.GetDataArray()\n",
    "    t1 = time()\n",
    "    np.linalg.solve(M_dense, rhs)\n",
    "    elapsed_dense = time() - t1\n",
    "\n",
    "    return (M.Size(), elapsed_gs, elapsed_dense)"
   ]
  },
  {
   "cell_type": "code",
   "execution_count": 37,
   "metadata": {},
   "outputs": [],
   "source": [
    "import numpy as np\n",
    "import matplotlib.pyplot as plt\n",
    "\n",
    "nrefinements = 6\n",
    "\n",
    "ns = np.zeros(nrefinements)\n",
    "t_gs = np.zeros(nrefinements)\n",
    "t_dense = np.zeros(nrefinements)\n",
    "mesh_size = 4\n",
    "\n",
    "for i in range(nrefinements):\n",
    "    ns[i], t_gs[i], t_dense[i] = solve_benchmark(mesh_size)\n",
    "    mesh_size *= 2\n"
   ]
  },
  {
   "cell_type": "code",
   "execution_count": 41,
   "metadata": {},
   "outputs": [
    {
     "data": {
      "text/plain": [
       "<matplotlib.legend.Legend at 0x2b8350cd0>"
      ]
     },
     "execution_count": 41,
     "metadata": {},
     "output_type": "execute_result"
    },
    {
     "data": {
      "image/png": "[encoded data removed]",
      "text/plain": [
       "<Figure size 640x480 with 1 Axes>"
      ]
     },
     "metadata": {},
     "output_type": "display_data"
    }
   ],
   "source": [
    "plt.loglog(ns, t_gs, label=\"Gauss-Seidel\")\n",
    "plt.loglog(ns, t_dense, label=\"Gaussian Elimination (Dense)\")\n",
    "plt.loglog(ns, 2e-7*ns, 'k:')\n",
    "plt.loglog(ns, 2e-8*ns**2, 'k:')\n",
    "plt.legend()"
   ]
  }
 ],
 "metadata": {
  "colab": {
   "provenance": []
  },
  "kernelspec": {
   "display_name": "Python 3.10.6 ('venv': venv)",
   "language": "python",
   "name": "python3"
  },
  "language_info": {
   "codemirror_mode": {
    "name": "ipython",
    "version": 3
   },
   "file_extension": ".py",
   "mimetype": "text/x-python",
   "name": "python",
   "nbconvert_exporter": "python",
   "pygments_lexer": "ipython3",
   "version": "3.10.8"
  },
  "title": "Lecture 10",
  "vscode": {
   "interpreter": {
    "hash": "bd788376193720eadecf9d964712d25ddb8942c37aec80724648cfa1bb12b2b1"
   }
  }
 },
 "nbformat": 4,
 "nbformat_minor": 1
}

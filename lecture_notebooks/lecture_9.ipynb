{
 "cells": [
  {
   "cell_type": "markdown",
   "metadata": {},
   "source": [
    "# MTH 651: Advanced Numerical Analysis"
   ]
  },
  {
   "cell_type": "markdown",
   "metadata": {},
   "source": [
    "## Lecture 9"
   ]
  },
  {
   "cell_type": "markdown",
   "metadata": {
    "id": "d5sMJY4v8Tol"
   },
   "source": [
    "### Topics\n",
    "\n",
    "* Construction of Finite Element Spaces\n",
    "\n",
    "#### Textbook references\n",
    "\n",
    "Sections 3.1, 3.2, 3.3"
   ]
  },
  {
   "cell_type": "markdown",
   "metadata": {},
   "source": [
    "### Finite Element Spaces on Meshes"
   ]
  },
  {
   "cell_type": "markdown",
   "metadata": {},
   "source": [
    "We saw earlier how to define **finite elements** of arbitrary polynomial degree $k$ on a triangle $K \\subset \\mathbb{R}^2$.\n",
    "\n",
    "In our construction, we defined **nodal variables** $N_i : u \\mapsto u(x_i)$ at **nodal points** (or just **nodes**) $x_i$.\n",
    "The $\\binom{k+2}{2}$ points $x_i$ are chosen as follows:\n",
    "\n",
    "* One point at each vertex\n",
    "* $(k-1)$ points on the interior of each edge\n",
    "* The remaining points are in the interior on the triangle (arranged inductively)\n",
    "\n",
    "We proved that $\\{ N_i \\}$ is a basis for $\\mathcal{P}_k(K)'$, and therefore there exists a **dual basis** $\\{ \\phi_i \\}$ spanning $\\mathcal{P}_k(K)$ such that\n",
    "$$\n",
    "    N_j(\\phi_i) = \\phi_i(x_j) = \\delta_{ij}.\n",
    "$$\n",
    "In other words, every bivariate polynomial of degree at most $k$ can be **uniquely identified** by its point values at the nodal points, and, conversely, there exists a unique **interpolating polynomial** that takes on given point values at the nodes."
   ]
  },
  {
   "cell_type": "markdown",
   "metadata": {},
   "source": [
    "#### \"Gluing Together\" Finite Elements\n",
    "\n",
    "Consider a triangular mesh.\n",
    "By this we mean a collection of triangles such that no vertex lies in the interior of any other edge.\n",
    "For example, we could think about the triangular mesh shown below."
   ]
  },
  {
   "cell_type": "code",
   "execution_count": 1,
   "metadata": {},
   "outputs": [],
   "source": [
    "%load_ext tikzmagic"
   ]
  },
  {
   "cell_type": "code",
   "execution_count": 2,
   "metadata": {},
   "outputs": [
    {
     "data": {
      "image/png": "[encoded data removed]"
     },
     "metadata": {},
     "output_type": "display_data"
    }
   ],
   "source": [
    "%%tikz -sc 2 -s 600,600\n",
    "\n",
    "\\usetikzlibrary{calc}\n",
    "\n",
    "\n",
    "\\coordinate (A) at (0,0);\n",
    "\\coordinate (B) at (1.2,0.1);\n",
    "\\coordinate (C) at (0.5,1);\n",
    "\\coordinate (D) at (1.7, 1);\n",
    "\\coordinate (E) at (2.4, 0.2);\n",
    "\n",
    "\\tikzset{dot/.style={circle,inner sep=0pt, minimum size=2pt, fill=black}}\n",
    "\n",
    "\\draw (A) -- (B) -- (C) -- cycle;\n",
    "\\draw (B) -- (D) -- (C) -- cycle;\n",
    "\\draw (B) -- (E) -- (D) -- cycle;\n",
    "\n",
    "\\foreach \\COORD in {(A), (B), (C), (D), (E)}\n",
    "    \\node [dot] at \\COORD {};\n",
    "\n",
    "\\node [yshift=-20pt] at (B) {Mesh containing three triangles};\n"
   ]
  },
  {
   "cell_type": "markdown",
   "metadata": {},
   "source": [
    "Then, then, we consider **piecewise polynomials** defined in terms of the nodal variables on the mesh.\n",
    "Since each edge has $(k+1)$ nodes (including the vertices), a degree-$k$ polynomial is uniquely determined on the edge, and so nodal values determine a unique, **continuous** piecewise polynomial function."
   ]
  },
  {
   "cell_type": "markdown",
   "metadata": {},
   "source": [
    "_(Execute the following cells to use with Google Colab)_"
   ]
  },
  {
   "cell_type": "code",
   "execution_count": null,
   "metadata": {},
   "outputs": [],
   "source": [
    "%pip install mfem\n",
    "%pip install glvis"
   ]
  },
  {
   "cell_type": "code",
   "execution_count": null,
   "metadata": {},
   "outputs": [],
   "source": [
    "# needed for glvis widget\n",
    "from google.colab import output\n",
    "output.enable_custom_widget_manager()"
   ]
  },
  {
   "cell_type": "code",
   "execution_count": 3,
   "metadata": {},
   "outputs": [],
   "source": [
    "import mfem.ser as mfem\n",
    "from glvis import glvis"
   ]
  },
  {
   "cell_type": "code",
   "execution_count": 4,
   "metadata": {},
   "outputs": [
    {
     "data": {
      "application/vnd.jupyter.widget-view+json": {
       "model_id": "6fe3e7d6482f4e43adc65e67f04a2b4e",
       "version_major": 2,
       "version_minor": 0
      },
      "text/plain": [
       "glvis(data_str='MFEM mesh v1.0\\n\\n#\\n# MFEM Geometry Types (see mesh/geom.hpp):\\n#\\n# POINT       = 0\\n# SEGME…"
      ]
     },
     "execution_count": 4,
     "metadata": {},
     "output_type": "execute_result"
    }
   ],
   "source": [
    "# create simple mesh by gluing together some triangles\n",
    "mesh = mfem.Mesh(4, 4, \"TRIANGLE\")\n",
    "glvis(mesh)"
   ]
  },
  {
   "cell_type": "code",
   "execution_count": 5,
   "metadata": {},
   "outputs": [],
   "source": [
    "# Choose the polynomial degree k, we use k = 1 here\n",
    "order_k = 1\n",
    "\n",
    "# Create a finite element space defined on this mesh\n",
    "fe_collection = mfem.H1_FECollection(order_k, mesh.Dimension())\n",
    "fe_space = mfem.FiniteElementSpace(mesh, fe_collection)"
   ]
  },
  {
   "cell_type": "markdown",
   "metadata": {},
   "source": [
    "We now define a **grid function** on this space.\n",
    "A grid function is a function $u : \\Omega \\to \\mathbb{R}$ such that for every triangle $K \\in \\mathcal{T}$, we have\n",
    "$$\n",
    "    u|_K \\in \\mathcal{P}(K)\n",
    "$$"
   ]
  },
  {
   "cell_type": "code",
   "execution_count": 6,
   "metadata": {},
   "outputs": [],
   "source": [
    "u = mfem.GridFunction(fe_space)"
   ]
  },
  {
   "cell_type": "markdown",
   "metadata": {},
   "source": [
    "Define some function, could be anything..."
   ]
  },
  {
   "cell_type": "code",
   "execution_count": 7,
   "metadata": {},
   "outputs": [],
   "source": [
    "from math import cos, exp, sin\n",
    "\n",
    "class f(mfem.PyCoefficient):\n",
    "    def EvalValue(self, xvec):\n",
    "        x = xvec[0]\n",
    "        y = xvec[1]\n",
    "        return exp(0.1*sin(5.1*x - 6.2*y) + 0.3*cos(4.3*x +3.4*y))"
   ]
  },
  {
   "cell_type": "code",
   "execution_count": 8,
   "metadata": {},
   "outputs": [],
   "source": [
    "u.ProjectCoefficient(f())"
   ]
  },
  {
   "cell_type": "code",
   "execution_count": 9,
   "metadata": {},
   "outputs": [
    {
     "data": {
      "application/vnd.jupyter.widget-view+json": {
       "model_id": "a5a1d73ff7dc42f4bab25d9a788302ed",
       "version_major": 2,
       "version_minor": 0
      },
      "text/plain": [
       "glvis(data_str='MFEM mesh v1.0\\n\\n#\\n# MFEM Geometry Types (see mesh/geom.hpp):\\n#\\n# POINT       = 0\\n# SEGME…"
      ]
     },
     "execution_count": 9,
     "metadata": {},
     "output_type": "execute_result"
    }
   ],
   "source": [
    "glvis((mesh, u))"
   ]
  },
  {
   "cell_type": "markdown",
   "metadata": {},
   "source": [
    "We can get a better approximation by **refining** the mesh (this is called $h$-refinement, because $h$ is used to stand for the mesh size)."
   ]
  },
  {
   "cell_type": "code",
   "execution_count": 10,
   "metadata": {},
   "outputs": [
    {
     "data": {
      "application/vnd.jupyter.widget-view+json": {
       "model_id": "b6584b87459a40b3a4fc6fc29fc70eb4",
       "version_major": 2,
       "version_minor": 0
      },
      "text/plain": [
       "glvis(data_str='MFEM mesh v1.0\\n\\n#\\n# MFEM Geometry Types (see mesh/geom.hpp):\\n#\\n# POINT       = 0\\n# SEGME…"
      ]
     },
     "execution_count": 10,
     "metadata": {},
     "output_type": "execute_result"
    }
   ],
   "source": [
    "# create simple mesh by gluing together some triangles\n",
    "mesh = mfem.Mesh(16, 16, \"TRIANGLE\")\n",
    "order_k = 1\n",
    "fe_collection = mfem.H1_FECollection(order_k, mesh.Dimension())\n",
    "fe_space = mfem.FiniteElementSpace(mesh, fe_collection)\n",
    "u = mfem.GridFunction(fe_space)\n",
    "u.ProjectCoefficient(f())\n",
    "glvis((mesh, u))"
   ]
  },
  {
   "cell_type": "markdown",
   "metadata": {},
   "source": [
    "Similarly, we can get a better approximation by **increasing the polynomial degree** (this is called $p$-refinement, because $p$ is typically used to stand for the polynomial degree)"
   ]
  },
  {
   "cell_type": "code",
   "execution_count": 11,
   "metadata": {},
   "outputs": [
    {
     "data": {
      "application/vnd.jupyter.widget-view+json": {
       "model_id": "a3c6288ae7f54cfeaede610b4a37ae17",
       "version_major": 2,
       "version_minor": 0
      },
      "text/plain": [
       "glvis(data_str='MFEM mesh v1.0\\n\\n#\\n# MFEM Geometry Types (see mesh/geom.hpp):\\n#\\n# POINT       = 0\\n# SEGME…"
      ]
     },
     "execution_count": 11,
     "metadata": {},
     "output_type": "execute_result"
    }
   ],
   "source": [
    "# create simple mesh by gluing together some triangles\n",
    "mesh = mfem.Mesh(4, 4, \"TRIANGLE\")\n",
    "order_k = 4\n",
    "fe_collection = mfem.H1_FECollection(order_k, mesh.Dimension())\n",
    "fe_space = mfem.FiniteElementSpace(mesh, fe_collection)\n",
    "u = mfem.GridFunction(fe_space)\n",
    "u.ProjectCoefficient(f())\n",
    "glvis((mesh, u))"
   ]
  },
  {
   "cell_type": "code",
   "execution_count": 12,
   "metadata": {},
   "outputs": [],
   "source": [
    "mesh_data = \"\"\"\n",
    "MFEM mesh v1.0\n",
    "\n",
    "#\n",
    "# MFEM Geometry Types (see mesh/geom.hpp):\n",
    "#\n",
    "# POINT       = 0\n",
    "# SEGMENT     = 1\n",
    "# TRIANGLE    = 2\n",
    "# SQUARE      = 3\n",
    "# TETRAHEDRON = 4\n",
    "# CUBE        = 5\n",
    "#\n",
    "\n",
    "dimension\n",
    "2\n",
    "\n",
    "elements\n",
    "154\n",
    "1 2 1 23 0\n",
    "1 2 48 1 2\n",
    "1 2 4 49 3\n",
    "1 2 7 5 6\n",
    "1 2 7 8 50\n",
    "1 2 8 9 51\n",
    "1 2 9 10 52\n",
    "1 2 10 11 53\n",
    "1 2 13 11 12\n",
    "1 2 11 13 53\n",
    "1 2 49 88 58\n",
    "1 2 63 99 64\n",
    "1 2 14 15 54\n",
    "1 2 55 16 17\n",
    "1 2 19 17 18\n",
    "1 2 17 19 55\n",
    "1 2 52 91 99\n",
    "1 2 69 98 70\n",
    "1 2 20 21 56\n",
    "1 2 22 23 57\n",
    "1 2 24 58 25\n",
    "1 2 25 59 26\n",
    "1 2 60 27 26\n",
    "1 2 27 61 28\n",
    "1 2 28 62 29\n",
    "1 2 29 63 30\n",
    "1 2 64 31 30\n",
    "1 2 65 32 31\n",
    "1 2 32 66 33\n",
    "1 2 67 34 33\n",
    "1 2 34 68 35\n",
    "1 2 35 69 36\n",
    "1 2 70 37 36\n",
    "1 2 37 71 38\n",
    "1 2 38 72 39\n",
    "1 2 39 73 40\n",
    "1 2 40 74 41\n",
    "1 2 41 75 42\n",
    "1 2 76 43 42\n",
    "1 2 77 44 43\n",
    "1 2 44 78 45\n",
    "1 2 45 79 46\n",
    "1 2 46 80 47\n",
    "1 2 47 81 24\n",
    "1 2 50 5 7\n",
    "1 2 48 2 82\n",
    "1 2 3 82 2\n",
    "1 2 4 5 83\n",
    "1 2 51 50 8\n",
    "1 2 51 9 52\n",
    "1 2 53 52 10\n",
    "1 2 13 14 84\n",
    "1 2 53 13 84\n",
    "1 2 54 84 14\n",
    "1 2 54 15 85\n",
    "1 2 55 85 16\n",
    "1 2 15 16 85\n",
    "1 2 24 81 58\n",
    "1 2 19 20 86\n",
    "1 2 55 19 86\n",
    "1 2 56 86 20\n",
    "1 2 21 87 56\n",
    "1 2 21 22 87\n",
    "1 2 25 58 59\n",
    "1 2 60 26 59\n",
    "1 2 60 61 27\n",
    "1 2 61 62 28\n",
    "1 2 63 29 62\n",
    "1 2 30 63 64\n",
    "1 2 64 65 31\n",
    "1 2 65 66 32\n",
    "1 2 67 33 66\n",
    "1 2 67 68 34\n",
    "1 2 69 35 68\n",
    "1 2 36 69 70\n",
    "1 2 70 71 37\n",
    "1 2 72 38 71\n",
    "1 2 39 72 73\n",
    "1 2 74 40 73\n",
    "1 2 75 41 74\n",
    "1 2 76 42 75\n",
    "1 2 43 76 77\n",
    "1 2 44 77 78\n",
    "1 2 79 45 78\n",
    "1 2 46 79 80\n",
    "1 2 81 47 80\n",
    "1 2 23 1 57\n",
    "1 2 83 49 4\n",
    "1 2 82 3 49\n",
    "1 2 5 50 83\n",
    "1 2 82 49 81\n",
    "1 2 82 79 48\n",
    "1 2 52 63 51\n",
    "1 2 56 87 76\n",
    "1 2 57 87 22\n",
    "1 2 57 1 48\n",
    "1 2 85 69 54\n",
    "1 2 88 60 59\n",
    "1 2 60 89 61\n",
    "1 2 88 89 60\n",
    "1 2 61 90 62\n",
    "1 2 91 66 65\n",
    "1 2 66 92 67\n",
    "1 2 66 91 92\n",
    "1 2 68 67 93\n",
    "1 2 94 72 71\n",
    "1 2 95 73 72\n",
    "1 2 72 94 95\n",
    "1 2 73 96 74\n",
    "1 2 97 78 77\n",
    "1 2 83 50 89\n",
    "1 2 50 51 90\n",
    "1 2 51 63 90\n",
    "1 2 87 57 97\n",
    "1 2 85 55 94\n",
    "1 2 90 63 62\n",
    "1 2 86 56 96\n",
    "1 2 58 88 59\n",
    "1 2 69 85 98\n",
    "1 2 98 94 71\n",
    "1 2 99 91 65\n",
    "1 2 80 82 81\n",
    "1 2 87 77 76\n",
    "1 2 89 90 61\n",
    "1 2 99 65 64\n",
    "1 2 92 93 67\n",
    "1 2 68 54 69\n",
    "1 2 98 71 70\n",
    "1 2 73 95 96\n",
    "1 2 78 100 79\n",
    "1 2 50 90 89\n",
    "1 2 54 68 93\n",
    "1 2 97 100 78\n",
    "1 2 81 49 58\n",
    "1 2 48 79 100\n",
    "1 2 57 100 97\n",
    "1 2 84 54 93\n",
    "1 2 57 48 100\n",
    "1 2 85 94 98\n",
    "1 2 95 86 96\n",
    "1 2 92 84 93\n",
    "1 2 53 84 92\n",
    "1 2 56 74 96\n",
    "1 2 55 95 94\n",
    "1 2 55 86 95\n",
    "1 2 63 52 99\n",
    "1 2 52 53 91\n",
    "1 2 74 56 75\n",
    "1 2 53 92 91\n",
    "1 2 49 83 88\n",
    "1 2 83 89 88\n",
    "1 2 77 87 97\n",
    "1 2 79 82 80\n",
    "1 2 56 76 75\n",
    "\n",
    "boundary\n",
    "0\n",
    "\n",
    "vertices\n",
    "101\n",
    "2\n",
    "0 0\n",
    "0.166667 0\n",
    "0.333333 0\n",
    "0.5 0\n",
    "0.666667 0\n",
    "0.833333 0\n",
    "1 0\n",
    "1 0.166667\n",
    "1 0.333333\n",
    "1 0.5\n",
    "1 0.666667\n",
    "1 0.833333\n",
    "1 1\n",
    "0.833333 1\n",
    "0.666667 1\n",
    "0.5 1\n",
    "0.333333 1\n",
    "0.166667 1\n",
    "0 1\n",
    "0 0.833333\n",
    "0 0.666667\n",
    "0 0.5\n",
    "0 0.333333\n",
    "0 0.166667\n",
    "0.5 0.3\n",
    "0.551762 0.30682\n",
    "0.599999 0.326797\n",
    "0.641421 0.358579\n",
    "0.673203 0.400001\n",
    "0.69318 0.448238\n",
    "0.7 0.5\n",
    "0.69318 0.551762\n",
    "0.673203 0.599999\n",
    "0.641421 0.641421\n",
    "0.599999 0.673203\n",
    "0.551762 0.69318\n",
    "0.5 0.7\n",
    "0.448238 0.69318\n",
    "0.400001 0.673203\n",
    "0.358579 0.641421\n",
    "0.326797 0.599999\n",
    "0.30682 0.551762\n",
    "0.3 0.5\n",
    "0.30682 0.448238\n",
    "0.326797 0.400001\n",
    "0.358579 0.358579\n",
    "0.400001 0.326797\n",
    "0.448238 0.30682\n",
    "0.280005 0.149304\n",
    "0.545138 0.127037\n",
    "0.884465 0.248218\n",
    "0.879775 0.419399\n",
    "0.89969 0.555741\n",
    "0.87616 0.769211\n",
    "0.569868 0.867996\n",
    "0.215449 0.861969\n",
    "0.12837 0.560993\n",
    "0.128875 0.229852\n",
    "0.546717 0.235246\n",
    "0.597968 0.271088\n",
    "0.660382 0.290877\n",
    "0.715238 0.343348\n",
    "0.737642 0.413364\n",
    "0.786693 0.464086\n",
    "0.746158 0.531455\n",
    "0.736367 0.596942\n",
    "0.703803 0.657558\n",
    "0.66278 0.704986\n",
    "0.588288 0.750518\n",
    "0.529824 0.781611\n",
    "0.47111 0.74969\n",
    "0.386777 0.746482\n",
    "0.330365 0.70905\n",
    "0.29514 0.654214\n",
    "0.255436 0.599614\n",
    "0.235453 0.531229\n",
    "0.222251 0.470237\n",
    "0.25499 0.399563\n",
    "0.298249 0.343499\n",
    "0.344976 0.266622\n",
    "0.403251 0.256459\n",
    "0.472569 0.21125\n",
    "0.402398 0.139935\n",
    "0.73572 0.124022\n",
    "0.740675 0.875314\n",
    "0.437281 0.908261\n",
    "0.116116 0.729319\n",
    "0.125999 0.410478\n",
    "0.629053 0.201535\n",
    "0.746593 0.259041\n",
    "0.805509 0.369895\n",
    "0.801713 0.661291\n",
    "0.731831 0.727419\n",
    "0.653956 0.787078\n",
    "0.315356 0.804965\n",
    "0.252498 0.737911\n",
    "0.210181 0.65531\n",
    "0.207207 0.336529\n",
    "0.438101 0.818434\n",
    "0.801007 0.553492\n",
    "0.264878 0.257489\n",
    "\"\"\"\n",
    "mesh_f = open(\"tmp.mesh\", \"w\")\n",
    "mesh_f.write(mesh_data)\n",
    "mesh_f.close()\n"
   ]
  },
  {
   "cell_type": "code",
   "execution_count": 13,
   "metadata": {},
   "outputs": [
    {
     "data": {
      "application/vnd.jupyter.widget-view+json": {
       "model_id": "ea94ae4bcc494ac9b8774293d6968ad4",
       "version_major": 2,
       "version_minor": 0
      },
      "text/plain": [
       "glvis(data_str='MFEM mesh v1.0\\n\\n#\\n# MFEM Geometry Types (see mesh/geom.hpp):\\n#\\n# POINT       = 0\\n# SEGME…"
      ]
     },
     "execution_count": 13,
     "metadata": {},
     "output_type": "execute_result"
    }
   ],
   "source": [
    "# create simple mesh by gluing together some triangles\n",
    "mesh = mfem.Mesh(\"tmp.mesh\")\n",
    "order_k = 4\n",
    "fe_collection = mfem.H1_FECollection(order_k, mesh.Dimension())\n",
    "fe_space = mfem.FiniteElementSpace(mesh, fe_collection)\n",
    "u = mfem.GridFunction(fe_space)\n",
    "u.ProjectCoefficient(f())\n",
    "glvis((mesh, u))"
   ]
  },
  {
   "cell_type": "code",
   "execution_count": null,
   "metadata": {},
   "outputs": [],
   "source": []
  }
 ],
 "metadata": {
  "colab": {
   "provenance": []
  },
  "kernelspec": {
   "display_name": "Python 3.10.6 ('venv': venv)",
   "language": "python",
   "name": "python3"
  },
  "language_info": {
   "codemirror_mode": {
    "name": "ipython",
    "version": 3
   },
   "file_extension": ".py",
   "mimetype": "text/x-python",
   "name": "python",
   "nbconvert_exporter": "python",
   "pygments_lexer": "ipython3",
   "version": "3.10.8"
  },
  "title": "Lecture 7",
  "vscode": {
   "interpreter": {
    "hash": "bd788376193720eadecf9d964712d25ddb8942c37aec80724648cfa1bb12b2b1"
   }
  }
 },
 "nbformat": 4,
 "nbformat_minor": 1
}

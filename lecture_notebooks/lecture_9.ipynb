{
 "cells": [
  {
   "cell_type": "markdown",
   "metadata": {},
   "source": [
    "# MTH 651: Advanced Numerical Analysis"
   ]
  },
  {
   "cell_type": "markdown",
   "metadata": {},
   "source": [
    "## Lecture 9"
   ]
  },
  {
   "cell_type": "markdown",
   "metadata": {
    "id": "d5sMJY4v8Tol"
   },
   "source": [
    "### Topics\n",
    "\n",
    "* Construction of Finite Element Spaces\n",
    "\n",
    "#### Textbook references\n",
    "\n",
    "Sections 3.1, 3.2, 3.3"
   ]
  },
  {
   "cell_type": "markdown",
   "metadata": {},
   "source": [
    "### Finite Element Spaces on Meshes"
   ]
  },
  {
   "cell_type": "markdown",
   "metadata": {},
   "source": [
    "We saw earlier how to define **finite elements** of arbitrary polynomial degree $k$ on a triangle $K \\subset \\mathbb{R}^2$.\n",
    "\n",
    "In our construction, we defined **nodal variables** $N_i : u \\mapsto u(x_i)$ at **nodal points** (or just **nodes**) $x_i$.\n",
    "The $\\binom{k+2}{2}$ points $x_i$ are chosen as follows:\n",
    "\n",
    "* One point at each vertex\n",
    "* $(k-1)$ points on the interior of each edge\n",
    "* The remaining points are in the interior on the triangle (arranged inductively)\n",
    "\n",
    "We proved that $\\{ N_i \\}$ is a basis for $\\mathcal{P}_k(K)'$, and therefore there exists a **dual basis** $\\{ \\phi_i \\}$ spanning $\\mathcal{P}_k(K)$ such that\n",
    "$$\n",
    "    N_j(\\phi_i) = \\phi_i(x_j) = \\delta_{ij}.\n",
    "$$\n",
    "In other words, every bivariate polynomial of degree at most $k$ can be **uniquely identified** by its point values at the nodal points, and, conversely, there exists a unique **interpolating polynomial** that takes on given point values at the nodes."
   ]
  },
  {
   "cell_type": "markdown",
   "metadata": {},
   "source": [
    "#### \"Gluing Together\" Finite Elements\n",
    "\n",
    "Consider a triangular mesh.\n",
    "By this we mean a collection of triangles such that no vertex lies in the interior of any other edge.\n",
    "For example, we could think about the triangular mesh shown below."
   ]
  },
  {
   "cell_type": "code",
   "execution_count": 1,
   "metadata": {},
   "outputs": [],
   "source": [
    "%load_ext tikzmagic"
   ]
  },
  {
   "cell_type": "code",
   "execution_count": 2,
   "metadata": {},
   "outputs": [
    {
     "data": {
      "image/png": "[encoded data removed]"
     },
     "metadata": {},
     "output_type": "display_data"
    }
   ],
   "source": [
    "%%tikz -sc 2 -s 600,600\n",
    "\n",
    "\\usetikzlibrary{calc}\n",
    "\n",
    "\n",
    "\\coordinate (A) at (0,0);\n",
    "\\coordinate (B) at (1.2,0.1);\n",
    "\\coordinate (C) at (0.5,1);\n",
    "\\coordinate (D) at (1.7, 1);\n",
    "\\coordinate (E) at (2.4, 0.2);\n",
    "\n",
    "\\tikzset{dot/.style={circle,inner sep=0pt, minimum size=2pt, fill=black}}\n",
    "\n",
    "\\draw (A) -- (B) -- (C) -- cycle;\n",
    "\\draw (B) -- (D) -- (C) -- cycle;\n",
    "\\draw (B) -- (E) -- (D) -- cycle;\n",
    "\n",
    "\\foreach \\COORD in {(A), (B), (C), (D), (E)}\n",
    "    \\node [dot] at \\COORD {};\n",
    "\n",
    "\\node [yshift=-20pt] at (B) {Mesh containing three triangles};\n"
   ]
  },
  {
   "cell_type": "markdown",
   "metadata": {},
   "source": [
    "Then, then, we consider **piecewise polynomials** defined in terms of the nodal variables on the mesh.\n",
    "Since each edge has $(k+1)$ nodes (including the vertices), a degree-$k$ polynomial is uniquely determined on the edge, and so nodal values determine a unique, **continuous** piecewise polynomial function."
   ]
  },
  {
   "cell_type": "markdown",
   "metadata": {},
   "source": [
    "_(Execute the following cells to use with Google Colab)_"
   ]
  },
  {
   "cell_type": "code",
   "execution_count": 3,
   "metadata": {},
   "outputs": [],
   "source": [
    "%pip install mfem\n",
    "%pip install glvis"
   ]
  },
  {
   "cell_type": "code",
   "execution_count": 4,
   "metadata": {},
   "outputs": [],
   "source": [
    "# needed for glvis widget\n",
    "from google.colab import output\n",
    "output.enable_custom_widget_manager()"
   ]
  },
  {
   "cell_type": "code",
   "execution_count": 5,
   "metadata": {},
   "outputs": [],
   "source": [
    "import mfem.ser as mfem\n",
    "from glvis import glvis"
   ]
  },
  {
   "cell_type": "code",
   "execution_count": 6,
   "metadata": {},
   "outputs": [
    {
     "data": {
      "application/vnd.jupyter.widget-view+json": {
       "model_id": "4ea2411e6d884e1b9c015a0d3960cc2a",
       "version_major": 2,
       "version_minor": 0
      },
      "text/plain": [
       "glvis(data_str='MFEM mesh v1.0\\n\\n#\\n# MFEM Geometry Types (see mesh/geom.hpp):\\n#\\n# POINT       = 0\\n# SEGME…"
      ]
     },
     "execution_count": 6,
     "metadata": {},
     "output_type": "execute_result"
    }
   ],
   "source": [
    "# create simple mesh by gluing together some triangles\n",
    "mesh = mfem.Mesh(4, 4, \"TRIANGLE\")\n",
    "glvis(mesh)"
   ]
  },
  {
   "cell_type": "code",
   "execution_count": 7,
   "metadata": {},
   "outputs": [],
   "source": [
    "# Choose the polynomial degree k, we use k = 1 here\n",
    "order_k = 1\n",
    "\n",
    "# Create a finite element space defined on this mesh\n",
    "fe_collection = mfem.H1_FECollection(order_k, mesh.Dimension())\n",
    "fe_space = mfem.FiniteElementSpace(mesh, fe_collection)"
   ]
  },
  {
   "cell_type": "markdown",
   "metadata": {},
   "source": [
    "We now define a **grid function** on this space.\n",
    "A grid function is a function $u : \\Omega \\to \\mathbb{R}$ such that for every triangle $K \\in \\mathcal{T}$, we have\n",
    "$$\n",
    "    u|_K \\in \\mathcal{P}(K)\n",
    "$$"
   ]
  },
  {
   "cell_type": "code",
   "execution_count": 8,
   "metadata": {},
   "outputs": [],
   "source": [
    "u = mfem.GridFunction(fe_space)"
   ]
  },
  {
   "cell_type": "markdown",
   "metadata": {},
   "source": [
    "Define some function, could be anything..."
   ]
  },
  {
   "cell_type": "code",
   "execution_count": 9,
   "metadata": {},
   "outputs": [],
   "source": [
    "from math import cos, exp, sin\n",
    "\n",
    "class f(mfem.PyCoefficient):\n",
    "    def EvalValue(self, xvec):\n",
    "        x = xvec[0]\n",
    "        y = xvec[1]\n",
    "        return exp(0.1*sin(5.1*x - 6.2*y) + 0.3*cos(4.3*x +3.4*y))"
   ]
  },
  {
   "cell_type": "code",
   "execution_count": 10,
   "metadata": {},
   "outputs": [],
   "source": [
    "u.ProjectCoefficient(f())"
   ]
  },
  {
   "cell_type": "code",
   "execution_count": 11,
   "metadata": {},
   "outputs": [
    {
     "data": {
      "application/vnd.jupyter.widget-view+json": {
       "model_id": "638fd2778c6d451aa6b87db1a25772ab",
       "version_major": 2,
       "version_minor": 0
      },
      "text/plain": [
       "glvis(data_str='MFEM mesh v1.0\\n\\n#\\n# MFEM Geometry Types (see mesh/geom.hpp):\\n#\\n# POINT       = 0\\n# SEGME…"
      ]
     },
     "execution_count": 11,
     "metadata": {},
     "output_type": "execute_result"
    }
   ],
   "source": [
    "glvis((mesh, u))"
   ]
  },
  {
   "cell_type": "markdown",
   "metadata": {},
   "source": [
    "We can get a better approximation by **refining** the mesh (this is called $h$-refinement, because $h$ is used to stand for the mesh size)."
   ]
  },
  {
   "cell_type": "code",
   "execution_count": 12,
   "metadata": {},
   "outputs": [
    {
     "data": {
      "application/vnd.jupyter.widget-view+json": {
       "model_id": "7548416a8a254cb9b56d87de6c7c61eb",
       "version_major": 2,
       "version_minor": 0
      },
      "text/plain": [
       "glvis(data_str='MFEM mesh v1.0\\n\\n#\\n# MFEM Geometry Types (see mesh/geom.hpp):\\n#\\n# POINT       = 0\\n# SEGME…"
      ]
     },
     "execution_count": 12,
     "metadata": {},
     "output_type": "execute_result"
    }
   ],
   "source": [
    "# create simple mesh by gluing together some triangles\n",
    "mesh = mfem.Mesh(16, 16, \"TRIANGLE\")\n",
    "order_k = 1\n",
    "fe_collection = mfem.H1_FECollection(order_k, mesh.Dimension())\n",
    "fe_space = mfem.FiniteElementSpace(mesh, fe_collection)\n",
    "u = mfem.GridFunction(fe_space)\n",
    "u.ProjectCoefficient(f())\n",
    "glvis((mesh, u))"
   ]
  },
  {
   "cell_type": "markdown",
   "metadata": {},
   "source": [
    "Similarly, we can get a better approximation by **increasing the polynomial degree** (this is called $p$-refinement, because $p$ is typically used to stand for the polynomial degree)"
   ]
  },
  {
   "cell_type": "code",
   "execution_count": 13,
   "metadata": {},
   "outputs": [
    {
     "data": {
      "application/vnd.jupyter.widget-view+json": {
       "model_id": "af5273c7d5ae4c3dae8f0096a3ed7153",
       "version_major": 2,
       "version_minor": 0
      },
      "text/plain": [
       "glvis(data_str='MFEM mesh v1.0\\n\\n#\\n# MFEM Geometry Types (see mesh/geom.hpp):\\n#\\n# POINT       = 0\\n# SEGME…"
      ]
     },
     "execution_count": 13,
     "metadata": {},
     "output_type": "execute_result"
    }
   ],
   "source": [
    "# create simple mesh by gluing together some triangles\n",
    "mesh = mfem.Mesh(4, 4, \"TRIANGLE\")\n",
    "order_k = 4\n",
    "fe_collection = mfem.H1_FECollection(order_k, mesh.Dimension())\n",
    "fe_space = mfem.FiniteElementSpace(mesh, fe_collection)\n",
    "u = mfem.GridFunction(fe_space)\n",
    "u.ProjectCoefficient(f())\n",
    "glvis((mesh, u))"
   ]
  },
  {
   "cell_type": "code",
   "execution_count": 14,
   "metadata": {},
   "outputs": [],
   "source": [
    "from urllib.request import urlopen\n",
    "def make_tmp_mesh_from_url(url):\n",
    "    mesh_data = urlopen(url).read()\n",
    "    mesh_f = open(\"tmp.mesh\", \"w\")\n",
    "    mesh_f.write(mesh_data.decode())\n",
    "    mesh_f.close()"
   ]
  },
  {
   "cell_type": "code",
   "execution_count": 15,
   "metadata": {},
   "outputs": [
    {
     "data": {
      "application/vnd.jupyter.widget-view+json": {
       "model_id": "b95e380f0a9248ab97154bca9b8f9a76",
       "version_major": 2,
       "version_minor": 0
      },
      "text/plain": [
       "glvis(data_str='MFEM mesh v1.0\\n\\n#\\n# MFEM Geometry Types (see mesh/geom.hpp):\\n#\\n# POINT       = 0\\n# SEGME…"
      ]
     },
     "execution_count": 15,
     "metadata": {},
     "output_type": "execute_result"
    }
   ],
   "source": [
    "make_tmp_mesh_from_url(\"https://github.com/pazner/mth-651/raw/main/data/meshes/square-disc.mesh\")\n",
    "mesh = mfem.Mesh(\"tmp.mesh\")\n",
    "order_k = 4\n",
    "fe_collection = mfem.H1_FECollection(order_k, mesh.Dimension())\n",
    "fe_space = mfem.FiniteElementSpace(mesh, fe_collection)\n",
    "u = mfem.GridFunction(fe_space)\n",
    "u.ProjectCoefficient(f())\n",
    "glvis((mesh, u))"
   ]
  },
  {
   "cell_type": "code",
   "execution_count": 16,
   "metadata": {},
   "outputs": [
    {
     "data": {
      "application/vnd.jupyter.widget-view+json": {
       "model_id": "7f58a26122224f1e83215af31c935efe",
       "version_major": 2,
       "version_minor": 0
      },
      "text/plain": [
       "glvis(data_str='MFEM mesh v1.0\\n\\n#\\n# MFEM Geometry Types (see mesh/geom.hpp):\\n#\\n# POINT       = 0\\n# SEGME…"
      ]
     },
     "execution_count": 16,
     "metadata": {},
     "output_type": "execute_result"
    }
   ],
   "source": [
    "make_tmp_mesh_from_url(\"https://github.com/pazner/mth-651/raw/main/data/meshes/dolphin.mesh\")\n",
    "mesh = mfem.Mesh(\"tmp.mesh\")\n",
    "order_k = 4\n",
    "fe_collection = mfem.H1_FECollection(order_k, mesh.Dimension())\n",
    "fe_space = mfem.FiniteElementSpace(mesh, fe_collection)\n",
    "u = mfem.GridFunction(fe_space)\n",
    "u.ProjectCoefficient(f())\n",
    "glvis((mesh, u))"
   ]
  },
  {
   "cell_type": "markdown",
   "metadata": {},
   "source": [
    "#### Local Interpolant\n",
    "\n",
    "What exactly is `ProjectCoefficient` doing in the above examples?\n",
    "\n",
    "What is the approximation procedure used to produce $u_h \\in V_h$ approximating the given function $f$?\n",
    "\n",
    "In these cases, $u_h$ is given by the **global interpolant**.\n",
    "Before we can define the global interpolant, we need to define the **local interpolant**.\n",
    "\n",
    "Let $(K, \\mathcal{P}, \\mathcal{N})$ be a finite element.\n",
    "Let $\\{ \\phi_i \\}$ be the basis dual to $\\mathcal{N} = \\{ N_1, N_2, \\ldots, N_n \\}$.\n",
    "\n",
    "For any $v$ for which all $N_i$ are defined (e.g. if the nodal variables $N_i$ represent evaluation at nodal points, take $v \\in C^0(\\Omega)$), then define the **local interpolant**\n",
    "$$\n",
    "    \\mathcal{I}_K(v) := \\sum_i N_i(v) \\phi_i\n",
    "$$"
   ]
  },
  {
   "cell_type": "markdown",
   "metadata": {},
   "source": [
    "> **_PROPOSITION:_** $\\mathcal{I}_K$ is linear.\n",
    "\n",
    "> _Proof._ Exercise."
   ]
  },
  {
   "cell_type": "markdown",
   "metadata": {},
   "source": [
    "> **_PROPOSITION:_** $N_i( \\mathcal{I}_K (v)) = N_i(v)$ for all $i$"
   ]
  },
  {
   "cell_type": "markdown",
   "metadata": {},
   "source": [
    "> **_PROPOSITION:_** For all $u \\in \\mathcal{P}$, $I_K(u) = u$. In particular, $\\mathcal{I}_K \\circ \\mathcal{I}_K = \\mathcal{I}_K$."
   ]
  },
  {
   "cell_type": "markdown",
   "metadata": {},
   "source": [
    "#### Global Interpolant"
   ]
  },
  {
   "cell_type": "markdown",
   "metadata": {},
   "source": [
    "Let $\\Omega$ be a domain, and let $\\mathcal{T} = \\{ K \\}$ be a mesh of the domain.\n",
    "\n",
    "Let $v : C^0(\\Omega) \\to \\mathbb{R}$.\n",
    "\n",
    "Then, the **global interpolant** of $v$ is characterized by\n",
    "$$\n",
    "    \\mathcal{I}_{\\mathcal{T}}(v)|_K = \\mathcal{I}_K(v) \\quad \\text{for all $K \\in \\mathcal{T}$}\n",
    "$$"
   ]
  },
  {
   "cell_type": "markdown",
   "metadata": {},
   "source": [
    "> **_PROPOSITION:_** For the Lagrange elements, $\\mathcal{I}_{\\mathcal{T}}(v) \\in C^0(\\Omega)$."
   ]
  },
  {
   "cell_type": "markdown",
   "metadata": {},
   "source": [
    "#### Global degrees of freedom\n",
    "\n",
    "The nodal variables over all the elements in the mesh _uniquely determine_ a finite element function.\n",
    "In other words, a finite element function (\"grid function\" in MFEM parlance) is determined by a finite number of \"degrees of freedom\", and such a function can be represented as a vector of such values.\n",
    "\n",
    "Let $N_1, N_2, \\ldots, N_n$ be an enumeration of the **unique** nodal variables (i.e. \"combining\" overlapping nodes).\n",
    "\n",
    "Let $(u_1, u_2, \\ldots, u_n)$ be a vector.\n",
    "This defines a function $u_h$ satisfying\n",
    "$$\n",
    "    N_i(u_h) = u_i.\n",
    "$$\n",
    "\n",
    "The standard basis vectors $(1, 0, \\ldots, 0)$, $(0, 1, 0, \\ldots, 0)$, etc. induce basis functions $\\phi_i$ satisfying\n",
    "$$\n",
    "    N_j(\\phi_i) = \\delta_{ij}\n",
    "$$\n",
    "\n",
    "These **global basis functions** are obtained by combining the **local basis functions** that share **common nodes**."
   ]
  },
  {
   "cell_type": "code",
   "execution_count": 17,
   "metadata": {},
   "outputs": [
    {
     "data": {
      "application/vnd.jupyter.widget-view+json": {
       "model_id": "553cb860460d4668bdb3a6c04192723a",
       "version_major": 2,
       "version_minor": 0
      },
      "text/plain": [
       "glvis(data_str='MFEM mesh v1.0\\n\\n#\\n# MFEM Geometry Types (see mesh/geom.hpp):\\n#\\n# POINT       = 0\\n# SEGME…"
      ]
     },
     "execution_count": 17,
     "metadata": {},
     "output_type": "execute_result"
    }
   ],
   "source": [
    "mesh = mfem.Mesh(2, 2, \"TRIANGLE\")\n",
    "order_k = 1\n",
    "fe_collection = mfem.H1_FECollection(order_k, mesh.Dimension())\n",
    "fe_space = mfem.FiniteElementSpace(mesh, fe_collection)\n",
    "u = mfem.GridFunction(fe_space)\n",
    "glvis(mesh)"
   ]
  },
  {
   "cell_type": "code",
   "execution_count": 18,
   "metadata": {},
   "outputs": [
    {
     "data": {
      "application/vnd.jupyter.widget-view+json": {
       "model_id": "870d46787a1a4dfbbe128fdcd1c6e927",
       "version_major": 2,
       "version_minor": 0
      },
      "text/plain": [
       "glvis(data_str='MFEM mesh v1.0\\n\\n#\\n# MFEM Geometry Types (see mesh/geom.hpp):\\n#\\n# POINT       = 0\\n# SEGME…"
      ]
     },
     "execution_count": 18,
     "metadata": {},
     "output_type": "execute_result"
    }
   ],
   "source": [
    "u.Assign(0.0)\n",
    "u[4] = 1.0\n",
    "glvis((mesh, u))"
   ]
  },
  {
   "cell_type": "code",
   "execution_count": 19,
   "metadata": {},
   "outputs": [
    {
     "data": {
      "application/vnd.jupyter.widget-view+json": {
       "model_id": "70500c08278b4606b155021ec490ca71",
       "version_major": 2,
       "version_minor": 0
      },
      "text/plain": [
       "glvis(data_str='MFEM mesh v1.0\\n\\n#\\n# MFEM Geometry Types (see mesh/geom.hpp):\\n#\\n# POINT       = 0\\n# SEGME…"
      ]
     },
     "execution_count": 19,
     "metadata": {},
     "output_type": "execute_result"
    }
   ],
   "source": [
    "mesh = mfem.Mesh(2, 2, \"TRIANGLE\")\n",
    "order_k = 1\n",
    "fe_collection = mfem.H1_FECollection(order_k, mesh.Dimension())\n",
    "fe_space = mfem.FiniteElementSpace(mesh, fe_collection)\n",
    "u = mfem.GridFunction(fe_space)\n",
    "u.ProjectCoefficient(f())\n",
    "glvis((mesh, u))"
   ]
  },
  {
   "cell_type": "code",
   "execution_count": 20,
   "metadata": {},
   "outputs": [
    {
     "name": "stdout",
     "output_type": "stream",
     "text": [
      "1.3498588075760032\n",
      "0.8972336890849048\n",
      "0.8083006324025056\n",
      "0.9580920552697224\n",
      "0.7557169024179107\n",
      "1.4607950301026116\n",
      "0.7544769754876963\n",
      "1.312052358547997\n",
      "0.9578073881900919\n"
     ]
    }
   ],
   "source": [
    "for x in u.GetDataArray():\n",
    "    print(x)"
   ]
  },
  {
   "cell_type": "code",
   "execution_count": 21,
   "metadata": {},
   "outputs": [
    {
     "name": "stdout",
     "output_type": "stream",
     "text": [
      "1.3498588075760032\n",
      "0.8972336890849048\n",
      "0.8083006324025056\n",
      "0.9580920552697224\n",
      "0.7557169024179107\n",
      "1.4607950301026116\n",
      "0.7544769754876963\n",
      "1.312052358547997\n",
      "0.9578073881900919\n"
     ]
    }
   ],
   "source": [
    "coords = [\n",
    "    [0.0, 0.0],\n",
    "    [0.5, 0.0],\n",
    "    [1.0, 0.0],\n",
    "    [0.0, 0.5],\n",
    "    [0.5, 0.5],\n",
    "    [1.0, 0.5],\n",
    "    [0.0, 1.0],\n",
    "    [0.5, 1.0],\n",
    "    [1.0, 1.0]\n",
    "]\n",
    "\n",
    "for coord in coords:\n",
    "    print(f().EvalValue(coord))"
   ]
  }
 ],
 "metadata": {
  "colab": {
   "provenance": []
  },
  "kernelspec": {
   "display_name": "Python 3.10.6 ('venv': venv)",
   "language": "python",
   "name": "python3"
  },
  "language_info": {
   "codemirror_mode": {
    "name": "ipython",
    "version": 3
   },
   "file_extension": ".py",
   "mimetype": "text/x-python",
   "name": "python",
   "nbconvert_exporter": "python",
   "pygments_lexer": "ipython3",
   "version": "3.10.6"
  },
  "title": "Lecture 9",
  "vscode": {
   "interpreter": {
    "hash": "bd788376193720eadecf9d964712d25ddb8942c37aec80724648cfa1bb12b2b1"
   }
  }
 },
 "nbformat": 4,
 "nbformat_minor": 1
}

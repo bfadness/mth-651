{
 "cells": [
  {
   "cell_type": "markdown",
   "metadata": {},
   "source": [
    "# MTH 651: Advanced Numerical Analysis"
   ]
  },
  {
   "cell_type": "markdown",
   "metadata": {},
   "source": [
    "## Lecture 9"
   ]
  },
  {
   "cell_type": "markdown",
   "metadata": {},
   "source": [
    "Let $a(\\cdot,\\cdot) : V \\times V \\to \\mathbb{R}$ be a symmetric, continuous, and coercive bilinear form.\n",
    "Let $V_h$ be a finite-dimensional subspace of $V$ with basis $\\{ \\phi_1, \\ldots, \\phi_N \\}$, and let $A$ be the matrix associated with $a(\\cdot, \\cdot)$,\n",
    "$$\n",
    "    A_{ij} = a(\\phi_i, \\phi_j).\n",
    "$$\n",
    "\n",
    "Note that $A$ is symmetric."
   ]
  },
  {
   "cell_type": "markdown",
   "metadata": {},
   "source": [
    "> **_DEFINITION:_** A symmetric matrix $A$ is called **positive definite** if\n",
    ">\n",
    "> * $v^T A v \\geq 0$ for all $v$\n",
    "> * $v^T A v = 0$ only when $v = 0$\n",
    ">\n",
    "> If only the first condition holds, the matrix is called **positive semidefinite**\n",
    "\n",
    "> **_PROPOSITION:_** $A$ is positive definite. (Why)?\n",
    "\n",
    "> **_PROPOSITION:_** A symmetric matrix $A$ is positive definite iff all of its eigenvalues are positive.\n",
    "\n",
    "First, we should recall that a symmetric matrix (Hermetian, even) has only real eigenvalues.\n",
    "\n",
    "To see this, suppose $A^* = A$, and let $A v = \\lambda v$.\n",
    "Then, $v^* A v = \\lambda v^* v = \\lambda \\| v \\|^2$, and\n",
    "$$\n",
    "    \\lambda^* \\| v \\|^2 = (v^* A v)^* = v^* A^* v = v^* A v = \\lambda \\| v \\|^2,\n",
    "$$\n",
    "so $\\lambda = \\lambda^*$ and $\\lambda \\in \\mathbb{R}$.\n",
    "\n",
    "Now, suppose $A$ is positive definite.\n",
    "Let $v$ be an eigenvector.\n",
    "Then,\n",
    "$$\n",
    "    0 < v^T A v = \\lambda \\| v \\|^2,\n",
    "$$\n",
    "so $\\lambda > 0$.\n",
    "\n",
    "Now, suppose that $A$ has only positive eigenvalues.\n",
    "Then, by the spectral theorem,\n",
    "$$\n",
    "    A = Q^T \\Lambda Q,\n",
    "$$\n",
    "where $Q$ is orthogonal (i.e. $Q^T = Q^{-1}$), and $\\Lambda = \\operatorname{diag}(\\lambda_1, \\lambda_2, \\ldots, \\lambda_n)$.\n",
    "Then, for any $v$, let $w = Q v$, i.e. $v = Q^{-1} w$.\n",
    "So,\n",
    "$$\n",
    "    v^T A v = (Q^{-1} w)^T A Q^{-1} w = w^T Q^{-T} Q^T \\Lambda Q Q^{-1} w = w^T \\Lambda w > 0\n",
    "$$"
   ]
  },
  {
   "cell_type": "markdown",
   "metadata": {},
   "source": [
    "The fact that $A$ is SPD (symmetric and positive definite) makes the linear system of equations\n",
    "$$\n",
    "    A \\boldsymbol u = \\boldsymbol F\n",
    "$$\n",
    "much easier to solve.\n",
    "Such systems are more amenable to solution by numerical methods, both direct and iterative.\n",
    "In particular,\n",
    "\n",
    "* Direct: can use Cholesky instead of LU\n",
    "* Iterative:\n",
    "    * Gauss-Seidel\n",
    "    * (Better:) (preconditioned) conjugate gradient"
   ]
  },
  {
   "cell_type": "markdown",
   "metadata": {},
   "source": [
    "### Stationary Methods\n",
    "\n",
    "Let $A$ be a given matrix.\n",
    "We want to solve\n",
    "$$\n",
    "    A x = b\n",
    "$$\n",
    "for some right-hand side $b$.\n",
    "Suppose we cannot invert $A$ (e.g. because it is too large).\n",
    "\n",
    "There are a class of **iterative methods** for approximating the solution $x$ called **stationary methods**.\n",
    "These methods are based on the general iteration\n",
    "$$\n",
    "    x^{(i+1)} = x^{(i)} + B(b - A x^{(i)})\n",
    "$$\n",
    "for some **fixed** non-singular matrix $B$.\n",
    "\n",
    "We can consider this as a fixed-point iteration\n",
    "$$\n",
    "    x^{(i+1)} = \\Phi(x^{(i)}),\n",
    "$$\n",
    "where the iteration operator $\\Phi$ is defined by\n",
    "$$\n",
    "    \\Phi(z) = z + B(b - A z).\n",
    "$$\n",
    "\n",
    "Suppose $x$ is a fixed point of $\\Phi$, i.e. $\\Phi(x) = x$.\n",
    "Then,\n",
    "$$\n",
    "    x = x + B(b - A x)\n",
    "$$\n",
    "and we obtain\n",
    "$$\n",
    "    B A x = B b,\n",
    "$$\n",
    "and (since $B$ is nonsingular), this implies that\n",
    "$$\n",
    "    Ax = b,\n",
    "$$\n",
    "and $x$ is the solution to our problem."
   ]
  },
  {
   "cell_type": "markdown",
   "metadata": {},
   "source": [
    "Therefore, solving the problem $Ax = b$ is equivalent to finding a fixed point of $\\Phi$.\n",
    "\n",
    "The iteration\n",
    "$$\n",
    "    x^{(i+1)} = \\Phi_B(x^{(i)}),\n",
    "$$\n",
    "converges to a fixed point of $\\Phi_B$ .\n",
    "\n",
    "We know that if $\\Phi_B$ is a **contraction mapping**, then this iteration will converge to the unique fixed point.\n",
    "\n",
    "> **_RECALL:_** We say $\\Phi_B$ is **contraction mapping** if it brings any two points \"closer together,\" i.e., for any $x$ and $y$\n",
    "> $$\n",
    ">   \\| \\Phi_B(x) - \\Phi_B(y) \\| \\leq c \\| x - y \\|,\n",
    "> $$\n",
    "> with $c < 1$.\n",
    "\n",
    "Note that our operator is $\\Phi_B : z \\mapsto z + B(b - Az)$, and so\n",
    "$$\n",
    "    \\Phi_B(x) - \\Phi_B(y) = x + Bb - BAx - y - Bb + BAy = (I - BA)(x - y).\n",
    "$$\n",
    "This means that $\\Phi_B$ is a contraction mapping whenever the norm or spectral radius of $(I - BA)$ is less than one."
   ]
  },
  {
   "cell_type": "markdown",
   "metadata": {},
   "source": [
    "Note that $B$ can be heurtically considered as an approximation to $A^{-1}$.\n",
    "If $B = A^{-1}$, then the iteration will converge in one step.\n",
    "For $B \\approx A^{-1}$, then the norm $I - BA$, which measures the speed of convergence, will be close to zero, and convergence will be rapid.\n"
   ]
  },
  {
   "cell_type": "markdown",
   "metadata": {},
   "source": [
    "### Computational cost\n",
    "\n",
    "Each iteration of the stationary method is written\n",
    "$$\n",
    "    x^{(i+1)} = x^{(i)} + B(b - Ax^{(i)}).\n",
    "$$\n",
    "So, each iteration requires a matrix-vector product by $A$, two vector additions/subtractions, and the matrix-vector product (or operator application) with $B$.\n",
    "\n",
    "If $A$ is represented as a sparse matrix, then the cost of multiplying by $A$ is $\\mathcal{O}(nnz)$.\n",
    "\n",
    "To estimate the cost of the stationary method, we need estimates for the cost of applying $B$ and for the number of iterations."
   ]
  },
  {
   "cell_type": "markdown",
   "metadata": {},
   "source": [
    "### Examples of stationary methods\n",
    "\n",
    "1. Richardson method. Let $\\omega > 0$ by a fixed parameter. Set $B = \\omega I$.\n",
    "2. Jacobi method. Let $B = D^{-1}$ where $D$ is the diagonal of $A$.\n",
    "3. Gauss-Seidel method. Let $B = L^{-1}$ where $L$ is the lower-triangular part of $A$. (We could equally well use the upper triangular part)."
   ]
  },
  {
   "cell_type": "markdown",
   "metadata": {},
   "source": [
    "#### Gauss-Seidel method\n",
    "\n",
    "Decompose $A = L + U$, where\n",
    "\n",
    "* $L$ is lower-triangular\n",
    "* $U$ is **strictly** upper-triangular (zeros on the diagonal)\n",
    "\n",
    "The main idea is to approximate $A$ by its lower-triangular part (we could equally well use the upper-triangular part --- in our case, the matrix is symmetric, so it doesn't matter).\n",
    "\n",
    "We start with an initial guess $x^{(0)}$.\n",
    "This guess is not in general exact, so we have some **residual**\n",
    "$$\n",
    "    r^{(0)} = b - A x^{(0)}\n",
    "$$\n",
    "\n",
    "**If** we could invert $A$, and solve for the **error**\n",
    "$$\n",
    "    e^{(0)} = A^{-1} r^{(0)}\n",
    "$$\n",
    "then we can check\n",
    "$$\n",
    "    x = x^{(0)} + e^{(0)}\n",
    "$$\n",
    "since\n",
    "$$\n",
    "    A (x^{(0)} + e^{(0)}) = A x^{(0)} + r^{(0)} = b.\n",
    "$$\n",
    "\n",
    "But, we can approximate $e^{(0)}$ using the lower-triangular part $L$, and then iterate, i.e.\n",
    "$$\n",
    "    x^{(1)} = x^{(0)} + L^{-1} r^{(0)}\n",
    "$$\n",
    "We can see that this iteration results in\n",
    "$$\n",
    "    x^{(1)} = L^{-1} ( b - U x^{(0)} ).\n",
    "$$\n",
    "Another way of obtaining the same iteration is to write\n",
    "$$\n",
    "    Ax = (L + U) x = b\n",
    "$$\n",
    "and split the left-hand side to get\n",
    "$$\n",
    "    Lx = b - Ux,\n",
    "$$\n",
    "and use the \"previous\" guess for the right-hand side.\n",
    "\n",
    "In general, the iteration is\n",
    "$$\n",
    "    x^{(i+1)} = L^{-1} ( b - Ux^{(i)})\n",
    "$$"
   ]
  },
  {
   "cell_type": "markdown",
   "metadata": {},
   "source": [
    "Consider a simple example of a $3 \\times 3$ matrix,\n",
    "$$\n",
    "    \\begin{pmatrix}\n",
    "    a_{11} & a_{12} & a_{13} \\\\\n",
    "    a_{21} & a_{22} & a_{23} \\\\\n",
    "    a_{31} & a_{32} & a_{33} \\\\\n",
    "    \\end{pmatrix}\n",
    "    \\begin{pmatrix} x_1 \\\\ x_2 \\\\ x_3 \\end{pmatrix}\n",
    "    =\n",
    "    \\begin{pmatrix} b_1 \\\\ b_2 \\\\ b_3 \\end{pmatrix}.\n",
    "$$\n",
    "\n",
    "Suppose we are given an initial guess $(x_1^{(i)}, x_2^{(i)}, x_3^{(i)})$.\n",
    "Then, the Gauss-Seidel iteration improves on this guess by:\n",
    "\n",
    "1. Keeping $x_2^{(i)}$ and $x_3^{(i)}$ fixed, and then solving for $x_1^{(i+1)}$.\n",
    "2. Now we have an improved $x_1^{(i+1)}$, so use $x_1^{(i+1)}$ and $x_3^{(i)}$ to solve for $x_2^{(i+1)}$.\n",
    "3. Now use the improved values $x_1^{(i+1)}$ and $x_2^{(i+1)}$ to solve for $x_3^{(i+1)}$\n",
    "\n",
    "This can be written as\n",
    "$$\n",
    "    \\begin{pmatrix}\n",
    "    a_{11} & 0 & 0 \\\\\n",
    "    a_{21} & a_{22} & 0 \\\\\n",
    "    a_{31} & a_{32} & a_{33} \\\\\n",
    "    \\end{pmatrix}\n",
    "    \\begin{pmatrix} x_1^{(i+1)} \\\\ x_2^{(i+1)} \\\\ x_3^{(i+1)} \\end{pmatrix}\n",
    "    + \n",
    "    \\begin{pmatrix}\n",
    "    0 & a_{12} & a_{13} \\\\\n",
    "    0 & 0 & a_{23} \\\\\n",
    "    0 & 0 & 0 \\\\\n",
    "    \\end{pmatrix}\n",
    "    \\begin{pmatrix} x_1^{(i)} \\\\ x_2^{(i)} \\\\ x_3^{(i)} \\end{pmatrix}\n",
    "    =\n",
    "    \\begin{pmatrix} b_1 \\\\ b_2 \\\\ b_3 \\end{pmatrix}.\n",
    "$$\n",
    "\n",
    "It is easy to see that the general form of this iteration is\n",
    "$$\n",
    "    L x^{(i+1)} + U x^{(i)} = b,\n",
    "$$\n",
    "which is the Gauss-Seidel method."
   ]
  },
  {
   "cell_type": "markdown",
   "metadata": {},
   "source": [
    "### Convergence Analysis\n",
    "\n",
    "We will start with analysis for the case when $B$ is symmetric.\n",
    "We will then extend the analysis to non-symmetric $B$.\n",
    "\n",
    "If $B$ is symmetric, then $BA$ is not generally symmetric — at least not in the standard inner product.\n",
    "However, $BA$ is symmetric in the inner product induced by $A$.\n",
    "This means that $BA$ has only real eigenvalues.\n",
    "Consequently,\n",
    "$$\n",
    "    \\rho(I - BA) = \\max\\{ |1 - \\lambda_{\\min}(BA)|, |1-\\lambda_{\\max}(BA)| \\}.\n",
    "$$\n",
    "Therefore, the mapping $\\Phi_B$ is a contraction if\n",
    "$$\n",
    "    0 < \\lambda_{\\min}(BA) \\leq \\lambda_{\\max}(BA) < 2.\n",
    "$$"
   ]
  },
  {
   "cell_type": "markdown",
   "metadata": {},
   "source": [
    "### Symmetrized methods\n",
    "\n",
    "Let $B$ be given (potentially non-symmetric).\n",
    "Define the **symmetrized** stationary method by\n",
    "\n",
    "$$\n",
    "    \\begin{aligned}\n",
    "        x^{(i+1/2)} &= x^{(i)} + B(b - Ax^{(i)}) \\\\\n",
    "        x^{(i+1)} &= x^{(i+1/2)} + B^T(b - Ax^{(i+1/2)}).\n",
    "    \\end{aligned}\n",
    "$$\n",
    "\n",
    "Note that this can be expanded as a stationary method with matrix $\\bar{B}$,\n",
    "$$\n",
    "    x^{(i+1)} = x^{(i)} + \\bar{B}(b - Ax^{(i)}).\n",
    "$$\n",
    "The mapping $\\Phi_{\\bar{B}}$ satisfies\n",
    "$$\n",
    "    \\Phi_{\\bar{B}} = \\Phi_{B^T} \\Phi_{B}.\n",
    "$$\n",
    "This iteration will converge if\n",
    "$$\n",
    "    I - \\bar{B}A = (I - B^TA)(I - BA)\n",
    "$$\n",
    "is convergent.\n",
    "We can see that\n",
    "$$\n",
    "    \\bar{B} = B + B^T - B^T A B,\n",
    "$$\n",
    "from which it can be seen that $\\bar{B}$ is symmetric (in the standard inner product).\n",
    "It follows that $I - \\bar{B}A$ is symmetric in the inner product induced by $A$.\n",
    "\n",
    "So, the eigenvalues of $\\bar{B} A$ are real.\n",
    "Note additionally that $I - \\bar{B}A$ is **positive semi-definite**.\n",
    "This can be seen as follows.\n",
    "For any matrix $C$, its **adjoint** $C^*$ in the $A$ inner product is\n",
    "$$\n",
    "    C^* = A^{-1} C^T A.\n",
    "$$\n",
    "This matrix satisfies\n",
    "$$\n",
    "    (C^* x, y)_A = y^T A C^* x = y^T A A^{-1} C^T x = (C y)^T A x = (x, Cy)_A.\n",
    "$$\n",
    "So, the adjoint of $I - BA$ is\n",
    "$$\n",
    "    (I - BA)^* = I - A^{-1}(BA)^T A.\n",
    "$$\n",
    "We verify:\n",
    "$$\n",
    "    \\begin{aligned}\n",
    "        ((I - BA)^*x, y)_A\n",
    "            &= y^T A (I - BA)^*x \\\\\n",
    "            &= y^T A (I - A^{-1}(BA)^T A) x \\\\\n",
    "            &= y^T (A - A^T B^T A) x \\\\\n",
    "            &= ( (I - BA) y)^T A x \\\\\n",
    "            &= (x, (I - BA) y).\n",
    "    \\end{aligned}\n",
    "$$\n",
    "Note that\n",
    "$$\n",
    "    (I - BA)^* = I - A^{-1}(BA)^T A = I - B^T A,\n",
    "$$\n",
    "and so\n",
    "$$\n",
    "    I - \\bar{B}A = (I - BA)^* (I - BA).\n",
    "$$\n",
    "Let $x$ be an eigenvalue of $(I - \\bar{B}A)$.\n",
    "Then,\n",
    "$$\n",
    "    \\begin{aligned}\n",
    "        ((I - \\bar{B}A) x, x)_A\n",
    "            &= (\\lambda x, x) = \\lambda \\|x\\|_A^2.\n",
    "    \\end{aligned}\n",
    "$$\n",
    "Furthermore,\n",
    "$$\n",
    "    \\begin{aligned}\n",
    "        ((I - \\bar{B}A) x, x)_A\n",
    "            &= ((I - BA)^* (I-BA) x, x)_A \\\\\n",
    "            &= ((I-BA) x, (I - BA) x)_A \\\\\n",
    "            &\\geq 0.\n",
    "    \\end{aligned}\n",
    "$$\n",
    "This implies that\n",
    "$$\n",
    "    \\lambda_{\\min}(I - \\bar{B}A) \\geq 0,\n",
    "$$\n",
    "which is equivalent to\n",
    "$$\n",
    "    1 - \\lambda_{\\max}(\\bar{B}A) \\leq 1.\n",
    "$$\n",
    "\n",
    "Therefore, we have the following result:\n",
    "\n",
    "**Lemma.** The symmetrized method $\\Phi_{\\bar{B}}$ satisfies\n",
    "$$\n",
    "    \\rho(I - \\bar{B}A) = 1 - \\lambda_{\\min}(\\bar{B}A).\n",
    "$$\n",
    "\n",
    "**Theorem.** The symmetrized method coverges if and only if\n",
    "$$\n",
    "    B^{-1} + B^{-T} - A\n",
    "$$\n",
    "is symmetric and positive-definite.\n",
    "\n",
    "**Proof.**\n",
    "By the lemma, $\\Phi_{\\bar{B}}$ converges if and only if $\\lambda_{\\min}(\\bar{B}A) > 0$.\n",
    "Since $\\bar{B}A$ is symmetric in the $A$ inner product, this is equivalent to $\\bar{B}A$ being SPD in the $A$ inner product.\n",
    "That is equivalent to $\\bar{B}$ being SPD in the standard inner product.\n",
    "Recall that\n",
    "$$\n",
    "\\bar{B} = B + B^T - B^T A B,\n",
    "$$\n",
    "and so\n",
    "$$\n",
    "\\bar{B} = B^T(B^{-T} + B^{-1} - A) B,\n",
    "$$\n",
    "which is SPD if and only if $B^{-T} + B^{-1} - A$ is."
   ]
  },
  {
   "cell_type": "markdown",
   "metadata": {},
   "source": [
    "For arbitrary $B$ (potentially non-symmetric), then\n",
    "$$\n",
    "    \\rho(I - BA) \\leq \\sqrt{\\rho(I - \\bar{B}A)},\n",
    "$$\n",
    "and so $\\Phi_B$ converges iff $\\Phi_{\\bar{B}}$ does.\n",
    "This can be proven by noting\n",
    "$$\n",
    "    \\rho(I - BA)^2 \\leq \\| I - BA \\|_A^2 = \\| (I - BA)^* (I - BA) \\|_A = \\rho(I - \\bar{B}A)\n",
    "$$"
   ]
  },
  {
   "cell_type": "markdown",
   "metadata": {},
   "source": [
    "**Theorem.**\n",
    "The Richardson method converges if and only if\n",
    "$$\n",
    "    0 < \\omega < \\frac{2}{\\lambda_{\\max}(A)}.\n",
    "$$\n",
    "The optimal choice is given by\n",
    "$$\n",
    "    \\omega = \\frac{2}{\\lambda_{\\min}(A) + \\lambda_{\\max}(A)}\n",
    "$$\n",
    "and the convergence rate is\n",
    "$$\n",
    "    \\frac{\\kappa(A) - 1}{\\kappa(A) + 1}\n",
    "$$\n",
    "where $\\kappa(A)$ is the **condition number**\n",
    "$$\n",
    "    \\kappa(A) = \\frac{\\lambda_{\\max}(A)}{\\lambda_{\\min}(A)}.\n",
    "$$"
   ]
  },
  {
   "cell_type": "markdown",
   "metadata": {},
   "source": [
    "**Theorem.** The Jacobi method converges if the matrix $A$ is strictly diagonally dominant.\n",
    "\n",
    "**Theorem.** The Gauss-Seidel method converges for all SPD $A$.\n",
    "\n",
    "**Proof.**\n",
    "For Gauss-Seidel, $B = L^{-1}$, and so\n",
    "$$\n",
    "    B^{-T} + B^{-1} - A = D,\n",
    "$$\n",
    "which is SPD."
   ]
  },
  {
   "cell_type": "markdown",
   "metadata": {},
   "source": [
    "## Computational Example with MFEM"
   ]
  },
  {
   "cell_type": "code",
   "execution_count": 2,
   "metadata": {},
   "outputs": [],
   "source": [
    "# Import MFEM and GLVis, define a coefficient...\n",
    "\n",
    "import mfem.ser as mfem\n",
    "from glvis import glvis\n",
    "\n",
    "from math import cos, exp, sin\n",
    "\n",
    "class f(mfem.PyCoefficient):\n",
    "    def EvalValue(self, xvec):\n",
    "        x = xvec[0]\n",
    "        y = xvec[1]\n",
    "        return exp(0.1*sin(5.1*x - 6.2*y) + 0.3*cos(4.3*x +3.4*y))"
   ]
  },
  {
   "cell_type": "code",
   "execution_count": 3,
   "metadata": {},
   "outputs": [],
   "source": [
    "# Create the mesh and finite element space\n",
    "mesh = mfem.Mesh(20, 20, \"TRIANGLE\")\n",
    "order_k = 2\n",
    "fe_collection = mfem.H1_FECollection(order_k, mesh.Dimension())\n",
    "fe_space = mfem.FiniteElementSpace(mesh, fe_collection)\n",
    "\n",
    "# 5. Define the solution x as a finite element grid function in fespace. Set\n",
    "#    the initial guess to zero, which also sets the boundary conditions.\n",
    "u = mfem.GridFunction(fe_space)\n",
    "\n",
    "# Create the right-hand side vector using the linear form F : v -> (f, v)\n",
    "# This is called a \"domain linear form integrator\", or DomainLFIntegrator\n",
    "F = mfem.LinearForm(fe_space)\n",
    "F.AddDomainIntegrator(mfem.DomainLFIntegrator(f()))\n",
    "# F.Assemble() tells MFEM to actually compute the entries of the vector F\n",
    "F.Assemble()\n",
    "\n",
    "# Set up the bilinear form m(.,.). The L2 inner product is called a\n",
    "# \"mass integrator\"\n",
    "m = mfem.BilinearForm(fe_space)\n",
    "m.AddDomainIntegrator(mfem.MassIntegrator())\n",
    "m.Assemble()\n",
    "m.Finalize()\n",
    "\n",
    "# Get the matrix associated with the bilinear form\n",
    "M = m.SpMat()\n"
   ]
  },
  {
   "cell_type": "code",
   "execution_count": 4,
   "metadata": {},
   "outputs": [
    {
     "data": {
      "text/plain": [
       "<matplotlib.image.AxesImage at 0x125456090>"
      ]
     },
     "execution_count": 4,
     "metadata": {},
     "output_type": "execute_result"
    },
    {
     "data": {
      "image/png": "[encoded data removed]",
      "text/plain": [
       "<Figure size 640x480 with 1 Axes>"
      ]
     },
     "metadata": {},
     "output_type": "display_data"
    }
   ],
   "source": [
    "from mfem.common.sparse_utils import sparsemat_to_scipycsr\n",
    "import matplotlib.pyplot as plt\n",
    "\n",
    "plt.spy(sparsemat_to_scipycsr(M, float).todense())"
   ]
  },
  {
   "cell_type": "code",
   "execution_count": 5,
   "metadata": {},
   "outputs": [
    {
     "name": "stdout",
     "output_type": "stream",
     "text": [
      "   Iteration :   0  ||Br|| = 32.2015\n",
      "   Iteration :   1  ||Br|| = 7.79566    \tConv. rate: 7.79566\n",
      "   Iteration :   2  ||Br|| = 1.67135    \tConv. rate: 0.214394\n",
      "   Iteration :   3  ||Br|| = 0.386499   \tConv. rate: 0.23125\n",
      "   Iteration :   4  ||Br|| = 0.100165   \tConv. rate: 0.25916\n",
      "   Iteration :   5  ||Br|| = 0.0288377  \tConv. rate: 0.287902\n",
      "   Iteration :   6  ||Br|| = 0.00899321 \tConv. rate: 0.311856\n",
      "   Iteration :   7  ||Br|| = 0.00296643 \tConv. rate: 0.329853\n",
      "   Iteration :   8  ||Br|| = 0.00101765 \tConv. rate: 0.343057\n",
      "   Iteration :   9  ||Br|| = 0.000359001\tConv. rate: 0.352773\n",
      "   Iteration :  10  ||Br|| = 0.000129205\tConv. rate: 0.359901\n",
      "   Iteration :  11  ||Br|| = 4.71679e-05\tConv. rate: 0.365063\n",
      "   Iteration :  12  ||Br|| = 1.73928e-05\tConv. rate: 0.368743\n",
      "   Iteration :  13  ||Br|| = 6.45859e-06\tConv. rate: 0.371336\n",
      "   Iteration :  14  ||Br|| = 2.41006e-06\tConv. rate: 0.373155\n",
      "   Iteration :  15  ||Br|| = 9.02416e-07\tConv. rate: 0.374437\n",
      "   Iteration :  16  ||Br|| = 3.38726e-07\tConv. rate: 0.375355\n",
      "   Iteration :  17  ||Br|| = 1.27371e-07\tConv. rate: 0.37603\n",
      "   Iteration :  18  ||Br|| = 4.79608e-08\tConv. rate: 0.376544\n",
      "   Iteration :  19  ||Br|| = 1.8079e-08 \tConv. rate: 0.376954\n",
      "   Iteration :  20  ||Br|| = 6.82118e-09\tConv. rate: 0.377298\n",
      "   Iteration :  21  ||Br|| = 2.57568e-09\tConv. rate: 0.377601\n"
     ]
    }
   ],
   "source": [
    "Linv = mfem.GSSmoother(M)\n",
    "GS = mfem.SLISolver()\n",
    "GS.SetPreconditioner(Linv)\n",
    "GS.SetOperator(M)\n",
    "GS.SetRelTol(1e-10)\n",
    "GS.SetPrintLevel(1)\n",
    "GS.SetMaxIter(100)\n",
    "u.Assign(0.0)\n",
    "GS.Mult(F,u)"
   ]
  },
  {
   "cell_type": "code",
   "execution_count": 6,
   "metadata": {},
   "outputs": [],
   "source": [
    "def nnz_mass_matrix(n):\n",
    "    # Create the mesh and finite element space\n",
    "    mesh = mfem.Mesh(n, n, \"TRIANGLE\")\n",
    "    order_k = 1\n",
    "    fe_collection = mfem.H1_FECollection(order_k, mesh.Dimension())\n",
    "    fe_space = mfem.FiniteElementSpace(mesh, fe_collection)\n",
    "    m = mfem.BilinearForm(fe_space)\n",
    "    m.AddDomainIntegrator(mfem.MassIntegrator())\n",
    "    m.Assemble()\n",
    "    m.Finalize()\n",
    "    M = m.SpMat()\n",
    "    return (M.Width(), M.NumNonZeroElems())"
   ]
  },
  {
   "cell_type": "code",
   "execution_count": 7,
   "metadata": {},
   "outputs": [],
   "source": [
    "import numpy as np\n",
    "import matplotlib.pyplot as plt\n",
    "\n",
    "nrefinements = 6\n",
    "\n",
    "nnzs = np.zeros(nrefinements)\n",
    "ns = np.zeros(nrefinements)\n",
    "mesh_size = 4\n",
    "\n",
    "for i in range(nrefinements):\n",
    "    ns[i], nnzs[i] = nnz_mass_matrix(mesh_size)\n",
    "    mesh_size *= 2\n"
   ]
  },
  {
   "cell_type": "code",
   "execution_count": 8,
   "metadata": {},
   "outputs": [
    {
     "data": {
      "text/plain": [
       "<matplotlib.legend.Legend at 0x125511e80>"
      ]
     },
     "execution_count": 8,
     "metadata": {},
     "output_type": "execute_result"
    },
    {
     "data": {
      "image/png": "[encoded data removed]",
      "text/plain": [
       "<Figure size 640x480 with 1 Axes>"
      ]
     },
     "metadata": {},
     "output_type": "display_data"
    }
   ],
   "source": [
    "plt.loglog(ns, nnzs, label=\"Mass NNZ\")\n",
    "plt.loglog(ns, ns**2, label=\"$n^2$\")\n",
    "plt.legend()"
   ]
  },
  {
   "cell_type": "code",
   "execution_count": 9,
   "metadata": {},
   "outputs": [
    {
     "data": {
      "text/plain": [
       "np.float64(1.0064109694630328)"
      ]
     },
     "execution_count": 9,
     "metadata": {},
     "output_type": "execute_result"
    }
   ],
   "source": [
    "np.log(nnzs[-1]/nnzs[-2]) / np.log(ns[-1]/ns[-2])"
   ]
  },
  {
   "cell_type": "code",
   "execution_count": 10,
   "metadata": {},
   "outputs": [],
   "source": [
    "def mass_matrix_gauss_seidel(n):\n",
    "    mesh = mfem.Mesh(n, n, \"TRIANGLE\")\n",
    "    order_k = 2\n",
    "    fe_collection = mfem.H1_FECollection(order_k, mesh.Dimension())\n",
    "    fe_space = mfem.FiniteElementSpace(mesh, fe_collection)\n",
    "    u = mfem.GridFunction(fe_space)\n",
    "    F = mfem.LinearForm(fe_space)\n",
    "    F.AddDomainIntegrator(mfem.DomainLFIntegrator(f()))\n",
    "    # F.Assemble() tells MFEM to actually compute the entries of the vector F\n",
    "    F.Assemble()\n",
    "    m = mfem.BilinearForm(fe_space)\n",
    "    m.AddDomainIntegrator(mfem.MassIntegrator())\n",
    "    m.Assemble()\n",
    "    m.Finalize()\n",
    "    M = m.SpMat()\n",
    "    Linv = mfem.GSSmoother(M)\n",
    "    GS = mfem.SLISolver()\n",
    "    GS.SetPreconditioner(Linv)\n",
    "    GS.SetOperator(M)\n",
    "    GS.SetRelTol(1e-10)\n",
    "    GS.SetMaxIter(100)\n",
    "    GS.SetPrintLevel(0)\n",
    "    u.Assign(0.0)\n",
    "    GS.Mult(F,u)\n",
    "    print(\"Gauss-Seidel converged in: \", GS.GetNumIterations(), \"iterations\")\n"
   ]
  },
  {
   "cell_type": "code",
   "execution_count": 11,
   "metadata": {},
   "outputs": [
    {
     "name": "stdout",
     "output_type": "stream",
     "text": [
      "Gauss-Seidel converged in:  23 iterations\n",
      "Gauss-Seidel converged in:  22 iterations\n",
      "Gauss-Seidel converged in:  21 iterations\n",
      "Gauss-Seidel converged in:  21 iterations\n",
      "Gauss-Seidel converged in:  20 iterations\n",
      "Gauss-Seidel converged in:  19 iterations\n"
     ]
    }
   ],
   "source": [
    "mesh_size = 4\n",
    "\n",
    "for i in range(6):\n",
    "    mass_matrix_gauss_seidel(mesh_size)\n",
    "    mesh_size *= 2"
   ]
  },
  {
   "cell_type": "code",
   "execution_count": 12,
   "metadata": {},
   "outputs": [
    {
     "name": "stdout",
     "output_type": "stream",
     "text": [
      "CPU times: user 2.25 ms, sys: 35 μs, total: 2.28 ms\n",
      "Wall time: 2.28 ms\n"
     ]
    }
   ],
   "source": [
    "mesh = mfem.Mesh(80, 80, \"TRIANGLE\")\n",
    "order_k = 1\n",
    "fe_collection = mfem.H1_FECollection(order_k, mesh.Dimension())\n",
    "fe_space = mfem.FiniteElementSpace(mesh, fe_collection)\n",
    "u = mfem.GridFunction(fe_space)\n",
    "F = mfem.LinearForm(fe_space)\n",
    "F.AddDomainIntegrator(mfem.DomainLFIntegrator(f()))\n",
    "# F.Assemble() tells MFEM to actually compute the entries of the vector F\n",
    "F.Assemble()\n",
    "m = mfem.BilinearForm(fe_space)\n",
    "m.AddDomainIntegrator(mfem.MassIntegrator())\n",
    "m.Assemble()\n",
    "m.Finalize()\n",
    "M = m.SpMat()\n",
    "Linv = mfem.GSSmoother(M)\n",
    "GS = mfem.SLISolver()\n",
    "GS.SetPreconditioner(Linv)\n",
    "GS.SetOperator(M)\n",
    "GS.SetRelTol(1e-10)\n",
    "GS.SetMaxIter(100)\n",
    "GS.SetPrintLevel(0)\n",
    "u.Assign(0.0)\n",
    "%time GS.Mult(F,u)"
   ]
  },
  {
   "cell_type": "code",
   "execution_count": 13,
   "metadata": {},
   "outputs": [
    {
     "name": "stdout",
     "output_type": "stream",
     "text": [
      "CPU times: user 2.52 s, sys: 121 ms, total: 2.64 s\n",
      "Wall time: 1.55 s\n"
     ]
    },
    {
     "data": {
      "text/plain": [
       "array([1.35013465, 1.35812419, 1.36500359, ..., 0.9834829 , 0.97043494,\n",
       "       0.95775   ])"
      ]
     },
     "execution_count": 13,
     "metadata": {},
     "output_type": "execute_result"
    }
   ],
   "source": [
    "import numpy as np\n",
    "M_dense = sparsemat_to_scipycsr(M, float).todense()\n",
    "rhs = F.GetDataArray()\n",
    "%time np.linalg.solve(M_dense, rhs)"
   ]
  },
  {
   "cell_type": "code",
   "execution_count": 14,
   "metadata": {},
   "outputs": [],
   "source": [
    "from time import time\n",
    "\n",
    "def solve_benchmark(n):\n",
    "    mesh = mfem.Mesh(n, n, \"TRIANGLE\")\n",
    "    order_k = 1\n",
    "    fe_collection = mfem.H1_FECollection(order_k, mesh.Dimension())\n",
    "    fe_space = mfem.FiniteElementSpace(mesh, fe_collection)\n",
    "    u = mfem.GridFunction(fe_space)\n",
    "    F = mfem.LinearForm(fe_space)\n",
    "    F.AddDomainIntegrator(mfem.DomainLFIntegrator(f()))\n",
    "    # F.Assemble() tells MFEM to actually compute the entries of the vector F\n",
    "    F.Assemble()\n",
    "    m = mfem.BilinearForm(fe_space)\n",
    "    m.AddDomainIntegrator(mfem.MassIntegrator())\n",
    "    m.Assemble()\n",
    "    m.Finalize()\n",
    "    M = m.SpMat()\n",
    "    Linv = mfem.GSSmoother(M)\n",
    "    GS = mfem.SLISolver()\n",
    "    GS.SetPreconditioner(Linv)\n",
    "    GS.SetOperator(M)\n",
    "    GS.SetRelTol(1e-10)\n",
    "    GS.SetMaxIter(100)\n",
    "    GS.SetPrintLevel(0)\n",
    "    u.Assign(0.0)\n",
    "    t1 = time()\n",
    "    GS.Mult(F,u)\n",
    "    elapsed_gs = time() - t1\n",
    "\n",
    "    M_dense = sparsemat_to_scipycsr(M, float).todense()\n",
    "    rhs = F.GetDataArray()\n",
    "    t1 = time()\n",
    "    np.linalg.solve(M_dense, rhs)\n",
    "    elapsed_dense = time() - t1\n",
    "\n",
    "    return (M.Size(), elapsed_gs, elapsed_dense)"
   ]
  },
  {
   "cell_type": "code",
   "execution_count": 15,
   "metadata": {},
   "outputs": [],
   "source": [
    "import numpy as np\n",
    "import matplotlib.pyplot as plt\n",
    "\n",
    "nrefinements = 6\n",
    "\n",
    "ns = np.zeros(nrefinements)\n",
    "t_gs = np.zeros(nrefinements)\n",
    "t_dense = np.zeros(nrefinements)\n",
    "mesh_size = 4\n",
    "\n",
    "for i in range(nrefinements):\n",
    "    ns[i], t_gs[i], t_dense[i] = solve_benchmark(mesh_size)\n",
    "    mesh_size *= 2\n"
   ]
  },
  {
   "cell_type": "code",
   "execution_count": 16,
   "metadata": {},
   "outputs": [
    {
     "data": {
      "text/plain": [
       "<matplotlib.legend.Legend at 0x125716120>"
      ]
     },
     "execution_count": 16,
     "metadata": {},
     "output_type": "execute_result"
    },
    {
     "data": {
      "image/png": "[encoded data removed]",
      "text/plain": [
       "<Figure size 640x480 with 1 Axes>"
      ]
     },
     "metadata": {},
     "output_type": "display_data"
    }
   ],
   "source": [
    "plt.loglog(ns, t_gs, label=\"Gauss-Seidel\")\n",
    "plt.loglog(ns, t_dense, label=\"Gaussian Elimination (Dense)\")\n",
    "plt.loglog(ns, 2e-7*ns, 'k:')\n",
    "plt.loglog(ns, 2e-8*ns**2, 'k:')\n",
    "plt.legend()"
   ]
  },
  {
   "cell_type": "code",
   "execution_count": null,
   "metadata": {},
   "outputs": [],
   "source": []
  }
 ],
 "metadata": {
  "colab": {
   "provenance": []
  },
  "kernelspec": {
   "display_name": ".venv",
   "language": "python",
   "name": "python3"
  },
  "language_info": {
   "codemirror_mode": {
    "name": "ipython",
    "version": 3
   },
   "file_extension": ".py",
   "mimetype": "text/x-python",
   "name": "python",
   "nbconvert_exporter": "python",
   "pygments_lexer": "ipython3",
   "version": "3.12.7"
  },
  "title": "Lecture 10"
 },
 "nbformat": 4,
 "nbformat_minor": 1
}

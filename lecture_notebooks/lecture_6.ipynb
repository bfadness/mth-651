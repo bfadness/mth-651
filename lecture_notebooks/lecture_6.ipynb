{
  "cells": [
    {
      "cell_type": "markdown",
      "metadata": {},
      "source": [
        "# MTH 651: Advanced Numerical Analysis"
      ]
    },
    {
      "cell_type": "markdown",
      "metadata": {},
      "source": [
        "## Lecture 6"
      ]
    },
    {
      "cell_type": "markdown",
      "metadata": {
        "id": "d5sMJY4v8Tol"
      },
      "source": [
        "### Topics\n",
        "\n",
        "* Riesz Representation Theorem\n",
        "* Variational problems\n",
        "\n",
        "#### Textbook references\n",
        "\n",
        "Sections 2.4, 2.5"
      ]
    },
    {
      "cell_type": "markdown",
      "metadata": {},
      "source": [
        "#### Riesz Representation Theorem\n",
        "\n",
        "Let $u \\in H$.\n",
        "We can define a continuous linear functional\n",
        "$$ L_u : v \\mapsto (u, v) $$\n",
        "(i.e. every element of $H$ corresponds to a linear functional in the dual space).\n",
        "\n",
        "The following (important!) theorem proves that the converse is true: every continuous linear functional is given by $L_u$ for some $u \\in H$."
      ]
    },
    {
      "cell_type": "markdown",
      "metadata": {},
      "source": [
        "> **_THEOREM:_** Let $L : H \\to \\mathbb{R}$ be a continuous linear functional. Then, there exists a unique $u \\in H$ such that $$ L(v) = (u, v) $$ for all $v \\in H$. Furthermore, $$ \\| L \\|_{H'} = \\| u \\|_H$$"
      ]
    },
    {
      "cell_type": "markdown",
      "metadata": {},
      "source": [
        "> **_Proof._**\n",
        "> Define\n",
        "> $$ M = \\{ v \\in H : L(v) = 0 \\} $$\n",
        "> $M$ is a subspace of $H$. (Why?)\n",
        "> Therefore, $H = M \\oplus M^\\perp$.\n",
        ">\n",
        "> **Claim:** either $\\dim(M^\\perp) = 1$ or $\\dim(M^\\perp) = 0$.\n",
        ">\n",
        "> **Case 1.** $M^\\perp = \\{ 0 \\}$. Then $\\dim(M^\\perp) = 0$, and $M = H$, so $L \\equiv 0$, and we can take $u = 0$.\n",
        ">\n",
        "> **Case 2.**\n",
        "> $M^\\perp \\neq \\{ 0 \\}$.\n",
        "> Choose any $z \\in M^\\perp$ such that $z \\neq 0$.\n",
        "> Let $v \\in H$ be arbitrary.\n",
        "> We decompose\n",
        "> $$ v = \\beta z + (v - \\beta z) $$\n",
        "> with\n",
        "> $$ \\beta = Lv / Lz. $$\n",
        "> Clearly, $\\beta z \\in M^\\perp$.\n",
        "> It is straightforward to check that $L( v - \\beta z ) = 0$, so $(v - \\beta z) \\in M$.\n",
        ">\n",
        "> Taking $v \\in M^\\perp$, and since this decomposition is unique, we have that $v = \\beta z$, so $M^\\perp$ is one-dimensional.\n",
        ">\n",
        "> This means that $u$ has to be a scalar multiple of $z$.\n",
        "> \n",
        "> Define\n",
        "> $$ u = \\frac{L(z)}{\\| z \\|^2_H} z. $$\n",
        "> We can check\n",
        "> $$\n",
        "> \\begin{align*}\n",
        ">   (u, v)\n",
        ">       &= \\frac{L(z)}{\\| z \\|^2_H} (z, v) \\\\\n",
        ">       &= \\frac{L(z)}{\\| z \\|^2_H} (z, \\beta z + (v - \\beta z)) \\\\\n",
        ">       &= \\frac{L(z)}{\\| z \\|^2_H} \\left( \\beta \\| z \\|_H^2 \\right ) \\\\\n",
        ">       &= L(z) \\beta = L(v)\n",
        "> \\end{align*}\n",
        "> $$\n",
        ">\n",
        "> This element is unique because if there are two such $u_1$, $u_2$, then\n",
        "> $$ L(v) = (u_1, v) = (u_2, v) $$\n",
        "> for all $v \\in H$, i.e.\n",
        "> $$ (u_1 - u_2, v) = 0 $$\n",
        "> for all $v$, so $u_1 = u_2$ (take $v = u_1 - u_2$ in the above).\n",
        ">\n",
        "> Finally, we check the norm property\n",
        "> $$ \\| L \\|_{H'} = \\| u \\|_H $$\n",
        "> Recall that\n",
        "> $$ \\| L \\|_{H'} = \\sup_{v \\in H} \\frac{|L(v)|}{\\| v \\|_H} $$\n",
        "> Then, first note that\n",
        "> $$ \\| L \\|_{H'} \\geq \\frac{|L(u)|}{\\| u \\|_H} = \\frac{ (u, u) }{\\| u \\|_H} = \\| u \\|_H $$\n",
        "> Additionally, for any $v$\n",
        "> $$ \\frac{|L(v)|}{\\| v \\|_H} = \\frac{|(u,v)|}{\\| v \\|_H} \\leq \\frac{ \\|u\\|_H \\|v\\|_H}{\\|v\\|_H} = \\| u \\|_H $$\n",
        "> by Cauchy-Schwarz,\n",
        "> so\n",
        "> $$ \\| L \\|_{H'} = \\sup_{v \\in H} \\frac{|L(v)|}{\\| v \\|_H} \\leq \\| u \\|_H $$\n",
        "> and the result follows."
      ]
    },
    {
      "cell_type": "markdown",
      "metadata": {},
      "source": [
        "#### Symmetric Variational Problems\n",
        "\n",
        "> **_DEFINITION:_** A bilinear form $a(\\cdot, \\cdot)$ on $H$ is **bounded** (or **continuous**) if there exists a constant $C < \\infty$ such that\n",
        "> $$ | a(v, w) | \\leq C \\| v ||_H \\| w \\|_H $$\n",
        "> for all $v, w \\in H$.\n",
        "> $a(\\cdot, \\cdot)$ is **coercive** if there exists $\\alpha > 0$ such that.\n",
        "> $$ a(v, v) \\geq \\alpha \\| v \\|_H^2 $$\n",
        "> for all $v \\in H$."
      ]
    },
    {
      "cell_type": "markdown",
      "metadata": {},
      "source": [
        "> **_DEFINITION:_**\n",
        "> Let $H$ be a Hilbert space, and suppose the bilinear form $a(\\cdot, \\cdot)$ is bounded on $H$ and coercive on a subspace $V$ of $H$.\n",
        "> Then, $V$ is a Hilbert space with the inner product $a(\\cdot, \\cdot)$."
      ]
    },
    {
      "cell_type": "markdown",
      "metadata": {},
      "source": [
        "> **_Proof._**\n",
        "> It is straightforward to check that $a(\\cdot, \\cdot)$ is an inner product on $V$.\n",
        "> \n",
        "> Let $\\| v \\|_E = (v, v)^{1/2}$.\n",
        "> Suppose that $\\{ v_k \\}$ is a Cauchy sequence in $V$, i.e. $\\| v_i - v_j \\|_E \\to 0$ as $i, j \\to \\infty$.\n",
        "> Then, by coercivity of the bilinear form, $\\| v_i - v_j \\|_H \\to 0$, so $\\{ v_k \\}$ is Cauchy in $H$, and so the sequence converges in $H$ to some limit $v$.\n",
        "> Therefore, $\\| v_i - v \\|_H \\to 0$ as $i \\to \\infty$.\n",
        "> By boundedness of $a(\\cdot, \\cdot)$ we have that $\\| v_i - v \\|_E \\to 0$, and since $V$ is closed, $v_i \\to v$ in $V$."
      ]
    },
    {
      "cell_type": "markdown",
      "metadata": {},
      "source": [
        "Suppose:\n",
        "\n",
        "* $H$ is a Hilbert space with inner product $(\\cdot, \\cdot)$\n",
        "* $V$ is a subspace of $H$\n",
        "* $a(\\cdot, c\\dot)$ is a **bounded**, **symmetric** bilinear form that is **coercive** on $V$\n",
        "\n",
        "Then, the **symmetric variational problem** is:\n",
        "\n",
        "> Given $F \\in V'$, find $u \\in V$ such that $a(u, v) = F(v)$ for all $v \\in V$\n",
        "\n",
        "This problem has a unique solution. (Why?)\n",
        "\n",
        "The **Galerkin approximation problem** is:\n",
        "\n",
        "> Given $F \\in V'$ and a **finite-dimensional** subspace $V_h \\subseteq V$, find $u_h \\in V_h$ such that\n",
        "> $$ a(u_h, v) = F(v) \\quad \\text{for all $v \\in V_h$} $$"
      ]
    },
    {
      "cell_type": "markdown",
      "metadata": {},
      "source": [
        "As before, we have **Galerkin orthogonality**, i.e. if $u$ solves the _symmetric variational problem_ and $u_h$ solves the _Galerkin approximation problem_ then\n",
        "$$ (u - u_h, v) = 0 \\quad\\text{for all $v \\in V_h$} $$\n",
        "\n",
        "As a corollary, we have that\n",
        "$$ \\| u - u_h \\|_E = \\min_{v \\in V_h} \\| u - v \\|_E $$"
      ]
    },
    {
      "cell_type": "markdown",
      "metadata": {},
      "source": [
        "### Application to Poisson problem\n",
        "\n",
        "Consider a slightly modified model problem\n",
        "$$\n",
        "\\begin{align*}\n",
        "    -\\Delta u + u &= f && \\text{in $\\Omega$} \\\\\n",
        "    u &= 0 && \\text{on $\\partial\\Omega$}\n",
        "\\end{align*}\n",
        "$$\n",
        "\n",
        "This is the same problem we were looking at in the 1D case, but now we will consider domains in $\\mathbb{R}^n$ rather than just $\\mathbb{R}^1$.\n",
        "\n",
        "Multiplying by a test function and integrating by parts gives the bilinear form\n",
        "$$\n",
        "    a(u, v) = \\int_\\Omega \\nabla u(x) \\cdot \\nabla v(x) \\, dx + \\int_\\Omega u(x) v(x) \\, dx\n",
        "$$\n",
        "So, we can give the variational form of our equations:\n",
        "\n",
        "> Find $u \\in H^1_0(\\Omega)$ such that, for all $v \\in H^1_0(\\Omega)$\n",
        "> $$\n",
        ">   a(u, v) = (f, v)\n",
        "> $$\n",
        "\n",
        "(In the above, we use $H^1_0(\\Omega) = \\mathring{W}^1_2(\\Omega)$ to denote the space of functions with weak derivatives of order 1 in $L^2$ that have zero-trace (to satisfy the BCs))\n",
        "\n",
        "> **_PROPOSITION:_** The bilinear form $a(\\cdot, \\cdot)$ is continuous and coercive in $H^1$\n",
        "\n",
        "> _Proof._ In fact, $a(u, v) = (u, v)_{H^1(\\Omega)}$ and so this is immediate.\n",
        "\n",
        "Therefore, by the Riesz Representation Theorem, there exists a unique $u$ such that $a(u, v) = (f, v)$ for all $v \\in H^1_0(\\Omega)$ (just view $L(v) : v \\mapsto (f, v)$ as a linear functional).\n",
        "\n",
        "The same argument applies to **any** subspace of $H^1_0(\\Omega)$. In particular, we can use a finite-dimensional subspace, and the resulting method is a Galerkin method."
      ]
    },
    {
      "cell_type": "markdown",
      "metadata": {},
      "source": []
    }
  ],
  "metadata": {
    "colab": {
      "provenance": []
    },
    "kernelspec": {
      "display_name": "Python 3.9.6 64-bit",
      "language": "python",
      "name": "python3"
    },
    "language_info": {
      "codemirror_mode": {
        "name": "ipython",
        "version": 3
      },
      "file_extension": ".py",
      "mimetype": "text/x-python",
      "name": "python",
      "nbconvert_exporter": "python",
      "pygments_lexer": "ipython3",
      "version": "3.9.6"
    },
    "vscode": {
      "interpreter": {
        "hash": "31f2aee4e71d21fbe5cf8b01ff0e069b9275f58929596ceb00d14d90e3e16cd6"
      }
    }
  },
  "nbformat": 4,
  "nbformat_minor": 0
}

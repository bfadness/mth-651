{
 "cells": [
  {
   "cell_type": "markdown",
   "metadata": {},
   "source": [
    "# MTH 651: Advanced Numerical Analysis"
   ]
  },
  {
   "cell_type": "markdown",
   "metadata": {},
   "source": [
    "## Lecture 13"
   ]
  },
  {
   "cell_type": "markdown",
   "metadata": {
    "id": "d5sMJY4v8Tol"
   },
   "source": [
    "### Topics\n",
    "\n",
    "* Applications of Bramble-Hilbert lemma\n",
    "* Error estimates on finite elements\n",
    "* Affine equivalence of elemenets\n",
    "* Error estimates on meshes"
   ]
  },
  {
   "cell_type": "markdown",
   "metadata": {},
   "source": [
    "> **_LEMMA (Friedrichs' Inequality):_** \n",
    "> Let $\\Omega$ be star-shaped w.r.t. a ball $B$.\n",
    "> For any $u \\in W^1_p(\\Omega)$, let $\\overline{u}$ denote the average of $u$ over $\\Omega$.\n",
    "> Then,\n",
    "> $$\n",
    ">   \\| u - \\overline{u} \\|_{W^1_p(\\Omega)} \\leq C | u |_{W^1_p(\\Omega)}\n",
    "> $$"
   ]
  },
  {
   "cell_type": "markdown",
   "metadata": {},
   "source": [
    "> _Proof._ \n",
    "> For any constant $c$, we have that\n",
    "> $$\n",
    ">   \\| u - \\overline{u} \\|_{L^p(\\Omega)} = \\| (u - c) - \\overline{(u - c)} \\|_{L^p(\\Omega)}\n",
    ">   \\leq \\| u - c \\|_{L^p(\\Omega)} + \\| \\overline{u - c} \\|_{L^p(\\Omega)}\n",
    "> $$\n",
    "> Note that for any $v$, we have that $\\| \\overline{v} \\|_{L^p(\\Omega)} \\leq \\| v \\|_{L^p(\\Omega)}$ (use Hölder).\n",
    ">\n",
    "> Therefore,\n",
    "> $$\n",
    ">   \\| u - \\overline{u} \\|_{L^p(\\Omega)} \\leq 2 \\| u - c \\|_{L^p(\\Omega)}\n",
    "> $$\n",
    "> and since this holds for **any** $c$, we are free to choose $c$ to make the right-hand side as small as possible.\n",
    ">\n",
    "> Let $c$ be the zeroth-order averaged Taylor polynomial over some ball $B$, i.e.\n",
    "> $$\n",
    ">   c = Q^0_B u\n",
    "> $$\n",
    "> (which is, of course, a constant),\n",
    "> and from the Bramble-Hilbert lemma with constant $C^*$, we obtain\n",
    "> $$\n",
    ">   \\| u - \\overline{u} \\|_{L^p(\\Omega)} \\leq C^* | u |_{W^1_p(\\Omega)}\n",
    "> $$\n",
    "> and the desired result follows with $C = C^* + 1$."
   ]
  },
  {
   "cell_type": "markdown",
   "metadata": {},
   "source": [
    "#### Application to finite elements\n",
    "\n",
    "Let $(K, \\mathcal{P}, \\mathcal{N})$ be a finite element, and assume that $\\operatorname{diam}(K) = \\delta$, $K$ is star-shaped w.r.t. some ball $B$.\n",
    "Suppose $\\mathcal{P}_{k} \\subseteq \\mathcal{P}$ (i.e. all polynomials of degree $k$ are included in the shape functions).\n",
    "Suppose also that the interpolation operator $\\mathcal{I}_K$ is bounded (we proved this when the nodal variables involve pointwise evaluations).\n",
    "\n",
    "Then,\n",
    "$$\n",
    "    | f - \\mathcal{I}_K f |_{H^\\ell} \\leq C \\delta^{k + 1 - \\ell} | f |_{H^{k+1}(K)}\n",
    "$$"
   ]
  },
  {
   "cell_type": "markdown",
   "metadata": {},
   "source": [
    "To prove this, we can change variables $x \\mapsto \\theta(x)$ with $\\theta(x) = x/\\delta$.\n",
    "This transformation maps an element domain $K$ of diameter $\\delta$ to a \"reference domain\" $\\widetilde{K}$ with diameter $1$.\n",
    "\n",
    "Then,\n",
    "$$\n",
    "    \\begin{aligned}\n",
    "        \\int_K | D^\\beta (\\mathcal{I}f - f ) |^2 \\,dx\n",
    "            &= \\delta^{-2|\\beta| + d} \\int_{\\widetilde{K}} | D^\\beta ( \\mathcal{I}f \\circ \\theta - f \\circ \\theta  ) |^2 \\,dx \\\\\n",
    "            &\\leq C_{\\widetilde{K}} \\delta^{-2|\\beta| + d} \\sum_{|\\alpha| = k+1} \\int_{\\widetilde{K}} | D^\\alpha ( f \\circ \\theta ) |^2 \\,dx \\\\\n",
    "            &\\leq C_{\\widetilde{K}} \\delta^{-2|\\beta| + 2(k+1)} \\sum_{|\\alpha| = k+1} \\int_{K} | D^\\alpha (  f  ) |^2 \\,dx \\\\\n",
    "    \\end{aligned}\n",
    "$$\n",
    "\n",
    "Taking the square root, we have that\n",
    "$$\n",
    "    | \\mathcal{I}_K f - f |_{H^\\ell(\\Omega)} \\leq C_{\\widetilde{K}} \\delta^{k + 1 - \\ell} | f |_{H^{k+1}(K)}\n",
    "$$\n",
    "\n",
    "The constant $C_{\\widetilde{K}}$ depends on the shape of the domain $\\widetilde{K}$, but not its diameter."
   ]
  },
  {
   "cell_type": "markdown",
   "metadata": {},
   "source": [
    "#### Extension to triangular meshes\n",
    "\n",
    "The result above holds for a **single** finite element.\n",
    "Can we extend it to a triangular mesh of finite elements?\n",
    "\n",
    "Recall that every triangle is **affinely equivalent** to any other triangle, i.e.\n",
    "$$\n",
    "    K = T(\\widehat{K}),\n",
    "$$\n",
    "where $T(x) = A x + b$ for a $2 \\times 2$ matrix $A$ and vector $b$.\n",
    "If the triangle is non-degenerate, then the matrix $A$ is nonsingular, and the mapping $T$ is invertible.\n",
    "\n",
    "Let $(\\widehat{K}, \\widehat{\\mathcal{P}}, \\widehat{\\mathcal{N}})$ denote the **reference element**.\n",
    "\n",
    "Then, we can define an affine-equivalent (transformed) finite element on $K$ by $(K, \\mathcal{P}, \\mathcal{N})$ such that\n",
    "\n",
    "* $\\phi_i = \\widehat{\\phi_i} \\circ T^{-1}$ for shape functions $\\phi_i \\in \\mathcal{P}$, $\\widehat{\\phi_i} \\in \\widehat{\\mathcal{P}}$\n",
    "* $N_i(u) = \\widehat{N}_i( u \\circ T )$"
   ]
  },
  {
   "cell_type": "markdown",
   "metadata": {},
   "source": [
    "Let $T = Ax$ (by translation invariance, we can neglect the constant term $b$.)\n",
    "\n",
    "Let $v : K \\to \\mathbb{R}$.\n",
    "Let $x \\in K$, and let $x = T(\\widehat{x})$ for $\\widehat{x} \\in \\widehat{K}$.\n",
    "\n",
    "The interpolation operator on a transformed element can be written\n",
    "$$\n",
    "    \\mathcal{I}_K v (x) = \\sum_{i} \\widehat{N}_i (v \\circ T) \\widehat{\\phi}_i(\\widehat{x})\n",
    "$$"
   ]
  },
  {
   "cell_type": "markdown",
   "metadata": {},
   "source": [
    "We first note that if $\\widehat{N}_i$ involves only point values, then the norm of $\\| N_i \\|$ will be equal to the norm of $\\| \\widehat{N}_i \\|$.\n",
    "\n",
    "Now, we try to bound $\\| \\widehat{\\phi}_i (\\widehat{x}) \\|$.\n",
    "\n",
    "For a function $f : K \\to \\mathbb{R}$, we have that\n",
    "$$\n",
    "    \\int_K f \\, dx = \\det(A) \\int_{\\widehat{K}} f(\\widehat{x}) \\, d\\widehat{x},\n",
    "$$\n",
    "so therefore\n",
    "$$\n",
    "    \\| \\phi_i \\|_{L^2(K)} = | \\det(A) |^{1/2} \\| \\widehat{\\phi}_i \\|_{L^2(\\widehat{K})}\n",
    "$$\n",
    "\n",
    "Note $\\widehat{x} = A^{-1} x$, and by the chain rule\n",
    "$$\n",
    "    D^i_x \\phi_i(A^{-1} x) = \\sum_j a^{-1}_{ij} D^j_{\\widehat{x}} (\\widehat{x})\n",
    "$$\n",
    "More generally,\n",
    "$$\n",
    "    \\| \\phi_i \\|_{H^m(\\widehat{K})} \\leq C_K \\| \\widehat{\\phi_i} \\|_{H^m(\\widehat{K})},\n",
    "$$\n",
    "where $C_K$ depends on $m$, the size of the entries of $A^{-1}$, and $\\det(A)$."
   ]
  },
  {
   "cell_type": "markdown",
   "metadata": {},
   "source": [
    "We can show, under some conditions on the refinement strategy, that as we refine the mesh (add more elements, decreasing the element size $h$), that the constant $C_K$ remains bounded.\n",
    "\n",
    "For example, _uniform refinement_ of a triangular mesh has this property.\n",
    "\n",
    "If that is the case (i.e. $C_K \\leq C$ for some $C$), then we have the following result.\n",
    "\n",
    "> **_PROPOSITION:_** Let $\\mathcal{T}_h$ be a mesh with maximum element size $h$.\n",
    "> Suppose that the mesh is \"shape regular\", such that the constants $C_K$ remain bounded as described above.\n",
    "> Then,\n",
    "> $$\n",
    ">   \\| u - \\mathcal{I}_{\\mathcal{T}} u \\|_{H^\\ell(\\Omega)} \\leq C h^{k + 1 - \\ell} | u |_{H^{k+1}(\\Omega)}\n",
    "> $$\n",
    "\n",
    "> _Proof._ \n",
    "> $$\n",
    ">   \\begin{aligned}\n",
    ">   \\| u - \\mathcal{I}_{\\mathcal{T}} u \\|_{H^\\ell(\\Omega)}^2\n",
    ">       &= \\sum_{K \\in \\mathcal{T}} \\| u - \\mathcal{I}_{\\mathcal{T}} u \\|_{H^\\ell(K)}^2 \\\\\n",
    ">       &\\leq \\sum_{K \\in \\mathcal{T}} C_{\\widetilde{K}}^2 \\delta_K^{2(k + 1 - \\ell)} | u |_{H^{k+1}(K)}^2 \\\\\n",
    ">       &\\leq \\sum_{K \\in \\mathcal{T}} C_{\\widetilde{K}}^2 C_K^2 \\delta_K^{2(k + 1 - \\ell)} | u |_{H^{k+1}(K)}^2 \\\\\n",
    ">       &\\leq C h^{2 (k + 1 - \\ell)} \\sum_{K \\in \\mathcal{T}}  | u |_{H^{k+1}(K)}^2 \\\\\n",
    ">       &= C h^{2 (k + 1 - \\ell)}  | u |_{H^{k+1}(\\Omega)}^2 \\\\\n",
    ">   \\end{aligned}\n",
    "> $$"
   ]
  }
 ],
 "metadata": {
  "colab": {
   "provenance": []
  },
  "kernelspec": {
   "display_name": "Python 3.10.6 ('venv': venv)",
   "language": "python",
   "name": "python3"
  },
  "language_info": {
   "codemirror_mode": {
    "name": "ipython",
    "version": 3
   },
   "file_extension": ".py",
   "mimetype": "text/x-python",
   "name": "python",
   "nbconvert_exporter": "python",
   "pygments_lexer": "ipython3",
   "version": "3.10.6"
  },
  "title": "Lecture 13",
  "vscode": {
   "interpreter": {
    "hash": "bd788376193720eadecf9d964712d25ddb8942c37aec80724648cfa1bb12b2b1"
   }
  }
 },
 "nbformat": 4,
 "nbformat_minor": 1
}

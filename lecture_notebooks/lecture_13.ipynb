{
 "cells": [
  {
   "cell_type": "markdown",
   "metadata": {},
   "source": [
    "# MTH 651: Advanced Numerical Analysis"
   ]
  },
  {
   "cell_type": "markdown",
   "metadata": {},
   "source": [
    "## Lecture 11"
   ]
  },
  {
   "cell_type": "markdown",
   "metadata": {
    "id": "d5sMJY4v8Tol"
   },
   "source": [
    "### Topics\n",
    "\n",
    "* Averaged Taylor polynomials\n",
    "* Polynomial approximation\n",
    "* Error estimates"
   ]
  },
  {
   "cell_type": "markdown",
   "metadata": {},
   "source": [
    "### Error estimates\n",
    "\n",
    "The big question we want to answer now: can we prove error estimates?\n",
    "\n",
    "How accurate is our numerical solution compared with the exact solution?\n",
    "\n",
    "At what rate does the error go to zero as we perform $h$-refinement (for given polynomial degree $k$)?\n",
    "\n",
    "To begin our error estimate, we will go back to the problem of polynomial approximation (cf. the coding problem from homework #3)\n",
    "\n",
    "(Recall that the solution to a variational problem has a best approximation property (in the appropriate norm), so if we get an error estimate for **any approximation** of the exact solution, this will give an upper bound on the error of the discrete solution to the variational problem)."
   ]
  },
  {
   "cell_type": "markdown",
   "metadata": {},
   "source": [
    "Suppose we are interested in approximating a continuous function\n",
    "$$\n",
    "    f : K \\to \\mathbb{R}\n",
    "$$\n",
    "\n",
    "One important tool in polynomial approximation is the Taylor polynomial (cf. Taylor's theorem, expansion/truncation of a Taylor series, etc.).\n",
    "\n",
    "Since we are typically working in Sobolev spaces, we are interested in measuring error as an **integrated quantity**\n",
    "\n",
    "So, it makes sense to look at an \"averaged\" Taylor series over some region."
   ]
  },
  {
   "cell_type": "markdown",
   "metadata": {},
   "source": [
    "> **_DEFINITION:_**\n",
    "> Let $\\Omega \\subseteq \\mathbb{R}^d$.\n",
    "> Let $f \\in H^{k+1}(\\Omega)$.\n",
    ">\n",
    "> The **Taylor polynomial** of degree $k$ of $f$ about $y \\in \\Omega$ is defined by\n",
    "> $$\n",
    ">   T^k_y f(x) = \\sum_{|\\alpha| \\leq k} D_w^\\alpha f(y) \\frac{(x-y)^\\alpha}{\\alpha!}\n",
    "> $$\n",
    "\n",
    "**Note:** recall that $\\alpha$ is a **multi-index** (not a scalar), i.e. $\\alpha = (\\alpha_1, \\alpha_2, \\ldots, \\alpha_d)$.\n",
    "Then, for $z \\in \\mathbb{R}^d$,\n",
    "$$\n",
    "    z^\\alpha = \\prod_{i=1}^d z_i^{\\alpha_i}\n",
    "$$\n",
    "and\n",
    "$$\n",
    "    \\alpha! = \\prod_{i=1}^d \\alpha_i!\n",
    "$$\n",
    "\n",
    "\n",
    "> **_DEFINITION:_** \n",
    "> Let $\\Omega$ and $f$ be as above.\n",
    "> Suppose a ball $B$ is compactly contained in $\\Omega$ (i.e. $B \\subseteq K \\subseteq \\Omega$, with $K$ compact).\n",
    "> Then, the **averaged Taylor polynomial** of $f$ over $B$ is\n",
    "> $$\n",
    ">   Q^k_B f(x) = \\frac{1}{|B|} \\int_B T^k_y f(x) \\, dy\n",
    "> $$"
   ]
  },
  {
   "cell_type": "markdown",
   "metadata": {},
   "source": [
    "First, we should ask if this definition makes sense.\n",
    "In other words, are the terms in the integrand actually integrable?\n",
    "\n",
    "Since $f \\in H^{k+1}(\\Omega)$, all of its weak partial derivatives $D^\\alpha_w f$ are in $L^2$ (hence in $L^1_{loc}$), so the products $D^\\alpha_w f (x - y)^\\alpha$ are integrable.\n",
    "\n",
    "The terms in the averaged Taylor polynomial are of the form\n",
    "$$\n",
    "    \\int_B \\frac{1}{\\alpha!} D^\\alpha_w f(y) (x - y)^\\alpha \\, dy\n",
    "$$\n",
    "We can expand the term $(x - y)^\\alpha$ in terms of $x$ and $y$ and some coefficients\n",
    "$$\n",
    "    (x - y)^\\alpha = \\prod_{i=1}^d (x_i - y_i)^{\\alpha_i} = \\sum_{\\gamma + \\beta = \\alpha} a_{\\gamma,\\beta}x^\\gamma y^\\beta\n",
    "$$\n",
    "and so\n",
    "$$\n",
    "    \\int_B \\frac{1}{\\alpha!} D^\\alpha_w f(y) (x - y)^\\alpha \\, dy\n",
    "    = \\sum_{\\gamma + \\beta = \\alpha} \\frac{1}{\\alpha!} a_{\\gamma,\\beta} x^\\gamma \\int_B D^\\alpha_w f(y) y^\\beta \\, dy\n",
    "$$\n",
    "and therefore\n",
    "$$\n",
    "    Q^k_B f(x) = \\sum_{|\\alpha| \\leq k} \\sum_{\\gamma + \\beta = \\alpha} \\frac{1}{\\alpha!} a_{\\gamma,\\beta} x^\\gamma \\int_B D^\\alpha_w f(y) y^\\beta \\, dy\n",
    "$$\n",
    "and we see that, indeed, the averaged Taylor polynomial $Q^k_B f(x)$ really is a polynomial of degree at most $k$ in the variable $x$."
   ]
  },
  {
   "cell_type": "markdown",
   "metadata": {},
   "source": [
    "> **_PROPOSITION:_** \n",
    "> $$\n",
    ">   D^{\\ell}_x T_y^k f(x) = T_y^{k - |\\ell|} D^{\\ell}_x f(x)\n",
    "> $$"
   ]
  },
  {
   "cell_type": "markdown",
   "metadata": {},
   "source": [
    "> **_COROLLARY:_** \n",
    "> $$\n",
    ">   D^\\ell Q^k_B f(x) = Q^{k-|\\ell|}_B D^\\ell f(x)\n",
    "> $$"
   ]
  },
  {
   "cell_type": "markdown",
   "metadata": {},
   "source": [
    "We are interested in approximating a function by its Taylor polynomial, i.e. considering the term\n",
    "$$\n",
    "    f(x) - T^k_y f(x)\n",
    "$$\n",
    "(perhaps then averaged over some ball $B$).\n",
    "\n",
    "Recall that, for a function of one variable, $g \\in C^k([0,1])$, expanding $g$ as a Taylor polynomial about 0, (using the \"integral form of the remainder\" from Taylor's theorem)\n",
    "$$\n",
    "    g(1) = \\sum_{i=0}^{k-1} \\frac{1}{i!} g^{(i)}(0) + k \\int_0^1 \\frac{1}{k!} s^{k-1} g^{(k)}(1-s) \\, ds\n",
    "$$"
   ]
  },
  {
   "cell_type": "markdown",
   "metadata": {},
   "source": [
    "Suppose $f \\in C^k(\\Omega)$, and let $x, y \\in \\Omega$ such that the line connecting $x$ and $y$ is also contained in $\\Omega$.\n",
    "Let $g(s) = f(y + s(x-y))$, i.e. $g$ is a function of one variable, taking the value $f(y)$ at $s = 0$ and $f(x)$ at $s = 1$.\n",
    "\n",
    "Then,\n",
    "$$\n",
    "    \\frac{1}{k!}g^{(k)}(s) = \\sum_{|\\alpha| = k} \\frac{1}{\\alpha!} D^\\alpha f(y + s(x-y))(x-y)^\\alpha\n",
    "$$\n",
    "\n",
    "Since $g(1) = f(x)$, we have that\n",
    "$$\n",
    "    f(x)\n",
    "        = g(1)\n",
    "        = \\sum_{|\\alpha| < k} \\frac{1}{\\alpha!} D^\\alpha f(y) (x-y)^\\alpha + \\sum_{|\\alpha|=k} (x-y)^\\alpha \\int_0^1 \\frac{k}{\\alpha!} s^{k-1} D^\\alpha f(x + s(y-x)) \\,ds\n",
    "$$\n",
    "and therefore\n",
    "$$\n",
    "    f(x) = T^k_y f(x) + k \\sum_{|\\alpha|=k} (x-y)^\\alpha \\int_0^1 \\frac{1}{\\alpha!} s^{k-1} D^\\alpha f(x + s(y-x)) \\,ds\n",
    "$$"
   ]
  },
  {
   "cell_type": "markdown",
   "metadata": {},
   "source": [
    "> **_THEOREM:_** Let $\\Omega \\subseteq \\mathbb{R}^d$ be a bounded domain (with diameter $\\delta$), star-shaped with respect to the ball $B \\subseteq \\Omega$.\n",
    "> Then, there exists a constant $C$ depending on $k$ and $d$, such that, for $0 \\leq |\\beta| \\leq k+1$, and for all $f \\in C^{k+1,\\infty}(\\Omega)$,\n",
    "> $$\n",
    ">   \\| D^\\beta (f - Q^k_B f) \\|_{L^2(\\Omega)} \\leq C |\\Omega|^{1/2} \\delta^{k+1-|\\beta|} |f|_{H^{k+1}(\\Omega)}\n",
    "> $$\n",
    "\n",
    "Recall that the $H^{k+1}(\\Omega)$ **semi-norm** is defined by\n",
    "$$\n",
    "    |f|_{H^{k+1}(\\Omega)} = \\left( \\sum_{|\\alpha| \\leq k+1} \\| D^\\alpha_w f \\|_{L^2(\\Omega)}^2 \\right)^{1/2}\n",
    "$$"
   ]
  },
  {
   "cell_type": "markdown",
   "metadata": {},
   "source": [
    "> _Proof._ \n",
    "> The remainder is given by\n",
    "> $$\n",
    ">   f(x) - T_y^{k-1} kf(x) = k \\sum_{|\\alpha|=k} (x-y)^\\alpha \\int_0^1 \\frac{1}{\\alpha!} s^{k-1} D^\\alpha f(x + s(y-x)) \\,ds\n",
    "> $$\n",
    ">\n",
    "> Integrate this quantity over $y \\in B$ and divide by $|B|$ to obtain\n",
    "> $$\n",
    ">   f(x) - Q^{k-1}_Bf(x) = \\frac{k}{|B|} \\sum_{|\\alpha|=k} \\int_B \\frac{(x-y)^\\alpha}{\\alpha!} \\int_0^1 s^{k-1} D^\\alpha f(x + s(y-x)) \\,ds \\, dy\n",
    "> $$\n",
    ">\n",
    "> Squaring and integrating over $x \\in \\Omega$, we have\n",
    "> $$\n",
    ">     \\int_\\Omega | f(x) - Q^{k-1}_Bf(x) |^2 \\, dx \n",
    ">           = \\frac{k^2}{|B|^2} \\int_\\Omega \\left( \\sum_{|\\alpha|=k} \\int_B \\frac{(x-y)^\\alpha}{\\alpha!} \\int_0^1 s^{k-1} D^\\alpha f(x + s(y-x)) \\,ds \\, dy \\right)^2 \\, dx.\n",
    "> $$\n",
    "> We then use that $\\| \\cdot \\|_{\\ell^1} \\leq \\sqrt{k} \\| \\cdot \\|_{\\ell^2}$ to write\n",
    "> $$\n",
    ">     \\int_\\Omega | f(x) - Q^{k-1}_Bf(x) |^2 \\, dx \n",
    ">           \\leq \\frac{C}{|B|^2} \\sum_{|\\alpha|=k} \\int_\\Omega \\left( \\int_B \\frac{(x-y)^\\alpha}{\\alpha!} \\int_0^1 s^{k-1} D^\\alpha f(x + s(y-x)) \\,ds \\, dy \\right)^2 \\, dx.\n",
    "> $$\n",
    "> Now note that $(x - y)^\\alpha = \\prod (x_i - y_i)^{\\alpha_i}$ and $|x_i - y_i| \\leq \\delta$, so $(x-y)^\\alpha \\leq \\prod d^{\\alpha_i} = \\delta^k$.\n",
    "> Therefore,\n",
    "> $$\n",
    ">   \\int_\\Omega | f(x) - Q^{k-1}_Bf(x) |^2 \\, dx \\leq \\frac{C \\delta^{2k}}{|B|^2} \\sum_{|\\alpha|=k} \\int_\\Omega \\left( \\int_B \\int_0^1 s^{k-1} D^\\alpha f(x + s(y-x)) \\,ds \\, dy \\right)^2 \\, dx.\n",
    "> $$\n",
    "> Now, applying Cauchy-Schwartz to the integral over $B \\times [0,1]$, we have\n",
    "> $$\n",
    ">   \\int_\\Omega | f(x) - Q^{k-1}_Bf(x) |^2 \\, dx \\leq \\frac{C \\delta^{2k}}{|B|^2} \\sum_{|\\alpha|=k} \\int_\\Omega  \\int_B \\int_0^1 | D^\\alpha f(x + s(y-x)) |^2 \\,ds \\, dy \\int_B \\int_0^1 s^{2(k-1)} \\,ds \\,dy \\, dx.\n",
    "> $$\n",
    "> Therefore,\n",
    "> $$\n",
    ">   \\int_\\Omega | f(x) - Q^{k-1}_Bf(x) |^2 \\, dx \\leq \\frac{C \\delta^{2k}}{|B|^2} \\sum_{|\\alpha|=k} \\int_\\Omega  \\int_B \\int_0^1 | D^\\alpha f(x + s(y-x)) |^2 \\,ds \\, dy \\, dx\n",
    "> $$\n",
    ">\n",
    "> Split the integral over $[0,1]$ into two terms, $I$ and $II$, over $[0,1/2]$ and $[1/2,1]$, respectively.\n",
    ">\n",
    "> Then, \n",
    "> $$\n",
    ">   I = \\int_B \\int_0^{1/2} \\int_{\\Omega} | D^{\\alpha} f (sy + (1-s))x)|^2 \\,dx\\,ds\\,dy\n",
    "> $$\n",
    "> Let $g_\\alpha$ denote the extension of $D^\\alpha f$ by zero outside of $\\Omega$. Then,\n",
    "> $$\n",
    ">   I = \\int_B \\int_0^{1/2} \\int_{\\mathbb{R}^d} | g_\\alpha ((1-s))x)|^2 \\,dx\\,ds\\,dy\n",
    "> $$\n",
    "> Change variables: let $z = (1-s)x$. Then,\n",
    "> $$\n",
    ">   \\begin{aligned}\n",
    ">       I &= \\int_B \\int_0^{1/2} \\int_{\\mathbb{R}^d} | g_\\alpha (z)|^2 (1-s))^{-d} \\,dz\\,ds\\,dy \\\\\n",
    ">         &\\leq 2^{d-1} |B| \\int_\\Omega |D^\\alpha f(z)|^2 \\,dz\n",
    ">   \\end{aligned}\n",
    "> $$\n",
    ">\n",
    "> Consider now the second term $II$, and let $g_\\alpha$ be the extension of $D^{\\alpha} f$ by zero outside of $B$\n",
    "> $$\n",
    ">   \\begin{aligned}\n",
    ">       II &= \\int_\\Omega \\int_{1/2}^{1} \\int_{B} | D^{\\alpha} f (sy + (1-t)x)|^2 \\,dy\\,ds\\,dx \\\\\n",
    ">          &= \\int_\\Omega \\int_{1/2}^{1} \\int_{\\mathbb{R}^n} | g_\\alpha (sy)|^2 \\,dy\\,ds\\,dx \\\\\n",
    ">          &= \\int_\\Omega \\int_{1/2}^{1} \\int_{\\mathbb{R}^n} | g_\\alpha (z)|^2 s^{-d} \\,dz\\,ds\\,dy \\\\\n",
    ">   \\end{aligned}\n",
    "> $$\n",
    "> Changing variables $z = sy$.\n",
    "> We obtain\n",
    "> $$\n",
    ">   II \\leq 2^{d-1} |\\Omega| \\int_B |D^\\alpha f(z)|^2 \\,dz \\leq 2^{d-1} |\\Omega| \\| D^\\alpha f \\|_{L^2(\\Omega)}^2\n",
    "> $$\n",
    ">\n",
    "> To conclude, we use that $D^\\beta Q^k_B f = Q^{k - |\\beta|}_B D^\\beta f$."
   ]
  },
  {
   "cell_type": "markdown",
   "metadata": {},
   "source": [
    "> **_COROLLARY:_** Let $K$ be a triangle with diameter 1 (the \"reference triangle\").\n",
    "> Then, there exists a constant $C$ (depending on $d$ and $k$) such that\n",
    "> $$\n",
    ">   \\| f - Q^k_B \\|_{H^k(K)} \\leq C | f |_{H^k(K)}\n",
    "> $$"
   ]
  },
  {
   "cell_type": "markdown",
   "metadata": {},
   "source": [
    "Can we use the error estimates for $Q^k_B f$ to get bounds for the interpolant $\\mathcal{I}_K f$?"
   ]
  },
  {
   "cell_type": "markdown",
   "metadata": {},
   "source": [
    "Let $f \\in C^{k+1}(K)$.\n",
    "\n",
    "$$\n",
    "\\begin{aligned}\n",
    "    \\| \\mathcal{I} f - f \\|_{H^k(\\Omega)}\n",
    "        &= \\| \\mathcal{I} f - Q^k_B f + Q^k_B f - f \\|_{H^k(\\Omega)} \\\\\n",
    "        &\\leq \\| \\mathcal{I} f - Q^k_B f \\|_{H^k(\\Omega)} +  \\| Q^k_B f - f \\|_{H^k(\\Omega)} \\\\\n",
    "        &\\leq \\| \\mathcal{I} (f - Q^k_B f) \\|_{H^k(\\Omega)} +  \\| Q^k_B f - f \\|_{H^k(\\Omega)} \\\\\n",
    "        &\\leq (\\sigma + 1) \\| Q^k_B f - f \\|_{H^k(\\Omega)}\n",
    "\\end{aligned}\n",
    "$$\n",
    "\n",
    "where $\\sigma$ is the bound on the operator $\\mathcal{I} : C^{k+1}(\\Omega) \\to H^k(\\Omega)$.\n",
    "\n",
    "Suppose that the nodal variables only involve point values (as we have been considering in this class).\n",
    "Then, $| N_i(f) | \\leq \\| N_i \\|_{C^0(\\Omega)} \\| u \\|_{C^0(\\Omega)}$\n",
    "$$\n",
    "\\begin{aligned}\n",
    "    \\| \\mathcal{I} f \\|_{H^k(\\Omega)}\n",
    "        &= \\| \\sum_i N_i(f) \\phi_i \\|_{H^k(\\Omega)} \\\\\n",
    "        &\\leq \\sum_i \\| N_i(f) \\phi_i \\|_{H^k(\\Omega)} \\\\\n",
    "        &\\leq \\sum_i | N_i(f) | \\| \\phi_i \\|_{H^k(\\Omega)} \\\\\n",
    "        &\\leq \\sum_i \\| N_i \\|_{C^0(\\Omega)} \\| u \\|_{C^0(\\Omega)} | \\| \\phi_i \\|_{H^k(\\Omega)} \\\\\n",
    "        &= \\sigma \\| u \\|_{C^0(\\Omega)}\n",
    "\\end{aligned}\n",
    "$$\n",
    "where $\\sigma = \\sum_i \\| N_i \\|_{C^0(\\Omega)} \\| \\phi_i \\|_{H^k(\\Omega)}$."
   ]
  }
 ],
 "metadata": {
  "colab": {
   "provenance": []
  },
  "kernelspec": {
   "display_name": "Python 3.10.6 ('venv': venv)",
   "language": "python",
   "name": "python3"
  },
  "language_info": {
   "codemirror_mode": {
    "name": "ipython",
    "version": 3
   },
   "file_extension": ".py",
   "mimetype": "text/x-python",
   "name": "python",
   "nbconvert_exporter": "python",
   "pygments_lexer": "ipython3",
   "version": "3.10.6"
  },
  "title": "Lecture 13",
  "vscode": {
   "interpreter": {
    "hash": "bd788376193720eadecf9d964712d25ddb8942c37aec80724648cfa1bb12b2b1"
   }
  }
 },
 "nbformat": 4,
 "nbformat_minor": 1
}

{
 "cells": [
  {
   "cell_type": "markdown",
   "metadata": {},
   "source": [
    "# MTH 651: Advanced Numerical Analysis"
   ]
  },
  {
   "cell_type": "markdown",
   "metadata": {},
   "source": [
    "## Lecture 3"
   ]
  },
  {
   "cell_type": "markdown",
   "metadata": {},
   "source": [
    "#### Topics\n",
    "\n",
    "* Poisson problem in 2D\n",
    "* Introduction to Sobolev and Hilbert spaces"
   ]
  },
  {
   "cell_type": "markdown",
   "metadata": {},
   "source": [
    "Our model problem is the Poisson problem, which in 1D is given by\n",
    "$$\n",
    "    \\begin{aligned}\n",
    "        -u'' &= f, \\\\\n",
    "        u(0) = u(1) &= 0.\n",
    "    \\end{aligned}\n",
    "$$\n",
    "For a domain $\\Omega \\subseteq \\mathbb{R}^d$ (we consider $d \\in \\{1,2,3\\}$), the generalization of this equation is\n",
    "$$\n",
    "    \\begin{aligned}\n",
    "        -\\Delta u &= f, \\qquad&&\\text{in $\\Omega$} \\\\\n",
    "        u &= 0, \\qquad&&\\text{on $\\partial\\Omega$}\n",
    "    \\end{aligned}\n",
    "$$\n",
    "Recall that the Laplacian is given by\n",
    "$$\n",
    "    \\Delta u = \\nabla \\cdot (\\nabla u) = \\sum_{i=1}^d \\frac{\\partial^2 u}{\\partial x_i^2}\n",
    "$$"
   ]
  },
  {
   "cell_type": "markdown",
   "metadata": {},
   "source": [
    "Instead of integrals over intervals, we now consider integrals over 2D and 3D domains.\n",
    "The most important identity concerning these integrals is **integration by parts**.\n",
    "Let $K \\subseteq \\mathbb{R}^d$,\n",
    "Given a vector field $\\boldsymbol u : K \\to \\mathbb{R}^d$ and a scalar-valued function $v : K \\to \\mathbb{R}$, then\n",
    "$$\n",
    "    \\int_K \\left( \\nabla \\cdot \\boldsymbol u \\right) v \\, dx = - \\int_K \\boldsymbol u \\cdot \\nabla v \\, dx + \\int_{\\partial K} \\left( \\boldsymbol u \\cdot \\boldsymbol n \\right) v \\, ds,\n",
    "$$\n",
    "where $\\boldsymbol n$ is the outward facing normal vector from $K$."
   ]
  },
  {
   "cell_type": "markdown",
   "metadata": {},
   "source": [
    "As a special case of this formula (set $v \\equiv 1$), we have the divergence theorem\n",
    "$$\n",
    "    \\int_K \\nabla \\cdot \\boldsymbol u \\, dx = \\int_{\\partial K} \\boldsymbol u \\cdot \\boldsymbol n \\, dx.\n",
    "$$"
   ]
  },
  {
   "cell_type": "markdown",
   "metadata": {},
   "source": [
    "Note that if we take $-\\Delta u$ and multiply by arbitrary $v$ and integrate by parts, we have\n",
    "$$\n",
    "    - \\int_\\Omega (\\Delta u) v \\, dx = \\int_\\Omega \\nabla u \\cdot \\nabla v \\, dx - \\int_{\\partial\\Omega} (\\nabla u \\cdot \\boldsymbol n) v \\, dx.\n",
    "$$\n",
    "\n",
    "Since we are looking for functions that satisfy the homogeneous Dirichlet condition $u = 0$ on $\\partial \\Omega$, we restrict ourselves to the function space $V$ consisting of functions such that, for all $v \\in V$,\n",
    "* $\\nabla v$ exists and is sufficiently regular (such that the integrals in the variational formulation make sense)\n",
    "* $v = 0$ on $\\partial \\Omega$"
   ]
  },
  {
   "cell_type": "markdown",
   "metadata": {},
   "source": [
    "The **variational formulation** of the Poisson problem in $\\Omega \\subseteq \\mathbb{R}^d$ is: find $u \\in V$ such that, for all $v \\in V$ such that\n",
    "$$\n",
    "    \\int_\\Omega \\nabla u \\cdot \\nabla v \\, dx = \\int_\\Omega f v \\, dx.\n",
    "$$\n",
    "The boundary term vanishes because $v \\equiv 0$ on $\\partial \\Omega$.\n",
    "\n",
    "The solution to the variational problem minimizes the energy functional\n",
    "$$\n",
    "    \\frac{1}{2} (\\nabla u, \\nabla v) - (f, v).\n",
    "$$"
   ]
  },
  {
   "cell_type": "markdown",
   "metadata": {},
   "source": [
    "The application of the Galerkin method is now clear: we choose finite-dimensional subspaces $S$ of $V$, and obtain finite-dimensional linear systems (i.e. matrices) that we can invert to find approximate solutions $u_S$, such that $u_S \\to u$."
   ]
  },
  {
   "cell_type": "markdown",
   "metadata": {},
   "source": [
    "The **finite element method** chooses the finite dimensional subspaces $V_h \\subseteq V$ using **triangulations** of the domain (meshes).\n",
    "The domain $\\Omega \\subseteq \\mathbb{R}^2$ is split up into small triangles of size $h$ (called the \"mesh elements\"), and we consider functions that, restricted to each element, are linear (polynomials of degree at most 1)."
   ]
  },
  {
   "cell_type": "markdown",
   "metadata": {},
   "source": [
    "# ![Mesh 1](fig/inline-tri.png)\n",
    "\n",
    "# ![Mesh 2](fig/square-disc.png)\n",
    "\n",
    "# ![Mesh 3](fig/dolphin.png)"
   ]
  },
  {
   "cell_type": "markdown",
   "metadata": {},
   "source": [
    "Just as in the 1D case, the space $V_h$ is spanned by \"hat functions\" that take value 1 at a given vertex, and value 0 at all other vertices."
   ]
  },
  {
   "cell_type": "markdown",
   "metadata": {},
   "source": [
    "The integrals in the variational form can be computed/approximated using quadrature formulas for the triangle.\n",
    "Just as in the 1D case, we obtain an $N \\times N$ stiffness matrix $N$ and a right-hand side vector $\\boldsymbol b$.\n",
    "Note that the support of a hat function $\\phi_i$ is the set of triangles that contain vertex $i$.\n",
    "So, the matrix $A$ is very sparse (meaning that most of its entries are zero).\n",
    "\n",
    "The approximate solution $u_h$ can be found by solving the linear system $A \\boldsymbol u = \\boldsymbol b$ (and interpreting the entries of the vector $\\boldsymbol u$ as the coefficients of $u_h$ in the basis of hat functions)."
   ]
  },
  {
   "cell_type": "markdown",
   "metadata": {},
   "source": [
    "Since our theory of Galerkin methods was very general, we know that the approximate solution $u_h$ minimizes the error in the **energy norm**, i.e.\n",
    "$$\n",
    "    \\| u - u_h \\|_A = \\min_{v \\in V_h} \\| u - v_h \\|_A,\n",
    "$$\n",
    "where\n",
    "$$\n",
    "    \\| v \\|_A = \\left( \\int_\\Omega \\nabla v \\cdot \\nabla v \\, dx \\right)^{1/2}.\n",
    "$$"
   ]
  },
  {
   "cell_type": "markdown",
   "metadata": {},
   "source": [
    "### Hilbert spaces and Sobolev spaces\n",
    "\n",
    "So far, we have been a bit vague about the spaces $V$ in which we solve the variational problems.\n",
    "We will now make this precise.\n",
    "\n",
    "We will always be working in a vector space $V$.\n",
    "In most linear algebra classes, it is assumed that $V$ is finite-dimensional.\n",
    "However, in the setting of PDEs, the solution typically belongs to an infinite-dimensional space.\n",
    "For example: the space of sufficiently smooth functions satisfying the boundary conditions.\n",
    "This space contains polynomials of arbitrary degree (as long as they satisfy the boundary conditions), and so the dimension of the space cannot be finite.\n",
    "\n",
    "As we have seen, it is very useful to work in **normed** vector spaces, i.e. a vector space $V$ equipped with a norm $\\| \\cdot \\|$.\n",
    "The norm satisfies the three axioms described in the previous lecture.\n",
    "We will restrict ourselves to so-called **Banach spaces**, which are those spaces that are complete:\n",
    "every Cauchy sequence converges (a Cauchy sequence is a sequence $v_i$ such that $\\| v_i - v_j \\| \\to 0$ as $i,j \\to \\infty$).\n",
    "This is a bit of a technical requirement that we don't need to dwell on.\n",
    "All normed finite-dimensional vector spaces are Banach spaces, so we are already used to working with Banach spaces;\n",
    "in infinite dimensions, this is a specific requirement we need to add to make things well-behaved."
   ]
  },
  {
   "cell_type": "markdown",
   "metadata": {},
   "source": [
    "The Banach spaces we will be mostly working with are the $L^p$ spaces and the Sobolev spaces $W^{k,p}$.\n",
    "The space $L_p$ is the space of functions $f$ that the norm\n",
    "$$\n",
    "    \\| f \\|_{L^p} := \\left( \\int_\\Omega |f(x)|^p \\, dx \\right)^{1/p}\n",
    "$$\n",
    "is well-defined and finite.\n",
    "\n",
    "The space $L^2$ is therefore the space such that\n",
    "$$\n",
    "    \\| f \\|_{L^2} := \\left( \\int_\\Omega |f(x)|^2 \\, dx \\right)^{1/2}\n",
    "$$\n",
    "is well-defined and finite.\n",
    "\n",
    "As an example, the function $v(x) = x^{-\\beta}$ is in $L^2([0,1])$ for $\\beta < 1/2$.\n",
    "To see this, we compute the integral\n",
    "$$\n",
    "    \\int_0^1 (x^{-\\beta})^2 \\, dx = \\int_0^1 (x^{-2\\beta})\\,dx = \\left[\\frac{1}{-2\\beta + 1} x^{-2\\beta + 1} \\right]_0^1\n",
    "$$\n",
    "This integral is well-defined if $1 - 2\\beta > 0$, i.e. $\\beta < 1/2$.\n",
    "\n",
    "This argument can be generalized to the space $L^p$ (obtaining $\\beta < 1/p$) quite easily (exercise).\n",
    "\n",
    "So, functions in $L^p$ cannot grow too quickly.\n",
    "However, a function being in $L^p$ says very little about its regularity (just that it must be integrable)."
   ]
  },
  {
   "cell_type": "markdown",
   "metadata": {},
   "source": [
    "To discuss functions with more regularity, we introduce the concept of a **weak derivative**.\n",
    "\n",
    "Recall the integration by parts formula,\n",
    "$$\n",
    "    \\int_a^b u' v \\, dx = - \\int_a^b u v' \\, dx + [uv]_a^b.\n",
    "$$\n",
    "This generalizes to multiple dimensions as follows:\n",
    "$$\n",
    "    \\int_\\Omega (\\nabla u) \\cdot \\boldsymbol v \\, dx = -\\int_\\Omega u \\nabla \\cdot \\boldsymbol v \\, dx + \\int_{\\partial \\Omega} u \\boldsymbol v \\cdot \\boldsymbol n \\, ds\n",
    "$$\n",
    "where $u : \\Omega \\to \\mathbb{R}$ and $v : \\Omega \\to \\mathbb{R}^d$.\n",
    "If the function $v$ vanishes on the boundary, then the second term on the right-hand side vanishes.\n",
    "\n",
    "More generally, we have the following integration by parts formula.\n",
    "Let $\\phi$ be a smooth ($C^\\infty$) function that vanishes on the boundary of $\\Omega$ (more precisely, compact support within $\\Omega$).\n",
    "Then,\n",
    "$$\n",
    "    \\int_\\Omega (D^\\alpha u) \\phi \\, dx = (-1)^{|\\alpha|} u D^\\alpha \\phi \\, dx,\n",
    "$$\n",
    "where $\\alpha = (\\alpha_1, \\alpha_2, \\ldots, \\alpha_d)$ is a multi-index, and $|\\alpha|$ is the sum of the components.\n",
    "\n",
    "Notice something very important: the right-hand side is well-defined **even if $u$ is not differentiable pointwise**.\n",
    "This allows us to define the **weak derivative** of $u$, $D^\\alpha_w u$, which satisfies\n",
    "$$\n",
    "    \\int_\\Omega D^\\alpha_w u \\phi \\, dx = (-1)^{|\\alpha|} u D^\\alpha \\phi \\, dx\n",
    "$$\n",
    "for **all** smooth functions $\\phi$ with compact support within $\\Omega$.\n",
    "\n",
    "If it exists, the weak derivative is unique.\n",
    "If $u$ is also differentiable in the strong sense, then $D^\\alpha_w u = D^\\alpha u$."
   ]
  },
  {
   "cell_type": "markdown",
   "metadata": {},
   "source": [
    "The concept of weak derivatives (combined with $L^p$ spaces) allows us to define **Sobolev spaces**, which are the most important spaces used in finite element analysis.\n",
    "The space $W^{k,p}(\\Omega)$ (where the $W$ stands for \"weak\" as in \"weak derivative\") is defined as the space of all functions $u$ such that $u \\in L^p(\\Omega)$ and $D^\\alpha_w u \\in L^p(\\Omega)$ for all derivatives $D^\\alpha_w$ with $|\\alpha| \\leq k$.\n",
    "Note that $W^{0,p}(\\Omega) = L^p(\\Omega)$.\n",
    "\n",
    "The spaces $W^{k,p}$ are also Banach spaces with the norm\n",
    "$$\n",
    "    \\| u \\|_{W^{k,p}(\\Omega)} := \\left(\n",
    "        \\sum_{|\\alpha| \\leq k} \\| D^\\alpha_w u \\|_{L^p(\\Omega)}^p\n",
    "    \\right)^{1/p}\n",
    "$$"
   ]
  },
  {
   "cell_type": "markdown",
   "metadata": {},
   "source": [
    "An example will make this clearer.\n",
    "Let $\\Omega = [-1,1]$.\n",
    "\n",
    "Let $u(x) = |x|$.\n",
    "We know that $u$ is **not** differentiable at $x = 0$.\n",
    "\n",
    "However, we can show that\n",
    "$$\n",
    "D^1_w u = \\begin{cases}\n",
    "    -1 && x < 0 \\\\\n",
    "    1 && x > 0\n",
    "\\end{cases}\n",
    "$$\n",
    "satisfies the definition of the weak derivative of $u$.\n",
    "Therefore, $u \\in W^{1,p}([0,1])$ for all $p$.\n",
    "Notice that $u$ is **continuous** and **piecewise differentiable**, and its weak derivative is equal to its strong derivative piecewise.\n",
    "\n",
    "However, a **discontinuous** function (like $D^1_w u$) is **not** in $W^{1,p}([0,1])$."
   ]
  },
  {
   "cell_type": "markdown",
   "metadata": {},
   "source": [
    "If the norm $\\| \\cdot \\|$ of the Banach spaces $V$ is **induced by an inner product** $(\\cdot, \\cdot)$, then the space is called a **Hilbert space**.\n",
    "\n",
    "We can see that the $L^2$ norm is induced by the inner product\n",
    "$$\n",
    "    (f, g) := \\int_\\Omega f(x) g(x) \\, dx,\n",
    "$$\n",
    "and so the $L^2$ space is a Hilbert space.\n",
    "This makes it very natural to work with.\n",
    "\n",
    "The spaces $W^{k,2}$ have the special notation $H^k$.\n",
    "Here, $H$ stands for Hilbert space.\n",
    "These are Hilbert spaces with the inner product defined by\n",
    "$$\n",
    "    (u, v)_k := \\sum_{|\\alpha| \\leq k} (D^\\alpha u, D^\\alpha_k)_0,\n",
    "$$\n",
    "where $(\\cdot, \\cdot)_0$ is the $L^2$ norm.\n",
    "This induces the norm on $H^k(\\Omega)$\n",
    "$$\n",
    "    \\| u \\|_k := \\left( \\sum_{|\\alpha| \\leq k} \\| D^\\alpha_w u \\|_0^2 \\right)^{1/2}.\n",
    "$$\n",
    "This also makes clear why we use the subscript '$0$' for the $L^2$ space."
   ]
  },
  {
   "cell_type": "markdown",
   "metadata": {},
   "source": [
    "**Example:** the space $H^1(\\Omega)$ has inner product\n",
    "$$\n",
    "    (u, v)_1 := (u, v)_0 + (\\nabla u, \\nabla v)_0,\n",
    "$$\n",
    "which induces the norm\n",
    "$$\n",
    "    \\| u \\|_1^2 := \\left( \\| u \\|_0^2 + \\| \\nabla u \\|_0^2 \\right)^{1/2}.\n",
    "$$\n",
    "If we include only the top-degree term, we obtain the $H^1$ **seminorm** (it is only positive-semidefinite rather than positive-definite since constants have seminorm zero),\n",
    "$$\n",
    "    | u |_1^2 := \\| \\nabla u \\|_0,\n",
    "$$\n",
    "which is exactly the energy norm in finite element analysis."
   ]
  },
  {
   "cell_type": "markdown",
   "metadata": {},
   "source": [
    "We will work with finite element spaces that are subspaces of $H^1(\\Omega)$.\n",
    "\n",
    "If $u_h$ is a function such that $u_h |_\\kappa$ is a polynomial (where $\\kappa$ is a mesh element, e.g. a triangle), then $u_h \\in H^1(\\Omega)$ if and only if $u_h$ is **globally continuous**."
   ]
  }
 ],
 "metadata": {
  "kernelspec": {
   "display_name": ".venv",
   "language": "python",
   "name": "python3"
  },
  "language_info": {
   "codemirror_mode": {
    "name": "ipython",
    "version": 3
   },
   "file_extension": ".py",
   "mimetype": "text/x-python",
   "name": "python",
   "nbconvert_exporter": "python",
   "pygments_lexer": "ipython3",
   "version": "3.12.6"
  }
 },
 "nbformat": 4,
 "nbformat_minor": 2
}

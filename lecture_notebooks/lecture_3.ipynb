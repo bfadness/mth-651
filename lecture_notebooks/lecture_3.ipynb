{
  "cells": [
    {
      "cell_type": "markdown",
      "metadata": {},
      "source": [
        "# MTH 651: Advanced Numerical Analysis"
      ]
    },
    {
      "cell_type": "markdown",
      "metadata": {},
      "source": [
        "## Lecture 3"
      ]
    },
    {
      "cell_type": "markdown",
      "metadata": {
        "id": "d5sMJY4v8Tol"
      },
      "source": [
        "### Topics\n",
        "\n",
        "* Sobolev spaces\n",
        "* Weak derivatives\n",
        "* Sobolev norms\n",
        "\n",
        "#### Textbook references\n",
        "\n",
        "Sections 1.1, 1.2, 1.3"
      ]
    },
    {
      "cell_type": "markdown",
      "metadata": {},
      "source": [
        "This part of the course material is going to be a little abstract.\n",
        "\n",
        "We are building the theoretical framework that will allow us to rigorously formulate and analyze finite element methods."
      ]
    },
    {
      "cell_type": "markdown",
      "metadata": {},
      "source": [
        "#### $L^p$ spaces"
      ]
    },
    {
      "cell_type": "markdown",
      "metadata": {},
      "source": [
        "We are interested in _Lebesgue measureable functions_.\n",
        "\n",
        "We will not review the theory of Lebesgue integration in this course.\n",
        "If you are unfamiliar or need a refresher, check out the real analysis texbooks of Folland or Rudin.\n",
        "\n",
        "We will mainly consider real-valued functions\n",
        "$$ f : \\Omega \\to \\mathbb{R} $$\n",
        "that are Lebesgue integrable.\n",
        "The **domain** is a Lebesgue-measurable subset of $\\mathbb{R}^n$ (typically $n \\in \\{1, 2, 3\\}$).\n",
        "The notation\n",
        "$$ \\int_\\Omega f(x) \\, dx $$\n",
        "denotes the Lebesgue integral of $f$."
      ]
    },
    {
      "cell_type": "markdown",
      "metadata": {},
      "source": [
        "> **_DEFINITION:_** The $L^p$ norm of $f$ (for $1 \\leq p < \\infty$) is defined as\n",
        "> $$\n",
        "> \\| f \\|_{L^p(\\Omega)} := \\left( \\int_\\Omega | f(x) |^p \\, dx \\right)^{1/p}\n",
        "> $$\n",
        "> The $L^\\infty$ norm of $f$ is defined as\n",
        "> $$\n",
        "> \\| f \\|_{L^\\infty(\\Omega)} := \\operatorname{ess\\,sup} \\{ |f(x)| : x \\in \\Omega \\}\n",
        "> $$"
      ]
    },
    {
      "cell_type": "markdown",
      "metadata": {},
      "source": [
        "> **_DEFINITION:_** The **Lebesgue spaces** $L^p$ for $1 \\leq p \\leq \\infty$ are defined by\n",
        "> $$\n",
        "> L^p = \\{ f : \\| f \\|_{L^p(\\Omega)} < \\infty \\}\n",
        "> $$"
      ]
    },
    {
      "cell_type": "markdown",
      "metadata": {},
      "source": [
        "We consider _equivalences classes_ of functions, i.e. we identify $f$ and $g$ whenever $\\| f - g \\|_{L^p(\\Omega)} = 0$.\n",
        "This is equivalent to saying $f = g \\quad \\text{a.e.}$ (almost everywhere).\n",
        "\n",
        "There are some useful inequalities in $L^p$ spaces:\n",
        "\n",
        "**Minkowski's inequality** (triangle inequality in $L^p$)\n",
        "$$\n",
        "   \\| f + g \\|_{L^p(\\Omega)} \\leq \\| f \\|_{L^p(\\Omega)} + \\| g \\|_{L^p(\\Omega)}\n",
        "$$\n",
        "\n",
        "**Hölder's inequality** for $1 \\leq p, q \\leq \\infty$ and $1/p + 1/q = 1$\n",
        "$$\n",
        "   \\| f g \\|_{L^1{\\Omega}} \\leq \\| f \\|_{L^p{\\Omega}} \\| g \\|_{L^q{\\Omega}}\n",
        "$$\n",
        "\n",
        "**Cauchy-Schwarz inequality** (this is Hölder's inequality for $p = q = 2$)\n",
        "$$\n",
        "   \\int_\\Omega | f(x) g(x) | \\, dx \\leq \\| f \\|_{L^2{\\Omega}} \\| g \\|_{L^2{\\Omega}}\n",
        "$$"
      ]
    },
    {
      "cell_type": "markdown",
      "metadata": {},
      "source": [
        "The $L^p$ spaces are **normed vector spaces**. A norm must satisfy the following axioms:\n",
        "\n",
        "* $\\| v \\| \\geq 0$ and $\\| v \\| = 0$ iff $v = 0$\n",
        "* $\\| c v \\| = |c| \\| v \\|$ for all $c \\in \\mathbb{R}$\n",
        "* $\\| v + w \\| \\leq \\| v \\| + \\| w \\|$\n",
        "\n",
        "Exercise: prove the vector space and norm axioms hold for $L^p(\\Omega)$"
      ]
    },
    {
      "cell_type": "markdown",
      "metadata": {},
      "source": [
        "A norm $\\| \\cdot \\|$ induces a **metric** (measure of \"distance\") $d(\\cdot, \\cdot)$ defined by\n",
        "$$\n",
        "   d(v, w) = \\| v - w \\|.\n",
        "$$\n",
        "This metric induces a topology.\n",
        "A vector space $V$ with the topology induced by this metric is called a **normed vector space**."
      ]
    },
    {
      "cell_type": "markdown",
      "metadata": {},
      "source": [
        "> **_DEFINITION:_** A sequence $v_k \\in V$ is called **Cauchy** if $\\| v_i - v_j \\| \\to 0$ as $i, j \\to \\infty$."
      ]
    },
    {
      "cell_type": "markdown",
      "metadata": {},
      "source": [
        "> **_DEFINITION:_** A space $V$ is **complete** if every Cauchy sequence converges to a limit, that is, if $v_i$ is Cauchy, then there exists some $v \\in V$ such that $\\| v_i - v \\| \\to 0$ as $i \\to \\infty$."
      ]
    },
    {
      "cell_type": "markdown",
      "metadata": {},
      "source": [
        "> **_DEFINITION:_** A **Banach space** is a complete normed vector space."
      ]
    },
    {
      "cell_type": "markdown",
      "metadata": {},
      "source": [
        "> **_THEOREM:_** For $1 \\leq p \\leq \\infty$, the space $L^p$ is a Banach space."
      ]
    },
    {
      "cell_type": "markdown",
      "metadata": {},
      "source": [
        "#### Weak derivatives"
      ]
    },
    {
      "cell_type": "markdown",
      "metadata": {},
      "source": [
        "We are interested in introducing a more generalized notion of derivatives that will be useful in $L^p$ spaces, where point values are not relevant.\n",
        "These will be called **weak derivatives**, and will agree with the standard derivatives when the function is sufficiently smooth, but will allow us to define derivatives for less regular functions in a way that is useful and makes dense."
      ]
    },
    {
      "cell_type": "markdown",
      "metadata": {},
      "source": [
        "##### Multi-index notation\n",
        "\n",
        "Let $\\alpha = (\\alpha_1, \\alpha_2, \\ldots, \\alpha_n)$ be a **multi-index**.\n",
        "\n",
        "We define $|\\alpha| = \\sum_{i=1}^n \\alpha_i$.\n",
        "\n",
        "For $\\phi \\in C^\\infty$, we use the notation(s)\n",
        "\n",
        "$$\n",
        "   D^\\alpha\\phi, \\quad\n",
        "   D^\\alpha_x\\phi, \\quad\n",
        "   \\left(\\frac{\\partial}{\\partial x}\\right)^\\alpha\\phi, \\quad\n",
        "   \\phi^{(\\alpha)}, \\quad\n",
        "   \\partial^\\alpha_x \\phi\n",
        "$$\n",
        "\n",
        "to mean the partial derivative\n",
        "\n",
        "$$\n",
        "   \\left( \\frac{\\partial}{\\partial_{x_1}} \\right)^{\\alpha_1}\n",
        "   \\left( \\frac{\\partial}{\\partial_{x_1}} \\right)^{\\alpha_2}\n",
        "   \\cdots\n",
        "   \\left( \\frac{\\partial}{\\partial_{x_1}} \\right)^{\\alpha_n}\n",
        "   \\phi\n",
        "$$\n",
        "\n",
        "The order of derivative is given by $| \\alpha |$."
      ]
    },
    {
      "cell_type": "markdown",
      "metadata": {},
      "source": [
        "##### Compactly supported functions\n",
        "\n",
        "The **support** of a function $u$ is the closure of the set of points in the domain for which $u$ is nonzero\n",
        "$$\n",
        "   \\operatorname{supp} (u) = \\operatorname{closure} \\{ x : u(x) \\neq 0 \\}\n",
        "$$\n",
        "\n",
        "If $\\operatorname{supp} (u)$ is bounded then $u$ has **compact support**.\n",
        "\n",
        "If $\\operatorname{supp} (u)$ is bounded and $\\operatorname{supp} (u) \\subset \\operatorname{interior} (\\Omega)$ then $u$ has **compact suport in $\\Omega$**.\n",
        "\n",
        "> **_DEFINITION:_** Let $\\Omega \\subseteq \\mathbb{R}^n$. Let $\\mathcal{D}(\\Omega)$ or $C^\\infty_0(\\Omega)$ denote the set of $C^\\infty(\\Omega)$ functions with compact support in $\\Omega$."
      ]
    },
    {
      "cell_type": "markdown",
      "metadata": {},
      "source": [
        "First, let's check that the set $\\mathcal{D}(\\Omega)$ is not empty (i.e. that there exist smooth functions with compact support).\n",
        "\n",
        "Let\n",
        "$$\n",
        "   \\phi(x) = \\begin{cases}\n",
        "      \\exp\\left( \\frac{1}{|x|^2 - 1} \\right) &\\quad |x| < 1 \\\\\n",
        "      0 &\\quad |x| \\geq 1\n",
        "   \\end{cases}\n",
        "$$"
      ]
    },
    {
      "cell_type": "markdown",
      "metadata": {},
      "source": [
        "> _PROPOSITION_ : $\\phi^{(\\alpha)}(x) = P_\\alpha \\phi(x)/(1 - |x|^2)^{|\\alpha|}$ for some polynomial $P_\\alpha$."
      ]
    },
    {
      "cell_type": "markdown",
      "metadata": {},
      "source": [
        "> _Proof._ \n",
        ">\n",
        "> For $|x| > 1$ it is clear that $\\phi^{(\\alpha)}(x) = 0$.\n",
        ">\n",
        "> Likewise, for $|x| < 1$, directly differentiating and using induction on $\\alpha$ shows that\n",
        "> $$\n",
        ">    \\phi^{(\\alpha)}(x) = P_\\alpha(x) e^{-t} t^{|\\alpha|}, \\qquad t = \\frac{1}{1-|x|^2}\n",
        "> $$\n",
        ">\n",
        "> Since $\\exp$ increases faster than any polynomial, we have that\n",
        "> $$\n",
        ">   P_\\alpha(x) e^{-t} t^{|\\alpha|} \\to 0\n",
        "> $$\n",
        "> as $t \\to \\infty$, and so $\\phi^{(\\alpha)}$ is continuous at $|x| = 1$.\n",
        ">\n",
        "> A similar argument shows that $P_\\alpha(x) e^{-t} t^{|\\alpha|}$ is differentiable at $|x| = 1$ (and has derivative zero).\n"
      ]
    },
    {
      "cell_type": "code",
      "execution_count": 1,
      "metadata": {},
      "outputs": [
        {
          "name": "stderr",
          "output_type": "stream",
          "text": [
            "/tmp/ipykernel_49911/3623603430.py:5: RuntimeWarning: overflow encountered in exp\n",
            "  return np.where(np.abs(x) < 1, np.exp(1.0 / (x**2 - 1)), 0)\n"
          ]
        },
        {
          "data": {
            "text/plain": [
              "[<matplotlib.lines.Line2D at 0x127122320>]"
            ]
          },
          "execution_count": 1,
          "metadata": {},
          "output_type": "execute_result"
        },
        {
          "data": {
            "image/png": "[encoded data removed]",
            "text/plain": [
              "<Figure size 640x480 with 1 Axes>"
            ]
          },
          "metadata": {},
          "output_type": "display_data"
        }
      ],
      "source": [
        "import matplotlib.pyplot as plt\n",
        "import numpy as np\n",
        "\n",
        "def f(x):\n",
        "    return np.where(np.abs(x) < 1, np.exp(1.0 / (x**2 - 1)), 0)\n",
        "\n",
        "x = np.linspace(-2, 2, 10000)\n",
        "plt.plot(x, f(x))"
      ]
    },
    {
      "cell_type": "code",
      "execution_count": 2,
      "metadata": {},
      "outputs": [
        {
          "name": "stderr",
          "output_type": "stream",
          "text": [
            "/tmp/ipykernel_49911/3623603430.py:5: RuntimeWarning: overflow encountered in exp\n",
            "  return np.where(np.abs(x) < 1, np.exp(1.0 / (x**2 - 1)), 0)\n"
          ]
        },
        {
          "data": {
            "text/plain": [
              "[<matplotlib.lines.Line2D at 0x1272e6dd0>]"
            ]
          },
          "execution_count": 2,
          "metadata": {},
          "output_type": "execute_result"
        },
        {
          "data": {
            "image/png": "[encoded data removed]",
            "text/plain": [
              "<Figure size 500x1000 with 4 Axes>"
            ]
          },
          "metadata": {},
          "output_type": "display_data"
        }
      ],
      "source": [
        "def centered_difference(y, h):\n",
        "    n = len(x)\n",
        "    dy = np.zeros(n)\n",
        "    for i in range(n):\n",
        "        if i == 0:\n",
        "            yL = 0.0\n",
        "        else:\n",
        "            yL = y[i-1]\n",
        "        if i == n-1:\n",
        "            yR = 0.0\n",
        "        else:\n",
        "            yR = y[i+1]\n",
        "        dy[i] = (yR - yL) / (2*h)\n",
        "    return dy\n",
        "\n",
        "def nth_centered_difference(n, y, h):\n",
        "    dy = y\n",
        "    for i in range(n):\n",
        "        dy = centered_difference(dy, h)\n",
        "    return dy\n",
        "\n",
        "h = x[1] - x[0]\n",
        "y = f(x)\n",
        "\n",
        "fig, (ax0, ax1, ax2, ax3) = plt.subplots(4, 1, figsize=(5,10))\n",
        "\n",
        "ax0.plot(x, y)\n",
        "ax1.plot(x, nth_centered_difference(1, y, h))\n",
        "ax2.plot(x, nth_centered_difference(2, y, h))\n",
        "ax3.plot(x, nth_centered_difference(3, y, h))"
      ]
    },
    {
      "cell_type": "markdown",
      "metadata": {},
      "source": [
        "> **_DEFINITION:_** Define the set of **locally integrable** functions by\n",
        "> $$\n",
        ">  L^1_{loc} = \\{ f : f \\in L^1(K) \\text{ for all compact $K \\subset \\operatorname{interior} \\Omega$} \\}\n",
        "> $$"
      ]
    },
    {
      "cell_type": "markdown",
      "metadata": {},
      "source": [
        "> **_DEFINITION:_** A function $f \\in L^1_{loc}$ has a **weak derivative** $D^\\alpha_w f$ if there exists $g \\in L^1_{loc}$ such that\n",
        "> $$\n",
        ">  \\int_\\Omega g(x) \\phi(x) \\, dx = (-1)^{|\\alpha|} \\int_\\Omega f(x) \\phi^{({\\alpha})}(x) \\,dx\n",
        "> $$\n",
        "> for all $\\phi \\in \\mathcal{D}(\\Omega)$.\n",
        ">\n",
        "> If such $g$ exists, define $D^\\alpha_w f = g$."
      ]
    },
    {
      "cell_type": "markdown",
      "metadata": {},
      "source": [
        "> _EXAMPLE:_ Let $n = $, $\\Omega = [-1, 1]$, $f(x) = |x|$.\n",
        ">\n",
        "> As we know, $f(x)$ is **not** differentiable at $x = 0$.\n",
        ">\n",
        "> But, $D^1_w f$ exists and\n",
        "> $$\n",
        ">  D^1_w f = \\begin{cases} 1 &\\quad x < 0 \\\\ -1 &\\quad x > 0 \\end{cases}\n",
        "> $$\n",
        ">\n",
        "> To see this, split the integral into $[-1, 0]$ and $[0, 1]$ and integrate by parts."
      ]
    },
    {
      "cell_type": "markdown",
      "metadata": {},
      "source": [
        "> **_PROPOSITION:_** If $f \\in C^{|\\alpha|}(\\Omega)$ then $D^\\alpha_w f = D^\\alpha f$ (the weak and strong derivatives agree).\n",
        "\n",
        "How can this be proven?"
      ]
    },
    {
      "cell_type": "markdown",
      "metadata": {},
      "source": [
        "### Sobolev Norms and Spaces\n",
        "\n",
        "> **_DEFINITION:_** Let $k \\in \\mathbb{N}$.\n",
        "> Let $f \\in L^1_{loc}(\\Omega)$.\n",
        "> Suppose that the weak derivatives $D^\\alpha_w f$ exist for all $| \\alpha | \\leq k$.\n",
        "> Then, the **Sobolev norm** of $f$ is defined by\n",
        "> $$\n",
        ">  \\| f \\|_{W^k_p(\\Omega)} = \\left( \\sum_{|\\alpha| \\leq k} \\| D^\\alpha_w f \\|_{L^p(\\Omega)}^p \\right)^{1/p}\n",
        "> $$\n",
        "> for $1 \\leq p < \\infty$, and when $p=\\infty$ we define\n",
        "> $$\n",
        ">  \\| f \\|_{W^k_\\infty(\\Omega)} = \\max_{|\\alpha| \\leq k} \\| D^\\alpha_w f \\|_{L^\\infty(\\Omega)}\n",
        "> $$"
      ]
    },
    {
      "cell_type": "markdown",
      "metadata": {},
      "source": [
        "> **_DEFINITION:_** The **Sobolev space** $W^k_p(\\Omega)$ is defined as\n",
        "> $$\n",
        ">  W^k_p(\\Omega) = \\left\\{ f \\in L^1_{loc}(\\Omega) : \\| f \\|_{W^k_p(\\Omega)} < \\infty \\right\\}\n",
        "> $$"
      ]
    },
    {
      "cell_type": "markdown",
      "metadata": {},
      "source": [
        "> **_THEOREM:_** The Sobolev $W^k_p(\\Omega)$ is a Banach space."
      ]
    },
    {
      "cell_type": "markdown",
      "metadata": {},
      "source": [
        "> _Proof._ We proceed by showing that $W^k_p(\\Omega)$ is complete.\n",
        ">\n",
        "> Let $\\{ v_j \\}$ be a Cauchy sequence with respect to $\\| W^k_p(\\Omega) \\|$.\n",
        "> We wish to show that there exists some $v$ such that\n",
        "> $$ \\| v_j - v \\|_{W^k_p(\\Omega)} \\to 0 $$\n",
        ">\n",
        "> From the definition of the Sobolev norm, it is clear that $ \\{ v_j \\}$ is Cauchy with respect to the $L^p$ norm, and so $v_j \\to v$ in $L^p$.\n",
        "> What remains to show is that $D^\\alpha_w v_j \\to D^\\alpha_w v$ in $L^p$ for $|\\alpha| \\leq k$, which would imply that $v_j \\to v$ in $W^k_p$.\n",
        ">\n",
        "> At this point, we note that $\\{ D^\\alpha_w v_j \\}$ must also be a Cauchy sequence with respect to the $L^p$ norm, and so $D^\\alpha_w v_j \\to v^\\alpha$ in $L^p$ for some $v^\\alpha$.\n",
        "> If we prove that $D^\\alpha_w v = v^\\alpha$ then we are done.\n",
        ">\n",
        "> By definition of the weak derivative, $D^\\alpha_w v$ is characterized by\n",
        "> $$\n",
        ">  \\int_\\Omega D^\\alpha_w v \\phi \\, dx = (-1)^{|\\alpha|} \\int_\\Omega v \\phi^{(\\alpha)} \\, dx\n",
        "> $$\n",
        "> for all $\\phi \\in \\mathcal{D}(\\Omega)$.\n",
        ">\n",
        "> Note that $v_j \\to v$ in $L^p$ implies that\n",
        "> $$ \\int_\\Omega v_j \\psi \\,dx \\to \\int_\\Omega v \\psi \\, dx $$\n",
        "> for all $\\psi \\in \\mathcal{D}(\\Omega)$ (why?).\n",
        ">\n",
        "> So, taking $\\psi = \\phi^{(\\alpha)}$, we have that\n",
        "> $$\n",
        ">  \\begin{align*}\n",
        ">     \\int_\\Omega D^\\alpha_w v \\phi \\, dx\n",
        ">        = (-1)^{|\\alpha|} \\int_\\Omega v \\phi^{(\\alpha)} \\, dx\n",
        ">        &= \\lim_{j \\to \\infty} (-1)^{|\\alpha|} \\int_\\Omega v_j \\phi^{(\\alpha)} \\, dx \\\\\n",
        ">        &= \\lim_{j \\to \\infty} \\int_\\Omega D^\\alpha_w v_j \\phi \\, dx \\\\\n",
        ">        &= \\int_\\Omega v^\\alpha \\phi \\, dx,\n",
        ">  \\end{align*}\n",
        "> $$\n",
        "> and so $v^\\alpha = D^\\alpha_w v$, and the theorem is proven.\n"
      ]
    },
    {
      "cell_type": "markdown",
      "metadata": {},
      "source": [
        "> **_DEFINITION:_** We also define the **Sobolev semi-norms**\n",
        "> $$\n",
        ">  | f |_{W^k_p(\\Omega)} = \\left( \\sum_{|\\alpha| = k} \\| D^\\alpha_w f \\|_{L^p(\\Omega)}^p \\right)\n",
        "> $$\n",
        "> for $1 \\leq p < \\infty$, and for $p=\\infty$,\n",
        "> $$\n",
        ">  | f |_{W^k_\\infty}(\\Omega) = \\max_{|\\alpha| = k} \\| D^\\alpha_w f \\|_{L^\\infty(\\Omega)}.\n",
        "> $$"
      ]
    },
    {
      "cell_type": "markdown",
      "metadata": {},
      "source": []
    }
  ],
  "metadata": {
    "colab": {
      "provenance": []
    },
    "kernelspec": {
      "display_name": "mth-651",
      "language": "python",
      "name": "mth-651"
    },
    "language_info": {
      "codemirror_mode": {
        "name": "ipython",
        "version": 3
      },
      "file_extension": ".py",
      "mimetype": "text/x-python",
      "name": "python",
      "nbconvert_exporter": "python",
      "pygments_lexer": "ipython3",
      "version": "3.10.6"
    },
    "vscode": {
      "interpreter": {
        "hash": "b0fa6594d8f4cbf19f97940f81e996739fb7646882a419484c72d19e05852a7e"
      }
    }
  },
  "nbformat": 4,
  "nbformat_minor": 0
}

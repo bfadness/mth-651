{
 "cells": [
  {
   "cell_type": "markdown",
   "metadata": {},
   "source": [
    "# MTH 651: Advanced Numerical Analysis"
   ]
  },
  {
   "cell_type": "markdown",
   "metadata": {},
   "source": [
    "## Lecture 3"
   ]
  },
  {
   "cell_type": "markdown",
   "metadata": {},
   "source": [
    "#### Topics\n",
    "\n",
    "* Poisson problem in 2D\n",
    "* Introduction to Sobolev and Hilbert spaces"
   ]
  },
  {
   "cell_type": "markdown",
   "metadata": {},
   "source": [
    "Our model problem is the Poisson problem, which in 1D is given by\n",
    "$$\n",
    "    \\begin{aligned}\n",
    "        -u'' &= f, \\\\\n",
    "        u(0) = u(1) &= 0.\n",
    "    \\end{aligned}\n",
    "$$\n",
    "For a domain $\\Omega \\subseteq \\mathbb{R}^d$ (we consider $d \\in \\{1,2,3\\}$), the generalization of this equation is\n",
    "$$\n",
    "    \\begin{aligned}\n",
    "        -\\Delta u &= f, \\qquad&&\\text{in $\\Omega$} \\\\\n",
    "        u &= 0, \\qquad&&\\text{on $\\partial\\Omega$}\n",
    "    \\end{aligned}\n",
    "$$\n",
    "Recall that the Laplacian is given by\n",
    "$$\n",
    "    \\Delta u = \\nabla \\cdot (\\nabla u) = \\sum_{i=1}^d \\frac{\\partial^2 u}{\\partial x_i^2}\n",
    "$$"
   ]
  },
  {
   "cell_type": "markdown",
   "metadata": {},
   "source": [
    "Instead of integrals over intervals, we now consider integrals over 2D and 3D domains.\n",
    "The most important identity concerning these integrals is **integration by parts**.\n",
    "Let $K \\subseteq \\mathbb{R}^d$,\n",
    "Given a vector field $\\bm u : K \\to \\mathbb{R}^d$ and a scalar-valued function $v : K \\to \\mathbb{R}$, then\n",
    "$$\n",
    "    \\int_K \\left( \\nabla \\cdot \\bm u \\right) v \\, dx = - \\int_K \\bm u \\cdot \\nabla v \\, dx + \\int_{\\partial K} \\left( \\bm u \\cdot \\bm n \\right) v \\, ds,\n",
    "$$\n",
    "where $\\bm n$ is the outward facing normal vector from $K$."
   ]
  },
  {
   "cell_type": "markdown",
   "metadata": {},
   "source": [
    "As a special case of this formula (set $v \\equiv 1$), we have the divergence theorem\n",
    "$$\n",
    "    \\int_K \\nabla \\cdot \\bm u \\, dx = \\int_{\\partial K} \\bm u \\cdot \\bm n \\, dx.\n",
    "$$"
   ]
  },
  {
   "cell_type": "markdown",
   "metadata": {},
   "source": [
    "Note that if we take $-\\Delta u$ and multiply by arbitrary $v$ and integrate by parts, we have\n",
    "$$\n",
    "    - \\int_\\Omega (\\Delta u) v \\, dx = \\int_\\Omega \\nabla u \\cdot \\nabla v \\, dx - \\int_{\\partial\\Omega} (\\nabla u \\cdot \\bm n) v \\, dx.\n",
    "$$\n",
    "\n",
    "Since we are looking for functions that satisfy the homogeneous Dirichlet condition $u = 0$ on $\\partial \\Omega$, we restrict ourselves to the function space $V$ consisting of functions such that, for all $v \\in V$,\n",
    "* $\\nabla v$ exists and is sufficiently regular (such that the integrals in the variational formulation make sense)\n",
    "* $v = 0$ on $\\partial \\Omega$"
   ]
  },
  {
   "cell_type": "markdown",
   "metadata": {},
   "source": [
    "The **variational formulation** of the Poisson problem in $\\Omega \\subseteq \\mathbb{R}^d$ is: find $u \\in V$ such that, for all $v \\in V$ such that\n",
    "$$\n",
    "    \\int_\\Omega \\nabla u \\cdot \\nabla v \\, dx = \\int_\\Omega f v \\, dx.\n",
    "$$\n",
    "The boundary term vanishes because $v \\equiv 0$ on $\\partial \\Omega$.\n",
    "\n",
    "The solution to the variational problem minimizes the energy functional\n",
    "$$\n",
    "    \\frac{1}{2} (\\nabla u, \\nabla v) - (f, v).\n",
    "$$"
   ]
  },
  {
   "cell_type": "markdown",
   "metadata": {},
   "source": [
    "The application of the Galerkin method is now clear: we choose finite-dimensional subspaces $S$ of $V$, and obtain finite-dimensional linear systems (i.e. matrices) that we can invert to find approximate solutions $u_S$, such that $u_S \\to u$."
   ]
  },
  {
   "cell_type": "markdown",
   "metadata": {},
   "source": [
    "The **finite element method** chooses the finite dimensional subspaces $V_h \\subseteq V$ using **triangulations** of the domain (meshes).\n",
    "The domain $\\Omega \\subseteq \\mathbb{R}^2$ is split up into small triangles of size $h$ (called the \"mesh elements\"), and we consider functions that, restricted to each element, are linear (polynomials of degree at most 1)."
   ]
  },
  {
   "cell_type": "markdown",
   "metadata": {},
   "source": [
    "# ![Mesh 1](fig/inline-tri.png)\n",
    "\n",
    "# ![Mesh 2](fig/square-disc.png)\n",
    "\n",
    "# ![Mesh 3](fig/dolphin.png)"
   ]
  },
  {
   "cell_type": "markdown",
   "metadata": {},
   "source": [
    "Just as in the 1D case, the space $V_h$ is spanned by \"hat functions\" that take value 1 at a given vertex, and value 0 at all other vertices."
   ]
  },
  {
   "cell_type": "markdown",
   "metadata": {},
   "source": [
    "The integrals in the variational form can be computed/approximated using quadrature formulas for the triangle.\n",
    "Just as in the 1D case, we obtain an $N \\times N$ stiffness matrix $N$ and a right-hand side vector $\\bm b$.\n",
    "Note that the support of a hat function $\\phi_i$ is the set of triangles that contain vertex $i$.\n",
    "So, the matrix $A$ is very sparse (meaning that most of its entries are zero).\n",
    "\n",
    "The approximate solution $u_h$ can be found by solving the linear system $A \\bm u = \\bm b$ (and interpreting the entries of the vector $\\bm u$ as the coefficients of $u_h$ in the basis of hat functions)."
   ]
  },
  {
   "cell_type": "markdown",
   "metadata": {},
   "source": [
    "Since our theory of Galerkin methods was very general, we know that the approximate solution $u_h$ minimizes the error in the **energy norm**, i.e.\n",
    "$$\n",
    "    \\| u - u_h \\|_A = \\min_{v \\in V_h} \\| u - v_h \\|_A,\n",
    "$$\n",
    "where\n",
    "$$\n",
    "    \\| v \\|_A = \\left( \\int_\\Omega \\nabla v \\cdot \\nabla v \\, dx \\right)^{1/2}.\n",
    "$$"
   ]
  },
  {
   "cell_type": "markdown",
   "metadata": {},
   "source": [
    "### Hilbert spaces and Sobolev spaces\n",
    "\n",
    "So far, we have been a bit vague about the spaces $V$ in which we solve the variational problems.\n",
    "We will now make this precise.\n",
    "\n",
    "Let $V$ be an inner product space (a vector space together with an inner product $(\\cdot,\\cdot)$).\n",
    "This space is a **Hilbert space** if every Cauchy sequence converges (a Cauchy sequence is a sequence $v_i$ such that $\\| v_i - v_j \\| \\to 0$ as $i,j \\to \\infty$). This is a bit of a technical requirement that we don't need to dwell on.\n",
    "\n",
    "The space $L_p$ is the space of functions $f$ that the norm\n",
    "$$\n",
    "    \\| f \\|_{L^p} := \\left( \\int_\\Omega |f(x)|^p \\, dx \\right)^{1/p}\n",
    "$$\n",
    "is well-defined and finite.\n",
    "\n",
    "The space $L^2$ is therefore the space such that\n",
    "$$\n",
    "    \\| f \\|_{L^2} := \\left( \\int_\\Omega |f(x)|^2 \\, dx \\right)^{1/2}\n",
    "$$\n",
    "is well-defined and finite.\n",
    "We can see that this norm is induced by the inner product\n",
    "$$\n",
    "    (f, g) := \\int_\\Omega f(x) g(x) \\, dx.\n",
    "$$\n",
    "\n",
    "The **Sobolev space** $W^{k,p}$ is the space of all functions $f \\in L^p$ such that all derivatives up to order $k$ are also in $L^p$."
   ]
  }
 ],
 "metadata": {
  "kernelspec": {
   "display_name": ".venv",
   "language": "python",
   "name": "python3"
  },
  "language_info": {
   "codemirror_mode": {
    "name": "ipython",
    "version": 3
   },
   "file_extension": ".py",
   "mimetype": "text/x-python",
   "name": "python",
   "nbconvert_exporter": "python",
   "pygments_lexer": "ipython3",
   "version": "3.12.6"
  }
 },
 "nbformat": 4,
 "nbformat_minor": 2
}

{
  "cells": [
    {
      "cell_type": "markdown",
      "metadata": {},
      "source": [
        "# MTH 651: Advanced Numerical Analysis"
      ]
    },
    {
      "cell_type": "markdown",
      "metadata": {},
      "source": [
        "## Lecture 2"
      ]
    },
    {
      "cell_type": "markdown",
      "metadata": {
        "id": "d5sMJY4v8Tol"
      },
      "source": [
        "### Topics\n",
        "\n",
        "* Variational form of the governing equations\n",
        "* Finite element formulation in 1D\n",
        "* Proof of accuracy\n",
        "  * $L^2$ norm\n",
        "  * max-norm\n",
        "\n",
        "#### Textbook references\n",
        "\n",
        "Sections 1.1, 1.2, 1.3, 1.4"
      ]
    },
    {
      "cell_type": "markdown",
      "metadata": {},
      "source": [
        "### Variational form of the equations\n",
        "\n",
        "Recall our model problem on $\\Omega = [0,1]$\n",
        "$$ (D)~\n",
        "\\left\\{\n",
        "   \\begin{aligned}\n",
        "      -u''(x) &= f(x) \\\\\n",
        "      u(0) &= 0 \\\\\n",
        "      u(1) &= 0\n",
        "   \\end{aligned}\n",
        "\\right.\n",
        "$$"
      ]
    },
    {
      "cell_type": "markdown",
      "metadata": {},
      "source": [
        "The finite element method proceeds by showing that the solution to the differential equation $(D)$ is **also** the solution a minimization problem $(M)$ and a variational problem $(V)$ (we will define what a variational problem is)."
      ]
    },
    {
      "cell_type": "markdown",
      "metadata": {},
      "source": [
        "We introduce some notation.\n",
        "For (continuous, bounded) functions $u, v : [0,1] \\to \\mathbb{R}$, let $(u, v)$ denote\n",
        "$$\n",
        "    (u,v) = \\int_0^1 u(x) v(x) \\, dx\n",
        "$$\n",
        "This is called the $L^2$ inner product (we will talk more about these definitions later).\n",
        "\n"
      ]
    },
    {
      "cell_type": "markdown",
      "metadata": {},
      "source": [
        "Recall that a function $(\\cdot, \\cdot) : V \\times V \\to \\mathbb{R}$, where $V$ is a vector space, is called an **inner product** if it satisfies the following properties:\n",
        "\n",
        "1. **Symmetric.** $(u,v) = (v,u)$ for all $u,v \\in V$.\n",
        "2. **Bilinearity.** We state first linearity in the first argument: $(au_1 + bu_2, v) = a(u_1, v) + b(u_2, v)$ for all $a,b \\in \\mathbb{R}$ and $u_1,u_2,v \\in V$. By the symmetry property, we also have linearity in the second argument (and hence \"bilinearity\").\n",
        "3. **Positive-definiteness.** $(u,u) \\geq 0$ and $(u,u) = 0$ only when $u = 0$.\n",
        "\n",
        "**Exercise:** check that the $L^2$ inner product defined above satisfies these properties."
      ]
    },
    {
      "cell_type": "markdown",
      "metadata": {},
      "source": [
        "Consider the vector space\n",
        "$$\n",
        "    V = \\{ \n",
        "        v : [0,1] \\to \\mathbb{R} : \\text{$v$ is continuous and bounded, $v'$ is continous and bounded, and $v(0) = v(1) = 0$}\n",
        "    \\}.\n",
        "$$\n",
        "\n",
        "**Exercise:** verify that that $V$ is a vector space.\n",
        "It turns out that $(\\cdot,\\cdot)$ defines an inner product on $V$ (you can check this too), but we won't dwell on this point."
      ]
    },
    {
      "cell_type": "markdown",
      "metadata": {},
      "source": [
        "Consider the functional (in the textbook they say linear functional --- this is not true, can you see why?)\n",
        "$$\n",
        "    F(v) = \\frac{1}{2} (v', v') - (f, v).\n",
        "$$\n",
        "The minimization problem $(M)$ is to find $u \\in V$ that **minimizes** $F$, in other words, find $u \\in V$ such that\n",
        "$$\n",
        "    F(u) \\leq F(v) \\quad\\text{for all $v \\in V$}.\n",
        "$$\n",
        "In this context, $F$ represents a kind of \"energy\", and minimizing $F$ is finding the solution with minimal energy.\n",
        "\n",
        "We will show (shortly) that the solution to $(D)$ is also the minimizer to $(M)$.\n"
      ]
    },
    {
      "cell_type": "markdown",
      "metadata": {},
      "source": [
        "Finally, we consider the **variational problem** $(V)$.\n",
        "This problem can be stated as follows.\n",
        "\n",
        "Find $u \\in V$ such that, for all $v \\in V$,\n",
        "\\begin{equation}\n",
        "\\tag{$V$}\n",
        "    (u', v') = (f, v).\n",
        "\\end{equation}"
      ]
    },
    {
      "cell_type": "markdown",
      "metadata": {},
      "source": [
        "Is this variational problem well-posed?\n",
        "i.e., is the solution unique?\n",
        "\n",
        "Suppose $u_1$ and $u_2$ **both** solve $(V)$.\n",
        "\n",
        "Then, for **any** $v \\in V$,\n",
        "$$\n",
        "    ((u_1 - u_2)', v) = (u_1', v) - (u_2', v) = (f, v) - (f, v) = 0.\n",
        "$$\n",
        "Choosing $v = u_1 - u_2$, this gives\n",
        "$$\n",
        "    ((u_1 - u_2)', (u_1 - u_2)') = \\int_0^1 ((u_1-u_2)')^2 \\, dx = 0.\n",
        "$$\n",
        "This means that $(u_1 - u_2)' = 0$ for all $x \\in [0,1]$, so $u_1 - u_2$ is **constant**.\n",
        "However, since $u_1, u_2 \\in V$ (and so $u_1 - u_2 \\in V$), we have that $(u_1 - u_2)(0) = 0$, and so $u_1 - u_2 \\equiv 0$, and so $u_1 = u_2$ (and therefore the solution is unique)."
      ]
    },
    {
      "cell_type": "markdown",
      "metadata": {},
      "source": [
        "Note that if $u$ solves $(V)$, then $u$ must solve $(M)$ too.\n",
        "How can we see that?\n",
        "\n",
        "Suppose $u$ solves $(V)$, and take arbitrary $w \\in V$.\n",
        "Then, we want to show that $F(w) \\geq F(u)$.\n",
        "\n",
        "Note that\n",
        "$$\n",
        "    F(w) = F(w - u + u),\n",
        "$$\n",
        "and\n",
        "$$\n",
        "    F(w-u+u) = \\frac{1}{2}(u', u') + (u', (w-u)') + \\frac{1}{2}((w-u)', (w-u)') - (f,u) - (f,w-u).\n",
        "$$\n",
        "By property $(V)$, we then have\n",
        "$$\n",
        "F(w-u+u) = \\frac{1}{2}(u', u') + \\frac{1}{2}((w-u)', (w-u)') - (f,u) = F(u) + \\frac{1}{2}((w-u)', (w-u)').\n",
        "$$\n",
        "Now note that\n",
        "$$\n",
        "    ((w-u)',(w-u)') = \\int_0^1 ((w-u)')^2\\,dx \\geq 0,\n",
        "$$\n",
        "so\n",
        "$$\n",
        "    F(w) \\geq F(u)\n",
        "$$\n",
        "as desired.\n",
        "\n",
        "It is possible (see the textbook) to also show that the minimizer must solve $(V)$.\n",
        "\n",
        "This shows that $(V) \\Leftrightarrow (M)$."
      ]
    },
    {
      "cell_type": "markdown",
      "metadata": {},
      "source": [
        "Now, we show that if $u$ solves the **differential equation** $(D)$, then $u$ must also solve $(V)$ (and hence $(M)$).\n",
        "\n",
        "This procedure is very important.\n",
        "It illustrates how the **variational formulation** of the problem is derived;\n",
        "this is a general methodology that will be used to come up with finite element methods for differential eqiuations.\n",
        "\n",
        "Since $u$ solves $(D)$, we have that $-u'' = f$.\n",
        "Multiply this equation by some arbitrary function (called a **test function**) $v \\in V$.\n",
        "Then,\n",
        "$$\n",
        "    - u'' v = f v.\n",
        "$$\n",
        "Integrate both sides over $[0,1]$ to obtain\n",
        "$$\n",
        "    -\\int_0^1 u'' v \\, dx = \\int_0^1 f v \\,dx.\n",
        "$$\n",
        "Now, integrate the left-hand side **by parts** (integration by parts is one of the most fundamental tools in finite element analysis) to obtain\n",
        "$$\n",
        "    \\int_0^1 u' v' \\, dx - [u'v]_0^1 = \\int_0^1 f v \\, dx.\n",
        "$$\n",
        "Since $v \\in V$, we have that $v(0) = v(1) = 0$, and so the second term on the left-hand side is equal to zero.\n",
        "We therefore conclude that\n",
        "$$\n",
        "    (u', v') = (f, v).\n",
        "$$\n",
        "Since the test function $v$ was arbitrary, this holds for all $v \\in V$, and so $u$ solves $(V)$."
      ]
    },
    {
      "cell_type": "markdown",
      "metadata": {},
      "source": [
        "This shows $(D) \\implies (V)$.\n",
        "\n",
        "Finally, suppose $u$ solves $(V)$.\n",
        "Suppose, furthermore, than $u''$ exists and is continuous.\n",
        "\n",
        "Then, integrating by parts and using $(V)$ gives\n",
        "$$\n",
        "    (u', v') = -(u'', v) + [u',v]_0^1 = (f, v).\n",
        "$$\n",
        "Since $v(0) = v(1) = 0$, we have\n",
        "$$\n",
        "    -(u'', v) = (f, v)\n",
        "$$\n",
        "or, equivalently,\n",
        "$$\n",
        "    (u'' + f, v) = 0\n",
        "$$\n",
        "for all $v \\in V$.\n",
        "\n",
        "This implies that $u'' + f = 0$ (why?), and hence $-u'' = f$, and so $u$ satisfies $(D)$."
      ]
    },
    {
      "cell_type": "markdown",
      "metadata": {},
      "source": [
        "### Finite element methods (Galerkin methods)\n",
        "\n",
        "Instead of working directly with the differential equation $(D)$, it will be much more convenient to work with the variational formulation $(V)$.\n",
        "\n",
        "The idea by the \"Galerkin method\" (of which the finite element method is a specific instance) is very simple:\n",
        "rather than solving $(V)$ over the whole space $V$ (which is infinite dimensional), we solve over a finite-dimensional subspace $S$ (say of dimension $N$).\n",
        "\n",
        "The finite-dimensional problem becomes: find $u_S \\in S$ such that, for all $v_S \\in S$,\n",
        "\\begin{equation} \\tag{$S$}\n",
        "    (u_S', v_S') = (f, v_S).\n",
        "\\end{equation}\n",
        "The same argument that showed that the solution to $(V)$ was unique shows that $(S)$ has a unique solution.\n",
        "\n",
        "Since $S$ is finite-dimensional, it has a basis $\\{ \\phi_1, \\phi_2, \\ldots, \\phi_N \\}$.\n",
        "Define the matrix $A$ by\n",
        "$$\n",
        "    A_{ij} = (\\phi_i', \\phi_j')\n",
        "$$\n",
        "and the vector $\\boldsymbol{b}$ by\n",
        "$$\n",
        "    b_i = (f, \\phi_i).\n",
        "$$\n",
        "\n",
        "Suppose that $u_S \\in S$ solves $(S)$.\n",
        "Expand $u_S$ in the basis,\n",
        "$$\n",
        "    u_S = \\sum_{i=1}^N u_i \\phi_i.\n",
        "$$\n",
        "Let $\\boldsymbol u$ denote the vector $\\boldsymbol u = (u_1, u_2, \\ldots, u_N)$.\n",
        "Then,\n",
        "$$\n",
        "    (A \\boldsymbol u)_i = \\sum_{j=1}^N (\\phi_i', \\phi_j') u_j\n",
        "    = \\sum_{j=1}^N (\\phi_i', u_j \\phi_j')\n",
        "    = (\\phi_i', \\sum_{j=1}^N u_j \\phi_j')\n",
        "    = (\\phi_i', u_S')\n",
        "    = b_i,\n",
        "$$\n",
        "so the **linear system of equations**\n",
        "$$\n",
        "    A \\boldsymbol u = \\boldsymbol b\n",
        "$$\n",
        "is **equivalent** to the finite-dimensional variational problem $(S)$.\n",
        "\n",
        "The solution to the finite-dimensional problem $(S)$ will, in general, not be equal to that of the $(V)$;\n",
        "however, it may provide a good approximation.\n",
        "\n",
        "The **main idea** of the finite element method is to choose a sequence of subspaces $S_1, S_2, S_3, \\ldots$ of **increasing dimension**.\n",
        "For each $S_i$ we can obtain the solution $u_i$ to the associated finite-dimensional problem.\n",
        "We want to choose the spaces in such a way that $u_i \\to u$, where $u$ is the true solution.\n",
        "The finite element method gives us a systematic way of doing that."
      ]
    },
    {
      "cell_type": "markdown",
      "metadata": {},
      "source": [
        "Recall the variational problem\n",
        "$$\n",
        "    (u', v') = (f, v).\n",
        "$$\n",
        "We introduce the notation $a(\\cdot, \\cdot)$ to denote\n",
        "$$\n",
        "    a(u,v) = (u', v').\n",
        "$$\n",
        "The form $a(\\cdot,\\cdot)$ is known as a **bilinear form** (it is linear in each argument separately).\n",
        "Furthermore, $a(\\cdot, \\cdot)$ is **symmetric**.\n",
        "Finally, on $V$, $a(\\cdot,\\cdot)$ is **positive-definite**. (Why?)"
      ]
    },
    {
      "cell_type": "markdown",
      "metadata": {},
      "source": [
        "The matrix $A$ above is known as the stiffness matrix.\n",
        "\n",
        "$A$ inherits the properties of the associated bilinear form;\n",
        "$A$ is symmetric and positive-definite.\n",
        "\n",
        "(Recall that a matrix is **symmetric** if $A^T = A$ and **positive-definite** if $\\boldsymbol v^T A \\boldsymbol v > 0$ for all vectors $\\boldsymbol v$)."
      ]
    },
    {
      "cell_type": "markdown",
      "metadata": {},
      "source": [
        "### Piecewise linear finite element spaces\n",
        "\n",
        "Let $0 = x_0 < x_1 < \\cdots < x_n < x_{n+1} = 1$ be a partition of $[0,1]$ (in multiple dimensions we will use a **mesh**).\n",
        "Let $S$ be the sapce of functions $v$ such that\n",
        "* $v \\in C^0([0,1])$\n",
        "* $v$ restricted to each subinterval $[x_i, x_{i+1}]$ is a linear function\n",
        "* $v(0) = v(1) = 0$\n",
        "\n",
        "$S$ is a finite-dimensional function space of dimension $n$.\n",
        "For $1 \\leq i \\leq n$, define the function $\\phi_i$ by \n",
        "$$\n",
        "   \\phi_i(x_j) = \\delta_{ij} = \\begin{cases}\n",
        "      1 & \\quad \\text{if $i=j$} \\\\\n",
        "      0 & \\quad \\text{otherwise}\n",
        "   \\end{cases}\n",
        "$$\n",
        "These functions are often informally called _hat functions_."
      ]
    },
    {
      "cell_type": "code",
      "execution_count": 1,
      "metadata": {},
      "outputs": [
        {
          "data": {
            "image/png": "[encoded data removed]",
            "text/plain": [
              "<Figure size 640x480 with 1 Axes>"
            ]
          },
          "metadata": {},
          "output_type": "display_data"
        }
      ],
      "source": [
        "import numpy as np\n",
        "import matplotlib.pyplot as plt\n",
        "\n",
        "# Create some uniformly spaced points\n",
        "n = 4\n",
        "x = np.linspace(0, 1, n+2)\n",
        "\n",
        "def phi(i):\n",
        "   y = np.zeros(n+2)\n",
        "   y[i] = 1\n",
        "   return y\n",
        "\n",
        "plt.scatter(x, 0*x)\n",
        "plt.plot(x, phi(1), label=\"$\\\\phi_1$\")\n",
        "plt.plot(x, phi(2), label=\"$\\\\phi_2$\")\n",
        "plt.plot(x, phi(3), label=\"$\\\\phi_3$\")\n",
        "plt.plot(x, phi(4), label=\"$\\\\phi_4$\")\n",
        "plt.legend()\n",
        "plt.show()"
      ]
    },
    {
      "cell_type": "markdown",
      "metadata": {},
      "source": [
        "> _TERMINOLOGY:_ \n",
        "> * The points $x_i$ are called **nodes**\n",
        "> * The point values $v(x_i)$ are called **nodal values**\n",
        "> * The basis $\\{ \\phi_i \\}$ is called a **nodal basis**"
      ]
    },
    {
      "cell_type": "markdown",
      "metadata": {},
      "source": [
        "In the above example, the points $x_i$ are evenly spaces. In general, they **do not** need to be evenly spaced; this is one example of the nice flexibility of the finite elemnent method.\n",
        "As in finite difference methods, we use $h$ to denote the spacing.\n",
        "The finite element space is often denotes $V_h$; in the general case (where the spacing is not uniform), the subscript $h$ is just a symbol to mean \"discrete\"."
      ]
    },
    {
      "cell_type": "markdown",
      "metadata": {},
      "source": [
        "> **_LEMMA:_** $\\{ \\phi_i \\}$ forms a basis for $S$"
      ]
    },
    {
      "cell_type": "markdown",
      "metadata": {},
      "source": [
        "> _Proof._ \n",
        "> We show that $\\{ \\phi_i \\}$ is linearly independent and spans $S$.\n",
        ">\n",
        "> Let $v(x) = \\sum_{i=1}^n V_i \\phi_i(x)$.\n",
        "> Then, $v(x_i) = V_i$ (i.e. the coefficients $V_i$ are the nodal values of $v$).\n",
        "> So, $v \\equiv 0$ if and only if $V_i = 0$ for all $i$, and so $\\{ \\phi_i \\}$ is linearly independent.\n",
        ">\n",
        "> Now, we show $\\{ \\phi_i \\}$ spans $S$.\n",
        "> Let $v \\in V$ be arbitrary, and let $V_i = v(x_i)$.\n",
        "> Then, we can verify that $v = \\sum_{i=1}^n V_i \\phi_i(x)$."
      ]
    },
    {
      "cell_type": "markdown",
      "metadata": {},
      "source": [
        "> _NOTE:_ For any continuous $f \\in C^0([0,1])$, the function $f_I(x) \\sum_{i=1}^n f(x_i) \\phi_i(x)$ is called the **nodal interpolant** of $f$"
      ]
    },
    {
      "cell_type": "markdown",
      "metadata": {},
      "source": [
        "Applying the Galerkin method to the space of piecewise linear functions, we obtain the matrix $A$ defined by\n",
        "$$\n",
        "    A_{ij} = \\int_0^1 \\phi_i'(x) \\phi_j'(x) \\, dx.\n",
        "$$\n",
        "Note that $\\phi_i$ is uniformly zero outside of the two intervals containing the vertex $i$.\n",
        "Therefore, $\\phi_i'$ vanishes outside these two intervals as well.\n",
        "That means that if $i$ and $j$ are vertices that do not share a common interval, then $\\phi_i'(x) \\phi_j'(x)$ is uniformly zero.\n",
        "Consequently, most of the entries of $A_{ij}$ are zero.\n",
        "In row $i$, the only entries that are nonzero correspond to vertices $i-1$, $i$, and $i+1$.\n",
        "This means that the matrix is **tridiagonal**."
      ]
    },
    {
      "cell_type": "markdown",
      "metadata": {},
      "source": [
        "### Error analysis for the Galerkin method\n",
        "\n",
        "Suppose $S$ is any finite-dimensional subspace of $V$.\n",
        "Let $u_S$ solve the finite-dimensional problem $(S)$, and $u$ solve the infinite-dimensional problem $(V)$.\n",
        "(We can think of $u_S$ as the \"approximate solution\" and $u$ as the \"true solution\").\n",
        "Then\n",
        "$$\n",
        "    a(u_S - u, v_S) = 0\n",
        "$$\n",
        "for all $v_S \\in S$.\n",
        "This is a very important property known as **Galerkin orthogonality**.\n",
        "\n",
        "For now, we will measure the error using the **norm induced by the bilinear form** $a(\\cdot, \\cdot)$."
      ]
    },
    {
      "cell_type": "markdown",
      "metadata": {},
      "source": [
        "Recall that a function $\\| \\cdot \\| : V \\to \\mathbb{R}$ is called a **norm** if it satsifies:\n",
        "\n",
        "1. **Positive definiteness.** $\\| v \\| \\geq 0$ and $\\| v \\| = 0$ only when $v = 0$.\n",
        "2. **Absolute homogeneity.** $\\| a v \\| = |a| \\| v \\|$ for all $a \\in \\mathbb{R}$, $v \\in V$.\n",
        "3. **Triangle inequality.** $\\| u + v \\| \\leq \\|u \\| + \\| v \\|$ for all $u, v \\in V$."
      ]
    },
    {
      "cell_type": "markdown",
      "metadata": {},
      "source": [
        "Any inner product $(\\cdot, \\cdot)$ **induces** a norm $\\| \\cdot \\|$ defined by\n",
        "$$\n",
        "    \\| u \\| = (u, u)^{1/2}\n",
        "$$"
      ]
    },
    {
      "cell_type": "markdown",
      "metadata": {},
      "source": [
        "The $L^2$ inner product $(\\cdot, \\cdot)$ induces the $L^2$ norm $\\|\\cdot\\|_0$ (often abbreviated $\\|\\cdot\\|$)\n",
        "$$\n",
        "    \\| u \\|_0 = (u, u)^{1/2} = \\left(\\int_0^1 u^2(x) \\, dx \\right)^{1/2}.\n",
        "$$"
      ]
    },
    {
      "cell_type": "markdown",
      "metadata": {},
      "source": [
        "The bilinear form $a(\\cdot, \\cdot)$ induces the norm $\\| \\cdot \\|_A$ defined by\n",
        "$$\n",
        "    \\| u \\|_A = a(u,u)^{1/2} = \\left( \\int_0^1 (u')^2 \\, dx \\right)^{1/2}\n",
        "$$\n",
        "which is known as the **energy norm**."
      ]
    },
    {
      "cell_type": "markdown",
      "metadata": {},
      "source": [
        "#### Cauchy-Schwarz inequality\n",
        "\n",
        "One of the most important results concerning norms and inner products is the **Cauchy-Schwarz inequality**.\n",
        "This inequality states that, if $(\\cdot,\\cdot)$ is an inner product, and $\\| \\cdot \\|$ is the induced norm, then\n",
        "$$\n",
        "    |(u, v)| \\leq \\| u \\| \\, \\| v \\|.\n",
        "$$\n",
        "Equality holds if and only if $u$ and $v$ are colinear (one is a scalar multiple of the other)."
      ]
    },
    {
      "cell_type": "markdown",
      "metadata": {},
      "source": [
        "#### Galerkin orthogonality"
      ]
    },
    {
      "cell_type": "markdown",
      "metadata": {},
      "source": [
        "As a consequence of Galerkin orthogonality, we have the following theorem.\n",
        "\n",
        "**Theorem 1.1** Let $u_S$ solve $(S)$ and let $u$ solve $(V)$. For any $v_S \\in S$, we have\n",
        "$$\n",
        "    \\| u_S - u \\|_A \\leq \\| v_S - u \\|_A,\n",
        "$$\n",
        "in other words, $u_S$ minimizes the error (in the energy norm) $\\| u_S - u \\|_A$ among all elements of the space $S$.\n",
        "\n",
        "_Proof._\n",
        "Let $v_S \\in S$ be arbitrary.\n",
        "Then,\n",
        "$$\n",
        "    \\| v_s - u \\|_A^2 =\n",
        "    a(v_s - u, v_s - u)\n",
        "    = a(v_S - u_S + u_S - u, v_S - u_S + u_S - u).\n",
        "$$\n",
        "Expanding,\n",
        "$$\n",
        "    a(u_S - u, u_S - u) + 2 a(u_S - u, v_S - u_S) + (v_S - u_S, v_S - u_S).\n",
        "$$\n",
        "Note that the middle term is exactly equal to zero by Galerkin orthogonality (since $v_S - u_S \\in S$).\n",
        "The result follows."
      ]
    },
    {
      "cell_type": "markdown",
      "metadata": {},
      "source": [
        "#### Interpolation accuracy"
      ]
    },
    {
      "cell_type": "markdown",
      "metadata": {},
      "source": [
        "What are the accuracy properties of the nodal interpolant?"
      ]
    },
    {
      "cell_type": "markdown",
      "metadata": {},
      "source": [
        "**_THEOREM:_** Let $h = \\max h_i$ (where $h_i = x_i - x_{i-1}$).\n",
        "Then,\n",
        "$$ \\| u - u_I \\|_A \\leq C h \\| u'' \\|_0 $$\n",
        "for $C$ independent of $h$ and $u$."
      ]
    },
    {
      "cell_type": "markdown",
      "metadata": {},
      "source": [
        "_Proof._ \n",
        "It suffices to prove the result over each subinterval, i.e.\n",
        "$$\n",
        " \\int_{x_{j-1}}^{x_j} (u - u_I)'(x)^2 \\, dx \\leq c h_j \\int_{x_{j-1}}^{x_j} u''(x)^2 \\, dx\n",
        "$$\n",
        "The result will then follow by summing over $j$.\n",
        "\n",
        "Denote the error $e = u - u_I$.\n",
        "Since $u_I$ is linear on each interval, we have $u'' = e''$ on each interval.\n",
        "Then, the condition above is equivalent to\n",
        "$$\n",
        " \\int_{x_{j-1}}^{x_j} e'(x)^2 \\, dx \\leq c h_j \\int_{x_{j-1}}^{x_j} e''(x)^2 \\, dx\n",
        "$$\n",
        "We perform a change of variables,\n",
        "$$ x = x_{j-1} + h_j \\tilde{x} $$\n",
        "so that this is equivalent to\n",
        "$$\n",
        " \\int_0^1 \\tilde{e}'(\\tilde{x})^2 \\, d\\tilde{x} \\leq c \\int_0^1 \\tilde{e}''(\\tilde{x})^2 \\, d\\tilde{x}\n",
        "$$\n",
        "where $\\tilde{e}(\\tilde{x}) = e(x(\\tilde{x}))$.\n",
        "\n",
        "To simplify notation, write $\\tilde{e}(\\tilde{x}) = w(t)$.\n",
        "We have $w(0) = w(1) = 0$ since the interpolation error is zero at the nodes.\n",
        "By Rolle's theorem, $w'(\\xi) = 0$ for some $\\xi \\in (0,1)$.\n",
        "So,\n",
        "$$ w'(y) = \\int_\\xi^y w''(t) \\, dt $$\n",
        "Applying Cauchy-Schwarz to the right-hand side,\n",
        "$$\n",
        " \\begin{aligned}\n",
        "    | w'(y) | = \\left| \\int_\\xi^y w''(t) \\, dt \\right|\n",
        "       &= \\left| \\int_\\xi^y 1 \\cdot w''(t) \\, dt \\right| \\\\\n",
        "       &\\leq |y - \\xi|^{1/2} \\left(\\int_\\xi^y w''(t)^2 \\, dt \\right)^{1/2} \\\\\n",
        "       &\\leq |y - \\xi|^{1/2} \\left(\\int_0^1 w''(t)^2 \\, dt \\right)^{1/2} \\\\\n",
        "       &= |y - \\xi|^{1/2} \\ \\| w'' \\|_0^{1/2}\n",
        " \\end{aligned}\n",
        "$$\n",
        "Squaring and integrating over $y$,\n",
        "$$\n",
        " \\begin{aligned}\n",
        "    \\| w \\|_A^2 \\leq \\| w'' \\|_0 \\int_0^1 |y - \\xi| \\, dy.\n",
        " \\end{aligned}\n",
        "$$\n",
        "Choosing $c$ such that $c \\geq \\int_0^1 (y - \\xi) \\, dy$ for all $\\xi$, we obtain the desired result (i.e. can take $c = 1/2$)."
      ]
    },
    {
      "cell_type": "markdown",
      "metadata": {},
      "source": [
        "#### $L^2$ norm convergence\n",
        "\n",
        "The previous argument tells us the rate of convergence of the finite element approximation $u_h$ to the true solution $u$ **in the energy norm**.\n",
        "This measures the error of the derivative of $u_h$ compared with the derivative of $u$.\n",
        "However, we often also want to know how the error of $u_h$ _in terms of values_ behaves;\n",
        "one way of measuring this is using the $L^2$ norm.\n",
        "We want to know if and how quickly the $L^2$ error\n",
        "$$\n",
        "    \\| u_h - u \\|_0^2 = \\int_0^1 (u_h - u)^2 \\, dx\n",
        "$$\n",
        "converges to zero.\n",
        "\n",
        "The standard way to derive error estimates in $L^2$ from error estimates in the energy norm is using what is known as a **duality argument**.\n",
        "\n",
        "Recall that $u$ is the solution to the problem\n",
        "$$\n",
        "    \\left\\{\n",
        "    \\begin{aligned}\n",
        "        -u'' &= f \\quad\\text{in $[0,1]$}, \\\\\n",
        "        u(0) = u(1) &= 0.\n",
        "    \\end{aligned} \\right.\n",
        "$$\n",
        "Let $u_h$ be the finite element approximation.\n",
        "Consider the **related** (_dual_) problem: find $w$ that satisfies\n",
        "$$\n",
        "    \\tag{$D'$} \\left\\{\n",
        "    \\begin{aligned}\n",
        "        -w'' &= u - u_h \\quad\\text{in $[0,1]$}, \\\\\n",
        "        w(0) = w(1) &= 0.\n",
        "    \\end{aligned} \\right.\n",
        "$$\n",
        "<!-- If $w$ solves the related differential equation $(D')$, then it must also solve the associated variational problem $(V')$, i.e.\n",
        "$$\n",
        "    (w', v') = (u - u_h, v)\n",
        "$$\n",
        "for all test functions $v$. -->\n",
        "Then, integrating by parts,\n",
        "$$\n",
        "    \\begin{aligned}\n",
        "        \\| u - u_h \\|_0^2\n",
        "            &= (u - u_h, u - u_h) \\\\\n",
        "            &= (u - u_h, -w'') \\\\\n",
        "            &= ( (u-u_h)', w') \\\\\n",
        "            &= a(u-u_h, w) \\\\\n",
        "            &= a(u-u_h, w - v)\n",
        "    \\end{aligned}\n",
        "$$\n",
        "for _any_ $v \\in V_h$, using Galerkin orthogonality.\n",
        "The Cauchy-Schwarz inequality implies\n",
        "$$\n",
        "    a(u-u_h, w - v) \\leq \\| u - u_h \\|_A \\| w - v \\|_A,\n",
        "$$\n",
        "for any such $v$.\n",
        "In particular, we can take the infimum over all $v \\in V_h$,\n",
        "$$\n",
        "    a(u-u_h, w - v) \\leq \\| u - u_h \\|_A \\inf_{v \\in V_h} \\| w - v \\|_A.\n",
        "$$\n",
        "Choosing, for example, $v$ to be the nodal interpolant and using the accuracy result proved earlier, we have that\n",
        "$$\n",
        "\\begin{aligned}\n",
        "    \\| u - u_h \\|_A &\\leq C h \\| u'' \\|_0, \\\\\n",
        "    \\inf_{v \\in V_h} \\| w - v \\|_A &\\leq C h \\| w'' \\|_0.\n",
        "\\end{aligned},\n",
        "$$\n",
        "from which we have\n",
        "$$\n",
        "    a(u-u_h, w - v) \\leq C^2 h^2 \\| u'' \\|_0 \\| w'' \\|_0.\n",
        "$$\n",
        "To conclude, since $-w'' = u - u_h$, we have that\n",
        "$$\n",
        "    \\| u - u_h \\|_0^2 = \\| u - u_h \\|_0 \\| w'' \\|_0,\n",
        "$$\n",
        "and\n",
        "$$\n",
        "    \\| u - u_h \\|_0 \\leq C^2 h^2 \\| u'' \\|_0 = C^2 h^2 \\| f \\|_0.\n",
        "$$"
      ]
    },
    {
      "cell_type": "markdown",
      "metadata": {},
      "source": [
        "### Max-norm convergence\n",
        "\n",
        "The energy norm and $L^2$ norm estimates shown above all involve _integrated_ measures of the error.\n",
        "It is also interested in looking at _pointwise_ error estimates.\n",
        "Can we obtain a bound on the max-norm of the error?\n",
        "\n",
        "Let $s \\in [0,1]$ be a given point.\n",
        "Let us try to estimate $u(s) - u_S(s)$, the error at point $s$.\n",
        "Define the _Green's function_ $g_s(x)$ by\n",
        "$$\n",
        "   g_s(x) = \\begin{cases}\n",
        "      x - s x &\\quad x < z \\\\\n",
        "      s - s x &\\quad \\text{otherwise}\n",
        "   \\end{cases}\n",
        "$$\n",
        "A property of the Green's function is that $a(v, g_s) = v(s)$ for any $v$.\n",
        "This can be seen by computing\n",
        "$$\n",
        "   \\begin{aligned}\n",
        "      a(v, g_s)\n",
        "         &= \\int_0^1 v'(x) g_s'(x) \\, dx \\\\\n",
        "         &= \\int_0^s v'(x) g_s'(x) \\, dx + \\int_s^1 v'(x) g_s'(x) \\, dx\n",
        "   \\end{aligned}\n",
        "$$\n",
        "Integrating each of the two integrals on the right-hand side by part, the resulting term involving $g_s''(x)$ vanishes, and we are left with\n",
        "$$\n",
        "   [v g_s']_0^s + [v g_s']_s^1 = (1-s) v(s) - (-s)v(s) = v(s).\n",
        "$$\n",
        "\n",
        "Note that $g_s$ is **piecewise linear**, and so $g_{x_i} \\in S$ for each node $x_i$.\n",
        "By Galerkin orthogonality,\n",
        "$$\n",
        "   a(u - u_S, g_{x_i}) = 0,\n",
        "$$\n",
        "and so\n",
        "$$\n",
        "   u(x_i) - u_S(x_i) = a(u - u_S, g_{x_i}) = 0,\n",
        "$$\n",
        "and we see that the piecewise linear finite element approximation $u_S$ **interpolates** the exact solution at the nodes, i.e. $u_S = u_I$.\n",
        "A Taylor series argument can be used to bound the max-norm error of the interpolant $u_I$, which as a result gives:\n",
        "\n",
        "**_THEOREM:_** $$ \\| u - u_S \\|_{\\max} \\leq C h^2 \\| u'' \\|_{\\max}. $$"
      ]
    },
    {
      "cell_type": "markdown",
      "metadata": {},
      "source": []
    }
  ],
  "metadata": {
    "colab": {
      "provenance": []
    },
    "kernelspec": {
      "display_name": "Python 3.10.6 ('venv': venv)",
      "language": "python",
      "name": "python3"
    },
    "language_info": {
      "codemirror_mode": {
        "name": "ipython",
        "version": 3
      },
      "file_extension": ".py",
      "mimetype": "text/x-python",
      "name": "python",
      "nbconvert_exporter": "python",
      "pygments_lexer": "ipython3",
      "version": "3.12.6"
    },
    "vscode": {
      "interpreter": {
        "hash": "bd788376193720eadecf9d964712d25ddb8942c37aec80724648cfa1bb12b2b1"
      }
    }
  },
  "nbformat": 4,
  "nbformat_minor": 0
}

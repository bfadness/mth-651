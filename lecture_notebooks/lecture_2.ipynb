{
  "cells": [
    {
      "cell_type": "markdown",
      "metadata": {},
      "source": [
        "# MTH 651: Advanced Numerical Analysis"
      ]
    },
    {
      "cell_type": "markdown",
      "metadata": {},
      "source": [
        "## Lecture 2"
      ]
    },
    {
      "cell_type": "markdown",
      "metadata": {
        "id": "d5sMJY4v8Tol"
      },
      "source": [
        "### Topics\n",
        "\n",
        "* Variational form of the governing equations\n",
        "* Finite element formulation in 1D\n",
        "* Proof of accuracy\n",
        "  * $L^2$ norm\n",
        "  * max-norm\n",
        "\n",
        "#### Textbook references\n",
        "\n",
        "Sections 0.1, 0.2, 0.3, 0.4, 0.5, 0.7"
      ]
    },
    {
      "cell_type": "markdown",
      "metadata": {},
      "source": [
        "### Variational form of the equations\n",
        "\n",
        "Recall our model problem on $\\Omega = [0,1]$\n",
        "$$ \\tag{$*$}\n",
        "\\left\\{\n",
        "   \\begin{aligned}\n",
        "      -u''(x) &= f(x) \\\\\n",
        "      u(0) &= 0 \\\\\n",
        "      u(1) &= 0\n",
        "   \\end{aligned}\n",
        "\\right.\n",
        "$$\n",
        "\n",
        "> **_NOTE:_**  The textbook considers slightly different boundary conditions. It will not make a big difference in what follows."
      ]
    },
    {
      "cell_type": "markdown",
      "metadata": {},
      "source": [
        "Let $u$ be the solution to $(*)$ defined above.\n",
        "\n",
        "Let $v$ be a **test function**, i.e. any sufficiently smooth function such that $v(0) = v(1) = 0$.\n",
        "\n",
        "Certainly, multiplying the equation $-u''(x) = f(x)$ by $v$ and then integrating gives\n",
        "$$\n",
        "   -\\int_0^1 u''(x) v(x) \\, dx = \\int_0^1 f(x) v(x) \\, dx\n",
        "$$\n",
        "Integrating the left-hand side by parts gives\n",
        "$$ \\tag{$**$}\n",
        "   \\int_0^1 u'(x) v'(x) \\, dx = \\int_0^1 f(x) v(x) \\, dx\n",
        "$$\n",
        "Note that the boundary term $[-u'(x) v(x)]_0^1$ vanishes because $v$ is zero at both endpoints."
      ]
    },
    {
      "cell_type": "markdown",
      "metadata": {},
      "source": [
        "> **_NOTATION:_** We will write $(f, g)$ to denote the integral\n",
        "> $$ (f, g) = \\int_0^1 f(x) g(x) \\, dx $$\n",
        "> This is known as the $L^2$ inner product."
      ]
    },
    {
      "cell_type": "markdown",
      "metadata": {},
      "source": [
        "> **_DEFINITION:_** Let $a(u,v)$ denote the **bilinear form** defined by\n",
        "> $$ a(u,v) = \\int_0^1 u'(x) v'(x) \\,dx $$"
      ]
    },
    {
      "cell_type": "markdown",
      "metadata": {},
      "source": [
        "From equation $(**)$, we can write the equation as\n",
        "$$ \\tag{VF}\n",
        "   a(u, v) = (f, v)\n",
        "$$\n",
        "for all test functions $v$ (in some appropriate space $V$).\n",
        "This is known as the **variational form** (or weak form) of the equation (because the test function $v$ is allowed to vary).\n",
        "\n",
        "Do we know that the variational form is equivalent to our original equation? It is clear that the differential equation $(*)$ implies the variational form $({\\rm VF})$ (we derived this above), but what about the converse?"
      ]
    },
    {
      "cell_type": "markdown",
      "metadata": {},
      "source": [
        "> **_THEOREM:_** Let $f \\in C^0([0,1])$ and suppose that $u \\in C^2([0,1])$ where $u(0) = u(1) = 0$ satisfies $({\\rm VF})$.\n",
        "> Then, $u$ solves $(*)$."
      ]
    },
    {
      "cell_type": "markdown",
      "metadata": {},
      "source": [
        "> _Proof._\n",
        "> Let $v \\in C^1([0,1])$ with $v(0) = v(1) = 0$.\n",
        ">\n",
        "> From $({\\rm VF})$ we have that, integrating by parts,\n",
        "> $$ (f, v) = a(u, v) = - \\int_0^1 u''(x) v(x) \\, dx = (-u'', v) $$\n",
        ">\n",
        "> Therefore, $(f + u'', v) = 0$ for all such test functions $v$.\n",
        ">\n",
        "> We wish to show $f + u'' = 0$ (which would imply $(*)$).\n",
        "> Suppose to the contrary that $f + u'' \\not\\equiv 0$.\n",
        "> Then, there is some interval $[x_0, x_1] \\subseteq [0,1]$ on which $f + u''$ does not change sign (i.e. it is either strictly positive or strictly negative).\n",
        ">\n",
        "> Let us choose the test function $v$ to be\n",
        "> $$\n",
        ">  v(x) = \\begin{cases}\n",
        ">     (x - x_0)^2(x-x_1)^2 & x \\in [x_0, x_1] \\\\\n",
        ">     0 & \\text{otherwise}\n",
        ">  \\end{cases}\n",
        "> $$\n",
        "> (why is $v$ a valid test function?)\n",
        ">\n",
        "> Then, $(f + u'', v) \\neq 0$, a contradiction."
      ]
    },
    {
      "cell_type": "code",
      "execution_count": 27,
      "metadata": {},
      "outputs": [
        {
          "data": {
            "text/plain": [
              "[<matplotlib.lines.Line2D at 0x1288e4ee0>]"
            ]
          },
          "execution_count": 27,
          "metadata": {},
          "output_type": "execute_result"
        },
        {
          "data": {
            "image/png": "[encoded data removed]",
            "text/plain": [
              "<Figure size 640x480 with 1 Axes>"
            ]
          },
          "metadata": {},
          "output_type": "display_data"
        }
      ],
      "source": [
        "import numpy as np\n",
        "import matplotlib.pyplot as plt\n",
        "\n",
        "# To illustrate the test function defined above, suppose x0 = 0.25, x1 = 0.75\n",
        "x0 = 0.25\n",
        "x1 = 0.75\n",
        "\n",
        "n = 1001\n",
        "x = np.linspace(0, 1, n)\n",
        "y = np.zeros(n)\n",
        "\n",
        "for i in range(n):\n",
        "   if x[i] < x0:\n",
        "      y[i] = 0\n",
        "   elif x[i] > x1:\n",
        "      y[i] = 0\n",
        "   else:\n",
        "      y[i] = (x[i] - x0)**2 * (x[i] - x1)**2\n",
        "\n",
        "plt.plot(x, y)"
      ]
    },
    {
      "cell_type": "markdown",
      "metadata": {},
      "source": [
        "Clearly, the test function $v(x)$ defined above satisfies $v(0) = v(1) = 0$.\n",
        "\n",
        "We also need the condition that $v \\in C^1([0,1])$, i.e. its derivative must be well-defined and continuous.\n",
        "\n",
        "We can verify this through calculation, but let's also approximation the derivative and plot it (using which method?):"
      ]
    },
    {
      "cell_type": "code",
      "execution_count": 28,
      "metadata": {},
      "outputs": [
        {
          "data": {
            "text/plain": [
              "[<matplotlib.lines.Line2D at 0x12869a890>]"
            ]
          },
          "execution_count": 28,
          "metadata": {},
          "output_type": "execute_result"
        },
        {
          "data": {
            "image/png": "[encoded data removed]",
            "text/plain": [
              "<Figure size 640x480 with 1 Axes>"
            ]
          },
          "metadata": {},
          "output_type": "display_data"
        }
      ],
      "source": [
        "h = 1.0 / (n - 1)\n",
        "dy = np.zeros(n)\n",
        "for i in range(n):\n",
        "   if i == 0:\n",
        "      yL = 0.0\n",
        "   else:\n",
        "      yL = y[i-1]\n",
        "   if i == n-1:\n",
        "      yR = 0.0\n",
        "   else:\n",
        "      yR = y[i+1]\n",
        "   dy[i] = (yR - yL) / (2*h)\n",
        "\n",
        "plt.plot(x, dy)"
      ]
    },
    {
      "cell_type": "markdown",
      "metadata": {},
      "source": [
        "In other words, instead of solving $(*)$, we could _equivalently_ solve the variational (weak) form:\n",
        "\n",
        "> Find $u \\in C^2([0,1])$ with $u(0) = u(1) = 0$ such that for all test functions $v \\in C^1([0,1])$ with $v(0) = v(1) = 0$\n",
        "> $$ a(u,v) = (f, v) $$"
      ]
    },
    {
      "cell_type": "markdown",
      "metadata": {},
      "source": [
        "### Galerkin Approximation"
      ]
    },
    {
      "cell_type": "markdown",
      "metadata": {},
      "source": [
        "The variational form defined above gives an incredibly straightforward and systematic way of discretizing the equation $(*)$.\n",
        "\n",
        "We solve the variational form $({\\rm VF})$, but simply take $u, v \\in S$ for some **finite dimensional** function space $S$ (the space $S$ is a subspace of $V$, which is the space of sufficiently regular functions with $v(0) = v(1) = 0$ — we will make \"sufficiently regular\" precise later).\n",
        "That will result in a finite dimensional system of equations that can be solved e.g. on a computer.\n",
        "The discretization reads:\n",
        "\n",
        "> Find $u_S \\in S$ such that $a(u_S, v) = (f, v)$ for all $v \\in S$.\n",
        "\n",
        "Do we know that a (unique) solution to the above problem exists?"
      ]
    },
    {
      "cell_type": "markdown",
      "metadata": {},
      "source": [
        "> **_THEOREM:_** Given $f \\in L^2([0,1])$, the above problem has a unique solution in $S$."
      ]
    },
    {
      "cell_type": "markdown",
      "metadata": {},
      "source": [
        "> _Proof._\n",
        "> Let $\\{ \\phi_i : 1 \\leq i \\leq n \\}$ be a basis for the $n$-dimensional space $S$.\n",
        ">\n",
        "> Then,\n",
        "> * $u_S = \\sum_{i=1}^n U_i \\phi_i$\n",
        "> * $K_{ij} = a(\\phi_i, \\phi_j)$\n",
        "> * $F_i = (f, \\phi_i)$\n",
        ">\n",
        "> Define the vectors and matrices\n",
        "> * $\\boldsymbol U = (U_i)$\n",
        "> * $\\boldsymbol K = (K_{ij})$\n",
        "> * $\\boldsymbol F = (F_i)$\n",
        ">\n",
        "> The variational problem in $S$ is equivalent to the linear system of equations\n",
        "> $$ \\boldsymbol K \\boldsymbol U = \\boldsymbol F $$\n",
        ">\n",
        "> We want to show that this system has a unique solution, i.e. that the matrix $\\boldsymbol K$ is **nonsingular**.\n",
        "> Assume to the contrary that $\\boldsymbol K$ is singular, i.e. $\\boldsymbol K \\boldsymbol V = \\boldsymbol 0$ for some $\\boldsymbol V \\neq \\boldsymbol 0$.\n",
        ">\n",
        "> The vector $\\boldsymbol V$ corresponds to a function $v = \\sum_{i=1}^N V_i \\phi_i$ and $\\boldsymbol K \\boldsymbol V = \\boldsymbol 0$ is equivalent to $a(v, \\phi_i) = 0$ for all $i$.\n",
        ">\n",
        "> Consequently, we also have $a(v, v) = 0$. (Why?) This implies that\n",
        "> $$ \\int_0^1 v'(x) v'(x) \\,dx = \\int_0^1 (v'(x))^2 = 0 $$\n",
        "> which means that $v' \\equiv 0$.\n",
        ">\n",
        "> Thus, $v$ is constant, but since $v \\in S \\subseteq V$, and all functions in $V$ satisfy the BCs $v(0) = v(1) = 0$, we have that $v \\equiv 0$.\n",
        ">\n",
        "> Therefore, $\\boldsymbol V = \\boldsymbol 0$, a contradiction, and so $\\boldsymbol K$ must be nonsingular, and a unique solution exists."
      ]
    },
    {
      "cell_type": "markdown",
      "metadata": {},
      "source": [
        "Some remarks:\n",
        "\n",
        "* $\\boldsymbol K$ is known as the **stiffness matrix** (this name comes from structural mechanics, but it is commonly used in other application areas)\n",
        "* $\\boldsymbol K$ is **symmetric** and **positive-definite** (spd)\n",
        "   * This follows from symmetry and positive-definiteness of the bilinear form $a(\\cdot, \\cdot)$"
      ]
    },
    {
      "cell_type": "markdown",
      "metadata": {},
      "source": [
        "### Error estimates\n",
        "\n",
        "One of the \"selling points\" of the finite element method mentioned previously is that it is amenable to analysis.\n",
        "Let's try to estimate the error incurred by solving the finite-dimensional problem in $S$ rather than the full infinite-dimensional problem $({\\rm VF})$."
      ]
    },
    {
      "cell_type": "markdown",
      "metadata": {},
      "source": [
        "Define the **error** by $e = u - u_S$."
      ]
    },
    {
      "cell_type": "markdown",
      "metadata": {},
      "source": [
        "> **_GALERKIN ORTHOGONALITY:_** the error $e$ is orthogonal (in terms of the bilinear form $a$) to any $v \\in S$\n",
        ">\n",
        "> _Proof._ We have both $a(u, w) = (f, w)$ ($u$ is the exact solution to $({\\rm VF})$) and $s(u_S, w) = (f, w)$ (by definition of $u_S$). Subtracting these two gives the result."
      ]
    },
    {
      "cell_type": "markdown",
      "metadata": {},
      "source": [
        "> **_DEFINITION:_** Define the **energy norm** $\\| v \\|_E$ by\n",
        "> $$ \\| v \\|_E = \\sqrt{ a(v, v) } $$"
      ]
    },
    {
      "cell_type": "markdown",
      "metadata": {},
      "source": [
        "Recall the Cauchy-Schwarz inequality\n",
        "$$\n",
        "   | a(v, w) | \\leq \\| v \\|_E \\| w \\|_E\n",
        "$$\n",
        "Then, adding and subtracting $v \\in S$\n",
        "$$\n",
        "\\begin{align*}\n",
        "   \\| u - u_S \\|_E^2\n",
        "      &= a(u - u_S, u - u_S) \\\\\n",
        "      &= a(u - u_S, u - v) + a(u - u_S, v - u_S) \\\\\n",
        "      &= a(u - u_S, u - v) \\quad\\text{by Galerkin orthogonality} \\\\\n",
        "      &\\leq \\| u - u_S \\|_E \\| u - v \\|_E \\quad\\text{by Cauchy-Schwarz}\n",
        "\\end{align*}\n",
        "$$\n",
        "We obtain\n",
        "$$\n",
        "   \\| u - u_S \\|_E \\leq \\| u - v \\|_E,\n",
        "$$\n",
        "but $v$ was arbitrary, so $u_S$ **minimizes the error** (in the energy norm) among all possible functions in $S$."
      ]
    },
    {
      "cell_type": "markdown",
      "metadata": {},
      "source": [
        "We are also interested in the error measured in the $L^2$ norm, \n",
        "$$\n",
        "   \\| u - u_S \\| = \\left(\n",
        "      \\int_0^1 (u - u_S)^2 \\, dx\n",
        "   \\right)^{1/2}\n",
        "$$\n",
        "\n",
        "To translate the energy norm estimate about into a $L^2$ norm estimate, we use a **duality argument**.\n",
        "\n",
        "Let $w$ be the solution to\n",
        "$$\n",
        "\\left\\{\n",
        "   \\begin{aligned}\n",
        "      -w''(x) &= u(x) - u_S(x) \\\\\n",
        "      w(0) &= 0 \\\\\n",
        "      w(1) &= 0\n",
        "   \\end{aligned}\n",
        "\\right.\n",
        "$$\n",
        "Then,\n",
        "$$\n",
        "\\begin{align*}\n",
        "   \\| u - u_S \\|^2\n",
        "      &= (u - u_S, u - u_S) \\\\\n",
        "      &= (u - u_S, -w'') \\\\\n",
        "      &= a(u - u_S, w) \\\\\n",
        "      &= a(u - u_S, w - v)\n",
        "\\end{align*}\n",
        "$$\n",
        "for any $v \\in S$.\n",
        "Therefore,\n",
        "$$\n",
        "   \\| u - u_S \\| \\leq \\frac{\\| u - u_S \\|_E \\| w - v \\|_E }{ \\| w'' \\| }.\n",
        "$$\n",
        "Since this holds for all $v$, we have\n",
        "$$\n",
        "   \\| u - u_S \\| = \\| u - u_S \\|_E \\inf_{v \\in S} \\frac{\\| w - v \\|_E}{\\| w'' \\|}\n",
        "$$\n",
        "\n",
        "Therefore, if $w$ can be well approximated by some element $v \\in S$, then $\\| w - v \\|_E$ will be small, and the $L^2$ error will be much smaller than the error in the energy norm.\n",
        "\n",
        "For now, we make the _approximation assumption_ that\n",
        "$$\n",
        "   \\inf_{v \\in S} \\| w - v \\|_E \\leq \\epsilon \\| w'' \\|,\n",
        "$$\n",
        "so\n",
        "$$\n",
        "   \\| u - u_S \\| \\leq \\epsilon \\| u - u_S \\|_E\n",
        "$$\n",
        "(we hope $\\epsilon$ will be small).\n",
        "By the same approximation assumption, we also have\n",
        "$$\n",
        "   \\| u - u_S \\|_E = \\inf_{v \\in S} \\| u - v \\|_E \\leq \\epsilon \\| u'' \\|,\n",
        "$$\n",
        "so, we obtain\n",
        "\n",
        "> **$L^2$ _ERROR ESTIMATE:_**\n",
        "> $$\n",
        ">   \\| u - u_S \\| \\leq \\epsilon \\| u - S \\|_E \\leq \\epsilon^2 \\| u'' \\| = \\epsilon^2 \\| f \\|\n",
        "> $$\n",
        ">\n",
        "> The error in the energy norm is $\\mathcal{O}(\\epsilon)$ and the error in the $L^2$ norm is $\\mathcal{O}(\\epsilon^2)$\n",
        "\n",
        "Note that the actual value of $\\epsilon$ will depend on how we choose our finite-dimensional subspace $S$.\n",
        "Ideally, we want to choose a sequence of \"finer and finer\" subpaces with the property that $\\epsilon \\to 0$ so the discrete solution will converge to the exact solution with increasing refinement."
      ]
    },
    {
      "cell_type": "markdown",
      "metadata": {},
      "source": [
        "### Piecewise linear finite element spaces\n",
        "\n",
        "Let $0 = x_0 < x_1 < \\cdots < x_n < x_{n+1} = 1$ be a partition of $[0,1]$ (in multiple dimensions we will use a **mesh**).\n",
        "Let $S$ be the sapce of functions $v$ such that\n",
        "* $v \\in C^0([0,1])$\n",
        "* $v$ restricted to each subinterval $[x_i, x_{i+1}]$ is a linear function\n",
        "* $v(0) = v(1) = 0$\n",
        "\n",
        "$S$ is a finite-dimensional function space of dimension $n$.\n",
        "For $1 \\leq i \\leq n$, define the function $\\phi_i$ by \n",
        "$$\n",
        "   \\phi_i(x_j) = \\delta_{ij} = \\begin{cases}\n",
        "      1 & \\quad \\text{if $i=j$} \\\\\n",
        "      0 & \\quad \\text{otherwise}\n",
        "   \\end{cases}\n",
        "$$\n",
        "These functions are often informally called _hat functions_."
      ]
    },
    {
      "cell_type": "code",
      "execution_count": 29,
      "metadata": {},
      "outputs": [
        {
          "data": {
            "image/png": "[encoded data removed]",
            "text/plain": [
              "<Figure size 640x480 with 1 Axes>"
            ]
          },
          "metadata": {},
          "output_type": "display_data"
        }
      ],
      "source": [
        "# Create some uniformly spaced points\n",
        "n = 4\n",
        "x = np.linspace(0, 1, n+2)\n",
        "\n",
        "def phi(i):\n",
        "   y = np.zeros(n+2)\n",
        "   y[i] = 1\n",
        "   return y\n",
        "\n",
        "plt.scatter(x, 0*x)\n",
        "plt.plot(x, phi(1), label=\"$\\\\phi_1$\")\n",
        "plt.plot(x, phi(2), label=\"$\\\\phi_2$\")\n",
        "plt.plot(x, phi(3), label=\"$\\\\phi_3$\")\n",
        "plt.plot(x, phi(4), label=\"$\\\\phi_4$\")\n",
        "plt.legend()\n",
        "plt.show()"
      ]
    },
    {
      "cell_type": "markdown",
      "metadata": {},
      "source": [
        "> _TERMINOLOGY:_ \n",
        "> * The points $x_i$ are called **nodes**\n",
        "> * The point values $v(x_i)$ are called **nodal values**\n",
        "> * The basis $\\{ \\phi_i \\}$ is called a **nodal basis**"
      ]
    },
    {
      "cell_type": "markdown",
      "metadata": {},
      "source": [
        "> **_LEMMA:_** $\\{ \\phi_i \\}$ forms a basis for $S$"
      ]
    },
    {
      "cell_type": "markdown",
      "metadata": {},
      "source": [
        "> _Proof._ \n",
        "> We show that $\\{ \\phi_i \\}$ is linearly independent and spans $S$.\n",
        ">\n",
        "> Let $v(x) = \\sum_{i=1}^n V_i \\phi_i(x)$.\n",
        "> Then, $v(x_i) = V_i$ (i.e. the coefficients $V_i$ are the nodal values of $v$).\n",
        "> So, $v \\equiv 0$ if and only if $V_i = 0$ for all $i$, and so $\\{ \\phi_i \\}$ is linearly independent.\n",
        ">\n",
        "> Now, we show $\\{ \\phi_i \\}$ spans $S$.\n",
        "> Let $v \\in V$ be arbitrary, and let $V_i = v(x_i)$.\n",
        "> Then, we can verify that $v = \\sum_{i=1}^n V_i \\phi_i(x)$."
      ]
    },
    {
      "cell_type": "markdown",
      "metadata": {},
      "source": [
        "> _NOTE:_ For any continuous $f \\in C^0([0,1])$, the function $f_I(x) \\sum_{i=1}^n f(x_i) \\phi_i(x)$ is called the **nodal interpolant** of $f$"
      ]
    },
    {
      "cell_type": "markdown",
      "metadata": {},
      "source": [
        "What are the accuracy properties of the nodal interpolant?"
      ]
    },
    {
      "cell_type": "markdown",
      "metadata": {},
      "source": [
        "> **_THEOREM:_** Let $h = \\max h_i$ (where $h_i = x_i - x_{i-1}$).\n",
        "> Then,\n",
        "> $$ \\| u - u_I \\|_E \\leq C h \\| u'' \\| $$\n",
        "> for $C$ independent of $h$ and $u$."
      ]
    },
    {
      "cell_type": "markdown",
      "metadata": {},
      "source": [
        "> _Proof._ \n",
        "> It suffices to prove the result over each subinterval, i.e.\n",
        "> $$\n",
        ">  \\int_{x_{j-1}}^{x_j} (u - u_I)'(x)^2 \\, dx \\leq c h_j \\int_{x_{j-1}}^{x_j} u''(x)^2 \\, dx\n",
        "> $$\n",
        "> The result will then follow by summing over $j$.\n",
        ">\n",
        "> Denote the error $e = u - u_I$.\n",
        "> Since $u_I$ is linear on each interval, we have $u'' = e''$ on each interval.\n",
        "> Then, the condition above is equivalent to\n",
        "> $$\n",
        ">  \\int_{x_{j-1}}^{x_j} e'(x)^2 \\, dx \\leq c h_j \\int_{x_{j-1}}^{x_j} e''(x)^2 \\, dx\n",
        "> $$\n",
        "> We perform a change of variables,\n",
        "> $$ x = x_{j-1} + h_j \\tilde{x} $$\n",
        "> so that this is equivalent to\n",
        "> $$\n",
        ">  \\int_0^1 \\tilde{e}'(\\tilde{x})^2 \\, d\\tilde{x} \\leq c \\int_0^1 \\tilde{e}''(\\tilde{x})^2 \\, d\\tilde{x}\n",
        "> $$\n",
        "> where $\\tilde{e}(\\tilde{x}) = e(x(\\tilde{x}))$.\n",
        ">\n",
        "> To simplify notation, write $\\tilde{e}(\\tilde{x}) = w(t)$.\n",
        "> We have $w(0) = w(1) = 0$ since the interpolation error is zero at the nodes.\n",
        "> By Rolle's theorem, $w'(\\xi) = 0$ for some $\\xi \\in (0,1)$.\n",
        "> So,\n",
        "> $$ w'(y) = \\int_\\xi^y w''(t) \\, dt $$\n",
        "> Applying Cauchy-Schwarz to the right-hand side,\n",
        "> $$\n",
        ">  \\begin{align*}\n",
        ">     | w'(y) | = \\left| \\int_\\xi^y w''(t) \\, dt \\right|\n",
        ">        &= \\left| \\int_\\xi^y 1 \\cdot w''(t) \\, dt \\right| \\\\\n",
        ">        &\\leq |y - \\xi|^{1/2} \\left(\\int_\\xi^y w''(t)^2 \\, dt \\right)^{1/2} \\\\\n",
        ">        &\\leq |y - \\xi|^{1/2} \\left(\\int_0^1 w''(t)^2 \\, dt \\right)^{1/2} \\\\\n",
        ">        &= |y - \\xi|^{1/2} \\ \\| w'' \\|^{1/2}\n",
        ">  \\end{align*}\n",
        "> $$\n",
        "> Squaring and integrating over $y$,\n",
        "> $$\n",
        ">  \\begin{align*}\n",
        ">     \\| w \\|_E^2 \\leq \\| w'' \\| \\int_0^1 |y - \\xi| \\, dy.\n",
        ">  \\end{align*}\n",
        "> $$\n",
        "> Choosing $c$ such that $c \\geq \\int_0^1 (y - \\xi) \\, dy$ for all $\\xi$, we obtain the desired result (i.e. can take $c = 1/2$)."
      ]
    },
    {
      "cell_type": "markdown",
      "metadata": {},
      "source": [
        "Recall, in the abstract setting, we made the assumption about the approximation property\n",
        "$$\n",
        "   \\inf_{v \\in S} \\| w - v \\|_S \\leq \\epsilon \\| w'' \\|\n",
        "$$\n",
        "for some constant $\\epsilon$.\n",
        "\n",
        "From the above, we see that for piecewise linear finite element space, we can take $\\epsilon = Ch$ by taking $v = w_I$ in the above, since we have the estimate\n",
        "$$\n",
        "   \\| w - w_I \\|_S \\leq C h \\| w'' \\|.\n",
        "$$\n",
        "\n",
        "Therefore, the piecewise linear finite element method converges as $\\mathcal{O}(h)$ in the energy norm and $\\mathcal{O}(h^2)$ in the $L^2$ norm."
      ]
    },
    {
      "cell_type": "markdown",
      "metadata": {},
      "source": [
        "### Max-norm convergence\n",
        "\n",
        "The energy norm and $L^2$ norm estimates shown above all involve _integrated_ measures of the error.\n",
        "It is also interested in looking at _pointwise_ error estimates.\n",
        "Can we obtain a bound on the max-norm of the error?\n",
        "\n",
        "Let $s \\in [0,1]$ be a given point.\n",
        "Let us try to estimate $u(s) - u_S(s)$, the error at point $s$.\n",
        "Define the _Green's function_ $g_s(x)$ by\n",
        "$$\n",
        "   g_s(x) = \\begin{cases}\n",
        "      x - s x &\\quad x < z \\\\\n",
        "      s - s x &\\quad \\text{otherwise}\n",
        "   \\end{cases}\n",
        "$$\n",
        "A property of the Green's function is that $a(v, g_s) = v(s)$ for any $v$.\n",
        "This can be seen by computing\n",
        "$$\n",
        "   \\begin{align*}\n",
        "      a(v, g_s)\n",
        "         &= \\int_0^1 v'(x) g_s'(x) \\, dx \\\\\n",
        "         &= \\int_0^s v'(x) g_s'(x) \\, dx + \\int_s^1 v'(x) g_s'(x) \\, dx\n",
        "   \\end{align*}\n",
        "$$\n",
        "Integrating each of the two integrals on the right-hand side by part, the resulting term involving $g_s''(x)$ vanishes, and we are left with\n",
        "$$\n",
        "   [v g_s']_0^s + [v g_s']_s^1 = (1-s) v(s) - (-s)v(s) = v(s).\n",
        "$$\n",
        "\n",
        "Note that $g_s$ is **piecewise linear**, and so $g_{x_i} \\in S$ for each node $x_i$.\n",
        "By Galerkin orthogonality,\n",
        "$$\n",
        "   a(u - u_S, g_{x_i}) = 0,\n",
        "$$\n",
        "and so\n",
        "$$\n",
        "   u(x_i) - u_S(x_i) = a(u - u_S, g_{x_i}) = 0,\n",
        "$$\n",
        "and we see that the piecewise linear finite element approximation $u_S$ **interpolates** the exact solution at the nodes, i.e. $u_S = u_I$.\n",
        "A Taylor series argument can be used to bound the max-norm error of the interpolant $u_I$, which as a result gives:\n",
        "\n",
        "> **_THEOREM:_** $$ \\| u - u_S \\|_{\\max} \\leq C h^2 \\| u'' \\|_{\\max}. $$"
      ]
    }
  ],
  "metadata": {
    "colab": {
      "provenance": []
    },
    "kernelspec": {
      "display_name": "Python 3.10.6 ('venv': venv)",
      "language": "python",
      "name": "python3"
    },
    "language_info": {
      "codemirror_mode": {
        "name": "ipython",
        "version": 3
      },
      "file_extension": ".py",
      "mimetype": "text/x-python",
      "name": "python",
      "nbconvert_exporter": "python",
      "pygments_lexer": "ipython3",
      "version": "3.10.6"
    },
    "vscode": {
      "interpreter": {
        "hash": "5d4853bb342ce7457c0db7bc3c20704bcd1a1a8949792637a85013d5ddbd2d6f"
      }
    }
  },
  "nbformat": 4,
  "nbformat_minor": 0
}

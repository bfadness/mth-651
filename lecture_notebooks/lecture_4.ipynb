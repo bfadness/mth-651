{
  "cells": [
    {
      "cell_type": "markdown",
      "metadata": {},
      "source": [
        "# MTH 651: Advanced Numerical Analysis"
      ]
    },
    {
      "cell_type": "markdown",
      "metadata": {},
      "source": [
        "## Lecture 4"
      ]
    },
    {
      "cell_type": "markdown",
      "metadata": {
        "id": "d5sMJY4v8Tol"
      },
      "source": [
        "### Topics\n",
        "\n",
        "* Inclusion relations, Sobolev's inequality\n",
        "* Trace theorems\n",
        "* Negative norms and duality\n",
        "\n",
        "#### Textbook references\n",
        "\n",
        "Sections 1.4, 1.6, 1.7"
      ]
    },
    {
      "cell_type": "markdown",
      "metadata": {},
      "source": [
        "#### Inclusion relations and Sobolev's inequalities"
      ]
    },
    {
      "cell_type": "markdown",
      "metadata": {},
      "source": [
        "> **_PROPOSITION:_** For any domain $\\Omega$, if $k \\leq m$ then\n",
        "> $$ W^m_p(\\Omega) \\subseteq W^k_p(\\Omega) $$"
      ]
    },
    {
      "cell_type": "markdown",
      "metadata": {},
      "source": [
        "> **_PROPOSITION:_** If $\\Omega$ is a **bounded** domain and $q \\leq p \\leq q \\leq \\infty$ then\n",
        "> $$ W^k_q(\\Omega) \\subseteq W^k_p(\\Omega) $$"
      ]
    },
    {
      "cell_type": "markdown",
      "metadata": {},
      "source": [
        "> **_THEOREM:_** Let $\\Omega \\subseteq \\mathbb{R}^n$ be a domain with Lipschitz boundary.\n",
        "> Let $1 \\leq p \\leq < \\infty$ and let $k$ be such that\n",
        "> $$\n",
        "> \\begin{align*}\n",
        ">  k \\geq n & \\quad \\text{when} \\quad p = 1\\\\\n",
        ">  k > n/p  & \\quad \\text{when} \\quad p > 1\n",
        "> \\end{align*}\n",
        "> $$\n",
        "> Then, for all $u \\in W^k_p(\\Omega)$\n",
        "> $$ \\| u \\|_{L^\\infty(\\Omega)} \\leq C \\| u \\|_{W^k_p(\\Omega)} $$\n",
        "> Morever, there is a continuous function in the $L^\\infty$ equivalence class of $u$."
      ]
    },
    {
      "cell_type": "markdown",
      "metadata": {},
      "source": [
        "In other words, a function with sufficiently many _weak derivatives_ can be viewed as a _bounded_, _continuous_ function."
      ]
    },
    {
      "cell_type": "markdown",
      "metadata": {},
      "source": [
        "> **_COROLLARY:_** Let $\\Omega \\subseteq \\mathbb{R}^n$ be a domain with Lipschitz boundary. Let $m < k$ and $1 \\leq p < \\infty$ such that\n",
        "> $$\n",
        "> \\begin{align*}\n",
        ">  k - m \\geq n & \\quad \\text{when} \\quad p = 1 \\\\\n",
        ">  k - m > n/p & \\quad \\text{when} \\quad p > 1\n",
        "> \\end{align*}\n",
        "> $$\n",
        "> Then, there is a constant $C$ such that for all $u \\in W^k_p(\\Omega)$\n",
        "> $$ \\| u \\|_{W^m_\\infty(\\Omega)} \\leq C \\| u \\|_{W^k_p(\\Omega)} $$\n",
        "> Morever, there is a $C^m$ function in the $L^p(\\Omega)$ equivalence class of $u$."
      ]
    },
    {
      "cell_type": "markdown",
      "metadata": {},
      "source": [
        "#### Trace theorem"
      ]
    },
    {
      "cell_type": "markdown",
      "metadata": {},
      "source": [
        "Since we are interested in _equivalence classes_ of functions (i.e. any two functions that are equal almost everywhere are considered equivalent) it doesn't make sense to talk about a single point value of such a function.\n",
        "On the other hand, we are interested in solving boundary value problems, so we want to be able to give meaning to statements of the form\n",
        "$$\n",
        "   u|_{\\partial\\Omega} = g\n",
        "$$\n",
        "for $u \\in W^k_p(\\Omega)$.\n",
        "\n",
        "First, we will claim (but not prove) that smooth functions are dense in the Sobolev spaces."
      ]
    },
    {
      "cell_type": "markdown",
      "metadata": {},
      "source": [
        "> **_THEREOM:_** $C^\\infty(\\Omega) \\cap W^k_p(\\Omega)$ is dense in $W^k_p(\\Omega)$ for $p < \\infty$."
      ]
    },
    {
      "cell_type": "markdown",
      "metadata": {},
      "source": [
        "> **_THEREOM:_** $C^\\infty(\\overline{\\Omega})$ is dense in $W^k_p(\\Omega)$ if $\\partial\\Omega$ is sufficiently smooth."
      ]
    },
    {
      "cell_type": "markdown",
      "metadata": {},
      "source": [
        "Define the _trace operator_ $\\gamma : C^\\infty(\\Omega) \\to L^p(\\Omega)$ by\n",
        "$$\n",
        "   \\gamma(u) = u|_{\\partial\\Omega}\n",
        "$$\n",
        "\n",
        "Then, it is possible to extend $\\gamma$ to the space $W^1_p(\\Omega)$ to obtain a mapping\n",
        "$$\n",
        "   \\gamma(u) : W^1_p(\\Omega) \\to L^p(\\partial\\Omega)\n",
        "$$\n",
        "satisfying\n",
        "$$\n",
        "   \\| \\gamma(u) \\|_{L^p(\\partial\\Omega)} \\leq C \\| u \\|_{L^p(\\Omega)}^{1-1/p} \\| u \\|_{W^1_p(\\Omega)}^{1/p}\n",
        "$$"
      ]
    },
    {
      "cell_type": "markdown",
      "metadata": {},
      "source": [
        "We will often use the concept of _zero-trace functions_, i.e. those functions such that $\\gamma(u) = 0$.\n",
        "We will use the notation $\\mathring{W}^k_p(\\Omega)$ to denote the set\n",
        "$$\n",
        "   \\mathring{W}^k_p(\\Omega) = \\{ u \\in W^k_p(\\Omega) : \\gamma(u) = 0 \\}\n",
        "$$"
      ]
    },
    {
      "cell_type": "markdown",
      "metadata": {},
      "source": [
        "#### Dual Spaces"
      ]
    },
    {
      "cell_type": "markdown",
      "metadata": {},
      "source": [
        "Let $B$ be a Banach space.\n",
        "\n",
        "Consider a _linear functional_ $L : B \\to \\mathbb{R}$.\n",
        "Since $L$ is linear, it satisfies\n",
        "$$ L(u + av) = L(u) + a L(v) $$"
      ]
    },
    {
      "cell_type": "markdown",
      "metadata": {},
      "source": [
        "Let $B^*$ denote the space of all linear functionals defined on $B$"
      ]
    },
    {
      "cell_type": "markdown",
      "metadata": {},
      "source": [
        "Let $B'$ denote the subspace of $B*$ consisting of all **continuous** linear functionals on $B$"
      ]
    },
    {
      "cell_type": "markdown",
      "metadata": {},
      "source": [
        "> **_PROPOSITION:_** A linear functional $L$ on a Banach space is continuous iff it is bounded.\n",
        ">\n",
        "> _Proof._\n",
        "> Assume $L$ is bounded, i.e. there exists some $C$ such that\n",
        "> $$ | L(u) | \\leq C \\| u \\|_B $$\n",
        "> for all $u \\in B$.\n",
        "> Then, $ | L(u) - L(v) | = | L(u-v) | \\leq C \\| u - v \\|_B $, \n",
        "> and so $L$ is Lipschitz continuous.\n",
        ">\n",
        "> Now assume that $L$ is continuous, i.e. if $u_j \\to u$ then $L(u_j) \\to L(u)$.\n",
        "> Suppose, by way of contradiction, that $L$ is not bounded, i.e. there exists some sequence such that\n",
        "> $$ | L(u_j) | \\geq j \\| u_j \\|_B. $$\n",
        "> Define a renormalized sequence by\n",
        "> $$ w_j = \\frac{ u_j }{ j \\| u_j \\|_B } $$\n",
        "> Then, $w_j \\to 0$, but\n",
        "> $$ | L(w_j) | = \\frac{ | L(u_j) | }{j \\| u_j \\|_B } \\geq 1 $$\n",
        "> contradicting $L$ being continuous."
      ]
    },
    {
      "cell_type": "markdown",
      "metadata": {},
      "source": [
        "Given the above, for any continuous linear functional $L \\in B'$, we can define the **dual norm**\n",
        "$$ \\| L \\|_{B'} = \\sup_{0 \\neq u \\in B} \\frac{ |L(u)| }{ \\|u\\|_B } $$"
      ]
    },
    {
      "cell_type": "markdown",
      "metadata": {},
      "source": [
        "$B'$ is complete with respect to the $\\| \\cdot \\|_{B'}$ norm, and so $B'$ is also a Banach space."
      ]
    },
    {
      "cell_type": "markdown",
      "metadata": {},
      "source": [
        "> **_EXAMPLE:_** Consider $\\frac{1}{p} + \\frac{1}{q} = 1$. Then, any function $f \\in L^q(\\Omega)$ can be viewed as a continuous linear functional in $L_p(\\Omega)'$ defined by\n",
        "> $$ v \\mapsto \\int_\\Omega v f \\, dx $$\n",
        "> (Why is this quantity finite?)\n",
        ">\n",
        "> In fact, **all** linear functionals on $L_p(\\Omega)$ take this form, i.e. $L_p(\\Omega)'$ is isomorphic to $L_q(\\Omega)$."
      ]
    },
    {
      "cell_type": "markdown",
      "metadata": {},
      "source": [
        "> **_DEFINITION:_** Let $1 \\leq p \\leq \\infty$ and let $\\frac{1}{p} + \\frac{1}{q} = 1$. Then, the dual space $W^k_p(\\Omega)'$ is a Sobolev space $W^{-k}_q(\\Omega)$ with the dual norm defined above."
      ]
    }
  ],
  "metadata": {
    "colab": {
      "provenance": []
    },
    "kernelspec": {
      "display_name": "Python 3.9.6 64-bit",
      "language": "python",
      "name": "python3"
    },
    "language_info": {
      "codemirror_mode": {
        "name": "ipython",
        "version": 3
      },
      "file_extension": ".py",
      "mimetype": "text/x-python",
      "name": "python",
      "nbconvert_exporter": "python",
      "pygments_lexer": "ipython3",
      "version": "3.9.6"
    },
    "vscode": {
      "interpreter": {
        "hash": "31f2aee4e71d21fbe5cf8b01ff0e069b9275f58929596ceb00d14d90e3e16cd6"
      }
    }
  },
  "nbformat": 4,
  "nbformat_minor": 0
}

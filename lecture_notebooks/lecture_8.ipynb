{
 "cells": [
  {
   "cell_type": "markdown",
   "metadata": {},
   "source": [
    "# MTH 651: Advanced Numerical Analysis"
   ]
  },
  {
   "cell_type": "markdown",
   "metadata": {},
   "source": [
    "## Lecture 8"
   ]
  },
  {
   "cell_type": "markdown",
   "metadata": {
    "id": "d5sMJY4v8Tol"
   },
   "source": [
    "### Topics\n",
    "\n",
    "* Construction of Finite Element Spaces\n",
    "\n",
    "#### Textbook references\n",
    "\n",
    "Sections 3.1, 3.2, 3.3"
   ]
  },
  {
   "cell_type": "markdown",
   "metadata": {},
   "source": [
    "### Vandermonde matrices\n",
    "\n",
    "Suppose $\\{ \\psi_i \\}_{i=1}^n$ is a basis for $\\mathcal{P}$.\n",
    "\n",
    "Furthermore, suppose $\\{ N_i \\}_{i=1}^n$ is a subset of $\\mathcal{P}'$ (i.e. a collection of dual vectors).\n",
    "\n",
    "Define the **Vandermonde matrix** $V$ by\n",
    "\n",
    "$$\n",
    "    V = \\big( N_i(\\psi_j) \\big)_{i,j=1}^n\n",
    "$$"
   ]
  },
  {
   "cell_type": "markdown",
   "metadata": {},
   "source": [
    "The Vandermonde matrix gives another proof of the dual basis criterion we saw early.\n",
    "\n",
    "$\\{N_i\\}$ is a basis for $\\mathcal{P}'$ iff the rows of $V$ are linearly independent.\n",
    "\n",
    "Since the matrix is square, the rows are linearly independent iff the columns are linearly independent.\n",
    "\n",
    "The columns being linearly independent is equivalent to\n",
    "\n",
    "$$\n",
    "    \\sum_j c_j N_i(\\psi_j) = 0 \\quad \\implies \\quad c_j = 0 \\quad \\text{for all $j$}\n",
    "$$\n",
    "\n",
    "Given $v \\in \\mathcal{P}$, $v = \\sum_{j} c_j \\psi_j$, and so\n",
    "$$\n",
    "    \\begin{aligned}\n",
    "        N_i(v)\n",
    "            &= N_i \\left( \\sum_j c_j \\psi_j \\right) \\\\\n",
    "            &= \\sum_j c_j N_i \\left( \\psi_j \\right) \\\\\n",
    "            &= 0 \\quad \\text{for all $i$ iff the above implication holds.}\n",
    "    \\end{aligned}\n",
    "$$"
   ]
  },
  {
   "cell_type": "markdown",
   "metadata": {},
   "source": [
    "This gives the \"unisolvence\" criterion for $\\{ N_i \\}$ being a basis of the dual space.\n",
    "\n",
    "If it is a basis, then as we saw before, we can defined the \"dual basis\" $\\phi_i$ satisfying\n",
    "$$\n",
    "    N_i(\\phi_j) = \\delta_{ij}\n",
    "$$\n",
    "\n",
    "So, given some other (arbitrary, e.g. monomial) basis, we can **solve** for the dual basis as follows.\n",
    "\n",
    "We can expand $\\phi_1$ in terms of $\\{ \\psi_i \\}$ as\n",
    "$$\n",
    "    \\phi_1 = \\sum_i \\mu_{i,1} \\psi_i\n",
    "$$\n",
    "for some coefficients $\\mu_{i,1}$. Let $\\mu_1$ denote this vector of coefficients.\n",
    "\n",
    "Then, by the dual property,\n",
    "$$\n",
    "    V \\mu_1 = \\begin{pmatrix} 1 \\\\ 0 \\\\ \\vdots \\\\ 0 \\end{pmatrix}\n",
    "$$\n",
    "\n",
    "Repeat this process similarly for the other dual basis vectors $\\phi_j$ to obtain a **matrix** of coefficients $\\mu$ that satisfy\n",
    "$$\n",
    "    V \\mu = I,\n",
    "$$\n",
    "so the expansion coefficients of the dual basis are given by the **inverse of the Vandermonde matrix**."
   ]
  },
  {
   "cell_type": "markdown",
   "metadata": {},
   "source": [
    "For example, consider the linear triangle with vertices $(0,0)$, $(1,0)$, $(0,1)$.\n",
    "\n",
    "Consider the basis for $\\mathcal{P}_1$ defined by $\\{ 1, x, y \\}$.\n",
    "\n",
    "Let $\\{N_i\\}$ be the linear functionals associated with evaluation at the vertices.\n",
    "\n",
    "Then, we can construct the Vandermonde matrix"
   ]
  },
  {
   "cell_type": "code",
   "execution_count": null,
   "metadata": {},
   "outputs": [],
   "source": [
    "import numpy as np\n",
    "\n",
    "V = np.array([\n",
    "    [1, 0, 0],\n",
    "    [1, 1, 0],\n",
    "    [1, 0, 1]\n",
    "])"
   ]
  },
  {
   "cell_type": "code",
   "execution_count": null,
   "metadata": {},
   "outputs": [],
   "source": [
    "# Its inverse is given by\n",
    "\n",
    "np.linalg.inv(V)"
   ]
  },
  {
   "cell_type": "markdown",
   "metadata": {},
   "source": [
    "This gives us the expansion for the **nodal basis functions** in the monomial basis, i.e.\n",
    "\n",
    "$$\n",
    "    \\begin{aligned}\n",
    "        \\phi_1(x, y) &= 1 - x - y \\\\\n",
    "        \\phi_2(x, y) &= x \\\\\n",
    "        \\phi_3(x, y) &= y \\\\\n",
    "    \\end{aligned}\n",
    "$$"
   ]
  },
  {
   "cell_type": "markdown",
   "metadata": {},
   "source": [
    "Let's consider the example of the quadratic triangle.\n",
    "\n",
    "The monomial basis is $\\{ 1, x, y, xy, x^2, y^2 \\}$.\n",
    "\n",
    "The nodal points are $(0,0), (1/2, 0), (1,0), (0, 1/2), (0,1), (1/2, 1/2)$."
   ]
  },
  {
   "cell_type": "code",
   "execution_count": null,
   "metadata": {},
   "outputs": [],
   "source": [
    "psi_1 = lambda x, y: 1\n",
    "psi_2 = lambda x, y: x\n",
    "psi_3 = lambda x, y: y\n",
    "psi_4 = lambda x, y: x*y\n",
    "psi_5 = lambda x, y: x**2\n",
    "psi_6 = lambda x, y: y**2\n",
    "psi = [psi_1, psi_2, psi_3, psi_4, psi_5, psi_6]\n",
    "\n",
    "x_1 = np.array([0, 0])\n",
    "x_2 = np.array([0.5, 0])\n",
    "x_3 = np.array([1, 0])\n",
    "x_4 = np.array([0, 0.5])\n",
    "x_5 = np.array([0, 1])\n",
    "x_6 = np.array([0.5, 0.5])\n",
    "x = [x_1, x_2, x_3, x_4, x_5, x_6]\n",
    "\n",
    "V = np.zeros((6, 6))\n",
    "\n",
    "for i in range(6):\n",
    "    for j in range(6):\n",
    "        V[i,j] = psi[j](x[i][0], x[i][1])\n",
    "\n",
    "V"
   ]
  },
  {
   "cell_type": "code",
   "execution_count": null,
   "metadata": {},
   "outputs": [],
   "source": [
    "np.linalg.inv(V)"
   ]
  },
  {
   "cell_type": "markdown",
   "metadata": {},
   "source": [
    "So, the quadratic nodal basis functions are\n",
    "\n",
    "$$\n",
    "    \\begin{aligned}\n",
    "        \\phi_1(x, y) &= 1 - 3x - 3y + 4xy +x^2 + y^2 \\\\\n",
    "        \\phi_2(x, y) &= 4x - 4xy - 4x^2 \\\\\n",
    "        \\phi_3(x, y) &= -x + 2x^2 \\\\\n",
    "        \\phi_4(x, y) &= 4y -4xy - 4y^2\\\\\n",
    "        \\phi_5(x, y) &= -xy + 2y^2 \\\\\n",
    "        \\phi_6(x, y) &= 4xy\n",
    "    \\end{aligned}\n",
    "$$"
   ]
  },
  {
   "cell_type": "code",
   "execution_count": null,
   "metadata": {},
   "outputs": [],
   "source": [
    "def polyval(coeff, x, y):\n",
    "    val = 0.0\n",
    "    for i in range(coeff.size):\n",
    "        val += coeff[i]*psi[i](x, y)\n",
    "    return val"
   ]
  },
  {
   "cell_type": "code",
   "execution_count": null,
   "metadata": {},
   "outputs": [],
   "source": [
    "import matplotlib.pyplot as plt\n",
    "\n",
    "n = 101\n",
    "pts = np.linspace(0, 1, n)\n",
    "vals = np.zeros((n,n))\n",
    "\n",
    "mu = np.linalg.inv(V)\n",
    "\n",
    "for j in range(n):\n",
    "    for i in range(n):\n",
    "        if pts[i] + pts[j] > 1:\n",
    "            vals[i,j] = 0.0\n",
    "        else:\n",
    "            vals[i,j] = polyval(mu[:,1], pts[i], pts[j])\n",
    "\n",
    "plt.imshow(vals)\n",
    "plt.colorbar()"
   ]
  },
  {
   "cell_type": "code",
   "execution_count": null,
   "metadata": {},
   "outputs": [],
   "source": []
  }
 ],
 "metadata": {
  "colab": {
   "provenance": []
  },
  "kernelspec": {
   "display_name": "Python 3.10.6 ('venv': venv)",
   "language": "python",
   "name": "python3"
  },
  "language_info": {
   "codemirror_mode": {
    "name": "ipython",
    "version": 3
   },
   "file_extension": ".py",
   "mimetype": "text/x-python",
   "name": "python",
   "nbconvert_exporter": "python",
   "pygments_lexer": "ipython3",
   "version": "3.10.8"
  },
  "title": "Lecture 7",
  "vscode": {
   "interpreter": {
    "hash": "bd788376193720eadecf9d964712d25ddb8942c37aec80724648cfa1bb12b2b1"
   }
  }
 },
 "nbformat": 4,
 "nbformat_minor": 1
}

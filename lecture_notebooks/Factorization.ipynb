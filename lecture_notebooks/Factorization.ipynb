{
 "cells": [
  {
   "cell_type": "code",
   "execution_count": 1,
   "id": "b6cd2647",
   "metadata": {},
   "outputs": [],
   "source": [
    "import numpy as np\n",
    "import matplotlib.pyplot as plt\n",
    "import scipy.sparse as sp\n",
    "from IPython.display import clear_output"
   ]
  },
  {
   "cell_type": "code",
   "execution_count": 2,
   "id": "aabd54ac",
   "metadata": {},
   "outputs": [],
   "source": [
    "# Dense SPD\n",
    "n = 10\n",
    "A = np.random.rand(n,n)\n",
    "A = A @ A.T"
   ]
  },
  {
   "cell_type": "code",
   "execution_count": 32,
   "id": "be0b0c9d",
   "metadata": {},
   "outputs": [],
   "source": [
    "# Banded\n",
    "n = 50\n",
    "d = np.zeros((5, n))\n",
    "d[0,:] = 4\n",
    "d[1:5,:] = -1\n",
    "nx = int(np.floor(np.sqrt(n)))\n",
    "A = np.asarray(sp.spdiags(d, (0,-1,1,-nx,nx)).todense())"
   ]
  },
  {
   "cell_type": "code",
   "execution_count": 47,
   "id": "51df4fb9",
   "metadata": {},
   "outputs": [],
   "source": [
    "# Random sparse\n",
    "A = np.asarray(sp.random(n, n, 0.25).todense())\n",
    "A += 4*np.eye(n)"
   ]
  },
  {
   "cell_type": "code",
   "execution_count": 48,
   "id": "087d54a8",
   "metadata": {},
   "outputs": [
    {
     "data": {
      "text/plain": [
       "<matplotlib.image.AxesImage at 0x7efe5b7c3b50>"
      ]
     },
     "execution_count": 48,
     "metadata": {},
     "output_type": "execute_result"
    },
    {
     "data": {
      "image/png": "[encoded data removed]",
      "text/plain": [
       "<Figure size 640x480 with 1 Axes>"
      ]
     },
     "metadata": {},
     "output_type": "display_data"
    }
   ],
   "source": [
    "plt.spy(A)"
   ]
  },
  {
   "cell_type": "code",
   "execution_count": 49,
   "id": "1a42759f",
   "metadata": {},
   "outputs": [],
   "source": [
    "S = A.copy()\n",
    "L = np.eye(n)\n",
    "U = A.copy()\n",
    "i = 0"
   ]
  },
  {
   "cell_type": "code",
   "execution_count": 50,
   "id": "58d1f884",
   "metadata": {},
   "outputs": [],
   "source": [
    "def step():\n",
    "    global S\n",
    "    global L\n",
    "    global U\n",
    "    global i\n",
    "    \n",
    "    alpha = S[0,0]\n",
    "\n",
    "    a = S[0,1:]\n",
    "    b = S[1:,0]\n",
    "    C = S[1:,1:]\n",
    "\n",
    "    L[(i+1):,i] = (1/alpha) * b\n",
    "\n",
    "    U[i,i] = alpha\n",
    "    U[i,(i+1):] = a\n",
    "    U[(i+1):,i] = 0\n",
    "\n",
    "    S = C - (1/alpha) * np.outer(a, b)\n",
    "    U[(i+1):,(i+1):] = S\n",
    "\n",
    "    i = i + 1"
   ]
  },
  {
   "cell_type": "code",
   "execution_count": 51,
   "id": "19cadb6e",
   "metadata": {},
   "outputs": [],
   "source": [
    "def plot_matrices():\n",
    "    with out:\n",
    "        figure, axis = plt.subplots(1, 2)\n",
    "\n",
    "        axis[0].spy(L)\n",
    "        axis[0].set_title(\"L\")\n",
    "\n",
    "        axis[1].spy(U)\n",
    "        axis[1].set_title(\"U\")"
   ]
  },
  {
   "cell_type": "code",
   "execution_count": 52,
   "id": "4ff5dcf1",
   "metadata": {},
   "outputs": [],
   "source": [
    "def click(_):\n",
    "    step()\n",
    "    with out:\n",
    "        clear_output(True)\n",
    "        plot_matrices()\n",
    "        plt.show()"
   ]
  },
  {
   "cell_type": "code",
   "execution_count": 53,
   "id": "4076db7a",
   "metadata": {},
   "outputs": [],
   "source": [
    "import ipywidgets as widgets"
   ]
  },
  {
   "cell_type": "code",
   "execution_count": 54,
   "id": "7f5001e7",
   "metadata": {},
   "outputs": [],
   "source": [
    "button = widgets.Button(description=\"Step\")\n",
    "button.on_click(click)\n",
    "out = widgets.Output()"
   ]
  },
  {
   "cell_type": "code",
   "execution_count": 55,
   "id": "8de87eda",
   "metadata": {},
   "outputs": [
    {
     "data": {
      "application/vnd.jupyter.widget-view+json": {
       "model_id": "ebf997e0625d4bb7af1b9ab452bd6cca",
       "version_major": 2,
       "version_minor": 0
      },
      "text/plain": [
       "Button(description='Step', style=ButtonStyle())"
      ]
     },
     "metadata": {},
     "output_type": "display_data"
    },
    {
     "data": {
      "application/vnd.jupyter.widget-view+json": {
       "model_id": "fd8dcc3d0608463ea6eda9c7b8fe9f93",
       "version_major": 2,
       "version_minor": 0
      },
      "text/plain": [
       "Output()"
      ]
     },
     "execution_count": 55,
     "metadata": {},
     "output_type": "execute_result"
    }
   ],
   "source": [
    "%matplotlib inline\n",
    "display(button)\n",
    "with out:\n",
    "    clear_output(True)\n",
    "    plot_matrices()\n",
    "    plt.show()\n",
    "out"
   ]
  },
  {
   "cell_type": "code",
   "execution_count": null,
   "id": "ab7d3965",
   "metadata": {},
   "outputs": [],
   "source": []
  }
 ],
 "metadata": {
  "kernelspec": {
   "display_name": "Python 3 (ipykernel)",
   "language": "python",
   "name": "python3"
  },
  "language_info": {
   "codemirror_mode": {
    "name": "ipython",
    "version": 3
   },
   "file_extension": ".py",
   "mimetype": "text/x-python",
   "name": "python",
   "nbconvert_exporter": "python",
   "pygments_lexer": "ipython3",
   "version": "3.8.10"
  }
 },
 "nbformat": 4,
 "nbformat_minor": 5
}
